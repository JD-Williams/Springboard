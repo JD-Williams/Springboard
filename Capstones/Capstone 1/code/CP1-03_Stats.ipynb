{
 "cells": [
  {
   "cell_type": "markdown",
   "metadata": {},
   "source": [
    "<h1>Capstone 1: Inferential Statistics</h1>"
   ]
  },
  {
   "cell_type": "markdown",
   "metadata": {},
   "source": [
    "<a id='TOC'></a>\n",
    "<strong>Table of Contents</strong>\n",
    "<ol>\n",
    "    <li>Preliminaries</li>\n",
    "    <ol>\n",
    "        <li><a href=#Sec01A>Import EMS Incident Data</a></li>\n",
    "        <li><a href=#Sec01B>Preprocess Dataset</a></li>\n",
    "        <li><a href=#Sec01C>Segment Variables</a></li>\n",
    "    </ol>\n",
    "    <li>Preliminary Statistics</li>\n",
    "    <ol>\n",
    "        <li><a href=#Sec02A>Correlations between Numerical Variables</a></li>\n",
    "        <li><a href=#Sec02B>Association between Categorical Variables</a></li>\n",
    "    </ol>\n",
    "    <li>Response Times</li>\n",
    "    <ol>\n",
    "        <li><a href=#Sec03A>Preliminary Data Inspection &amp; Summary Statistics</a></li>\n",
    "        <li><a href=#Sec03B>Sample Statistics by Outcome Group</a></li> \n",
    "        <li><a href=#Sec03C>Frequentist Test (Two-Sample)</a></li>\n",
    "    </ol>\n",
    "</ol>"
   ]
  },
  {
   "cell_type": "markdown",
   "metadata": {},
   "source": [
    "<p>The goal of this project is to develop machine learning models that predict whether or not the outcome of an EMS incident will result in a fatality. This is a supervised, binary classification problem. Analyses will be performed on a collection of nearly 8 million records of documented incidents, which span the six year period from January 2013 through December 2018, and appropriate predictive models will be developed to achieve the primary objective. This dataset is robust and contains several feature variables, of mixed data types, that describe both various attributes of each incident as well as the responsive action taken by the FDNY. All of the aforementioned factors affect an individual’s survivability once a response is initiated.</p>\n",
    "\n",
    "Various inferential statistics techniques will be performed on the dataset prior to the development of any ML algorithms. One purpose of this process is to examine the relationships between all variables within the dataset in greater depth than <a href=\"https://github.com/jdwill917/SB-DSCT-Repo/blob/master/Capstones/Capstone%201/code/CP1-02_EDA.ipynb\" target=\"_blank\">preliminary EDA permits</a>. In addition, any feature variable that has a significant impact on the target variable (`fatality`) will also be revealed through these measures."
   ]
  },
  {
   "cell_type": "markdown",
   "metadata": {},
   "source": [
    "<h2 style=\"text-transform: uppercase;\">1. Preliminaries</h2>"
   ]
  },
  {
   "cell_type": "markdown",
   "metadata": {},
   "source": [
    "<a id='Sec01A'></a>\n",
    "<h4>1A: Import EMS Incident Data</h4>"
   ]
  },
  {
   "cell_type": "code",
   "execution_count": 1,
   "metadata": {},
   "outputs": [],
   "source": [
    "# Import packages and modules\n",
    "import pandas as pd\n",
    "import numpy as np\n",
    "\n",
    "from scipy import stats\n",
    "from statsmodels.stats.weightstats import ztest, ttest_ind\n",
    "\n",
    "import matplotlib.pyplot as plt\n",
    "import seaborn as sb\n",
    "%matplotlib inline\n",
    "sb.set(style='whitegrid', palette='pastel', color_codes=True)\n",
    "sb.mpl.rc('figure', figsize=(15,10))"
   ]
  },
  {
   "cell_type": "code",
   "execution_count": 2,
   "metadata": {},
   "outputs": [],
   "source": [
    "# Assign file path\n",
    "input_path = '../data/clean_EMS_data.csv'\n",
    "\n",
    "# Read CSV data into a Pandas DataFrame\n",
    "datetime_cols = ['incident_datetime',\n",
    "                 'first_assignment_datetime',\n",
    "                 'first_activation_datetime',\n",
    "                 'first_on_scene_datetime',\n",
    "                 'first_to_hosp_datetime',\n",
    "                 'first_hosp_arrival_datetime',\n",
    "                 'incident_close_datetime']\n",
    "\n",
    "df = pd.read_csv(input_path,compression='gzip',\n",
    "                 parse_dates=datetime_cols,\n",
    "                 index_col=['incident_datetime'])"
   ]
  },
  {
   "cell_type": "code",
   "execution_count": 3,
   "metadata": {},
   "outputs": [
    {
     "name": "stdout",
     "output_type": "stream",
     "text": [
      "<class 'pandas.core.frame.DataFrame'>\n",
      "DatetimeIndex: 8054500 entries, 2018-12-31 23:59:46 to 2013-01-09 09:05:12\n",
      "Data columns (total 29 columns):\n",
      "year                           int64\n",
      "month                          int64\n",
      "day                            int64\n",
      "hour                           int64\n",
      "weekday                        int64\n",
      "borough                        object\n",
      "zipcode                        float64\n",
      "latitude                       float64\n",
      "longitude                      float64\n",
      "aland_sqmi                     float64\n",
      "awater_sqmi                    float64\n",
      "initial_call_type              object\n",
      "initial_severity_level         int64\n",
      "final_call_type                object\n",
      "final_severity_level           int64\n",
      "held_indicator                 object\n",
      "first_assignment_datetime      datetime64[ns]\n",
      "incident_dispatch_area         object\n",
      "dispatch_time                  int64\n",
      "first_activation_datetime      datetime64[ns]\n",
      "first_on_scene_datetime        datetime64[ns]\n",
      "travel_time                    int64\n",
      "response_time                  int64\n",
      "first_to_hosp_datetime         datetime64[ns]\n",
      "first_hosp_arrival_datetime    datetime64[ns]\n",
      "incident_close_datetime        datetime64[ns]\n",
      "incident_disposition_code      int64\n",
      "life_threatening               bool\n",
      "fatality                       bool\n",
      "dtypes: bool(2), datetime64[ns](6), float64(5), int64(11), object(5)\n",
      "memory usage: 3.7 GB\n"
     ]
    }
   ],
   "source": [
    "df.info(verbose=True,memory_usage='deep')"
   ]
  },
  {
   "cell_type": "markdown",
   "metadata": {},
   "source": [
    "<p><a href=#TOC>TOC</a></p>"
   ]
  },
  {
   "cell_type": "markdown",
   "metadata": {},
   "source": [
    "<a id=\"Sec01B\"></a>\n",
    "<h4>1B: Preprocess Dataset</h4>"
   ]
  },
  {
   "cell_type": "code",
   "execution_count": 4,
   "metadata": {},
   "outputs": [],
   "source": [
    "# Change dtypes\n",
    "df['weekday'] = df.weekday.astype('category')\n",
    "df['borough'] = df.borough.astype('category')\n",
    "df['zipcode'] = df.zipcode.astype('category')\n",
    "df['incident_disposition_code'] = df.incident_disposition_code.astype('category')"
   ]
  },
  {
   "cell_type": "code",
   "execution_count": 5,
   "metadata": {},
   "outputs": [],
   "source": [
    "# Remove immaterial columns\n",
    "list_of_cols = ['latitude','longitude',\n",
    "                'aland_sqmi','awater_sqmi','held_indicator',\n",
    "                'first_assignment_datetime','incident_dispatch_area',\n",
    "                'first_activation_datetime','first_on_scene_datetime',\n",
    "                'first_to_hosp_datetime','first_hosp_arrival_datetime',\n",
    "                'incident_close_datetime']\n",
    "df.drop(list_of_cols,axis=1,inplace=True)"
   ]
  },
  {
   "cell_type": "code",
   "execution_count": 6,
   "metadata": {},
   "outputs": [
    {
     "name": "stdout",
     "output_type": "stream",
     "text": [
      "<class 'pandas.core.frame.DataFrame'>\n",
      "DatetimeIndex: 8054500 entries, 2018-12-31 23:59:46 to 2013-01-09 09:05:12\n",
      "Data columns (total 17 columns):\n",
      "year                         int64\n",
      "month                        int64\n",
      "day                          int64\n",
      "hour                         int64\n",
      "weekday                      category\n",
      "borough                      category\n",
      "zipcode                      category\n",
      "initial_call_type            object\n",
      "initial_severity_level       int64\n",
      "final_call_type              object\n",
      "final_severity_level         int64\n",
      "dispatch_time                int64\n",
      "travel_time                  int64\n",
      "response_time                int64\n",
      "incident_disposition_code    category\n",
      "life_threatening             bool\n",
      "fatality                     bool\n",
      "dtypes: bool(2), category(4), int64(9), object(2)\n",
      "memory usage: 1.6 GB\n"
     ]
    }
   ],
   "source": [
    "df.info(verbose=True,memory_usage='deep')"
   ]
  },
  {
   "cell_type": "code",
   "execution_count": 7,
   "metadata": {},
   "outputs": [
    {
     "data": {
      "text/html": [
       "<div>\n",
       "<style scoped>\n",
       "    .dataframe tbody tr th:only-of-type {\n",
       "        vertical-align: middle;\n",
       "    }\n",
       "\n",
       "    .dataframe tbody tr th {\n",
       "        vertical-align: top;\n",
       "    }\n",
       "\n",
       "    .dataframe thead th {\n",
       "        text-align: right;\n",
       "    }\n",
       "</style>\n",
       "<table border=\"1\" class=\"dataframe\">\n",
       "  <thead>\n",
       "    <tr style=\"text-align: right;\">\n",
       "      <th></th>\n",
       "      <th>year</th>\n",
       "      <th>month</th>\n",
       "      <th>day</th>\n",
       "      <th>hour</th>\n",
       "      <th>weekday</th>\n",
       "      <th>borough</th>\n",
       "      <th>zipcode</th>\n",
       "      <th>initial_call_type</th>\n",
       "      <th>initial_severity_level</th>\n",
       "      <th>final_call_type</th>\n",
       "      <th>final_severity_level</th>\n",
       "      <th>dispatch_time</th>\n",
       "      <th>travel_time</th>\n",
       "      <th>response_time</th>\n",
       "      <th>incident_disposition_code</th>\n",
       "      <th>life_threatening</th>\n",
       "      <th>fatality</th>\n",
       "    </tr>\n",
       "    <tr>\n",
       "      <th>incident_datetime</th>\n",
       "      <th></th>\n",
       "      <th></th>\n",
       "      <th></th>\n",
       "      <th></th>\n",
       "      <th></th>\n",
       "      <th></th>\n",
       "      <th></th>\n",
       "      <th></th>\n",
       "      <th></th>\n",
       "      <th></th>\n",
       "      <th></th>\n",
       "      <th></th>\n",
       "      <th></th>\n",
       "      <th></th>\n",
       "      <th></th>\n",
       "      <th></th>\n",
       "      <th></th>\n",
       "    </tr>\n",
       "  </thead>\n",
       "  <tbody>\n",
       "    <tr>\n",
       "      <td>2018-12-31 23:59:46</td>\n",
       "      <td>2018</td>\n",
       "      <td>12</td>\n",
       "      <td>31</td>\n",
       "      <td>23</td>\n",
       "      <td>1</td>\n",
       "      <td>BROOKLYN</td>\n",
       "      <td>11201.0</td>\n",
       "      <td>CARDBR</td>\n",
       "      <td>2</td>\n",
       "      <td>CARDBR</td>\n",
       "      <td>2</td>\n",
       "      <td>8</td>\n",
       "      <td>453</td>\n",
       "      <td>461</td>\n",
       "      <td>82</td>\n",
       "      <td>True</td>\n",
       "      <td>False</td>\n",
       "    </tr>\n",
       "    <tr>\n",
       "      <td>2018-12-31 23:49:42</td>\n",
       "      <td>2018</td>\n",
       "      <td>12</td>\n",
       "      <td>31</td>\n",
       "      <td>23</td>\n",
       "      <td>1</td>\n",
       "      <td>BROOKLYN</td>\n",
       "      <td>11201.0</td>\n",
       "      <td>UNC</td>\n",
       "      <td>2</td>\n",
       "      <td>UNC</td>\n",
       "      <td>2</td>\n",
       "      <td>25</td>\n",
       "      <td>303</td>\n",
       "      <td>328</td>\n",
       "      <td>82</td>\n",
       "      <td>True</td>\n",
       "      <td>False</td>\n",
       "    </tr>\n",
       "    <tr>\n",
       "      <td>2018-12-31 23:24:58</td>\n",
       "      <td>2018</td>\n",
       "      <td>12</td>\n",
       "      <td>31</td>\n",
       "      <td>23</td>\n",
       "      <td>1</td>\n",
       "      <td>BROOKLYN</td>\n",
       "      <td>11201.0</td>\n",
       "      <td>SICK</td>\n",
       "      <td>6</td>\n",
       "      <td>SICK</td>\n",
       "      <td>6</td>\n",
       "      <td>11</td>\n",
       "      <td>414</td>\n",
       "      <td>425</td>\n",
       "      <td>82</td>\n",
       "      <td>False</td>\n",
       "      <td>False</td>\n",
       "    </tr>\n",
       "    <tr>\n",
       "      <td>2018-12-31 23:04:54</td>\n",
       "      <td>2018</td>\n",
       "      <td>12</td>\n",
       "      <td>31</td>\n",
       "      <td>23</td>\n",
       "      <td>1</td>\n",
       "      <td>BROOKLYN</td>\n",
       "      <td>11201.0</td>\n",
       "      <td>SICK</td>\n",
       "      <td>6</td>\n",
       "      <td>SICK</td>\n",
       "      <td>6</td>\n",
       "      <td>11</td>\n",
       "      <td>668</td>\n",
       "      <td>679</td>\n",
       "      <td>93</td>\n",
       "      <td>False</td>\n",
       "      <td>False</td>\n",
       "    </tr>\n",
       "    <tr>\n",
       "      <td>2018-12-31 22:08:50</td>\n",
       "      <td>2018</td>\n",
       "      <td>12</td>\n",
       "      <td>31</td>\n",
       "      <td>22</td>\n",
       "      <td>1</td>\n",
       "      <td>BROOKLYN</td>\n",
       "      <td>11201.0</td>\n",
       "      <td>SEIZR</td>\n",
       "      <td>3</td>\n",
       "      <td>SEIZR</td>\n",
       "      <td>3</td>\n",
       "      <td>12</td>\n",
       "      <td>443</td>\n",
       "      <td>455</td>\n",
       "      <td>82</td>\n",
       "      <td>True</td>\n",
       "      <td>False</td>\n",
       "    </tr>\n",
       "  </tbody>\n",
       "</table>\n",
       "</div>"
      ],
      "text/plain": [
       "                     year  month  day  hour weekday   borough  zipcode  \\\n",
       "incident_datetime                                                        \n",
       "2018-12-31 23:59:46  2018     12   31    23       1  BROOKLYN  11201.0   \n",
       "2018-12-31 23:49:42  2018     12   31    23       1  BROOKLYN  11201.0   \n",
       "2018-12-31 23:24:58  2018     12   31    23       1  BROOKLYN  11201.0   \n",
       "2018-12-31 23:04:54  2018     12   31    23       1  BROOKLYN  11201.0   \n",
       "2018-12-31 22:08:50  2018     12   31    22       1  BROOKLYN  11201.0   \n",
       "\n",
       "                    initial_call_type  initial_severity_level final_call_type  \\\n",
       "incident_datetime                                                               \n",
       "2018-12-31 23:59:46            CARDBR                       2          CARDBR   \n",
       "2018-12-31 23:49:42               UNC                       2             UNC   \n",
       "2018-12-31 23:24:58              SICK                       6            SICK   \n",
       "2018-12-31 23:04:54              SICK                       6            SICK   \n",
       "2018-12-31 22:08:50             SEIZR                       3           SEIZR   \n",
       "\n",
       "                     final_severity_level  dispatch_time  travel_time  \\\n",
       "incident_datetime                                                       \n",
       "2018-12-31 23:59:46                     2              8          453   \n",
       "2018-12-31 23:49:42                     2             25          303   \n",
       "2018-12-31 23:24:58                     6             11          414   \n",
       "2018-12-31 23:04:54                     6             11          668   \n",
       "2018-12-31 22:08:50                     3             12          443   \n",
       "\n",
       "                     response_time incident_disposition_code  \\\n",
       "incident_datetime                                              \n",
       "2018-12-31 23:59:46            461                        82   \n",
       "2018-12-31 23:49:42            328                        82   \n",
       "2018-12-31 23:24:58            425                        82   \n",
       "2018-12-31 23:04:54            679                        93   \n",
       "2018-12-31 22:08:50            455                        82   \n",
       "\n",
       "                     life_threatening  fatality  \n",
       "incident_datetime                                \n",
       "2018-12-31 23:59:46              True     False  \n",
       "2018-12-31 23:49:42              True     False  \n",
       "2018-12-31 23:24:58             False     False  \n",
       "2018-12-31 23:04:54             False     False  \n",
       "2018-12-31 22:08:50              True     False  "
      ]
     },
     "execution_count": 7,
     "metadata": {},
     "output_type": "execute_result"
    }
   ],
   "source": [
    "df.head()"
   ]
  },
  {
   "cell_type": "markdown",
   "metadata": {},
   "source": [
    "<a href=#TOC>TOC</a>"
   ]
  },
  {
   "cell_type": "markdown",
   "metadata": {},
   "source": [
    "<a id=\"Sec01C\"></a>\n",
    "<h4>1C: Segment  Variables</h4>"
   ]
  },
  {
   "cell_type": "code",
   "execution_count": 8,
   "metadata": {},
   "outputs": [],
   "source": [
    "# Numeric feature variables\n",
    "num_var = ['year','month','day','hour','dispatch_time','travel_time','response_time']\n",
    "X1 = df[num_var]\n",
    "\n",
    "# Categorical feature variables\n",
    "cat_var = ['weekday','borough','zipcode','final_call_type','final_severity_level','life_threatening']\n",
    "X2 = df[cat_var]\n",
    "\n",
    "# Target variable\n",
    "Y = df[['fatality']]"
   ]
  },
  {
   "cell_type": "code",
   "execution_count": 9,
   "metadata": {},
   "outputs": [
    {
     "name": "stdout",
     "output_type": "stream",
     "text": [
      "x1:  <class 'numpy.ndarray'> (8054500, 7)\n",
      "x2:  <class 'numpy.ndarray'> (8054500, 6)\n",
      "y:   <class 'numpy.ndarray'> (8054500, 1)\n"
     ]
    }
   ],
   "source": [
    "x1 = X1.values\n",
    "x2 = X2.values\n",
    "y = Y.values\n",
    "print(\"x1: \", type(x1), x1.shape)\n",
    "print(\"x2: \", type(x2), x2.shape)\n",
    "print(\"y:  \", type(y), y.shape)"
   ]
  },
  {
   "cell_type": "markdown",
   "metadata": {},
   "source": [
    "<p><a href=#TOC>TOC</a></p>"
   ]
  },
  {
   "cell_type": "markdown",
   "metadata": {},
   "source": [
    "***"
   ]
  },
  {
   "cell_type": "markdown",
   "metadata": {},
   "source": [
    "<h2 style=\"text-transform: uppercase;\">2. Preliminary Statistics</h2>"
   ]
  },
  {
   "cell_type": "markdown",
   "metadata": {},
   "source": [
    "<a id='Sec02A'></a>\n",
    "<h4>2A: Correlations between Numerical Variables</h4>"
   ]
  },
  {
   "cell_type": "markdown",
   "metadata": {},
   "source": [
    "<p>What is the correlation between pairs of similar <em>numerical</em> variables within the dataset?</p>\n",
    "\n",
    "+ `initial_severity_level` and `final_severity_level`\n",
    "+ `dispatch_time` and `response_time`\n",
    "+ `travel_time` and `response_time`"
   ]
  },
  {
   "cell_type": "code",
   "execution_count": 10,
   "metadata": {},
   "outputs": [
    {
     "name": "stdout",
     "output_type": "stream",
     "text": [
      "CORRELATION STATISTICS\n",
      "\n",
      "Initial vs. Final Severity Level: ρ = 0.9352\n",
      "Dispatch vs. Response Times:      ρ = 0.7715\n",
      "Travel vs. Response Times:        ρ = 0.7501\n"
     ]
    }
   ],
   "source": [
    "# Correlation - Initial and Final Severity Levels\n",
    "x1 = df.initial_severity_level.values\n",
    "y1 = df.final_severity_level.values\n",
    "rho1 = np.corrcoef(x1,y1)[0][1]\n",
    "\n",
    "# Correlation - Dispatch and Response Times\n",
    "x2 = df.dispatch_time.values\n",
    "y2 = df.response_time.values\n",
    "rho2 = np.corrcoef(x2,y2)[0][1]\n",
    "\n",
    "# Correlation - Travel and Response Times\n",
    "x3 = df.travel_time.values\n",
    "y3 = df.response_time.values\n",
    "rho3 = np.corrcoef(x3,y3)[0][1]\n",
    "\n",
    "# Output correlation statistics\n",
    "print('CORRELATION STATISTICS')\n",
    "print()\n",
    "print(f'Initial vs. Final Severity Level: \\u03C1 = {rho1:.4f}')\n",
    "print(f'Dispatch vs. Response Times:      \\u03C1 = {rho2:.4f}')\n",
    "print(f'Travel vs. Response Times:        \\u03C1 = {rho3:.4f}')"
   ]
  },
  {
   "cell_type": "markdown",
   "metadata": {},
   "source": [
    "There is a strong correlation between the `initial_severity_level` and the `final_severity_level` ($\\rho = 0.9352$). This indicates that the determination for the severity of an incident made by dispatch--based on the information obtained by a caller--closely aligns with the determination made by on-scene EMS crew. Similarly, there are moderately strong correlations between the `response_time` and both `dispatch_time` ($\\rho = 0.7715$) and `travel_time` ($\\rho = 0.7501$).\n",
    "\n",
    "For these reasons, the `initial_severity_level`, `dispatch_time` and `travel_time` will all be omitted from any analyses used to develop ML algorithms given they are redundant predictor variable. <p><a href=#TOC>TOC</a></p>"
   ]
  },
  {
   "cell_type": "markdown",
   "metadata": {},
   "source": [
    "<a id=\"Sec02B\"></a>\n",
    "<h4>2B: Association between Categorical Variables</h4>"
   ]
  },
  {
   "cell_type": "markdown",
   "metadata": {},
   "source": [
    "<p>What is the association between pairs of similar <em>categorical</em> variables within the dataset?</p>\n",
    "\n",
    "+ `initial_call_type` and `final_call_type`\n",
    "+ `incident_disposition_code` and `fatality`"
   ]
  },
  {
   "cell_type": "code",
   "execution_count": 11,
   "metadata": {},
   "outputs": [],
   "source": [
    "# Define Cramér's V\n",
    "def cramers_v(confusion_matrix,corrected=False):\n",
    "    \"\"\"\n",
    "    Calculate Cramer's V statistic for measure of association\n",
    "    between two categorical features\n",
    "    \"\"\"\n",
    "    # Calculate phi coefficient\n",
    "    chi2 = stats.chi2_contingency(confusion_matrix)[0]\n",
    "    n = confusion_matrix.sum()\n",
    "    phi2 = chi2 / n\n",
    "    \n",
    "    # Calculate Cramér's statistic\n",
    "    r,k = confusion_matrix.shape\n",
    "    cV = np.sqrt(phi2/(min(k-1,r-1)))\n",
    "    \n",
    "    # Calculate bias corrections\n",
    "    phi2corr = max(0, phi2-((k-1)*(r-1))/(n-1))\n",
    "    kcorr = k - ((k-1)**2)/(n-1)\n",
    "    rcorr = r - ((r-1)**2)/(n-1)\n",
    "    \n",
    "    # Calculate corrected Cramér's statistic\n",
    "    cVcorr = np.sqrt(phi2corr/(min(kcorr-1,rcorr-1)))\n",
    "    \n",
    "    if corrected==False:\n",
    "        statistic = cV\n",
    "    else:\n",
    "        statistic = cVcorr\n",
    "    \n",
    "    return statistic"
   ]
  },
  {
   "cell_type": "code",
   "execution_count": 12,
   "metadata": {},
   "outputs": [
    {
     "name": "stdout",
     "output_type": "stream",
     "text": [
      "ASSOCIATION STATISTICS (Cramér's V / Corr. V)\n",
      "\n",
      "Initial vs. Final Call Type:   0.7421 / 0.7421\n",
      "Disposition Code vs. Fatality: 1.0000 / 1.0000\n"
     ]
    }
   ],
   "source": [
    "# Create confusion matrix for features\n",
    "conf_mtrx1 = pd.crosstab(df.initial_call_type,df.final_call_type).values\n",
    "conf_mtrx2 = pd.crosstab(df.incident_disposition_code,df.fatality).values\n",
    "\n",
    "# Calculate Cramér's V statistics\n",
    "cV_stat1, cV_stat2 = cramers_v(conf_mtrx1), cramers_v(conf_mtrx2)\n",
    "cVcorr_stat1, cVcorr_stat2 = cramers_v(conf_mtrx1,True), cramers_v(conf_mtrx2,True)\n",
    "\n",
    "# Output association statistics\n",
    "print('ASSOCIATION STATISTICS (Cramér\\'s V / Corr. V)')\n",
    "print()\n",
    "print(f'Initial vs. Final Call Type:   {cV_stat1:.4f} / {cVcorr_stat1:.4f}')\n",
    "print(f'Disposition Code vs. Fatality: {cV_stat2:.4f} / {cVcorr_stat2:.4f}')"
   ]
  },
  {
   "cell_type": "markdown",
   "metadata": {},
   "source": [
    "There is a moderately strong association between the `initial_call_type` and the `final_call_type`. This indicates that the determination for the incident call type made by dispatch--based on the information obtained by a caller--aligns closely to the determination made by on-scene EMS crew. In addition, the boolean target `fatality` was directly derived from the `incident_disposition_code`. Hence there exists a perfect association between the two variables.\n",
    "\n",
    "The `initial_call_type` will be omitted from any analyses used to develop ML algorithms given that it is a redundant predictor variable. Similarly, the `incident_disposition_code` will also be omitted as it is <em>descriptor</em> of the incident outcome rather than a <em>predictor</em> of it. <p><a href=#TOC>TOC</a></p>"
   ]
  },
  {
   "cell_type": "markdown",
   "metadata": {},
   "source": [
    "<hr>"
   ]
  },
  {
   "cell_type": "markdown",
   "metadata": {},
   "source": [
    "<h2 style=\"text-transform: uppercase;\">3. Response Times</h2>"
   ]
  },
  {
   "cell_type": "markdown",
   "metadata": {},
   "source": [
    "<a id='Sec03A'></a>\n",
    "<h4>3A: Preliminary Data Inspection &amp; Summary Statistics</h4>"
   ]
  },
  {
   "cell_type": "code",
   "execution_count": 13,
   "metadata": {},
   "outputs": [],
   "source": [
    "rspn_tm = df[['response_time','fatality']]\n",
    "#rspn_tm.head()"
   ]
  },
  {
   "cell_type": "code",
   "execution_count": 14,
   "metadata": {},
   "outputs": [
    {
     "data": {
      "image/png": "[encoded data removed]",
      "text/plain": [
       "<Figure size 1080x216 with 1 Axes>"
      ]
     },
     "metadata": {
      "needs_background": "light"
     },
     "output_type": "display_data"
    }
   ],
   "source": [
    "# Visualize spread of response times\n",
    "fig3A1, ax3A1 = plt.subplots(figsize=(15,3))\n",
    "ax3A1 = sb.boxplot(x='response_time',data=rspn_tm,orient='h')\n",
    "ax3A1.set_title('Incident Response Times (w/ Orig. Outliers)',size=24)\n",
    "ax3A1.set_xlabel('Time (seconds)',size=16)\n",
    "ax3A1.set_xticks([2500*i for i in range(14)])\n",
    "ax3A1.set_ylabel('',size=16)\n",
    "\n",
    "#plt.savefig('../graphics/CP1-03_fig03A1.png') # Export plot to PNG file\n",
    "plt.show()"
   ]
  },
  {
   "cell_type": "code",
   "execution_count": 15,
   "metadata": {},
   "outputs": [
    {
     "name": "stdout",
     "output_type": "stream",
     "text": [
      "SUMMARY STATISTICS (Original)\n",
      "Total Number of Observations:  8054500\n",
      "Number of Outliers:             577993\n",
      "\n",
      "Mean:          556.46\n",
      "Q1:            309.00\n",
      "Median (Q2):   436.00\n",
      "Q3:            624.00\n",
      "\n",
      "Actual Minimum Response Time:               0.00\n",
      "\"Maximum\" Response Time (Q3 + 1.5*IQR):  1096.50\n",
      "Actual Maximum Response Time:           31931.00\n"
     ]
    }
   ],
   "source": [
    "# Calculate summary statistics\n",
    "mean_rspn_tm = np.mean(rspn_tm.response_time)\n",
    "quartiles = np.percentile(rspn_tm.response_time,[25,50,75])\n",
    "median_rspn_tm = np.median(rspn_tm.response_time)\n",
    "min_rspn_tm, max_rspn_tm = rspn_tm.response_time.min(),rspn_tm.response_time.max()\n",
    "\n",
    "# Identify outliers\n",
    "maxf_rspn_tm = quartiles[2]+1.5*(quartiles[2]-quartiles[0]) # \"Maximum\" (Q3 + 1.5*IQR)\n",
    "outliers = rspn_tm.response_time[rspn_tm.response_time>maxf_rspn_tm]\n",
    "\n",
    "# Output statistics\n",
    "print('SUMMARY STATISTICS (Original)')\n",
    "print(f'Total Number of Observations: {len(rspn_tm.response_time):8}')\n",
    "print(f'Number of Outliers:           {len(outliers):8}')\n",
    "print()\n",
    "print(f'Mean:        {mean_rspn_tm:8.2f}')\n",
    "print(f'Q1:          {quartiles[0]:8.2f}')\n",
    "print(f'Median (Q2): {quartiles[1]:8.2f}')\n",
    "print(f'Q3:          {quartiles[2]:8.2f}')\n",
    "print()\n",
    "print(f'Actual Minimum Response Time:          {min_rspn_tm:9.2f}')\n",
    "print(f'\\\"Maximum\\\" Response Time (Q3 + 1.5*IQR):{maxf_rspn_tm:9.2f}')\n",
    "print(f'Actual Maximum Response Time:          {max_rspn_tm:9.2f}')"
   ]
  },
  {
   "cell_type": "markdown",
   "metadata": {},
   "source": [
    "The summary statistics above indicate there are a large number of outliers contained within this dataset. Therefore, the spread of `response_time` should be examined without these values to convolute the trends."
   ]
  },
  {
   "cell_type": "code",
   "execution_count": 16,
   "metadata": {},
   "outputs": [
    {
     "name": "stdout",
     "output_type": "stream",
     "text": [
      "SUMMARY STATISTICS (w/o Orig. Outliers)\n",
      "Total Number of Observations:  7476507\n",
      "\n",
      "Mean:          450.05\n",
      "Q1:            300.00\n",
      "Median (Q2):   416.00\n",
      "Q3:            570.00\n",
      "\n",
      "Actual Minimum Response Time:      0.00\n",
      "Actual Maximum Response Time:   1096.00\n"
     ]
    }
   ],
   "source": [
    "# Remove outlier observations from data\n",
    "rspn_tm_adj = rspn_tm[rspn_tm.response_time<=maxf_rspn_tm]\n",
    "\n",
    "# Calculate summary statistics\n",
    "mean_rspn_tm_adj = np.mean(rspn_tm_adj.response_time)\n",
    "quartiles_adj = np.percentile(rspn_tm_adj.response_time,[25,50,75])\n",
    "median_rspn_tm_adj = np.median(rspn_tm_adj.response_time)\n",
    "min_rspn_tm_adj, max_rspn_tm_adj = rspn_tm_adj.response_time.min(),rspn_tm_adj.response_time.max()\n",
    "\n",
    "# Output statistics\n",
    "print('SUMMARY STATISTICS (w/o Orig. Outliers)')\n",
    "print(f'Total Number of Observations: {len(rspn_tm_adj.response_time):8}')\n",
    "print()\n",
    "print(f'Mean:        {mean_rspn_tm_adj:8.2f}')\n",
    "print(f'Q1:          {quartiles_adj[0]:8.2f}')\n",
    "print(f'Median (Q2): {quartiles_adj[1]:8.2f}')\n",
    "print(f'Q3:          {quartiles_adj[2]:8.2f}')\n",
    "print()\n",
    "print(f'Actual Minimum Response Time: {min_rspn_tm_adj:9.2f}')\n",
    "print(f'Actual Maximum Response Time: {max_rspn_tm_adj:9.2f}')"
   ]
  },
  {
   "cell_type": "code",
   "execution_count": 17,
   "metadata": {},
   "outputs": [
    {
     "data": {
      "image/png": "[encoded data removed]",
      "text/plain": [
       "<Figure size 864x576 with 2 Axes>"
      ]
     },
     "metadata": {
      "needs_background": "light"
     },
     "output_type": "display_data"
    }
   ],
   "source": [
    "# Visualize boxplot and distribution of response times\n",
    "fig3A2, ax3A2 = plt.subplots(2,figsize=(12,8),sharex=True, gridspec_kw={\"height_ratios\": (.20, .80)})\n",
    "sb.boxplot(rspn_tm_adj.response_time, ax=ax3A2[0])\n",
    "sb.distplot(rspn_tm_adj.response_time, ax=ax3A2[1])\n",
    "ax3A2[0].set_title('Incident Response Times (w/o Orig. Outliers)',size=24)\n",
    "ax3A2[0].set_xlabel('')\n",
    "ax3A2[1].set_xlabel('Time (seconds)',size=16)\n",
    "ax3A2[1].set_ylabel('PDF',size=16)\n",
    "\n",
    "# Visualize mean and median response times\n",
    "measurements = [mean_rspn_tm_adj,median_rspn_tm_adj]\n",
    "names = ['Mean','Median']\n",
    "colors = ['darkorange','darkmagenta']\n",
    "for m, n, c in zip(measurements, names, colors):\n",
    "    plt.axvline(x=m,linestyle='--',linewidth=2.5,label=f'{n+\":\":7} {m:.2f} sec',c=c)\n",
    "\n",
    "plt.legend()\n",
    "plt.tight_layout()\n",
    "#plt.savefig('../graphics/CP1-03_fig03A2.png') # Export plot to PNG file\n",
    "plt.show()"
   ]
  },
  {
   "cell_type": "markdown",
   "metadata": {},
   "source": [
    "The distribution of incident response times is positively-skewed. All remaining observations will be parsed into two, independent samples based on the incident outcome: <strong>fatalities</strong> (`fatality == True`) and <strong>survivals</strong> (`fatality == False`). <p><a href=#TOC>TOC</a></p>"
   ]
  },
  {
   "cell_type": "markdown",
   "metadata": {},
   "source": [
    "<a id=\"Sec03B\"></a>\n",
    "<h4>3B: Summary Statistics by Outcome Group</h4>"
   ]
  },
  {
   "cell_type": "code",
   "execution_count": 18,
   "metadata": {},
   "outputs": [
    {
     "name": "stdout",
     "output_type": "stream",
     "text": [
      "SUMMARY STATISTICS: Fatalities (w/o Orig. Outliers)\n",
      "Total Number of Observations:   291954\n",
      "\n",
      "Mean:          461.00\n",
      "Std. Error:      0.41\n",
      "\n",
      "Q1:            296.00\n",
      "Median (Q2):   420.00\n",
      "Q3:            592.00\n",
      "\n",
      "Actual Minimum Response Time:     0.00\n",
      "Actual Maximum Response Time:  1096.00\n"
     ]
    }
   ],
   "source": [
    "rspn_tm_F = rspn_tm_adj[rspn_tm_adj.fatality==True]  # fatalities\n",
    "\n",
    "# Calculate summary statistics for fatalities\n",
    "mean_rspn_tm_adj = np.mean(rspn_tm_F.response_time)\n",
    "SE_rspn_tm_adj = stats.sem(rspn_tm_F.response_time)\n",
    "quartiles_adj = np.percentile(rspn_tm_F.response_time,[25,50,75])\n",
    "median_rspn_tm_adj = np.median(rspn_tm_F.response_time)\n",
    "min_rspn_tm_adj, max_rspn_tm_adj = rspn_tm_F.response_time.min(),rspn_tm_F.response_time.max()\n",
    "\n",
    "# Output statistics\n",
    "print('SUMMARY STATISTICS: Fatalities (w/o Orig. Outliers)')\n",
    "print(f'Total Number of Observations: {len(rspn_tm_F.response_time):8}')\n",
    "print()\n",
    "print(f'Mean:        {mean_rspn_tm_adj:8.2f}')\n",
    "print(f'Std. Error:  {SE_rspn_tm_adj:8.2f}')\n",
    "print()\n",
    "print(f'Q1:          {quartiles_adj[0]:8.2f}')\n",
    "print(f'Median (Q2): {quartiles_adj[1]:8.2f}')\n",
    "print(f'Q3:          {quartiles_adj[2]:8.2f}')\n",
    "print()\n",
    "print(f'Actual Minimum Response Time: {min_rspn_tm_adj:8.2f}')\n",
    "print(f'Actual Maximum Response Time: {max_rspn_tm_adj:8.2f}')"
   ]
  },
  {
   "cell_type": "code",
   "execution_count": 19,
   "metadata": {},
   "outputs": [
    {
     "name": "stdout",
     "output_type": "stream",
     "text": [
      "SUMMARY STATISTICS: Survivals (w/o Orig. Outliers)\n",
      "Total Number of Observations:  7184553\n",
      "\n",
      "Mean:          449.60\n",
      "Std. Error:      0.08\n",
      "\n",
      "Q1:            300.00\n",
      "Median (Q2):   416.00\n",
      "Q3:            569.00\n",
      "\n",
      "Actual Minimum Response Time:     0.00\n",
      "Actual Maximum Response Time:  1096.00\n"
     ]
    }
   ],
   "source": [
    "rspn_tm_S = rspn_tm_adj[rspn_tm_adj.fatality==False] # survivals\n",
    "\n",
    "# Calculate summary statistics for survivals\n",
    "mean_rspn_tm_adj = np.mean(rspn_tm_S.response_time)\n",
    "SE_rspn_tm_adj = stats.sem(rspn_tm_S.response_time)\n",
    "quartiles_adj = np.percentile(rspn_tm_S.response_time,[25,50,75])\n",
    "median_rspn_tm_adj = np.median(rspn_tm_S.response_time)\n",
    "min_rspn_tm_adj, max_rspn_tm_adj = rspn_tm_S.response_time.min(),rspn_tm_S.response_time.max()\n",
    "\n",
    "# Output statistics\n",
    "print('SUMMARY STATISTICS: Survivals (w/o Orig. Outliers)')\n",
    "print(f'Total Number of Observations: {len(rspn_tm_S.response_time):8}')\n",
    "print()\n",
    "print(f'Mean:        {mean_rspn_tm_adj:8.2f}')\n",
    "print(f'Std. Error:  {SE_rspn_tm_adj:8.2f}')\n",
    "print()\n",
    "print(f'Q1:          {quartiles_adj[0]:8.2f}')\n",
    "print(f'Median (Q2): {quartiles_adj[1]:8.2f}')\n",
    "print(f'Q3:          {quartiles_adj[2]:8.2f}')\n",
    "print()\n",
    "print(f'Actual Minimum Response Time: {min_rspn_tm_adj:8.2f}')\n",
    "print(f'Actual Maximum Response Time: {max_rspn_tm_adj:8.2f}')"
   ]
  },
  {
   "cell_type": "code",
   "execution_count": 20,
   "metadata": {},
   "outputs": [
    {
     "data": {
      "image/png": "[encoded data removed]",
      "text/plain": [
       "<Figure size 864x576 with 1 Axes>"
      ]
     },
     "metadata": {
      "needs_background": "light"
     },
     "output_type": "display_data"
    }
   ],
   "source": [
    "# Visualize distribution of response times for outcome groups on same axis\n",
    "fig3B, ax3B = plt.subplots(figsize=(12,8))\n",
    "ax3B = sb.distplot(rspn_tm_S.response_time,color='#3CB371',label='Survivals')\n",
    "ax3B = sb.distplot(rspn_tm_F.response_time,color='#8b0000',label='Fatalities')\n",
    "ax3B.set_title('Response Times by Outcome Group (w/o Orig. Outliers)',size=24)\n",
    "ax3B.set_xlabel('Time (seconds)',size=16)\n",
    "ax3B.set_xticks([100*i for i in range(12)])\n",
    "ax3B.set_ylabel('PDF',size=16)\n",
    "\n",
    "plt.legend()\n",
    "#plt.savefig('../graphics/CP1-02_fig03B.png') # Export plot to PNG file\n",
    "plt.show()"
   ]
  },
  {
   "cell_type": "markdown",
   "metadata": {},
   "source": [
    "<p>The distributions of the two samples appear similar, but further analysis is required to determine whether or not there is any significant difference between the two groups. <a href=#TOC>TOC</a></p>"
   ]
  },
  {
   "cell_type": "markdown",
   "metadata": {},
   "source": [
    "<a id=\"Sec03C\"></a>\n",
    "<h4>3C: Frequentist Test (Two-Sample)</h4>"
   ]
  },
  {
   "cell_type": "markdown",
   "metadata": {},
   "source": [
    "<p>Is there a significant difference between the response times of incidents that result in fatalities and those where patients survive? Assuming a 95% confidence interval, the null hypothesis will only be rejected if the resulting test statistic is more than 1.96 standard deviations away from the mean.</p>\n",
    "<ul>\n",
    "    <li>$\\mu_{rspn,F}$ = Mean response time for incidents resulting in fatality</li>\n",
    "    <li>$\\mu_{rspn,S}$ = Mean response time for incidents resulting in survival</li>\n",
    "</ul>\n",
    "<br>\n",
    "<p>HYPOTHESIS TEST\n",
    "<br>\n",
    "$H_0$: $\\mu_{rspn,F}$ = $\\mu_{rspn,S}$ (the mean response times are the same)\n",
    "<br>\n",
    "$H_A$: $\\mu_{rspn,F}$ $\\neq$ $\\mu_{rspn,S}$ (the mean response times are different)</p>"
   ]
  },
  {
   "cell_type": "code",
   "execution_count": 21,
   "metadata": {},
   "outputs": [
    {
     "name": "stdout",
     "output_type": "stream",
     "text": [
      "Mean Response Time for Fatalities:    460.9994\n",
      "Standard Error - Fatalities:            0.4113\n",
      "95% Confidence Interval - Fatalities: 460.1934 to 461.8055\n",
      "\n",
      "Mean Response Time for Survivals:     449.6036\n",
      "Standard Error - Survivals:             0.0788\n",
      "95% Confidence Interval - Survivals:  449.4492 to 449.7579\n"
     ]
    }
   ],
   "source": [
    "# Calculate means for samples\n",
    "mu_F = np.mean(rspn_tm_F.response_time)\n",
    "mu_S = np.mean(rspn_tm_S.response_time)\n",
    "\n",
    "# Calculate standard error (se) for each sample\n",
    "se_F = stats.sem(rspn_tm_F.response_time)\n",
    "se_S = stats.sem(rspn_tm_S.response_time)\n",
    "\n",
    "# Calculate the margin of error (me) for a 95% C.I. per sample\n",
    "me_F = 1.96*se_F\n",
    "me_S = 1.96*se_S\n",
    "\n",
    "# Calculate the upper and lower bounds for each 95% C.I.\n",
    "upper_F = mu_F + me_F\n",
    "lower_F = mu_F - me_F\n",
    "upper_S = mu_S + me_S\n",
    "lower_S = mu_S - me_S\n",
    "\n",
    "# Print results\n",
    "print(f'Mean Response Time for Fatalities:    {mu_F:8.4f}')\n",
    "print(f'Standard Error - Fatalities:          {se_F:8.4f}')\n",
    "print(f'95% Confidence Interval - Fatalities: {lower_F:8.4f} to {upper_F:8.4f}')\n",
    "print()\n",
    "print(f'Mean Response Time for Survivals:     {mu_S:8.4f}')\n",
    "print(f'Standard Error - Survivals:           {se_S:8.4f}')\n",
    "print(f'95% Confidence Interval - Survivals:  {lower_S:8.4f} to {upper_S:8.4f}')"
   ]
  },
  {
   "cell_type": "code",
   "execution_count": 22,
   "metadata": {},
   "outputs": [
    {
     "name": "stdout",
     "output_type": "stream",
     "text": [
      "t-statistic: 27.2156\n",
      "p-value:      0.0000\n"
     ]
    }
   ],
   "source": [
    "# t-test\n",
    "t_stat, t_pval = stats.ttest_ind(rspn_tm_F.response_time,\n",
    "                                 rspn_tm_S.response_time,\n",
    "                                 equal_var=False)\n",
    "print(f't-statistic: {abs(t_stat):7.4f}')\n",
    "print(f'p-value:     {t_pval:7.4f}')"
   ]
  },
  {
   "cell_type": "code",
   "execution_count": 23,
   "metadata": {},
   "outputs": [
    {
     "name": "stdout",
     "output_type": "stream",
     "text": [
      "z-statistic: 28.5328\n",
      "p-value:      0.0000\n"
     ]
    }
   ],
   "source": [
    "# z-test\n",
    "z_stat,z_pval = ztest(rspn_tm_F.response_time,\n",
    "                      rspn_tm_S.response_time,\n",
    "                      alternative='two-sided')\n",
    "print(f'z-statistic: {abs(z_stat):7.4f}')\n",
    "print(f'p-value:     {z_pval:7.4f}')"
   ]
  },
  {
   "cell_type": "markdown",
   "metadata": {},
   "source": [
    "<p>The resulting <em>p</em>-value from the frequentists test above is well below the threshold of $\\alpha = 0.05$. Thus, the null hypothesis must be rejected in favour of the alternative hypothesis at the 95% confidence interval. The mean response times for fatalities and survivals are statistically different. <a href=#TOC>TOC</a></p>"
   ]
  }
 ],
 "metadata": {
  "kernelspec": {
   "display_name": "Python 3",
   "language": "python",
   "name": "python3"
  },
  "language_info": {
   "codemirror_mode": {
    "name": "ipython",
    "version": 3
   },
   "file_extension": ".py",
   "mimetype": "text/x-python",
   "name": "python",
   "nbconvert_exporter": "python",
   "pygments_lexer": "ipython3",
   "version": "3.6.8"
  }
 },
 "nbformat": 4,
 "nbformat_minor": 2
}
