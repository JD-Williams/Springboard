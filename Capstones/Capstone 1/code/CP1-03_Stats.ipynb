{
 "cells": [
  {
   "cell_type": "markdown",
   "metadata": {},
   "source": [
    "# Capstone 1: Inferential Statistics"
   ]
  },
  {
   "cell_type": "markdown",
   "metadata": {},
   "source": [
    "<a id='TOC'></a>\n",
    "**Table of Contents**\n",
    "1. Preliminaries\n",
    "    1. [Import EMS Incident Data](#Sec01A)\n",
    "    2. [Preprocess Dataset](#Sec01B)\n",
    "    3. [Segment Variables](#Sec01C)\n",
    "2. Preliminary Statistics\n",
    "    1. [Correlations between Numerical Variables](#Sec02A)\n",
    "    2. [Association between Categorical Variables](#Sec02B)\n",
    "3. Response Times\n",
    "    1. [Preliminary Data Inspection & Summary Statistics](#Sec03A)\n",
    "    2. [Sample Statistics by Outcome Group](#Sec03B) \n",
    "    3. [Frequentist Test](#Sec03C)"
   ]
  },
  {
   "cell_type": "markdown",
   "metadata": {},
   "source": [
    "The goal of this project is to develop machine learning models that predict whether or not the outcome of an EMS incident will result in a fatality. This is a supervised, binary classification problem. Analyses will be performed on a collection of nearly 8 million records of documented incidents, which span the six year period from January 2013 through December 2018, and appropriate predictive models will be developed to achieve the primary objective. This dataset is robust and contains several feature variables, of mixed data types, that describe both various attributes of each incident as well as the responsive action taken by the FDNY. All of the aforementioned factors affect an individual’s survivability once a response is initiated.\n",
    "\n",
    "Various inferential statistics techniques were performed on the dataset prior to the development of any ML algorithms. One purpose of this process was to examine the correlations between all variables within the dataset in greater depth than preliminary EDA permits. In addition, any feature variable that has a significant impact on the target variable (`fatality`) will also be revealed through these measures."
   ]
  },
  {
   "cell_type": "markdown",
   "metadata": {},
   "source": [
    "## 1. PRELIMINARIES"
   ]
  },
  {
   "cell_type": "markdown",
   "metadata": {},
   "source": [
    "<a id='Sec01A'></a>\n",
    "#### 1A: Import EMS incident data"
   ]
  },
  {
   "cell_type": "code",
   "execution_count": 1,
   "metadata": {},
   "outputs": [],
   "source": [
    "# Import packages and modules\n",
    "import pandas as pd\n",
    "import numpy as np\n",
    "\n",
    "from scipy import stats\n",
    "from statsmodels.stats.weightstats import ztest, ttest_ind\n",
    "\n",
    "import matplotlib.pyplot as plt\n",
    "import seaborn as sb\n",
    "%matplotlib inline\n",
    "sb.set(style='whitegrid', palette='pastel', color_codes=True)\n",
    "sb.mpl.rc('figure', figsize=(15,10))"
   ]
  },
  {
   "cell_type": "code",
   "execution_count": 2,
   "metadata": {},
   "outputs": [],
   "source": [
    "# Assign file path\n",
    "file_path = '../data/clean_EMS_data.csv'\n",
    "\n",
    "# Read CSV data into a Pandas DataFrame\n",
    "datetime_cols = ['incident_datetime',\n",
    "                 'first_assignment_datetime',\n",
    "                 'first_activation_datetime',\n",
    "                 'first_on_scene_datetime',\n",
    "                 'first_to_hosp_datetime',\n",
    "                 'first_hosp_arrival_datetime',\n",
    "                 'incident_close_datetime']\n",
    "\n",
    "df = pd.read_csv(file_path,compression='gzip',\n",
    "                 parse_dates=datetime_cols,\n",
    "                 index_col=['incident_datetime'])"
   ]
  },
  {
   "cell_type": "code",
   "execution_count": 3,
   "metadata": {},
   "outputs": [],
   "source": [
    "#df.info(verbose=True,memory_usage='deep')"
   ]
  },
  {
   "cell_type": "markdown",
   "metadata": {},
   "source": [
    "[TOC](#TOC)"
   ]
  },
  {
   "cell_type": "markdown",
   "metadata": {},
   "source": [
    "<a id=\"Sec01B\"></a>\n",
    "#### 1B: Preprocess Dataset"
   ]
  },
  {
   "cell_type": "code",
   "execution_count": 4,
   "metadata": {},
   "outputs": [],
   "source": [
    "# Change dtypes\n",
    "df['weekday'] = df.weekday.astype('category')\n",
    "df['borough'] = df.borough.astype('category')\n",
    "df['zipcode'] = df.zipcode.astype('category')\n",
    "df['incident_disposition_code'] = df.incident_disposition_code.astype('category')"
   ]
  },
  {
   "cell_type": "code",
   "execution_count": 5,
   "metadata": {},
   "outputs": [],
   "source": [
    "# Remove immaterial columns\n",
    "list_of_cols = ['latitude','longitude',\n",
    "                'aland_sqmi','awater_sqmi','held_indicator',\n",
    "                'first_assignment_datetime','incident_dispatch_area',\n",
    "                'first_activation_datetime','first_on_scene_datetime',\n",
    "                'first_to_hosp_datetime','first_hosp_arrival_datetime',\n",
    "                'incident_close_datetime']\n",
    "df.drop(list_of_cols,axis=1,inplace=True)"
   ]
  },
  {
   "cell_type": "code",
   "execution_count": 6,
   "metadata": {},
   "outputs": [],
   "source": [
    "#df.info(verbose=True,memory_usage='deep')"
   ]
  },
  {
   "cell_type": "code",
   "execution_count": 7,
   "metadata": {},
   "outputs": [
    {
     "data": {
      "text/html": [
       "<div>\n",
       "<style scoped>\n",
       "    .dataframe tbody tr th:only-of-type {\n",
       "        vertical-align: middle;\n",
       "    }\n",
       "\n",
       "    .dataframe tbody tr th {\n",
       "        vertical-align: top;\n",
       "    }\n",
       "\n",
       "    .dataframe thead th {\n",
       "        text-align: right;\n",
       "    }\n",
       "</style>\n",
       "<table border=\"1\" class=\"dataframe\">\n",
       "  <thead>\n",
       "    <tr style=\"text-align: right;\">\n",
       "      <th></th>\n",
       "      <th>year</th>\n",
       "      <th>month</th>\n",
       "      <th>day</th>\n",
       "      <th>hour</th>\n",
       "      <th>weekday</th>\n",
       "      <th>borough</th>\n",
       "      <th>zipcode</th>\n",
       "      <th>initial_call_type</th>\n",
       "      <th>initial_severity_level</th>\n",
       "      <th>final_call_type</th>\n",
       "      <th>final_severity_level</th>\n",
       "      <th>dispatch_time</th>\n",
       "      <th>travel_time</th>\n",
       "      <th>response_time</th>\n",
       "      <th>incident_disposition_code</th>\n",
       "      <th>life_threatening</th>\n",
       "      <th>fatality</th>\n",
       "    </tr>\n",
       "    <tr>\n",
       "      <th>incident_datetime</th>\n",
       "      <th></th>\n",
       "      <th></th>\n",
       "      <th></th>\n",
       "      <th></th>\n",
       "      <th></th>\n",
       "      <th></th>\n",
       "      <th></th>\n",
       "      <th></th>\n",
       "      <th></th>\n",
       "      <th></th>\n",
       "      <th></th>\n",
       "      <th></th>\n",
       "      <th></th>\n",
       "      <th></th>\n",
       "      <th></th>\n",
       "      <th></th>\n",
       "      <th></th>\n",
       "    </tr>\n",
       "  </thead>\n",
       "  <tbody>\n",
       "    <tr>\n",
       "      <td>2013-01-01 00:00:04</td>\n",
       "      <td>2013</td>\n",
       "      <td>1</td>\n",
       "      <td>1</td>\n",
       "      <td>0</td>\n",
       "      <td>2</td>\n",
       "      <td>BRONX</td>\n",
       "      <td>10472.0</td>\n",
       "      <td>RESPIR</td>\n",
       "      <td>4</td>\n",
       "      <td>RESPIR</td>\n",
       "      <td>4</td>\n",
       "      <td>101</td>\n",
       "      <td>696.0</td>\n",
       "      <td>797.0</td>\n",
       "      <td>82.0</td>\n",
       "      <td>False</td>\n",
       "      <td>False</td>\n",
       "    </tr>\n",
       "    <tr>\n",
       "      <td>2013-01-01 00:05:52</td>\n",
       "      <td>2013</td>\n",
       "      <td>1</td>\n",
       "      <td>1</td>\n",
       "      <td>0</td>\n",
       "      <td>2</td>\n",
       "      <td>BRONX</td>\n",
       "      <td>10472.0</td>\n",
       "      <td>EDP</td>\n",
       "      <td>7</td>\n",
       "      <td>EDP</td>\n",
       "      <td>7</td>\n",
       "      <td>12</td>\n",
       "      <td>522.0</td>\n",
       "      <td>534.0</td>\n",
       "      <td>82.0</td>\n",
       "      <td>False</td>\n",
       "      <td>False</td>\n",
       "    </tr>\n",
       "    <tr>\n",
       "      <td>2013-01-01 00:20:37</td>\n",
       "      <td>2013</td>\n",
       "      <td>1</td>\n",
       "      <td>1</td>\n",
       "      <td>0</td>\n",
       "      <td>2</td>\n",
       "      <td>BRONX</td>\n",
       "      <td>10472.0</td>\n",
       "      <td>SICK</td>\n",
       "      <td>6</td>\n",
       "      <td>SICK</td>\n",
       "      <td>6</td>\n",
       "      <td>52</td>\n",
       "      <td>645.0</td>\n",
       "      <td>697.0</td>\n",
       "      <td>93.0</td>\n",
       "      <td>False</td>\n",
       "      <td>False</td>\n",
       "    </tr>\n",
       "    <tr>\n",
       "      <td>2013-01-01 01:53:11</td>\n",
       "      <td>2013</td>\n",
       "      <td>1</td>\n",
       "      <td>1</td>\n",
       "      <td>1</td>\n",
       "      <td>2</td>\n",
       "      <td>BRONX</td>\n",
       "      <td>10472.0</td>\n",
       "      <td>INJURY</td>\n",
       "      <td>4</td>\n",
       "      <td>INJURY</td>\n",
       "      <td>4</td>\n",
       "      <td>25</td>\n",
       "      <td>198.0</td>\n",
       "      <td>223.0</td>\n",
       "      <td>82.0</td>\n",
       "      <td>False</td>\n",
       "      <td>False</td>\n",
       "    </tr>\n",
       "    <tr>\n",
       "      <td>2013-01-01 01:54:28</td>\n",
       "      <td>2013</td>\n",
       "      <td>1</td>\n",
       "      <td>1</td>\n",
       "      <td>1</td>\n",
       "      <td>2</td>\n",
       "      <td>BRONX</td>\n",
       "      <td>10472.0</td>\n",
       "      <td>SICK</td>\n",
       "      <td>4</td>\n",
       "      <td>SICK</td>\n",
       "      <td>4</td>\n",
       "      <td>42</td>\n",
       "      <td>256.0</td>\n",
       "      <td>298.0</td>\n",
       "      <td>82.0</td>\n",
       "      <td>False</td>\n",
       "      <td>False</td>\n",
       "    </tr>\n",
       "  </tbody>\n",
       "</table>\n",
       "</div>"
      ],
      "text/plain": [
       "                     year  month  day  hour weekday borough  zipcode  \\\n",
       "incident_datetime                                                      \n",
       "2013-01-01 00:00:04  2013      1    1     0       2   BRONX  10472.0   \n",
       "2013-01-01 00:05:52  2013      1    1     0       2   BRONX  10472.0   \n",
       "2013-01-01 00:20:37  2013      1    1     0       2   BRONX  10472.0   \n",
       "2013-01-01 01:53:11  2013      1    1     1       2   BRONX  10472.0   \n",
       "2013-01-01 01:54:28  2013      1    1     1       2   BRONX  10472.0   \n",
       "\n",
       "                    initial_call_type  initial_severity_level final_call_type  \\\n",
       "incident_datetime                                                               \n",
       "2013-01-01 00:00:04            RESPIR                       4          RESPIR   \n",
       "2013-01-01 00:05:52               EDP                       7             EDP   \n",
       "2013-01-01 00:20:37              SICK                       6            SICK   \n",
       "2013-01-01 01:53:11            INJURY                       4          INJURY   \n",
       "2013-01-01 01:54:28              SICK                       4            SICK   \n",
       "\n",
       "                     final_severity_level  dispatch_time  travel_time  \\\n",
       "incident_datetime                                                       \n",
       "2013-01-01 00:00:04                     4            101        696.0   \n",
       "2013-01-01 00:05:52                     7             12        522.0   \n",
       "2013-01-01 00:20:37                     6             52        645.0   \n",
       "2013-01-01 01:53:11                     4             25        198.0   \n",
       "2013-01-01 01:54:28                     4             42        256.0   \n",
       "\n",
       "                     response_time incident_disposition_code  \\\n",
       "incident_datetime                                              \n",
       "2013-01-01 00:00:04          797.0                      82.0   \n",
       "2013-01-01 00:05:52          534.0                      82.0   \n",
       "2013-01-01 00:20:37          697.0                      93.0   \n",
       "2013-01-01 01:53:11          223.0                      82.0   \n",
       "2013-01-01 01:54:28          298.0                      82.0   \n",
       "\n",
       "                     life_threatening  fatality  \n",
       "incident_datetime                                \n",
       "2013-01-01 00:00:04             False     False  \n",
       "2013-01-01 00:05:52             False     False  \n",
       "2013-01-01 00:20:37             False     False  \n",
       "2013-01-01 01:53:11             False     False  \n",
       "2013-01-01 01:54:28             False     False  "
      ]
     },
     "execution_count": 7,
     "metadata": {},
     "output_type": "execute_result"
    }
   ],
   "source": [
    "df.head()"
   ]
  },
  {
   "cell_type": "markdown",
   "metadata": {},
   "source": [
    "[TOC](#TOC)"
   ]
  },
  {
   "cell_type": "markdown",
   "metadata": {},
   "source": [
    "<a id=\"Sec01C\"></a>\n",
    "#### 1C: Segment  Variables"
   ]
  },
  {
   "cell_type": "code",
   "execution_count": 8,
   "metadata": {},
   "outputs": [],
   "source": [
    "# Numeric feature variables\n",
    "num_var = ['year','month','day','hour','dispatch_time','travel_time','response_time']\n",
    "x1 = df[num_var]\n",
    "\n",
    "# Categorical feature variables\n",
    "cat_var = ['weekday','borough','zipcode','final_call_type','final_severity_level','life_threatening']\n",
    "x2 = df[cat_var]\n",
    "\n",
    "# Target variable\n",
    "Y = df[['fatality']]"
   ]
  },
  {
   "cell_type": "code",
   "execution_count": 9,
   "metadata": {},
   "outputs": [
    {
     "name": "stdout",
     "output_type": "stream",
     "text": [
      "X1:  <class 'numpy.ndarray'> (7988028, 7)\n",
      "X2:  <class 'numpy.ndarray'> (7988028, 6)\n",
      "y:  <class 'numpy.ndarray'> (7988028, 1)\n"
     ]
    }
   ],
   "source": [
    "X1 = x1.values\n",
    "X2 = x2.values\n",
    "y = Y.values\n",
    "print(\"X1: \", type(X1), X1.shape)\n",
    "print(\"X2: \", type(X2), X2.shape)\n",
    "print(\"y: \", type(y), y.shape)"
   ]
  },
  {
   "cell_type": "markdown",
   "metadata": {},
   "source": [
    "[TOC](#TOC)"
   ]
  },
  {
   "cell_type": "markdown",
   "metadata": {},
   "source": [
    "***"
   ]
  },
  {
   "cell_type": "markdown",
   "metadata": {},
   "source": [
    "## 2. PRELIMINARY STATISTICS"
   ]
  },
  {
   "cell_type": "markdown",
   "metadata": {},
   "source": [
    "<a id='Sec02A'></a>\n",
    "#### 2A: Correlations between Numerical Variables"
   ]
  },
  {
   "cell_type": "markdown",
   "metadata": {},
   "source": [
    "What is the correlation between pairs of similar _numerical_ variables within the dataset?\n",
    "* `initial_severity_level` and `final_severity_level`\n",
    "* `dispatch_time` and `response_time`\n",
    "* `travel_time` and `response_time`"
   ]
  },
  {
   "cell_type": "code",
   "execution_count": 10,
   "metadata": {},
   "outputs": [
    {
     "name": "stdout",
     "output_type": "stream",
     "text": [
      "Initial vs. Final Severity Level: ρ = 0.9352\n",
      "Dispatch vs. Response Times:      ρ = 0.7731\n",
      "Travel vs. Response Times:        ρ = 0.7476\n"
     ]
    }
   ],
   "source": [
    "# Correlation - Initial and Final Severity Levels\n",
    "x1 = df.initial_severity_level.values\n",
    "y1 = df.final_severity_level.values\n",
    "rho1 = np.corrcoef(x1,y1)[0][1]\n",
    "\n",
    "# Correlation - Dispatch and Response Times\n",
    "x2 = df.dispatch_time.values\n",
    "y2 = df.response_time.values\n",
    "rho2 = np.corrcoef(x2,y2)[0][1]\n",
    "\n",
    "# Correlation - Travel and Response Times\n",
    "x3 = df.travel_time.values\n",
    "y3 = df.response_time.values\n",
    "rho3 = np.corrcoef(x3,y3)[0][1]\n",
    "\n",
    "# Output correlation statistics\n",
    "print('Initial vs. Final Severity Level: \\u03C1 = {:.4f}'.format(rho1))\n",
    "print('Dispatch vs. Response Times:      \\u03C1 = {:.4f}'.format(rho2))\n",
    "print('Travel vs. Response Times:        \\u03C1 = {:.4f}'.format(rho3))"
   ]
  },
  {
   "cell_type": "markdown",
   "metadata": {},
   "source": [
    "There is a strong correlation between the `initial_severity_level` and the `final_severity_level` ($\\rho = 0.9352$). This indicates that the determination for the severity of an incident made by dispatch--based on the information obtained by a caller--closely aligns with the determination made by on-scene EMS crew. Similarly, there are moderately strong correlations between the `response_time` and both `dispatch_time` ($\\rho = 0.7731$) and `travel_time` ($\\rho = 0.7476$).\n",
    "\n",
    "For these reasons, the `initial_severity_level`, `dispatch_time` and `travel_time` will all be omitted from any analyses used to develop ML algorithms given they are redundant predictor variable. [TOC](#TOC)"
   ]
  },
  {
   "cell_type": "markdown",
   "metadata": {},
   "source": [
    "<a id=\"Sec02B\"></a>\n",
    "#### 2B: Association between Categorical Variables"
   ]
  },
  {
   "cell_type": "markdown",
   "metadata": {},
   "source": [
    "What is the association between pairs of similar _categorical_ variables within the dataset?\n",
    "* `initial_call_type` and `final_call_type`"
   ]
  },
  {
   "cell_type": "code",
   "execution_count": 11,
   "metadata": {},
   "outputs": [],
   "source": [
    "# Define Cramér's V\n",
    "def cramers_v(confusion_matrix,corrected=False):\n",
    "    \"\"\"\n",
    "    Calculate Cramer's V statistic for measure of association\n",
    "    between two categorical features\n",
    "    \"\"\"\n",
    "    # Calculate phi coefficient\n",
    "    chi2 = stats.chi2_contingency(confusion_matrix)[0]\n",
    "    n = confusion_matrix.sum()\n",
    "    phi2 = chi2 / n\n",
    "    \n",
    "    r,k = confusion_matrix.shape\n",
    "\n",
    "    # Calculate Cramér's statistic\n",
    "    cV = np.sqrt(phi2/(min(k-1,r-1)))\n",
    "    \n",
    "    # Calculate bias corrections\n",
    "    phi2corr = max(0, phi2-((k-1)*(r-1))/(n-1))\n",
    "    kcorr = k - ((k-1)**2)/(n-1)\n",
    "    rcorr = r - ((r-1)**2)/(n-1)\n",
    "    \n",
    "    # Calculate corrected Cramér's statistic\n",
    "    cVcorr = np.sqrt(phi2corr/(min(kcorr-1,rcorr-1)))\n",
    "    \n",
    "    if corrected==False:\n",
    "        statistic = cV\n",
    "    else:\n",
    "        statistic = cVcorr\n",
    "    \n",
    "    return statistic"
   ]
  },
  {
   "cell_type": "code",
   "execution_count": 12,
   "metadata": {
    "scrolled": false
   },
   "outputs": [
    {
     "name": "stdout",
     "output_type": "stream",
     "text": [
      "Cramér's V Statistic:           0.7552\n",
      "Corrected Cramér's V Statistic: 0.7552\n"
     ]
    }
   ],
   "source": [
    "# Create confusion matrix for features\n",
    "confusion_matrix = pd.crosstab(df.initial_call_type,df.final_call_type).values\n",
    "\n",
    "# Calculate Cramér's V statistics\n",
    "cV_stat = cramers_v(confusion_matrix)\n",
    "cVcorr_stat = cramers_v(confusion_matrix,True) #corrected_cramers_v(confusion_matrix)\n",
    "print('Cramér\\'s V Statistic:           {:.4f}'.format(cV_stat))\n",
    "print('Corrected Cramér\\'s V Statistic: {:.4f}'.format(cVcorr_stat))"
   ]
  },
  {
   "cell_type": "markdown",
   "metadata": {},
   "source": [
    "There is a moderately strong association between the `initial_call_type` and the `final_call_type`. This indicates that the determination for the incident call type made by dispatch--based on the information obtained by a caller--aligns closely to the determination made by on-scene EMS crew.\n",
    "\n",
    "For this reason, the `initial_call_type` will be omitted from any analyses used to develop ML algorithms given that it is a redundant predictor variable. [TOC](#TOC)"
   ]
  },
  {
   "cell_type": "markdown",
   "metadata": {},
   "source": [
    "***"
   ]
  },
  {
   "cell_type": "markdown",
   "metadata": {},
   "source": [
    "## 3. Response Times"
   ]
  },
  {
   "cell_type": "markdown",
   "metadata": {},
   "source": [
    "<a id='Sec03A'></a>\n",
    "#### 3A: Preliminary Data Inspection & Summary Statistics"
   ]
  },
  {
   "cell_type": "code",
   "execution_count": 13,
   "metadata": {},
   "outputs": [],
   "source": [
    "rspn_tm = df[['response_time','fatality']]\n",
    "#rspn_tm.head()"
   ]
  },
  {
   "cell_type": "code",
   "execution_count": 14,
   "metadata": {},
   "outputs": [
    {
     "data": {
      "image/png": "[encoded data removed]",
      "text/plain": [
       "<Figure size 1080x216 with 1 Axes>"
      ]
     },
     "metadata": {
      "needs_background": "light"
     },
     "output_type": "display_data"
    }
   ],
   "source": [
    "# Visualize spread of response times\n",
    "fig3A1, ax3A1 = plt.subplots(figsize=(15,3))\n",
    "ax3A1 = sb.boxplot(x='response_time',\n",
    "                  data=rspn_tm,\n",
    "                  orient='h')\n",
    "ax3A1.set_title('Incident Response Times (w/ Orig. Outliers)',size=24)\n",
    "ax3A1.set_xlabel('Time (seconds)',size=16)\n",
    "ax3A1.set_xticks([2500*i for i in range(14)])\n",
    "ax3A1.set_ylabel('',size=16)\n",
    "\n",
    "#plt.savefig('../graphics/CP1-03_fig03A1.png') # Export plot to PNG file\n",
    "plt.show()"
   ]
  },
  {
   "cell_type": "code",
   "execution_count": 15,
   "metadata": {},
   "outputs": [
    {
     "name": "stdout",
     "output_type": "stream",
     "text": [
      "SUMMARY STATISTICS (Original)\n",
      "Total Number of Observations:  7988028\n",
      "Number of Outliers:             576867\n",
      "\n",
      "Mean:          561.09\n",
      "Q1:            312.00\n",
      "Median (Q2):   438.00\n",
      "Q3:            626.00\n",
      "\n",
      "Actual Minimum Response Time:               1.00\n",
      "\"Maximum\" Response Time (Q3 + 1.5*IQR):  1097.00\n",
      "Actual Maximum Response Time:           31931.00\n"
     ]
    }
   ],
   "source": [
    "# Calculate summary statistics\n",
    "mean_rspn_tm = np.mean(rspn_tm.response_time)\n",
    "quartiles = np.percentile(rspn_tm.response_time,[25,50,75])\n",
    "median_rspn_tm = np.median(rspn_tm.response_time)\n",
    "min_rspn_tm, max_rspn_tm = rspn_tm.response_time.min(),rspn_tm.response_time.max()\n",
    "\n",
    "# Identify outliers\n",
    "maxf_rspn_tm = quartiles[2]+1.5*(quartiles[2]-quartiles[0]) # \"Maximum\" (Q3 + 1.5*IQR)\n",
    "outliers = rspn_tm.response_time[rspn_tm.response_time>maxf_rspn_tm]\n",
    "\n",
    "# Output statistics\n",
    "print('SUMMARY STATISTICS (Original)')\n",
    "print('Total Number of Observations: {:8}'.format(len(rspn_tm.response_time)))\n",
    "print('Number of Outliers:           {:8}\\n'.format(len(outliers)))\n",
    "print('Mean:        {:8.2f}'.format(mean_rspn_tm))\n",
    "print('Q1:          {:8.2f}'.format(quartiles[0]))\n",
    "print('Median (Q2): {:8.2f}'.format(quartiles[1]))\n",
    "print('Q3:          {:8.2f}\\n'.format(quartiles[2]))\n",
    "print('Actual Minimum Response Time:          {:9.2f}'.format(min_rspn_tm))\n",
    "print('\\\"Maximum\\\" Response Time (Q3 + 1.5*IQR):{:9.2f}'.format(maxf_rspn_tm))\n",
    "print('Actual Maximum Response Time:          {:9.2f}'.format(max_rspn_tm))"
   ]
  },
  {
   "cell_type": "markdown",
   "metadata": {},
   "source": [
    "The summary statistics above indicate there are a large number of outliers contained within this dataset. Therefore, the spread of `response_time` should be examined without these values to convolute the trends."
   ]
  },
  {
   "cell_type": "code",
   "execution_count": 16,
   "metadata": {},
   "outputs": [
    {
     "name": "stdout",
     "output_type": "stream",
     "text": [
      "SUMMARY STATISTICS (w/o Orig. Outliers)\n",
      "Total Number of Observations:  7411161\n",
      "\n",
      "Mean:          454.18\n",
      "Q1:            303.00\n",
      "Median (Q2):   419.00\n",
      "Q3:            572.00\n",
      "\n",
      "Actual Minimum Response Time:      1.00\n",
      "Actual Maximum Response Time:   1097.00\n"
     ]
    }
   ],
   "source": [
    "# Remove outlier observations from data\n",
    "rspn_tm_adj = rspn_tm[rspn_tm.response_time<=maxf_rspn_tm]\n",
    "\n",
    "# Calculate summary statistics\n",
    "mean_rspn_tm_adj = np.mean(rspn_tm_adj.response_time)\n",
    "quartiles_adj = np.percentile(rspn_tm_adj.response_time,[25,50,75])\n",
    "median_rspn_tm_adj = np.median(rspn_tm_adj.response_time)\n",
    "min_rspn_tm_adj, max_rspn_tm_adj = rspn_tm_adj.response_time.min(),rspn_tm_adj.response_time.max()\n",
    "\n",
    "# Output statistics\n",
    "print('SUMMARY STATISTICS (w/o Orig. Outliers)')\n",
    "print('Total Number of Observations: {:8}\\n'.format(len(rspn_tm_adj.response_time)))\n",
    "print('Mean:        {:8.2f}'.format(mean_rspn_tm_adj))\n",
    "print('Q1:          {:8.2f}'.format(quartiles_adj[0]))\n",
    "print('Median (Q2): {:8.2f}'.format(quartiles_adj[1]))\n",
    "print('Q3:          {:8.2f}\\n'.format(quartiles_adj[2]))\n",
    "print('Actual Minimum Response Time: {:9.2f}'.format(min_rspn_tm_adj))\n",
    "print('Actual Maximum Response Time: {:9.2f}'.format(max_rspn_tm_adj))"
   ]
  },
  {
   "cell_type": "code",
   "execution_count": 17,
   "metadata": {},
   "outputs": [
    {
     "data": {
      "image/png": "[encoded data removed]",
      "text/plain": [
       "<Figure size 864x576 with 2 Axes>"
      ]
     },
     "metadata": {
      "needs_background": "light"
     },
     "output_type": "display_data"
    }
   ],
   "source": [
    "# Visualize boxplot and distribution of response times\n",
    "fig3A2, ax3A2 = plt.subplots(2,figsize=(12,8),sharex=True, gridspec_kw={\"height_ratios\": (.20, .80)})\n",
    "sb.boxplot(rspn_tm_adj.response_time, ax=ax3A2[0])\n",
    "sb.distplot(rspn_tm_adj.response_time, ax=ax3A2[1])\n",
    "ax3A2[0].set_title('Incident Response Times (w/o Orig. Outliers)',size=24)\n",
    "ax3A2[0].set_xlabel('')\n",
    "ax3A2[1].set_xlabel('Time (seconds)',size=16)\n",
    "ax3A2[1].set_ylabel('PDF',size=16)\n",
    "\n",
    "# Visualize mean and median response times\n",
    "measurements = [mean_rspn_tm_adj,median_rspn_tm_adj]\n",
    "names = ['Mean','Median']\n",
    "colors = ['darkorange','darkmagenta']\n",
    "for m, n, c in zip(measurements, names, colors):\n",
    "    plt.axvline(x=m,linestyle='--',linewidth=2.5,label='{0:7} {1:.2f} sec'.format(n+':',m),c=c)\n",
    "\n",
    "plt.legend()\n",
    "plt.tight_layout()\n",
    "#plt.savefig('../graphics/CP1-03_fig03A2.png') # Export plot to PNG file\n",
    "plt.show()"
   ]
  },
  {
   "cell_type": "markdown",
   "metadata": {},
   "source": [
    "The distribution of incident response times is positively-skewed. All remaining observations will be parsed into two, independent samples based on the incident outcome: __fatalities__ (`fatality == True`) and __survivals__ (`fatality == False`). [TOC](#TOC)"
   ]
  },
  {
   "cell_type": "markdown",
   "metadata": {},
   "source": [
    "<a id=\"Sec03B\"></a>\n",
    "#### 3B: Summary Statistics by Outcome Group"
   ]
  },
  {
   "cell_type": "code",
   "execution_count": 18,
   "metadata": {},
   "outputs": [
    {
     "name": "stdout",
     "output_type": "stream",
     "text": [
      "SUMMARY STATISTICS: Fatalities (w/o Orig. Outliers)\n",
      "Total Number of Observations:   291382\n",
      "\n",
      "Mean:          462.11\n",
      "Std. Error:      0.41\n",
      "\n",
      "Q1:            297.00\n",
      "Median (Q2):   420.00\n",
      "Q3:            593.00\n",
      "\n",
      "Actual Minimum Response Time:     1.00\n",
      "Actual Maximum Response Time:  1097.00\n"
     ]
    }
   ],
   "source": [
    "rspn_tm_F = rspn_tm_adj[rspn_tm_adj.fatality==True]  # fatalities\n",
    "\n",
    "# Calculate summary statistics for fatalities\n",
    "mean_rspn_tm_adj = np.mean(rspn_tm_F.response_time)\n",
    "SE_rspn_tm_adj = stats.sem(rspn_tm_F.response_time)\n",
    "quartiles_adj = np.percentile(rspn_tm_F.response_time,[25,50,75])\n",
    "median_rspn_tm_adj = np.median(rspn_tm_F.response_time)\n",
    "min_rspn_tm_adj, max_rspn_tm_adj = rspn_tm_F.response_time.min(),rspn_tm_F.response_time.max()\n",
    "\n",
    "# Output statistics\n",
    "print('SUMMARY STATISTICS: Fatalities (w/o Orig. Outliers)')\n",
    "print('Total Number of Observations: {:8}\\n'.format(len(rspn_tm_F.response_time)))\n",
    "print('Mean:        {:8.2f}'.format(mean_rspn_tm_adj))\n",
    "print('Std. Error:  {:8.2f}\\n'.format(SE_rspn_tm_adj))\n",
    "print('Q1:          {:8.2f}'.format(quartiles_adj[0]))\n",
    "print('Median (Q2): {:8.2f}'.format(quartiles_adj[1]))\n",
    "print('Q3:          {:8.2f}\\n'.format(quartiles_adj[2]))\n",
    "print('Actual Minimum Response Time: {:8.2f}'.format(min_rspn_tm_adj))\n",
    "print('Actual Maximum Response Time: {:8.2f}'.format(max_rspn_tm_adj))"
   ]
  },
  {
   "cell_type": "code",
   "execution_count": 19,
   "metadata": {},
   "outputs": [
    {
     "name": "stdout",
     "output_type": "stream",
     "text": [
      "SUMMARY STATISTICS: Survivals (w/o Orig. Outliers)\n",
      "Total Number of Observations:  7119779\n",
      "\n",
      "Mean:          453.86\n",
      "Std. Error:      0.08\n",
      "\n",
      "Q1:            303.00\n",
      "Median (Q2):   419.00\n",
      "Q3:            571.00\n",
      "\n",
      "Actual Minimum Response Time:     1.00\n",
      "Actual Maximum Response Time:  1097.00\n"
     ]
    }
   ],
   "source": [
    "rspn_tm_S = rspn_tm_adj[rspn_tm_adj.fatality==False] # survivals\n",
    "\n",
    "# Calculate summary statistics for survivals\n",
    "mean_rspn_tm_adj = np.mean(rspn_tm_S.response_time)\n",
    "SE_rspn_tm_adj = stats.sem(rspn_tm_S.response_time)\n",
    "quartiles_adj = np.percentile(rspn_tm_S.response_time,[25,50,75])\n",
    "median_rspn_tm_adj = np.median(rspn_tm_S.response_time)\n",
    "min_rspn_tm_adj, max_rspn_tm_adj = rspn_tm_S.response_time.min(),rspn_tm_S.response_time.max()\n",
    "\n",
    "# Output statistics\n",
    "print('SUMMARY STATISTICS: Survivals (w/o Orig. Outliers)')\n",
    "print('Total Number of Observations: {:8}\\n'.format(len(rspn_tm_S.response_time)))\n",
    "print('Mean:        {:8.2f}'.format(mean_rspn_tm_adj))\n",
    "print('Std. Error:  {:8.2f}\\n'.format(SE_rspn_tm_adj))\n",
    "print('Q1:          {:8.2f}'.format(quartiles_adj[0]))\n",
    "print('Median (Q2): {:8.2f}'.format(quartiles_adj[1]))\n",
    "print('Q3:          {:8.2f}\\n'.format(quartiles_adj[2]))\n",
    "print('Actual Minimum Response Time: {:8.2f}'.format(min_rspn_tm_adj))\n",
    "print('Actual Maximum Response Time: {:8.2f}'.format(max_rspn_tm_adj))"
   ]
  },
  {
   "cell_type": "code",
   "execution_count": 20,
   "metadata": {},
   "outputs": [
    {
     "data": {
      "image/png": "[encoded data removed]",
      "text/plain": [
       "<Figure size 864x576 with 1 Axes>"
      ]
     },
     "metadata": {
      "needs_background": "light"
     },
     "output_type": "display_data"
    }
   ],
   "source": [
    "# Visualize distribution of response times for outcome groups on same axis\n",
    "fig3B, ax3B = plt.subplots(figsize=(12,8))\n",
    "ax3B = sb.distplot(rspn_tm_S.response_time,color='#3CB371',label='Survivals')\n",
    "ax3B = sb.distplot(rspn_tm_F.response_time,color='#8b0000',label='Fatalities')\n",
    "ax3B.set_title('Response Times by Outcome Group (w/o Orig. Outliers)',size=24)\n",
    "ax3B.set_xlabel('Time (seconds)',size=16)\n",
    "ax3B.set_xticks([100*i for i in range(12)])\n",
    "ax3B.set_ylabel('PDF',size=16)\n",
    "\n",
    "plt.legend()\n",
    "#plt.savefig('../graphics/CP1-02_fig03B.png') # Export plot to PNG file\n",
    "plt.show()"
   ]
  },
  {
   "cell_type": "markdown",
   "metadata": {},
   "source": [
    "The distributions of the two samples appear similar, but further analysis is required to determine whether or not there is any significant difference between the two groups. [TOC](#TOC)"
   ]
  },
  {
   "cell_type": "markdown",
   "metadata": {},
   "source": [
    "<a id=\"Sec03C\"></a>\n",
    "#### 3C: Frequentist Test (Two-Sample) "
   ]
  },
  {
   "cell_type": "markdown",
   "metadata": {},
   "source": [
    "Is there a significant difference between the response times of incidents that result in fatalities and those where patients survive? Assuming a 95% confidence interval, the null hypothesis will only be rejected if the resulting test statistic is more than 1.96 standard deviations away from the mean.\n",
    "\n",
    "+ $\\mu_{rspn,F}$ = Mean response time for incidents resulting in fatality\n",
    "\n",
    "+ $\\mu_{rspn,S}$ = Mean response time for incidents resulting in survival\n",
    "<br>"
   ]
  },
  {
   "cell_type": "markdown",
   "metadata": {},
   "source": [
    "HYPOTHESIS TEST\n",
    "\n",
    "$H_0$: $\\mu_{rspn,F}$ = $\\mu_{rspn,S}$ (the mean response times are the same)\n",
    "\n",
    "$H_A$: $\\mu_{rspn,F}$ $\\neq$ $\\mu_{rspn,S}$ (the mean response times are different)"
   ]
  },
  {
   "cell_type": "code",
   "execution_count": 21,
   "metadata": {},
   "outputs": [
    {
     "name": "stdout",
     "output_type": "stream",
     "text": [
      "Mean Response Time for Fatalities:    462.1077\n",
      "Standard Error - Fatalities:            0.4105\n",
      "95% Confidence Interval - Fatalities: 461.3032 to 462.9122\n",
      "\n",
      "Mean Response Time for Survivals:     453.8587\n",
      "Standard Error - Survivals:             0.0778\n",
      "95% Confidence Interval - Survivals:  453.7061 to 454.0112\n"
     ]
    }
   ],
   "source": [
    "# Calculate means for samples\n",
    "mu_F = np.mean(rspn_tm_F.response_time)\n",
    "mu_S = np.mean(rspn_tm_S.response_time)\n",
    "\n",
    "# Calculate standard error (se) for each sample\n",
    "se_F = stats.sem(rspn_tm_F.response_time)\n",
    "se_S = stats.sem(rspn_tm_S.response_time)\n",
    "\n",
    "# Calculate the margin of error (me) for a 95% C.I. per sample\n",
    "me_F = 1.96*se_F\n",
    "me_S = 1.96*se_S\n",
    "\n",
    "# Calculate the upper and lower bounds for each 95% C.I.\n",
    "upper_F = mu_F + me_F\n",
    "lower_F = mu_F - me_F\n",
    "upper_S = mu_S + me_S\n",
    "lower_S = mu_S - me_S\n",
    "\n",
    "# Print results\n",
    "print('Mean Response Time for Fatalities:    {:8.4f}'.format(mu_F))\n",
    "print('Standard Error - Fatalities:          {:8.4f}'.format(se_F))\n",
    "print('95% Confidence Interval - Fatalities: {:8.4f} to {:8.4f}'.format(lower_F,upper_F))\n",
    "print()\n",
    "print('Mean Response Time for Survivals:     {:8.4f}'.format(mu_S))\n",
    "print('Standard Error - Survivals:           {:8.4f}'.format(se_S))\n",
    "print('95% Confidence Interval - Survivals:  {:8.4f} to {:8.4f}'.format(lower_S,upper_S))"
   ]
  },
  {
   "cell_type": "code",
   "execution_count": 22,
   "metadata": {},
   "outputs": [
    {
     "name": "stdout",
     "output_type": "stream",
     "text": [
      "t-statistic: 19.7450\n",
      "p-value:      0.0000\n"
     ]
    }
   ],
   "source": [
    "# t-test\n",
    "t_stat, t_pval = stats.ttest_ind(rspn_tm_F.response_time,\n",
    "                                 rspn_tm_S.response_time,\n",
    "                                 equal_var=False)\n",
    "print('t-statistic: {:7.4f}'.format(abs(t_stat)))\n",
    "print('p-value:     {:7.4f}'.format(t_pval))"
   ]
  },
  {
   "cell_type": "code",
   "execution_count": 23,
   "metadata": {},
   "outputs": [
    {
     "name": "stdout",
     "output_type": "stream",
     "text": [
      "z-statistic: 20.9547\n",
      "p-value:      0.0000\n"
     ]
    }
   ],
   "source": [
    "# z-test\n",
    "z_stat,z_pval = ztest(rspn_tm_F.response_time,\n",
    "                      rspn_tm_S.response_time,\n",
    "                      alternative='two-sided')\n",
    "print('z-statistic: {:7.4f}'.format(abs(z_stat)))\n",
    "print('p-value:     {:7.4f}'.format(z_pval))"
   ]
  },
  {
   "cell_type": "markdown",
   "metadata": {},
   "source": [
    "The resulting *p*-value from the frequentists test above is well below the threshold of $\\alpha = 0.05$. Thus, the null hypothesis must be rejected in favour of the alternative hypothesis at the 95% confidence interval. The mean response times for fatalities and survivals are statistically different."
   ]
  }
 ],
 "metadata": {
  "kernelspec": {
   "display_name": "Python 3",
   "language": "python",
   "name": "python3"
  },
  "language_info": {
   "codemirror_mode": {
    "name": "ipython",
    "version": 3
   },
   "file_extension": ".py",
   "mimetype": "text/x-python",
   "name": "python",
   "nbconvert_exporter": "python",
   "pygments_lexer": "ipython3",
   "version": "3.6.8"
  }
 },
 "nbformat": 4,
 "nbformat_minor": 2
}
