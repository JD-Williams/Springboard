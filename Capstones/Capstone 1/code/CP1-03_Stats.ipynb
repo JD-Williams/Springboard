{
 "cells": [
  {
   "cell_type": "markdown",
   "metadata": {},
   "source": [
    "# Capstone 1: Inferential Statistics"
   ]
  },
  {
   "cell_type": "markdown",
   "metadata": {},
   "source": [
    "<a id='TOC'></a>\n",
    "**Table of Contents**\n",
    "1. Preliminaries\n",
    "    1. [Target Hypotheses](#Sec01A)\n",
    "    2. [Import EMS Incident Data](#Sec01B)\n",
    "2. Initial vs. Final Severity Level\n",
    "    1. [](#Sec02A)\n",
    "    2. [](#Sec02B)\n",
    "    3. [](#Sec02C)\n",
    "    4. [](#Sec02D)\n",
    "    5. [](#Sec02E)\n",
    "3. Section 3\n",
    "    1. [](#Sec03A)\n",
    "    2. [](#Sec03B) \n",
    "4. Section 4\n",
    "    1. [](#Sec04A)\n",
    "    2. [](#Sec04B)\n",
    "5. Section 5\n",
    "    1. [](#Sec05A)\n",
    "    2. [](#Sec05B)"
   ]
  },
  {
   "cell_type": "markdown",
   "metadata": {},
   "source": [
    "The goal of this project is to develop machine learning models that predict whether or not the outcome of an EMS incident will result in a fatality. This is a supervised, binary classification problem. Analyses will be performed on a collection of nearly 8 million records of documented incidents, which span the six year period from January 2013 through December 2018, and appropriate predictive models will be developed to achieve the primary objective. This dataset is robust and contains several feature variables, of mixed data types, that describe both various attributes of each incident as well as the responsive action taken by the FDNY. All of the aforementioned factors affect an individual’s survivability once a response is initiated.\n",
    "\n",
    "Various inferential statistics techniques were performed on the dataset prior to the development of any ML algorithms. One purpose of this process was to examine the correlations between all variables within the dataset in greater depth than preliminary EDA permits. In addition, any feature variable that has a significant impact on the target variable (`fatality`) will also be revealed through these measures."
   ]
  },
  {
   "cell_type": "markdown",
   "metadata": {},
   "source": [
    "## 1. PRELIMINARIES"
   ]
  },
  {
   "cell_type": "markdown",
   "metadata": {},
   "source": [
    "<a id='Sec01A'></a>\n",
    "#### 1A: Target hypotheses"
   ]
  },
  {
   "cell_type": "markdown",
   "metadata": {},
   "source": [
    "Null Hypotheses to be Tested:\n",
    "+ _Are the initial and final severity levels for EMS incidents the same?_ Is there a strong correlation between the incident assessment determined from caller-provided information (`initial_severity_level`) and the assessment made by response personnel on-the-scene (`final_severity_level`)?\n",
    "+ _Are survival rates for life-threatening and non-life-threatening severity levels the same?_ Is there a significant difference between the survival rates for incidents that are assigned a _life threatening_ severity level (Code 1, 2, and 3) and those that are deemed non-life threatening (Code 4, 5, 6, 7, and 8)?\n",
    "+ _Are the response times for fatalities and survivals the same?_ Is there a significant difference between the response times of incidents that result in fatalities and those where patients survive?\n",
    "+ _Are fatality rates highest during summer months?_ Is there a significant difference between the fatality rates for incidents that occur during the summer months (June, July, August) and those that occur during the rest of the year?\n",
    "\n",
    "[TOC](#TOC)"
   ]
  },
  {
   "cell_type": "markdown",
   "metadata": {},
   "source": [
    "<a id='Sec01B'></a>\n",
    "#### 1B: Import EMS incident data"
   ]
  },
  {
   "cell_type": "code",
   "execution_count": 2,
   "metadata": {},
   "outputs": [],
   "source": [
    "# Import packages and modules\n",
    "import pandas as pd\n",
    "import numpy as np\n",
    "\n",
    "from scipy import stats\n",
    "# from statsmodels.stats.weightstats import ztest, ttest_ind\n",
    "\n",
    "import matplotlib.pyplot as plt\n",
    "import seaborn as sns\n",
    "%matplotlib inline\n",
    "sns.set(style='whitegrid', palette='pastel', color_codes=True)\n",
    "\n",
    "from itertools import combinations\n",
    "\n",
    "import pandas_profiling"
   ]
  },
  {
   "cell_type": "code",
   "execution_count": 3,
   "metadata": {},
   "outputs": [],
   "source": [
    "# Assign file path\n",
    "file_path = '../data/clean_EMS_data.csv'\n",
    "\n",
    "# Read CSV data into a Pandas DataFrame\n",
    "datetime_cols = ['incident_datetime',\n",
    "                 'first_assignment_datetime',\n",
    "                 'first_activation_datetime',\n",
    "                 'first_on_scene_datetime',\n",
    "                 'first_to_hosp_datetime',\n",
    "                 'first_hosp_arrival_datetime',\n",
    "                 'incident_close_datetime']\n",
    "\n",
    "df = pd.read_csv(file_path,compression='gzip',\n",
    "                 parse_dates=datetime_cols,\n",
    "                 index_col=['incident_datetime'])"
   ]
  },
  {
   "cell_type": "code",
   "execution_count": 4,
   "metadata": {},
   "outputs": [
    {
     "name": "stdout",
     "output_type": "stream",
     "text": [
      "<class 'pandas.core.frame.DataFrame'>\n",
      "DatetimeIndex: 7988028 entries, 2013-01-01 00:00:04 to 2018-12-19 00:19:39\n",
      "Data columns (total 28 columns):\n",
      "year                           int64\n",
      "month                          int64\n",
      "hour                           int64\n",
      "weekday                        object\n",
      "borough                        object\n",
      "zipcode                        float64\n",
      "latitude                       float64\n",
      "longitude                      float64\n",
      "aland_sqmi                     float64\n",
      "awater_sqmi                    float64\n",
      "initial_call_type              object\n",
      "initial_severity_level         int64\n",
      "final_call_type                object\n",
      "final_severity_level           int64\n",
      "held_indicator                 object\n",
      "first_assignment_datetime      datetime64[ns]\n",
      "incident_dispatch_area         object\n",
      "dispatch_time                  int64\n",
      "first_activation_datetime      datetime64[ns]\n",
      "first_on_scene_datetime        datetime64[ns]\n",
      "travel_time                    float64\n",
      "response_time                  float64\n",
      "first_to_hosp_datetime         datetime64[ns]\n",
      "first_hosp_arrival_datetime    datetime64[ns]\n",
      "incident_close_datetime        datetime64[ns]\n",
      "incident_disposition_code      float64\n",
      "life_threatening               bool\n",
      "fatality                       bool\n",
      "dtypes: bool(2), datetime64[ns](6), float64(8), int64(6), object(6)\n",
      "memory usage: 4.1 GB\n"
     ]
    }
   ],
   "source": [
    "df.info(verbose=True,memory_usage='deep')"
   ]
  },
  {
   "cell_type": "code",
   "execution_count": 5,
   "metadata": {},
   "outputs": [],
   "source": [
    "# Change dtypes\n",
    "df['weekday'] = df.borough.astype('category')\n",
    "df['borough'] = df.borough.astype('category')\n",
    "df['zipcode'] = df.zipcode.astype('category')\n",
    "df['held_indicator'] = df.held_indicator.astype('category')\n",
    "df['incident_dispatch_area'] = df.incident_dispatch_area.astype('category')\n",
    "df['incident_disposition_code'] = df.incident_disposition_code.astype('category')"
   ]
  },
  {
   "cell_type": "code",
   "execution_count": 6,
   "metadata": {},
   "outputs": [
    {
     "name": "stdout",
     "output_type": "stream",
     "text": [
      "<class 'pandas.core.frame.DataFrame'>\n",
      "DatetimeIndex: 7988028 entries, 2013-01-01 00:00:04 to 2018-12-19 00:19:39\n",
      "Data columns (total 28 columns):\n",
      "year                           int64\n",
      "month                          int64\n",
      "hour                           int64\n",
      "weekday                        category\n",
      "borough                        category\n",
      "zipcode                        category\n",
      "latitude                       float64\n",
      "longitude                      float64\n",
      "aland_sqmi                     float64\n",
      "awater_sqmi                    float64\n",
      "initial_call_type              object\n",
      "initial_severity_level         int64\n",
      "final_call_type                object\n",
      "final_severity_level           int64\n",
      "held_indicator                 category\n",
      "first_assignment_datetime      datetime64[ns]\n",
      "incident_dispatch_area         category\n",
      "dispatch_time                  int64\n",
      "first_activation_datetime      datetime64[ns]\n",
      "first_on_scene_datetime        datetime64[ns]\n",
      "travel_time                    float64\n",
      "response_time                  float64\n",
      "first_to_hosp_datetime         datetime64[ns]\n",
      "first_hosp_arrival_datetime    datetime64[ns]\n",
      "incident_close_datetime        datetime64[ns]\n",
      "incident_disposition_code      category\n",
      "life_threatening               bool\n",
      "fatality                       bool\n",
      "dtypes: bool(2), category(6), datetime64[ns](6), float64(6), int64(6), object(2)\n",
      "memory usage: 2.1 GB\n"
     ]
    }
   ],
   "source": [
    "df.info(verbose=True,memory_usage='deep')"
   ]
  },
  {
   "cell_type": "markdown",
   "metadata": {},
   "source": [
    "[TOC](#TOC)"
   ]
  },
  {
   "cell_type": "markdown",
   "metadata": {},
   "source": [
    "*** "
   ]
  },
  {
   "cell_type": "markdown",
   "metadata": {},
   "source": [
    "## 2. INITIAL VS FINAL SEVERITY LEVEL"
   ]
  },
  {
   "cell_type": "markdown",
   "metadata": {},
   "source": [
    "<a id='Sec02A'></a>\n",
    "#### 2A: Calculate correlation coefficent between initial and final severity levels"
   ]
  },
  {
   "cell_type": "markdown",
   "metadata": {},
   "source": [
    "To what extent does the incident assessment determined from caller-provided information (initial_severity_level_code) correlate with the assessment made by response personnel on-the-scene (final_severity_level_code)?"
   ]
  },
  {
   "cell_type": "code",
   "execution_count": 23,
   "metadata": {},
   "outputs": [
    {
     "data": {
      "text/html": [
       "<div>\n",
       "<style scoped>\n",
       "    .dataframe tbody tr th:only-of-type {\n",
       "        vertical-align: middle;\n",
       "    }\n",
       "\n",
       "    .dataframe tbody tr th {\n",
       "        vertical-align: top;\n",
       "    }\n",
       "\n",
       "    .dataframe thead th {\n",
       "        text-align: right;\n",
       "    }\n",
       "</style>\n",
       "<table border=\"1\" class=\"dataframe\">\n",
       "  <thead>\n",
       "    <tr style=\"text-align: right;\">\n",
       "      <th></th>\n",
       "      <th>initial_severity_level</th>\n",
       "      <th>final_severity_level</th>\n",
       "      <th>fatality</th>\n",
       "    </tr>\n",
       "    <tr>\n",
       "      <th>incident_datetime</th>\n",
       "      <th></th>\n",
       "      <th></th>\n",
       "      <th></th>\n",
       "    </tr>\n",
       "  </thead>\n",
       "  <tbody>\n",
       "    <tr>\n",
       "      <td>2013-01-01 00:00:04</td>\n",
       "      <td>4</td>\n",
       "      <td>4</td>\n",
       "      <td>False</td>\n",
       "    </tr>\n",
       "    <tr>\n",
       "      <td>2013-01-01 00:05:52</td>\n",
       "      <td>7</td>\n",
       "      <td>7</td>\n",
       "      <td>False</td>\n",
       "    </tr>\n",
       "    <tr>\n",
       "      <td>2013-01-01 00:20:37</td>\n",
       "      <td>6</td>\n",
       "      <td>6</td>\n",
       "      <td>False</td>\n",
       "    </tr>\n",
       "    <tr>\n",
       "      <td>2013-01-01 01:53:11</td>\n",
       "      <td>4</td>\n",
       "      <td>4</td>\n",
       "      <td>False</td>\n",
       "    </tr>\n",
       "    <tr>\n",
       "      <td>2013-01-01 01:54:28</td>\n",
       "      <td>4</td>\n",
       "      <td>4</td>\n",
       "      <td>False</td>\n",
       "    </tr>\n",
       "  </tbody>\n",
       "</table>\n",
       "</div>"
      ],
      "text/plain": [
       "                     initial_severity_level  final_severity_level  fatality\n",
       "incident_datetime                                                          \n",
       "2013-01-01 00:00:04                       4                     4     False\n",
       "2013-01-01 00:05:52                       7                     7     False\n",
       "2013-01-01 00:20:37                       6                     6     False\n",
       "2013-01-01 01:53:11                       4                     4     False\n",
       "2013-01-01 01:54:28                       4                     4     False"
      ]
     },
     "execution_count": 23,
     "metadata": {},
     "output_type": "execute_result"
    }
   ],
   "source": [
    "# Subset all incidents by initial and final severity levels\n",
    "severity_levels = df[['initial_severity_level','final_severity_level','fatality']]\n",
    "severity_levels.head()"
   ]
  },
  {
   "cell_type": "code",
   "execution_count": 24,
   "metadata": {},
   "outputs": [
    {
     "data": {
      "text/plain": [
       "array([[1.        , 0.93524575],\n",
       "       [0.93524575, 1.        ]])"
      ]
     },
     "execution_count": 24,
     "metadata": {},
     "output_type": "execute_result"
    }
   ],
   "source": [
    "# Determine correlation between 'initial_severity_level' and 'final_severity_level'\n",
    "x=np.array(severity_levels['initial_severity_level'])\n",
    "y=np.array(severity_levels['final_severity_level'])\n",
    "\n",
    "np.corrcoef(x,y)"
   ]
  },
  {
   "cell_type": "markdown",
   "metadata": {},
   "source": [
    "There is a strong, linear correlation between the initial_severity_level and the final_severity_level. This indicates that the determination for the severity of an incident made by dispatch--based on the information obtained by a caller--aligns closely to the determination made by on-scene EMS crew.\n",
    "\n",
    "For this reason, the initial_severity_level will be omitted from any analyses used to develop ML algorithms given that it is a redundant predictor variable."
   ]
  },
  {
   "cell_type": "code",
   "execution_count": 33,
   "metadata": {},
   "outputs": [
    {
     "data": {
      "text/plain": [
       "<seaborn.axisgrid.JointGrid at 0x1533edb70>"
      ]
     },
     "execution_count": 33,
     "metadata": {},
     "output_type": "execute_result"
    },
    {
     "data": {
      "text/plain": [
       "<Figure size 1080x1080 with 0 Axes>"
      ]
     },
     "metadata": {},
     "output_type": "display_data"
    },
    {
     "data": {
      "image/png": "[encoded data removed]",
      "text/plain": [
       "<Figure size 432x432 with 3 Axes>"
      ]
     },
     "metadata": {
      "needs_background": "light"
     },
     "output_type": "display_data"
    }
   ],
   "source": [
    "# Visualize spread of data\n",
    "plt.figure(figsize=(15,15))\n",
    "ax2A = sns.jointplot(x,y,kind='hex',color='#FFA500')\n",
    "#ax2A.set_size_inches(5,5)\n",
    "ax2A.set_axis_labels('Initial Severity Level', 'Final Severity Level')"
   ]
  },
  {
   "cell_type": "markdown",
   "metadata": {},
   "source": [
    " "
   ]
  },
  {
   "cell_type": "code",
   "execution_count": null,
   "metadata": {},
   "outputs": [],
   "source": []
  },
  {
   "cell_type": "markdown",
   "metadata": {},
   "source": [
    " "
   ]
  },
  {
   "cell_type": "code",
   "execution_count": 16,
   "metadata": {},
   "outputs": [],
   "source": [
    "response_times = np.array(df['response_time'][df.response_time<1400])"
   ]
  },
  {
   "cell_type": "code",
   "execution_count": 17,
   "metadata": {},
   "outputs": [
    {
     "name": "stdout",
     "output_type": "stream",
     "text": [
      "Median:    426.0000\n",
      "Mean:      477.6980\n",
      "Std. Dev.: 244.8923\n"
     ]
    }
   ],
   "source": [
    "# Calculate statistics\n",
    "median = np.median(response_times)\n",
    "mean = np.mean(response_times)\n",
    "std = np.std(response_times)\n",
    "\n",
    "# Print results\n",
    "print('Median:    {:.4f}'.format(median))\n",
    "print('Mean:      {0:.4f}\\nStd. Dev.: {1:.4f}'.format(mean,std))"
   ]
  },
  {
   "cell_type": "markdown",
   "metadata": {},
   "source": [
    "#### Part B: Examine a histogram of the distribution"
   ]
  },
  {
   "cell_type": "markdown",
   "metadata": {},
   "source": [
    "Based on prior exploratory data analysis, the maximum total response  time--excluding outliers--is ##. Therefore, the PDF will be examined for all response times less than this value."
   ]
  },
  {
   "cell_type": "code",
   "execution_count": 18,
   "metadata": {},
   "outputs": [
    {
     "data": {
      "text/plain": [
       "Text(0.5, 1.0, 'Distribution of Response Times')"
      ]
     },
     "execution_count": 18,
     "metadata": {},
     "output_type": "execute_result"
    },
    {
     "data": {
      "image/png": "[encoded data removed]",
      "text/plain": [
       "<Figure size 1080x720 with 1 Axes>"
      ]
     },
     "metadata": {},
     "output_type": "display_data"
    }
   ],
   "source": [
    "# Inspect PDF for distribution of total response times\n",
    "fig1A,ax1A = plt.subplots(figsize=(15,10))\n",
    "\n",
    "ax1A = sns.distplot(df['response_time'][df.response_time<1400])\n",
    "ax1A.set_xlabel('Response Time (seconds)',size=16)\n",
    "ax1A.set_ylabel('PDF',size=16)\n",
    "ax1A.set_title('Distribution of Response Times',size=24)"
   ]
  },
  {
   "cell_type": "markdown",
   "metadata": {},
   "source": [
    "#### Part C: Perform a Goodness-of-Fit test"
   ]
  },
  {
   "cell_type": "code",
   "execution_count": null,
   "metadata": {},
   "outputs": [],
   "source": []
  },
  {
   "cell_type": "code",
   "execution_count": null,
   "metadata": {},
   "outputs": [],
   "source": [
    "\"\"\"\n",
    "    PERFORM SEVERAL DISTRIBUTION TEST IN ORDER TO IDENTIFY THE \n",
    "    BEST FIT FOR THE DATASET. USE THE FOLLOWING MEASURES:\n",
    "    * Anderson-Darling statistic (AD)\n",
    "    * P-value\n",
    "    * LRT P\n",
    "\"\"\""
   ]
  },
  {
   "cell_type": "code",
   "execution_count": 1,
   "metadata": {},
   "outputs": [],
   "source": [
    "# Perform KS Test on response times\n",
    "stats.kstest(response_times,'gamma',())"
   ]
  },
  {
   "cell_type": "code",
   "execution_count": null,
   "metadata": {},
   "outputs": [],
   "source": []
  },
  {
   "cell_type": "code",
   "execution_count": null,
   "metadata": {},
   "outputs": [],
   "source": []
  },
  {
   "cell_type": "markdown",
   "metadata": {},
   "source": [
    "#### Part C: Fit a theoretical __ distribution to the actual distribution of response times"
   ]
  },
  {
   "cell_type": "code",
   "execution_count": 26,
   "metadata": {},
   "outputs": [
    {
     "name": "stdout",
     "output_type": "stream",
     "text": [
      "Mean of Response Time:  561.0861 \n",
      "StDev of Response Time: 547.4898\n"
     ]
    }
   ],
   "source": [
    "# Calculate mean and standard deviation of the response times\n",
    "mean = np.mean(df['total_response_time'])\n",
    "std = np.std(df['total_response_time'])\n",
    "\n",
    "# Print results\n",
    "print('Mean of Response Time:  {:.4f} \\nStDev of Response Time: {:.4f}'.format(mean,std))"
   ]
  },
  {
   "cell_type": "code",
   "execution_count": null,
   "metadata": {},
   "outputs": [],
   "source": [
    "# Create a sample of n = 1000000 [distribution type] distributed random temperatures\n",
    "sample = np.random.normal(mean, std, 1000000)\n",
    "\n",
    "# Define empirical cumulative distribution function (ecdf)\n",
    "def ecdf(data):\n",
    "    \"\"\"Compute ECDF for a one-dimensional array of measurements.\"\"\"\n",
    "    \n",
    "    # Number of data points: n\n",
    "    n = len(data)\n",
    "\n",
    "    # x-data for the ECDF: x\n",
    "    x = np.sort(data)\n",
    "\n",
    "    # y-data for the ECDF: y\n",
    "    y = np.arange(1, n+1) / n\n",
    "\n",
    "    return x, y"
   ]
  },
  {
   "cell_type": "code",
   "execution_count": null,
   "metadata": {},
   "outputs": [],
   "source": [
    "# Compute the ecdf for the temperature data and the sample\n",
    "x,y = ecdf(df['total_response_time'])\n",
    "x_theor,y_theor = ecdf(sample)\n",
    "\n",
    "# Plot and show the actual and theoretical distribution of temperatures\n",
    "fig1B,ax1B = plt.subplots(figsize=(15,10))\n",
    "_ = plt.plot(x_theor,y_theor)\n",
    "_ = plt.plot(x,y,marker='.',linestyle='none')\n",
    "_ = plt.xlabel('Response Time (seconds)')\n",
    "_ = plt.ylabel('CDF')\n",
    "_ = plt.title('Theoretical vs Actual Distribution of Response Times')\n",
    "_ = plt.legend(['Theoretical CDF','Sample CDF'])\n",
    "plt.show()"
   ]
  },
  {
   "cell_type": "code",
   "execution_count": null,
   "metadata": {},
   "outputs": [],
   "source": []
  },
  {
   "cell_type": "code",
   "execution_count": null,
   "metadata": {},
   "outputs": [],
   "source": []
  },
  {
   "cell_type": "code",
   "execution_count": null,
   "metadata": {},
   "outputs": [],
   "source": []
  },
  {
   "cell_type": "code",
   "execution_count": null,
   "metadata": {},
   "outputs": [],
   "source": []
  },
  {
   "cell_type": "code",
   "execution_count": null,
   "metadata": {},
   "outputs": [],
   "source": []
  },
  {
   "cell_type": "code",
   "execution_count": null,
   "metadata": {},
   "outputs": [],
   "source": []
  },
  {
   "cell_type": "markdown",
   "metadata": {},
   "source": [
    "### Pandas Profiling Report"
   ]
  },
  {
   "cell_type": "code",
   "execution_count": null,
   "metadata": {},
   "outputs": [],
   "source": [
    "df.profile_report(style={'full_width':True})"
   ]
  },
  {
   "cell_type": "code",
   "execution_count": 14,
   "metadata": {},
   "outputs": [],
   "source": [
    "#df.describe()"
   ]
  },
  {
   "cell_type": "markdown",
   "metadata": {},
   "source": [
    "### Incident Outcomes"
   ]
  },
  {
   "cell_type": "code",
   "execution_count": 6,
   "metadata": {},
   "outputs": [],
   "source": [
    "# Subset all incidents based on outcome\n",
    "fatalities = df[df.fatality==True]\n",
    "survivals = df[df.fatality==False]"
   ]
  },
  {
   "cell_type": "code",
   "execution_count": 7,
   "metadata": {},
   "outputs": [
    {
     "name": "stdout",
     "output_type": "stream",
     "text": [
      "Number of Fatalities: 338684\n",
      "Number of Survivals:  7649344\n"
     ]
    }
   ],
   "source": [
    "n_fat = len(fatalities) # number of fatalities\n",
    "n_sur = len(survivals) # number of survivals\n",
    "print('Number of Fatalities: {}\\nNumber of Survivals:  {}'.format(n_fat,n_sur))"
   ]
  },
  {
   "cell_type": "markdown",
   "metadata": {},
   "source": [
    " "
   ]
  },
  {
   "cell_type": "markdown",
   "metadata": {},
   "source": [
    "### Analysis: Total Response Times ($t_R$)"
   ]
  },
  {
   "cell_type": "markdown",
   "metadata": {},
   "source": [
    "Assuming a 95% confidence interval, the null hypothesis will only be rejected if the resulting test statistic is more than 1.96 standard deviations away from the mean."
   ]
  },
  {
   "cell_type": "markdown",
   "metadata": {},
   "source": [
    "$\\mu_R,_F$ = Avg. dispatch time for incidents resulting in fatalities\n",
    "\n",
    "$\\mu_R,_S$ = Avg. dispatch time for incidents resulting in survival\n",
    "\n",
    "\n",
    "\n",
    "#### Hypothesis Test\n",
    "\n",
    "$H_0$: $\\mu_R,_F$ = $\\mu_R,_S$ (the mean dispatch times are the same)\n",
    "\n",
    "$H_A$: $\\mu_R,_F$ $\\neq$ $\\mu_R,_S$ (the mean dispatch times are different)"
   ]
  },
  {
   "cell_type": "code",
   "execution_count": 10,
   "metadata": {},
   "outputs": [
    {
     "data": {
      "text/plain": [
       "Text(0.5, 1.0, 'Distribution of Response Times (Survivals)')"
      ]
     },
     "execution_count": 10,
     "metadata": {},
     "output_type": "execute_result"
    },
    {
     "data": {
      "image/png": "[encoded data removed]",
      "text/plain": [
       "<Figure size 1080x720 with 2 Axes>"
      ]
     },
     "metadata": {
      "needs_background": "light"
     },
     "output_type": "display_data"
    }
   ],
   "source": [
    "# Inspect PDF for distribution of dispatch times \n",
    "fig1,(ax1A,ax1B) = plt.subplots(1,2,figsize=(15,10),constrained_layout=True)\n",
    "\n",
    "ax1A = sns.distplot(fatalities['total_response_time'][fatalities['total_response_time']<1400])\n",
    "ax1A.set_xlabel('Response Times (seconds)')\n",
    "ax1A.set_ylabel('PDF')\n",
    "ax1A.set_title('Distribution of Response Times (Fatalities)')\n",
    "\n",
    "ax1B = sns.distplot(survivals['total_response_time'][survivals['total_response_time']<1400])\n",
    "ax1B.set_xlabel('Response Times (seconds)')\n",
    "ax1B.set_ylabel('PDF')\n",
    "ax1B.set_title('Distribution of Response Times (Survivals)')"
   ]
  },
  {
   "cell_type": "code",
   "execution_count": 13,
   "metadata": {},
   "outputs": [
    {
     "data": {
      "image/png": "[encoded data removed]",
      "text/plain": [
       "<Figure size 432x288 with 1 Axes>"
      ]
     },
     "metadata": {
      "needs_background": "light"
     },
     "output_type": "display_data"
    }
   ],
   "source": [
    "# Inspect PDF for distribution of dispatch times \n",
    "sns.distplot(survivals['total_response_time'][survivals['total_response_time']<1400])\n",
    "_ = plt.xlabel('Response Times (seconds)')\n",
    "_ = plt.ylabel('PDF')\n",
    "_ = plt.title('Distribution of Response Times (Survivals)')"
   ]
  },
  {
   "cell_type": "code",
   "execution_count": 54,
   "metadata": {},
   "outputs": [
    {
     "name": "stdout",
     "output_type": "stream",
     "text": [
      "Avg. Dispatch Time or Fatalities: 196.69020936648843\n",
      "Avg. Dispatch Times for Survivals: 79.09842896162398\n"
     ]
    }
   ],
   "source": [
    "# Calculate avg. response times for fatalities and survivals\n",
    "mu_resp_f = np.mean(fatalities['total_response_time'])\n",
    "mu_resp_s = np.mean(survivals['total_response_time'])\n",
    "\n",
    "print('Avg. Response Time for Fatalities: {}\\nAvg. Response Time for Survivals: {}'.format(mu_resp_f,mu_resp_s))\n",
    "# \n",
    "#t_stat, t_pval = stats.ttest_ind(mu_resp_f,mu_resp_s,equal_var=False)\n",
    "#print('z-statistic: {:4f}\\np-value: {}'.format(abs(t_stat),t_pval))"
   ]
  },
  {
   "cell_type": "code",
   "execution_count": 12,
   "metadata": {},
   "outputs": [],
   "source": [
    "#survivals.head()"
   ]
  },
  {
   "cell_type": "markdown",
   "metadata": {},
   "source": [
    " "
   ]
  },
  {
   "cell_type": "markdown",
   "metadata": {},
   "source": [
    "### Analysis: Response Times ($t_r$)"
   ]
  },
  {
   "cell_type": "code",
   "execution_count": 48,
   "metadata": {},
   "outputs": [
    {
     "data": {
      "image/png": "[encoded data removed]",
      "text/plain": [
       "<Figure size 432x288 with 1 Axes>"
      ]
     },
     "metadata": {},
     "output_type": "display_data"
    }
   ],
   "source": [
    "# Inspect PDF for distribution of response times \n",
    "sns.distplot(fatalities['incident_response_seconds_qy'][fatalities['incident_response_seconds_qy']<2400])\n",
    "_ = plt.xlabel('Response Times (seconds)')\n",
    "_ = plt.ylabel('PDF')\n",
    "_ = plt.title('Distribution of Response Times')"
   ]
  },
  {
   "cell_type": "code",
   "execution_count": 49,
   "metadata": {},
   "outputs": [
    {
     "data": {
      "image/png": "[encoded data removed]",
      "text/plain": [
       "<Figure size 432x288 with 1 Axes>"
      ]
     },
     "metadata": {},
     "output_type": "display_data"
    }
   ],
   "source": [
    "# Inspect PDF for distribution of response times \n",
    "sns.distplot(survivals['incident_response_seconds_qy'][survivals['incident_response_seconds_qy']<2400])\n",
    "_ = plt.xlabel('Response Times (seconds)')\n",
    "_ = plt.ylabel('PDF')\n",
    "_ = plt.title('Distribution of Response Times')"
   ]
  },
  {
   "cell_type": "code",
   "execution_count": null,
   "metadata": {},
   "outputs": [],
   "source": []
  },
  {
   "cell_type": "markdown",
   "metadata": {},
   "source": []
  },
  {
   "cell_type": "markdown",
   "metadata": {},
   "source": [
    "### Feature Selection"
   ]
  },
  {
   "cell_type": "code",
   "execution_count": 8,
   "metadata": {},
   "outputs": [],
   "source": [
    "arr = df.values\n",
    "X = arr[:,0:21]\n",
    "y = arr[:,21]"
   ]
  },
  {
   "cell_type": "code",
   "execution_count": 7,
   "metadata": {},
   "outputs": [],
   "source": [
    "from sklearn.feature_selection import SelectKBest\n",
    "from sklearn.feature_selection import chi2"
   ]
  },
  {
   "cell_type": "code",
   "execution_count": null,
   "metadata": {},
   "outputs": [],
   "source": [
    "# Feature extraction\n",
    "test = SelectKBest(score_func=chi2, k=4)\n",
    "fit = test.fit(X, y)\n",
    "\n",
    "# Summarize scores\n",
    "np.set_printoptions(precision=3)\n",
    "print(fit.scores_)\n",
    "\n",
    "features = fit.transform(X)\n",
    "# Summarize selected features\n",
    "print(features[0:5,:])"
   ]
  },
  {
   "cell_type": "markdown",
   "metadata": {},
   "source": []
  },
  {
   "cell_type": "code",
   "execution_count": 8,
   "metadata": {},
   "outputs": [
    {
     "data": {
      "text/plain": [
       "False    7808348\n",
       "True      348606\n",
       "Name: fatality, dtype: int64"
      ]
     },
     "execution_count": 8,
     "metadata": {},
     "output_type": "execute_result"
    }
   ],
   "source": [
    "df.fatality.value_counts()"
   ]
  },
  {
   "cell_type": "code",
   "execution_count": 5,
   "metadata": {},
   "outputs": [],
   "source": [
    "cols = ['final_call_type','final_severity_level_code','incident_datetime',\n",
    "        'first_assignment_datetime','valid_dispatch_rspns_time_indc',\n",
    "        'dispatch_response_seconds_qy','valid_incident_rspns_time_indc',\n",
    "        'incident_response_seconds_qy','incident_travel_tm_seconds_qy']"
   ]
  },
  {
   "cell_type": "code",
   "execution_count": 78,
   "metadata": {},
   "outputs": [],
   "source": [
    "#duration_err = df[np.array(df.dispatch_response_seconds_qy)+np.array(df.incident_travel_tm_seconds_qy)!=np.array(df.incident_response_seconds_qy)]\n",
    "#duration_err.shape"
   ]
  },
  {
   "cell_type": "code",
   "execution_count": 9,
   "metadata": {},
   "outputs": [],
   "source": [
    "# Create samples for fatalities and survivals\n",
    "fatalities = df[df.fatality==True]\n",
    "survivals = df[df.fatality==False]"
   ]
  },
  {
   "cell_type": "markdown",
   "metadata": {},
   "source": [
    "### Analysis of Dispatch Response Times"
   ]
  },
  {
   "cell_type": "code",
   "execution_count": 35,
   "metadata": {
    "collapsed": true
   },
   "outputs": [
    {
     "data": {
      "text/html": [
       "<div>\n",
       "<style scoped>\n",
       "    .dataframe tbody tr th:only-of-type {\n",
       "        vertical-align: middle;\n",
       "    }\n",
       "\n",
       "    .dataframe tbody tr th {\n",
       "        vertical-align: top;\n",
       "    }\n",
       "\n",
       "    .dataframe thead th {\n",
       "        text-align: right;\n",
       "    }\n",
       "</style>\n",
       "<table border=\"1\" class=\"dataframe\">\n",
       "  <thead>\n",
       "    <tr style=\"text-align: right;\">\n",
       "      <th></th>\n",
       "      <th>incident_datetime</th>\n",
       "      <th>borough</th>\n",
       "      <th>zipcode</th>\n",
       "      <th>incident_dispatch_area</th>\n",
       "      <th>held_indicator</th>\n",
       "      <th>initial_call_type</th>\n",
       "      <th>initial_severity_level_code</th>\n",
       "      <th>final_call_type</th>\n",
       "      <th>final_severity_level_code</th>\n",
       "      <th>first_assignment_datetime</th>\n",
       "      <th>...</th>\n",
       "      <th>first_activation_datetime</th>\n",
       "      <th>first_on_scene_datetime</th>\n",
       "      <th>valid_incident_rspns_time_indc</th>\n",
       "      <th>incident_response_seconds_qy</th>\n",
       "      <th>incident_travel_tm_seconds_qy</th>\n",
       "      <th>first_to_hosp_datetime</th>\n",
       "      <th>first_hosp_arrival_datetime</th>\n",
       "      <th>incident_close_datetime</th>\n",
       "      <th>incident_disposition_code</th>\n",
       "      <th>fatality</th>\n",
       "    </tr>\n",
       "  </thead>\n",
       "  <tbody>\n",
       "    <tr>\n",
       "      <th>2</th>\n",
       "      <td>2013-01-01 00:01:04</td>\n",
       "      <td>QUEENS</td>\n",
       "      <td>11418.0</td>\n",
       "      <td>Q3</td>\n",
       "      <td>N</td>\n",
       "      <td>ARREST</td>\n",
       "      <td>1</td>\n",
       "      <td>ARREST</td>\n",
       "      <td>1</td>\n",
       "      <td>2013-01-01 00:01:33</td>\n",
       "      <td>...</td>\n",
       "      <td>2013-01-01 00:01:58</td>\n",
       "      <td>2013-01-01 00:08:13</td>\n",
       "      <td>Y</td>\n",
       "      <td>429.0</td>\n",
       "      <td>400.0</td>\n",
       "      <td>NaT</td>\n",
       "      <td>NaT</td>\n",
       "      <td>2013-01-01 00:38:05</td>\n",
       "      <td>83.0</td>\n",
       "      <td>True</td>\n",
       "    </tr>\n",
       "    <tr>\n",
       "      <th>35</th>\n",
       "      <td>2013-01-01 00:10:18</td>\n",
       "      <td>MANHATTAN</td>\n",
       "      <td>10017.0</td>\n",
       "      <td>M3</td>\n",
       "      <td>Y</td>\n",
       "      <td>DRUG</td>\n",
       "      <td>4</td>\n",
       "      <td>DRUG</td>\n",
       "      <td>4</td>\n",
       "      <td>2013-01-01 00:19:10</td>\n",
       "      <td>...</td>\n",
       "      <td>2013-01-01 00:19:34</td>\n",
       "      <td>2013-01-01 00:29:04</td>\n",
       "      <td>Y</td>\n",
       "      <td>1126.0</td>\n",
       "      <td>594.0</td>\n",
       "      <td>NaT</td>\n",
       "      <td>NaT</td>\n",
       "      <td>2013-01-01 00:43:50</td>\n",
       "      <td>96.0</td>\n",
       "      <td>True</td>\n",
       "    </tr>\n",
       "    <tr>\n",
       "      <th>36</th>\n",
       "      <td>2013-01-01 00:10:27</td>\n",
       "      <td>MANHATTAN</td>\n",
       "      <td>10013.0</td>\n",
       "      <td>M1</td>\n",
       "      <td>Y</td>\n",
       "      <td>INJURY</td>\n",
       "      <td>5</td>\n",
       "      <td>INJURY</td>\n",
       "      <td>5</td>\n",
       "      <td>2013-01-01 00:17:28</td>\n",
       "      <td>...</td>\n",
       "      <td>2013-01-01 00:17:36</td>\n",
       "      <td>2013-01-01 00:27:31</td>\n",
       "      <td>Y</td>\n",
       "      <td>1024.0</td>\n",
       "      <td>603.0</td>\n",
       "      <td>NaT</td>\n",
       "      <td>NaT</td>\n",
       "      <td>2013-01-01 00:35:19</td>\n",
       "      <td>96.0</td>\n",
       "      <td>True</td>\n",
       "    </tr>\n",
       "    <tr>\n",
       "      <th>53</th>\n",
       "      <td>2013-01-01 00:17:02</td>\n",
       "      <td>BRONX</td>\n",
       "      <td>10453.0</td>\n",
       "      <td>B2</td>\n",
       "      <td>N</td>\n",
       "      <td>JUMPDN</td>\n",
       "      <td>2</td>\n",
       "      <td>JUMPDN</td>\n",
       "      <td>2</td>\n",
       "      <td>2013-01-01 00:17:27</td>\n",
       "      <td>...</td>\n",
       "      <td>2013-01-01 00:17:43</td>\n",
       "      <td>2013-01-01 00:21:54</td>\n",
       "      <td>Y</td>\n",
       "      <td>292.0</td>\n",
       "      <td>267.0</td>\n",
       "      <td>NaT</td>\n",
       "      <td>NaT</td>\n",
       "      <td>2013-01-01 01:13:30</td>\n",
       "      <td>83.0</td>\n",
       "      <td>True</td>\n",
       "    </tr>\n",
       "    <tr>\n",
       "      <th>59</th>\n",
       "      <td>2013-01-01 00:18:15</td>\n",
       "      <td>MANHATTAN</td>\n",
       "      <td>10020.0</td>\n",
       "      <td>M3</td>\n",
       "      <td>Y</td>\n",
       "      <td>DRUG</td>\n",
       "      <td>4</td>\n",
       "      <td>DRUG</td>\n",
       "      <td>4</td>\n",
       "      <td>2013-01-01 01:12:31</td>\n",
       "      <td>...</td>\n",
       "      <td>2013-01-01 01:12:43</td>\n",
       "      <td>2013-01-01 01:30:24</td>\n",
       "      <td>Y</td>\n",
       "      <td>4329.0</td>\n",
       "      <td>1073.0</td>\n",
       "      <td>NaT</td>\n",
       "      <td>NaT</td>\n",
       "      <td>2013-01-01 01:47:17</td>\n",
       "      <td>96.0</td>\n",
       "      <td>True</td>\n",
       "    </tr>\n",
       "  </tbody>\n",
       "</table>\n",
       "<p>5 rows × 22 columns</p>\n",
       "</div>"
      ],
      "text/plain": [
       "     incident_datetime    borough  zipcode incident_dispatch_area  \\\n",
       "2  2013-01-01 00:01:04     QUEENS  11418.0                     Q3   \n",
       "35 2013-01-01 00:10:18  MANHATTAN  10017.0                     M3   \n",
       "36 2013-01-01 00:10:27  MANHATTAN  10013.0                     M1   \n",
       "53 2013-01-01 00:17:02      BRONX  10453.0                     B2   \n",
       "59 2013-01-01 00:18:15  MANHATTAN  10020.0                     M3   \n",
       "\n",
       "   held_indicator initial_call_type  initial_severity_level_code  \\\n",
       "2               N            ARREST                            1   \n",
       "35              Y              DRUG                            4   \n",
       "36              Y            INJURY                            5   \n",
       "53              N            JUMPDN                            2   \n",
       "59              Y              DRUG                            4   \n",
       "\n",
       "   final_call_type  final_severity_level_code first_assignment_datetime  \\\n",
       "2           ARREST                          1       2013-01-01 00:01:33   \n",
       "35            DRUG                          4       2013-01-01 00:19:10   \n",
       "36          INJURY                          5       2013-01-01 00:17:28   \n",
       "53          JUMPDN                          2       2013-01-01 00:17:27   \n",
       "59            DRUG                          4       2013-01-01 01:12:31   \n",
       "\n",
       "     ...    first_activation_datetime  first_on_scene_datetime  \\\n",
       "2    ...          2013-01-01 00:01:58      2013-01-01 00:08:13   \n",
       "35   ...          2013-01-01 00:19:34      2013-01-01 00:29:04   \n",
       "36   ...          2013-01-01 00:17:36      2013-01-01 00:27:31   \n",
       "53   ...          2013-01-01 00:17:43      2013-01-01 00:21:54   \n",
       "59   ...          2013-01-01 01:12:43      2013-01-01 01:30:24   \n",
       "\n",
       "   valid_incident_rspns_time_indc incident_response_seconds_qy  \\\n",
       "2                               Y                        429.0   \n",
       "35                              Y                       1126.0   \n",
       "36                              Y                       1024.0   \n",
       "53                              Y                        292.0   \n",
       "59                              Y                       4329.0   \n",
       "\n",
       "   incident_travel_tm_seconds_qy  first_to_hosp_datetime  \\\n",
       "2                          400.0                     NaT   \n",
       "35                         594.0                     NaT   \n",
       "36                         603.0                     NaT   \n",
       "53                         267.0                     NaT   \n",
       "59                        1073.0                     NaT   \n",
       "\n",
       "    first_hosp_arrival_datetime incident_close_datetime  \\\n",
       "2                           NaT     2013-01-01 00:38:05   \n",
       "35                          NaT     2013-01-01 00:43:50   \n",
       "36                          NaT     2013-01-01 00:35:19   \n",
       "53                          NaT     2013-01-01 01:13:30   \n",
       "59                          NaT     2013-01-01 01:47:17   \n",
       "\n",
       "   incident_disposition_code fatality  \n",
       "2                       83.0     True  \n",
       "35                      96.0     True  \n",
       "36                      96.0     True  \n",
       "53                      83.0     True  \n",
       "59                      96.0     True  \n",
       "\n",
       "[5 rows x 22 columns]"
      ]
     },
     "execution_count": 35,
     "metadata": {},
     "output_type": "execute_result"
    }
   ],
   "source": [
    "fatalities.head()"
   ]
  },
  {
   "cell_type": "code",
   "execution_count": 37,
   "metadata": {},
   "outputs": [
    {
     "data": {
      "image/png": "[encoded data removed]",
      "text/plain": [
       "<matplotlib.figure.Figure at 0x1b1d633278>"
      ]
     },
     "metadata": {},
     "output_type": "display_data"
    },
    {
     "data": {
      "image/png": "[encoded data removed]",
      "text/plain": [
       "<matplotlib.figure.Figure at 0x1a25e1ae80>"
      ]
     },
     "metadata": {},
     "output_type": "display_data"
    }
   ],
   "source": [
    "# Create metrics for dispatch times per sample\n",
    "f_disp = fatalities.dispatch_response_seconds_qy # dispatch time for fatalities\n",
    "s_disp = survivals.dispatch_response_seconds_qy # dispatch time for survivals\n",
    "\n",
    "# Calculate mean duration per sample\n",
    "mu_f_disp = np.mean(f_disp)\n",
    "mu_s_disp = np.mean(s_disp)\n",
    "\n",
    "# Calculate standard errors (se) for each duration per sample\n",
    "se_f_disp = stats.sem(f_disp)\n",
    "se_s_disp = stats.sem(s_disp)\n",
    "\n",
    "# Calculate margin of error (me) at 95% CI for each duration per sample\n",
    "me_f_disp = 1.96*se_f_disp\n",
    "me_s_disp = 1.96*se_f_disp\n",
    "\n",
    "\n",
    "ax1 = sns.boxplot(f_disp)\n",
    "\n",
    "plt.show()\n",
    "\n",
    "ax2 = sns.boxplot(s_disp)\n",
    "plt.show()"
   ]
  },
  {
   "cell_type": "code",
   "execution_count": 18,
   "metadata": {},
   "outputs": [],
   "source": [
    "# Create metrics for durations per sample\n",
    "f_trav = fatalities.incident_travel_tm_seconds_qy # travel time for fatalities\n",
    "f_resp = fatalities.incident_response_seconds_qy # response time for fatalities\n",
    "s_trav = survivals.incident_travel_tm_seconds_qy # travel time for survivals\n",
    "s_resp = survivals.incident_response_seconds_qy # response time for survivals\n",
    "\n",
    "# Calculate mean for duration per sample\n",
    "mu_f_trav = np.mean(f_trav)\n",
    "mu_f_resp = np.mean(f_resp)\n",
    "mu_s_trav = np.mean(s_trav)\n",
    "mu_s_resp = np.mean(s_resp)\n",
    "\n",
    "# Calculate standard errors (se) for each duration per sample\n",
    "se_f_trav = stats.sem(f_trav)\n",
    "se_f_resp = stats.sem(f_resp)\n",
    "se_s_trav = stats.sem(s_trav)\n",
    "se_s_resp = stats.sem(s_resp)\n",
    "\n",
    "# Calculate margin of error (me) at 95% CI for each duration per sample\n",
    "me_f_trav = 1.96*se_f_disp\n",
    "me_f_resp = 1.96*se_f_disp\n",
    "me_s_trav = 1.96*se_f_disp\n",
    "me_s_resp = 1.96*se_f_disp"
   ]
  },
  {
   "cell_type": "code",
   "execution_count": 28,
   "metadata": {
    "collapsed": true
   },
   "outputs": [
    {
     "data": {
      "text/plain": [
       "13       11249\n",
       "14       10935\n",
       "12       10918\n",
       "15       10646\n",
       "11       10432\n",
       "16       10389\n",
       "17       10055\n",
       "10        9628\n",
       "18        9621\n",
       "19        9171\n",
       "20        8662\n",
       "21        8162\n",
       "9         8115\n",
       "22        7597\n",
       "23        7296\n",
       "24        6802\n",
       "25        6536\n",
       "8         6447\n",
       "26        6036\n",
       "27        5730\n",
       "28        5317\n",
       "29        5243\n",
       "7         4976\n",
       "30        4765\n",
       "31        4557\n",
       "32        4302\n",
       "33        3994\n",
       "34        3778\n",
       "35        3684\n",
       "6         3683\n",
       "         ...  \n",
       "10943        1\n",
       "8409         1\n",
       "7742         1\n",
       "3960         1\n",
       "7097         1\n",
       "5499         1\n",
       "7998         1\n",
       "5951         1\n",
       "13439        1\n",
       "10456        1\n",
       "8159         1\n",
       "7290         1\n",
       "7903         1\n",
       "12856        1\n",
       "3771         1\n",
       "3805         1\n",
       "13244        1\n",
       "4924         1\n",
       "9085         1\n",
       "3549         1\n",
       "4987         1\n",
       "5304         1\n",
       "4731         1\n",
       "5436         1\n",
       "9432         1\n",
       "8317         1\n",
       "22068        1\n",
       "17974        1\n",
       "5692         1\n",
       "4769         1\n",
       "Name: dispatch_response_seconds_qy, Length: 6141, dtype: int64"
      ]
     },
     "execution_count": 28,
     "metadata": {},
     "output_type": "execute_result"
    }
   ],
   "source": [
    "f_disp.value_counts()"
   ]
  },
  {
   "cell_type": "code",
   "execution_count": 20,
   "metadata": {},
   "outputs": [
    {
     "data": {
      "text/plain": [
       "<matplotlib.axes._subplots.AxesSubplot at 0x1ad8914a20>"
      ]
     },
     "execution_count": 20,
     "metadata": {},
     "output_type": "execute_result"
    },
    {
     "data": {
      "image/png": "[encoded data removed]",
      "text/plain": [
       "<matplotlib.figure.Figure at 0x1a510f33c8>"
      ]
     },
     "metadata": {},
     "output_type": "display_data"
    }
   ],
   "source": [
    "# Distribution of Dispatch Response Times\n",
    "sns.distplot(f_disp)"
   ]
  },
  {
   "cell_type": "code",
   "execution_count": null,
   "metadata": {},
   "outputs": [],
   "source": []
  },
  {
   "cell_type": "markdown",
   "metadata": {},
   "source": []
  },
  {
   "cell_type": "markdown",
   "metadata": {},
   "source": [
    "### Preliminary Fatality Statistics"
   ]
  },
  {
   "cell_type": "code",
   "execution_count": 15,
   "metadata": {},
   "outputs": [
    {
     "ename": "AttributeError",
     "evalue": "'DataFrame' object has no attribute 'incident_response_seconds_qy'",
     "output_type": "error",
     "traceback": [
      "\u001b[0;31m---------------------------------------------------------------------------\u001b[0m",
      "\u001b[0;31mAttributeError\u001b[0m                            Traceback (most recent call last)",
      "\u001b[0;32m<ipython-input-15-57d945e987eb>\u001b[0m in \u001b[0;36m<module>\u001b[0;34m()\u001b[0m\n\u001b[1;32m      3\u001b[0m \u001b[0mn_fatalities\u001b[0m \u001b[0;34m=\u001b[0m \u001b[0mfatalities\u001b[0m\u001b[0;34m.\u001b[0m\u001b[0mfatality\u001b[0m\u001b[0;34m.\u001b[0m\u001b[0mcount\u001b[0m\u001b[0;34m(\u001b[0m\u001b[0;34m)\u001b[0m \u001b[0;31m# total number of fatalities\u001b[0m\u001b[0;34m\u001b[0m\u001b[0;34m\u001b[0m\u001b[0m\n\u001b[1;32m      4\u001b[0m \u001b[0;34m\u001b[0m\u001b[0m\n\u001b[0;32m----> 5\u001b[0;31m \u001b[0mf_resp\u001b[0m \u001b[0;34m=\u001b[0m \u001b[0mfatalities\u001b[0m\u001b[0;34m.\u001b[0m\u001b[0mincident_response_seconds_qy\u001b[0m \u001b[0;31m# response time for fatalities\u001b[0m\u001b[0;34m\u001b[0m\u001b[0;34m\u001b[0m\u001b[0m\n\u001b[0m\u001b[1;32m      6\u001b[0m \u001b[0mf_trav\u001b[0m \u001b[0;34m=\u001b[0m \u001b[0mfatalities\u001b[0m\u001b[0;34m.\u001b[0m\u001b[0mincident_travel_tm_seconds_qy\u001b[0m \u001b[0;31m# travel time for fatalities\u001b[0m\u001b[0;34m\u001b[0m\u001b[0;34m\u001b[0m\u001b[0m\n\u001b[1;32m      7\u001b[0m \u001b[0;34m\u001b[0m\u001b[0m\n",
      "\u001b[0;32m/anaconda3/lib/python3.6/site-packages/pandas/core/generic.py\u001b[0m in \u001b[0;36m__getattr__\u001b[0;34m(self, name)\u001b[0m\n\u001b[1;32m   5177\u001b[0m             \u001b[0;32mif\u001b[0m \u001b[0mself\u001b[0m\u001b[0;34m.\u001b[0m\u001b[0m_info_axis\u001b[0m\u001b[0;34m.\u001b[0m\u001b[0m_can_hold_identifiers_and_holds_name\u001b[0m\u001b[0;34m(\u001b[0m\u001b[0mname\u001b[0m\u001b[0;34m)\u001b[0m\u001b[0;34m:\u001b[0m\u001b[0;34m\u001b[0m\u001b[0;34m\u001b[0m\u001b[0m\n\u001b[1;32m   5178\u001b[0m                 \u001b[0;32mreturn\u001b[0m \u001b[0mself\u001b[0m\u001b[0;34m[\u001b[0m\u001b[0mname\u001b[0m\u001b[0;34m]\u001b[0m\u001b[0;34m\u001b[0m\u001b[0;34m\u001b[0m\u001b[0m\n\u001b[0;32m-> 5179\u001b[0;31m             \u001b[0;32mreturn\u001b[0m \u001b[0mobject\u001b[0m\u001b[0;34m.\u001b[0m\u001b[0m__getattribute__\u001b[0m\u001b[0;34m(\u001b[0m\u001b[0mself\u001b[0m\u001b[0;34m,\u001b[0m \u001b[0mname\u001b[0m\u001b[0;34m)\u001b[0m\u001b[0;34m\u001b[0m\u001b[0;34m\u001b[0m\u001b[0m\n\u001b[0m\u001b[1;32m   5180\u001b[0m \u001b[0;34m\u001b[0m\u001b[0m\n\u001b[1;32m   5181\u001b[0m     \u001b[0;32mdef\u001b[0m \u001b[0m__setattr__\u001b[0m\u001b[0;34m(\u001b[0m\u001b[0mself\u001b[0m\u001b[0;34m,\u001b[0m \u001b[0mname\u001b[0m\u001b[0;34m,\u001b[0m \u001b[0mvalue\u001b[0m\u001b[0;34m)\u001b[0m\u001b[0;34m:\u001b[0m\u001b[0;34m\u001b[0m\u001b[0;34m\u001b[0m\u001b[0m\n",
      "\u001b[0;31mAttributeError\u001b[0m: 'DataFrame' object has no attribute 'incident_response_seconds_qy'"
     ]
    }
   ],
   "source": [
    "fatalities = df[df.fatality==True] # subset of incidents that result in death\n",
    "\n",
    "n_fatalities = fatalities.fatality.count() # total number of fatalities\n",
    "\n",
    "f_resp = fatalities.incident_response_seconds_qy # response time for fatalities\n",
    "f_trav = fatalities.incident_travel_tm_seconds_qy # travel time for fatalities\n",
    "\n",
    "# Response time statistics for fatalities\n",
    "mu_f_resp = np.mean(f_resp)\n",
    "sig_f_resp = np.std(f_resp)\n",
    "\n",
    "\n",
    "# Output results\n",
    "print('Fatality Statistics'.upper())\n",
    "print('Total Fatalities (2013-2018): {}'.format(n_fatalities))\n",
    "print(\"Mean Response Time (seconds): {:.3f}\\nStDev of Response Time (seconds): {:.3f}\"\\\n",
    "      .format(mu_f_resp,sig_f_resp))"
   ]
  },
  {
   "cell_type": "code",
   "execution_count": 76,
   "metadata": {},
   "outputs": [
    {
     "data": {
      "text/html": [
       "<div>\n",
       "<style scoped>\n",
       "    .dataframe tbody tr th:only-of-type {\n",
       "        vertical-align: middle;\n",
       "    }\n",
       "\n",
       "    .dataframe tbody tr th {\n",
       "        vertical-align: top;\n",
       "    }\n",
       "\n",
       "    .dataframe thead th {\n",
       "        text-align: right;\n",
       "    }\n",
       "</style>\n",
       "<table border=\"1\" class=\"dataframe\">\n",
       "  <thead>\n",
       "    <tr style=\"text-align: right;\">\n",
       "      <th></th>\n",
       "      <th>final_call_type</th>\n",
       "      <th>final_severity_level_code</th>\n",
       "      <th>first_assignment_datetime</th>\n",
       "      <th>valid_dispatch_rspns_time_indc</th>\n",
       "      <th>dispatch_response_seconds_qy</th>\n",
       "      <th>valid_incident_rspns_time_indc</th>\n",
       "      <th>incident_response_seconds_qy</th>\n",
       "      <th>incident_travel_tm_seconds_qy</th>\n",
       "    </tr>\n",
       "  </thead>\n",
       "  <tbody>\n",
       "    <tr>\n",
       "      <th>2</th>\n",
       "      <td>ARREST</td>\n",
       "      <td>1</td>\n",
       "      <td>2013-01-01 00:01:33</td>\n",
       "      <td>Y</td>\n",
       "      <td>29</td>\n",
       "      <td>Y</td>\n",
       "      <td>429.0</td>\n",
       "      <td>400.0</td>\n",
       "    </tr>\n",
       "    <tr>\n",
       "      <th>35</th>\n",
       "      <td>DRUG</td>\n",
       "      <td>4</td>\n",
       "      <td>2013-01-01 00:19:10</td>\n",
       "      <td>Y</td>\n",
       "      <td>532</td>\n",
       "      <td>Y</td>\n",
       "      <td>1126.0</td>\n",
       "      <td>594.0</td>\n",
       "    </tr>\n",
       "    <tr>\n",
       "      <th>36</th>\n",
       "      <td>INJURY</td>\n",
       "      <td>5</td>\n",
       "      <td>2013-01-01 00:17:28</td>\n",
       "      <td>Y</td>\n",
       "      <td>421</td>\n",
       "      <td>Y</td>\n",
       "      <td>1024.0</td>\n",
       "      <td>603.0</td>\n",
       "    </tr>\n",
       "    <tr>\n",
       "      <th>53</th>\n",
       "      <td>JUMPDN</td>\n",
       "      <td>2</td>\n",
       "      <td>2013-01-01 00:17:27</td>\n",
       "      <td>Y</td>\n",
       "      <td>25</td>\n",
       "      <td>Y</td>\n",
       "      <td>292.0</td>\n",
       "      <td>267.0</td>\n",
       "    </tr>\n",
       "    <tr>\n",
       "      <th>59</th>\n",
       "      <td>DRUG</td>\n",
       "      <td>4</td>\n",
       "      <td>2013-01-01 01:12:31</td>\n",
       "      <td>Y</td>\n",
       "      <td>3256</td>\n",
       "      <td>Y</td>\n",
       "      <td>4329.0</td>\n",
       "      <td>1073.0</td>\n",
       "    </tr>\n",
       "  </tbody>\n",
       "</table>\n",
       "</div>"
      ],
      "text/plain": [
       "   final_call_type  final_severity_level_code first_assignment_datetime  \\\n",
       "2           ARREST                          1       2013-01-01 00:01:33   \n",
       "35            DRUG                          4       2013-01-01 00:19:10   \n",
       "36          INJURY                          5       2013-01-01 00:17:28   \n",
       "53          JUMPDN                          2       2013-01-01 00:17:27   \n",
       "59            DRUG                          4       2013-01-01 01:12:31   \n",
       "\n",
       "   valid_dispatch_rspns_time_indc  dispatch_response_seconds_qy  \\\n",
       "2                               Y                            29   \n",
       "35                              Y                           532   \n",
       "36                              Y                           421   \n",
       "53                              Y                            25   \n",
       "59                              Y                          3256   \n",
       "\n",
       "   valid_incident_rspns_time_indc  incident_response_seconds_qy  \\\n",
       "2                               Y                         429.0   \n",
       "35                              Y                        1126.0   \n",
       "36                              Y                        1024.0   \n",
       "53                              Y                         292.0   \n",
       "59                              Y                        4329.0   \n",
       "\n",
       "    incident_travel_tm_seconds_qy  \n",
       "2                           400.0  \n",
       "35                          594.0  \n",
       "36                          603.0  \n",
       "53                          267.0  \n",
       "59                         1073.0  "
      ]
     },
     "execution_count": 76,
     "metadata": {},
     "output_type": "execute_result"
    }
   ],
   "source": [
    "#fatalities.head()\n",
    "fatalities[cols].head()"
   ]
  },
  {
   "cell_type": "markdown",
   "metadata": {},
   "source": [
    "### Preliminary Survival Statistics"
   ]
  },
  {
   "cell_type": "code",
   "execution_count": 42,
   "metadata": {},
   "outputs": [
    {
     "name": "stdout",
     "output_type": "stream",
     "text": [
      "SURVIVAL STATISTICS\n",
      "Number of Survivals: 7878863\n",
      "Mean Response Time (seconds): 548.530\n",
      "StDev of Response Time (seconds): 515.115\n",
      "Mean Travel Time (seconds): 470.160\n",
      "StDev of Travel Time (seconds): 343.392\n"
     ]
    }
   ],
   "source": [
    "survivals = df[df.fatality==False] # subset of incidents that result in survival\n",
    "\n",
    "n_survivals = survivals.fatality.count() # number of survivals\n",
    "\n",
    "s_resp = survivals.incident_response_seconds_qy # response time for survivals\n",
    "s_trav = survivals.incident_travel_tm_seconds_qy # travel time for survivals\n",
    "\n",
    "# Response time statistics for survivals\n",
    "mu_s_resp = np.mean(s_resp)\n",
    "sig_s_resp = np.std(s_resp)\n",
    "\n",
    "# Travel time statistics for survivals\n",
    "mu_s_trav = np.mean(s_trav)\n",
    "sig_s_trav = np.std(s_trav)\n",
    "\n",
    "# Output results\n",
    "print('Survival Statistics'.upper())\n",
    "print('Number of Survivals: {}'.format(n_survivals))\n",
    "print(\"Mean Response Time (seconds): {:.3f}\\nStDev of Response Time (seconds): {:.3f}\"\\\n",
    "      .format(mu_s_resp,sig_s_resp))\n",
    "print(\"Mean Travel Time (seconds): {:.3f}\\nStDev of Travel Time (seconds): {:.3f}\"\\\n",
    "      .format(mu_s_trav,sig_s_trav))"
   ]
  },
  {
   "cell_type": "markdown",
   "metadata": {},
   "source": []
  },
  {
   "cell_type": "markdown",
   "metadata": {},
   "source": []
  },
  {
   "cell_type": "code",
   "execution_count": null,
   "metadata": {},
   "outputs": [],
   "source": [
    "pandas_profiling.ProfileReport(df)"
   ]
  },
  {
   "cell_type": "markdown",
   "metadata": {},
   "source": [
    " "
   ]
  },
  {
   "cell_type": "markdown",
   "metadata": {},
   "source": [
    "### Separate Feature and Target Variables"
   ]
  },
  {
   "cell_type": "code",
   "execution_count": 5,
   "metadata": {},
   "outputs": [],
   "source": [
    "# Numeric Variables\n",
    "num_vars = []\n",
    "\n",
    "# Categorical Variables\n",
    "cat_vars = df[['borough',\n",
    "            'zipcode',\n",
    "            'incident_dispatch_area',\n",
    "            'initial_severity_level_code',\n",
    "            'final_severity_level_code',\n",
    "            'initial_call_type',\n",
    "            'final_call_type',\n",
    "            'held_indicator']]"
   ]
  },
  {
   "cell_type": "code",
   "execution_count": 1,
   "metadata": {},
   "outputs": [
    {
     "ename": "NameError",
     "evalue": "name 'np' is not defined",
     "output_type": "error",
     "traceback": [
      "\u001b[0;31m---------------------------------------------------------------------------\u001b[0m",
      "\u001b[0;31mNameError\u001b[0m                                 Traceback (most recent call last)",
      "\u001b[0;32m<ipython-input-1-be8a75e84d7d>\u001b[0m in \u001b[0;36m<module>\u001b[0;34m()\u001b[0m\n\u001b[0;32m----> 1\u001b[0;31m \u001b[0my_var\u001b[0m \u001b[0;34m=\u001b[0m \u001b[0mnp\u001b[0m\u001b[0;34m.\u001b[0m\u001b[0marray\u001b[0m\u001b[0;34m(\u001b[0m\u001b[0mdf\u001b[0m\u001b[0;34m[\u001b[0m\u001b[0;34m'fatality'\u001b[0m\u001b[0;34m]\u001b[0m\u001b[0;34m)\u001b[0m\u001b[0;34m\u001b[0m\u001b[0;34m\u001b[0m\u001b[0m\n\u001b[0m",
      "\u001b[0;31mNameError\u001b[0m: name 'np' is not defined"
     ]
    }
   ],
   "source": [
    "y_var = np.array(df['fatality'])"
   ]
  },
  {
   "cell_type": "code",
   "execution_count": 19,
   "metadata": {},
   "outputs": [],
   "source": [
    "X_vars = []"
   ]
  },
  {
   "cell_type": "code",
   "execution_count": 8,
   "metadata": {},
   "outputs": [],
   "source": [
    "# Create df for each categorical variable\n",
    "borough = df.borough\n",
    "zipcode = df.zipcode\n",
    "dispatch_area = df.incident_dispatch_area\n",
    "initial_severity = df.initial_severity_level_code\n",
    "final_severity = df.final_severity_level_code\n",
    "initial_call_type = df.initial_call_type\n",
    "final_call_type = df.final_call_type\n",
    "held = df.held_indicator"
   ]
  },
  {
   "cell_type": "code",
   "execution_count": null,
   "metadata": {},
   "outputs": [],
   "source": []
  },
  {
   "cell_type": "code",
   "execution_count": null,
   "metadata": {},
   "outputs": [],
   "source": []
  },
  {
   "cell_type": "markdown",
   "metadata": {},
   "source": [
    "### Spearman's Rank Correlation"
   ]
  },
  {
   "cell_type": "markdown",
   "metadata": {},
   "source": [
    "Identify the correlation between each possible pair of feature variables."
   ]
  },
  {
   "cell_type": "code",
   "execution_count": null,
   "metadata": {},
   "outputs": [],
   "source": [
    "#spear_coef, p_val = stats.spearmanr(borough,zipcode)"
   ]
  },
  {
   "cell_type": "code",
   "execution_count": 8,
   "metadata": {},
   "outputs": [
    {
     "name": "stderr",
     "output_type": "stream",
     "text": [
      "/anaconda3/lib/python3.6/site-packages/numpy/core/_methods.py:29: RuntimeWarning: invalid value encountered in reduce\n",
      "  return umr_minimum(a, axis, None, out, keepdims)\n",
      "/anaconda3/lib/python3.6/site-packages/numpy/core/_methods.py:26: RuntimeWarning: invalid value encountered in reduce\n",
      "  return umr_maximum(a, axis, None, out, keepdims)\n"
     ]
    },
    {
     "ename": "ValueError",
     "evalue": "max must be larger than min in range parameter.",
     "output_type": "error",
     "traceback": [
      "\u001b[0;31m---------------------------------------------------------------------------\u001b[0m",
      "\u001b[0;31mValueError\u001b[0m                                Traceback (most recent call last)",
      "\u001b[0;32m<ipython-input-8-1a6fe1782b2f>\u001b[0m in \u001b[0;36m<module>\u001b[0;34m()\u001b[0m\n\u001b[0;32m----> 1\u001b[0;31m \u001b[0msns\u001b[0m\u001b[0;34m.\u001b[0m\u001b[0mpairplot\u001b[0m\u001b[0;34m(\u001b[0m\u001b[0mdf\u001b[0m\u001b[0;34m)\u001b[0m\u001b[0;34m\u001b[0m\u001b[0;34m\u001b[0m\u001b[0m\n\u001b[0m",
      "\u001b[0;32m/anaconda3/lib/python3.6/site-packages/seaborn/axisgrid.py\u001b[0m in \u001b[0;36mpairplot\u001b[0;34m(data, hue, hue_order, palette, vars, x_vars, y_vars, kind, diag_kind, markers, height, aspect, dropna, plot_kws, diag_kws, grid_kws, size)\u001b[0m\n\u001b[1;32m   2105\u001b[0m     \u001b[0;32mif\u001b[0m \u001b[0mgrid\u001b[0m\u001b[0;34m.\u001b[0m\u001b[0msquare_grid\u001b[0m\u001b[0;34m:\u001b[0m\u001b[0;34m\u001b[0m\u001b[0;34m\u001b[0m\u001b[0m\n\u001b[1;32m   2106\u001b[0m         \u001b[0;32mif\u001b[0m \u001b[0mdiag_kind\u001b[0m \u001b[0;34m==\u001b[0m \u001b[0;34m\"hist\"\u001b[0m\u001b[0;34m:\u001b[0m\u001b[0;34m\u001b[0m\u001b[0;34m\u001b[0m\u001b[0m\n\u001b[0;32m-> 2107\u001b[0;31m             \u001b[0mgrid\u001b[0m\u001b[0;34m.\u001b[0m\u001b[0mmap_diag\u001b[0m\u001b[0;34m(\u001b[0m\u001b[0mplt\u001b[0m\u001b[0;34m.\u001b[0m\u001b[0mhist\u001b[0m\u001b[0;34m,\u001b[0m \u001b[0;34m**\u001b[0m\u001b[0mdiag_kws\u001b[0m\u001b[0;34m)\u001b[0m\u001b[0;34m\u001b[0m\u001b[0;34m\u001b[0m\u001b[0m\n\u001b[0m\u001b[1;32m   2108\u001b[0m         \u001b[0;32melif\u001b[0m \u001b[0mdiag_kind\u001b[0m \u001b[0;34m==\u001b[0m \u001b[0;34m\"kde\"\u001b[0m\u001b[0;34m:\u001b[0m\u001b[0;34m\u001b[0m\u001b[0;34m\u001b[0m\u001b[0m\n\u001b[1;32m   2109\u001b[0m             \u001b[0mdiag_kws\u001b[0m\u001b[0;34m.\u001b[0m\u001b[0msetdefault\u001b[0m\u001b[0;34m(\u001b[0m\u001b[0;34m\"shade\"\u001b[0m\u001b[0;34m,\u001b[0m \u001b[0;32mTrue\u001b[0m\u001b[0;34m)\u001b[0m\u001b[0;34m\u001b[0m\u001b[0;34m\u001b[0m\u001b[0m\n",
      "\u001b[0;32m/anaconda3/lib/python3.6/site-packages/seaborn/axisgrid.py\u001b[0m in \u001b[0;36mmap_diag\u001b[0;34m(self, func, **kwargs)\u001b[0m\n\u001b[1;32m   1397\u001b[0m                     \u001b[0mcolor\u001b[0m \u001b[0;34m=\u001b[0m \u001b[0mfixed_color\u001b[0m\u001b[0;34m\u001b[0m\u001b[0;34m\u001b[0m\u001b[0m\n\u001b[1;32m   1398\u001b[0m \u001b[0;34m\u001b[0m\u001b[0m\n\u001b[0;32m-> 1399\u001b[0;31m                 \u001b[0mfunc\u001b[0m\u001b[0;34m(\u001b[0m\u001b[0mdata_k\u001b[0m\u001b[0;34m,\u001b[0m \u001b[0mlabel\u001b[0m\u001b[0;34m=\u001b[0m\u001b[0mlabel_k\u001b[0m\u001b[0;34m,\u001b[0m \u001b[0mcolor\u001b[0m\u001b[0;34m=\u001b[0m\u001b[0mcolor\u001b[0m\u001b[0;34m,\u001b[0m \u001b[0;34m**\u001b[0m\u001b[0mkwargs\u001b[0m\u001b[0;34m)\u001b[0m\u001b[0;34m\u001b[0m\u001b[0;34m\u001b[0m\u001b[0m\n\u001b[0m\u001b[1;32m   1400\u001b[0m \u001b[0;34m\u001b[0m\u001b[0m\n\u001b[1;32m   1401\u001b[0m             \u001b[0mself\u001b[0m\u001b[0;34m.\u001b[0m\u001b[0m_clean_axis\u001b[0m\u001b[0;34m(\u001b[0m\u001b[0max\u001b[0m\u001b[0;34m)\u001b[0m\u001b[0;34m\u001b[0m\u001b[0;34m\u001b[0m\u001b[0m\n",
      "\u001b[0;32m/anaconda3/lib/python3.6/site-packages/matplotlib/pyplot.py\u001b[0m in \u001b[0;36mhist\u001b[0;34m(x, bins, range, density, weights, cumulative, bottom, histtype, align, orientation, rwidth, log, color, label, stacked, normed, hold, data, **kwargs)\u001b[0m\n\u001b[1;32m   3023\u001b[0m                       \u001b[0mhisttype\u001b[0m\u001b[0;34m=\u001b[0m\u001b[0mhisttype\u001b[0m\u001b[0;34m,\u001b[0m \u001b[0malign\u001b[0m\u001b[0;34m=\u001b[0m\u001b[0malign\u001b[0m\u001b[0;34m,\u001b[0m \u001b[0morientation\u001b[0m\u001b[0;34m=\u001b[0m\u001b[0morientation\u001b[0m\u001b[0;34m,\u001b[0m\u001b[0;34m\u001b[0m\u001b[0;34m\u001b[0m\u001b[0m\n\u001b[1;32m   3024\u001b[0m                       \u001b[0mrwidth\u001b[0m\u001b[0;34m=\u001b[0m\u001b[0mrwidth\u001b[0m\u001b[0;34m,\u001b[0m \u001b[0mlog\u001b[0m\u001b[0;34m=\u001b[0m\u001b[0mlog\u001b[0m\u001b[0;34m,\u001b[0m \u001b[0mcolor\u001b[0m\u001b[0;34m=\u001b[0m\u001b[0mcolor\u001b[0m\u001b[0;34m,\u001b[0m \u001b[0mlabel\u001b[0m\u001b[0;34m=\u001b[0m\u001b[0mlabel\u001b[0m\u001b[0;34m,\u001b[0m\u001b[0;34m\u001b[0m\u001b[0;34m\u001b[0m\u001b[0m\n\u001b[0;32m-> 3025\u001b[0;31m                       stacked=stacked, normed=normed, data=data, **kwargs)\n\u001b[0m\u001b[1;32m   3026\u001b[0m     \u001b[0;32mfinally\u001b[0m\u001b[0;34m:\u001b[0m\u001b[0;34m\u001b[0m\u001b[0;34m\u001b[0m\u001b[0m\n\u001b[1;32m   3027\u001b[0m         \u001b[0max\u001b[0m\u001b[0;34m.\u001b[0m\u001b[0m_hold\u001b[0m \u001b[0;34m=\u001b[0m \u001b[0mwashold\u001b[0m\u001b[0;34m\u001b[0m\u001b[0;34m\u001b[0m\u001b[0m\n",
      "\u001b[0;32m/anaconda3/lib/python3.6/site-packages/matplotlib/__init__.py\u001b[0m in \u001b[0;36minner\u001b[0;34m(ax, *args, **kwargs)\u001b[0m\n\u001b[1;32m   1715\u001b[0m                     warnings.warn(msg % (label_namer, func.__name__),\n\u001b[1;32m   1716\u001b[0m                                   RuntimeWarning, stacklevel=2)\n\u001b[0;32m-> 1717\u001b[0;31m             \u001b[0;32mreturn\u001b[0m \u001b[0mfunc\u001b[0m\u001b[0;34m(\u001b[0m\u001b[0max\u001b[0m\u001b[0;34m,\u001b[0m \u001b[0;34m*\u001b[0m\u001b[0margs\u001b[0m\u001b[0;34m,\u001b[0m \u001b[0;34m**\u001b[0m\u001b[0mkwargs\u001b[0m\u001b[0;34m)\u001b[0m\u001b[0;34m\u001b[0m\u001b[0;34m\u001b[0m\u001b[0m\n\u001b[0m\u001b[1;32m   1718\u001b[0m         \u001b[0mpre_doc\u001b[0m \u001b[0;34m=\u001b[0m \u001b[0minner\u001b[0m\u001b[0;34m.\u001b[0m\u001b[0m__doc__\u001b[0m\u001b[0;34m\u001b[0m\u001b[0;34m\u001b[0m\u001b[0m\n\u001b[1;32m   1719\u001b[0m         \u001b[0;32mif\u001b[0m \u001b[0mpre_doc\u001b[0m \u001b[0;32mis\u001b[0m \u001b[0;32mNone\u001b[0m\u001b[0;34m:\u001b[0m\u001b[0;34m\u001b[0m\u001b[0;34m\u001b[0m\u001b[0m\n",
      "\u001b[0;32m/anaconda3/lib/python3.6/site-packages/matplotlib/axes/_axes.py\u001b[0m in \u001b[0;36mhist\u001b[0;34m(***failed resolving arguments***)\u001b[0m\n\u001b[1;32m   6163\u001b[0m             \u001b[0;31m# this will automatically overwrite bins,\u001b[0m\u001b[0;34m\u001b[0m\u001b[0;34m\u001b[0m\u001b[0;34m\u001b[0m\u001b[0m\n\u001b[1;32m   6164\u001b[0m             \u001b[0;31m# so that each histogram uses the same bins\u001b[0m\u001b[0;34m\u001b[0m\u001b[0;34m\u001b[0m\u001b[0;34m\u001b[0m\u001b[0m\n\u001b[0;32m-> 6165\u001b[0;31m             \u001b[0mm\u001b[0m\u001b[0;34m,\u001b[0m \u001b[0mbins\u001b[0m \u001b[0;34m=\u001b[0m \u001b[0mnp\u001b[0m\u001b[0;34m.\u001b[0m\u001b[0mhistogram\u001b[0m\u001b[0;34m(\u001b[0m\u001b[0mx\u001b[0m\u001b[0;34m[\u001b[0m\u001b[0mi\u001b[0m\u001b[0;34m]\u001b[0m\u001b[0;34m,\u001b[0m \u001b[0mbins\u001b[0m\u001b[0;34m,\u001b[0m \u001b[0mweights\u001b[0m\u001b[0;34m=\u001b[0m\u001b[0mw\u001b[0m\u001b[0;34m[\u001b[0m\u001b[0mi\u001b[0m\u001b[0;34m]\u001b[0m\u001b[0;34m,\u001b[0m \u001b[0;34m**\u001b[0m\u001b[0mhist_kwargs\u001b[0m\u001b[0;34m)\u001b[0m\u001b[0;34m\u001b[0m\u001b[0;34m\u001b[0m\u001b[0m\n\u001b[0m\u001b[1;32m   6166\u001b[0m             \u001b[0mm\u001b[0m \u001b[0;34m=\u001b[0m \u001b[0mm\u001b[0m\u001b[0;34m.\u001b[0m\u001b[0mastype\u001b[0m\u001b[0;34m(\u001b[0m\u001b[0mfloat\u001b[0m\u001b[0;34m)\u001b[0m  \u001b[0;31m# causes problems later if it's an int\u001b[0m\u001b[0;34m\u001b[0m\u001b[0;34m\u001b[0m\u001b[0m\n\u001b[1;32m   6167\u001b[0m             \u001b[0;32mif\u001b[0m \u001b[0mmlast\u001b[0m \u001b[0;32mis\u001b[0m \u001b[0;32mNone\u001b[0m\u001b[0;34m:\u001b[0m\u001b[0;34m\u001b[0m\u001b[0;34m\u001b[0m\u001b[0m\n",
      "\u001b[0;32m/anaconda3/lib/python3.6/site-packages/numpy/lib/function_base.py\u001b[0m in \u001b[0;36mhistogram\u001b[0;34m(a, bins, range, normed, weights, density)\u001b[0m\n\u001b[1;32m    665\u001b[0m     \u001b[0;32mif\u001b[0m \u001b[0mfirst_edge\u001b[0m \u001b[0;34m>\u001b[0m \u001b[0mlast_edge\u001b[0m\u001b[0;34m:\u001b[0m\u001b[0;34m\u001b[0m\u001b[0;34m\u001b[0m\u001b[0m\n\u001b[1;32m    666\u001b[0m         raise ValueError(\n\u001b[0;32m--> 667\u001b[0;31m             'max must be larger than min in range parameter.')\n\u001b[0m\u001b[1;32m    668\u001b[0m     \u001b[0;32mif\u001b[0m \u001b[0;32mnot\u001b[0m \u001b[0mnp\u001b[0m\u001b[0;34m.\u001b[0m\u001b[0mall\u001b[0m\u001b[0;34m(\u001b[0m\u001b[0mnp\u001b[0m\u001b[0;34m.\u001b[0m\u001b[0misfinite\u001b[0m\u001b[0;34m(\u001b[0m\u001b[0;34m[\u001b[0m\u001b[0mfirst_edge\u001b[0m\u001b[0;34m,\u001b[0m \u001b[0mlast_edge\u001b[0m\u001b[0;34m]\u001b[0m\u001b[0;34m)\u001b[0m\u001b[0;34m)\u001b[0m\u001b[0;34m:\u001b[0m\u001b[0;34m\u001b[0m\u001b[0;34m\u001b[0m\u001b[0m\n\u001b[1;32m    669\u001b[0m         raise ValueError(\n",
      "\u001b[0;31mValueError\u001b[0m: max must be larger than min in range parameter."
     ]
    },
    {
     "data": {
      "image/png": "[encoded data removed]",
      "text/plain": [
       "<matplotlib.figure.Figure at 0x10594f128>"
      ]
     },
     "metadata": {},
     "output_type": "display_data"
    }
   ],
   "source": [
    "#sns.pairplot(df)"
   ]
  },
  {
   "cell_type": "markdown",
   "metadata": {},
   "source": [
    "### Chi-Square Analysis"
   ]
  },
  {
   "cell_type": "code",
   "execution_count": null,
   "metadata": {},
   "outputs": [],
   "source": []
  },
  {
   "cell_type": "code",
   "execution_count": null,
   "metadata": {},
   "outputs": [],
   "source": []
  },
  {
   "cell_type": "markdown",
   "metadata": {},
   "source": [
    "### Simple Statistics"
   ]
  },
  {
   "cell_type": "code",
   "execution_count": 30,
   "metadata": {},
   "outputs": [
    {
     "data": {
      "text/plain": [
       "532.1833333333333"
      ]
     },
     "execution_count": 30,
     "metadata": {},
     "output_type": "execute_result"
    }
   ],
   "source": [
    "df.total_response_time.max()/60"
   ]
  },
  {
   "cell_type": "code",
   "execution_count": 27,
   "metadata": {},
   "outputs": [
    {
     "data": {
      "text/plain": [
       "0.0"
      ]
     },
     "execution_count": 27,
     "metadata": {},
     "output_type": "execute_result"
    }
   ],
   "source": [
    "df.total_response_time.min()"
   ]
  },
  {
   "cell_type": "markdown",
   "metadata": {},
   "source": [
    "ECDF"
   ]
  },
  {
   "cell_type": "code",
   "execution_count": 5,
   "metadata": {},
   "outputs": [],
   "source": [
    "# Define ECDF function\n",
    "def ecdf(data):\n",
    "    \"\"\"Compute ECDF for a one-dimensional array of measurements.\"\"\"\n",
    "    # Number of data points: n\n",
    "    n = len(data)\n",
    "\n",
    "    # x-data for the ECDF: x\n",
    "    x = np.sort(data)\n",
    "\n",
    "    # y-data for the ECDF: y\n",
    "    y = np.arange(1, n+1) / n\n",
    "\n",
    "    return x, y"
   ]
  },
  {
   "cell_type": "code",
   "execution_count": 22,
   "metadata": {},
   "outputs": [],
   "source": [
    "x1,y1 = ecdf(np.array(df.incident_response_seconds_qy))"
   ]
  },
  {
   "cell_type": "code",
   "execution_count": 23,
   "metadata": {
    "scrolled": true
   },
   "outputs": [
    {
     "data": {
      "image/png": "[encoded data removed]",
      "text/plain": [
       "<matplotlib.figure.Figure at 0x1a92547be0>"
      ]
     },
     "metadata": {
      "needs_background": "light"
     },
     "output_type": "display_data"
    }
   ],
   "source": [
    "# Generate plot\n",
    "_ = plt.plot(x1,y1,marker='.',linestyle='none')\n",
    "\n",
    "\n",
    "# Label the axes\n",
    "_ = plt.xlabel('Incident Response Time (seconds)')\n",
    "_ = plt.ylabel('ECDF')\n",
    "\n",
    "# Display the plot\n",
    "plt.show()"
   ]
  },
  {
   "cell_type": "code",
   "execution_count": null,
   "metadata": {},
   "outputs": [],
   "source": []
  },
  {
   "cell_type": "code",
   "execution_count": 24,
   "metadata": {},
   "outputs": [],
   "source": [
    "x2,y2 = ecdf(np.array(df.incident_response_seconds_qy)/60)"
   ]
  },
  {
   "cell_type": "code",
   "execution_count": 25,
   "metadata": {},
   "outputs": [
    {
     "data": {
      "image/png": "[encoded data removed]",
      "text/plain": [
       "<matplotlib.figure.Figure at 0x1adea75dd8>"
      ]
     },
     "metadata": {
      "needs_background": "light"
     },
     "output_type": "display_data"
    }
   ],
   "source": [
    "# Generate plot\n",
    "_ = plt.plot(x2,y2,marker='.',linestyle='none')\n",
    "\n",
    "\n",
    "# Label the axes\n",
    "_ = plt.xlabel('Incident Response Time (minutes)')\n",
    "_ = plt.ylabel('ECDF')\n",
    "\n",
    "# Display the plot\n",
    "plt.show()"
   ]
  },
  {
   "cell_type": "code",
   "execution_count": 40,
   "metadata": {},
   "outputs": [
    {
     "data": {
      "text/plain": [
       "8431649"
      ]
     },
     "execution_count": 40,
     "metadata": {},
     "output_type": "execute_result"
    }
   ],
   "source": [
    "df.incident_response_seconds_qy.isnull().count()"
   ]
  },
  {
   "cell_type": "code",
   "execution_count": 38,
   "metadata": {},
   "outputs": [
    {
     "data": {
      "text/plain": [
       "array([71167, 16974, 16936, ...,     3,     2,     1])"
      ]
     },
     "execution_count": 38,
     "metadata": {},
     "output_type": "execute_result"
    }
   ],
   "source": [
    "df.incident_response_seconds_qy.value_counts().unique()"
   ]
  },
  {
   "cell_type": "code",
   "execution_count": 32,
   "metadata": {},
   "outputs": [
    {
     "data": {
      "text/plain": [
       "556.7533044867662"
      ]
     },
     "execution_count": 32,
     "metadata": {},
     "output_type": "execute_result"
    }
   ],
   "source": [
    "mean_response_time = np.mean(df.incident_response_seconds_qy)\n",
    "mean_response_time"
   ]
  },
  {
   "cell_type": "code",
   "execution_count": 33,
   "metadata": {},
   "outputs": [
    {
     "name": "stdout",
     "output_type": "stream",
     "text": [
      "Median Response Time (sec): nan\n"
     ]
    },
    {
     "name": "stderr",
     "output_type": "stream",
     "text": [
      "/anaconda3/lib/python3.6/site-packages/numpy/lib/function_base.py:4033: RuntimeWarning: Invalid value encountered in median\n",
      "  r = func(a, **kwargs)\n"
     ]
    }
   ],
   "source": [
    "print('Median Response Time (sec): {}'.format(np.median(df.incident_response_seconds_qy)))"
   ]
  },
  {
   "cell_type": "code",
   "execution_count": null,
   "metadata": {},
   "outputs": [],
   "source": []
  },
  {
   "cell_type": "code",
   "execution_count": 9,
   "metadata": {},
   "outputs": [
    {
     "data": {
      "text/html": [
       "<div>\n",
       "<style scoped>\n",
       "    .dataframe tbody tr th:only-of-type {\n",
       "        vertical-align: middle;\n",
       "    }\n",
       "\n",
       "    .dataframe tbody tr th {\n",
       "        vertical-align: top;\n",
       "    }\n",
       "\n",
       "    .dataframe thead th {\n",
       "        text-align: right;\n",
       "    }\n",
       "</style>\n",
       "<table border=\"1\" class=\"dataframe\">\n",
       "  <thead>\n",
       "    <tr style=\"text-align: right;\">\n",
       "      <th></th>\n",
       "      <th></th>\n",
       "      <th></th>\n",
       "      <th>incident_datetime</th>\n",
       "      <th>borough</th>\n",
       "      <th>zipcode</th>\n",
       "      <th>incident_dispatch_area</th>\n",
       "      <th>held_indicator</th>\n",
       "      <th>initial_call_type</th>\n",
       "      <th>initial_severity_level_code</th>\n",
       "      <th>final_call_type</th>\n",
       "      <th>final_severity_level_code</th>\n",
       "      <th>first_assignment_datetime</th>\n",
       "      <th>...</th>\n",
       "      <th>first_activation_datetime</th>\n",
       "      <th>first_on_scene_datetime</th>\n",
       "      <th>valid_incident_rspns_time_indc</th>\n",
       "      <th>incident_response_seconds_qy</th>\n",
       "      <th>incident_travel_tm_seconds_qy</th>\n",
       "      <th>first_to_hosp_datetime</th>\n",
       "      <th>first_hosp_arrival_datetime</th>\n",
       "      <th>incident_close_datetime</th>\n",
       "      <th>incident_disposition_code</th>\n",
       "      <th>fatality</th>\n",
       "    </tr>\n",
       "    <tr>\n",
       "      <th>incident_year</th>\n",
       "      <th>incident_month</th>\n",
       "      <th>cad_incident_id</th>\n",
       "      <th></th>\n",
       "      <th></th>\n",
       "      <th></th>\n",
       "      <th></th>\n",
       "      <th></th>\n",
       "      <th></th>\n",
       "      <th></th>\n",
       "      <th></th>\n",
       "      <th></th>\n",
       "      <th></th>\n",
       "      <th></th>\n",
       "      <th></th>\n",
       "      <th></th>\n",
       "      <th></th>\n",
       "      <th></th>\n",
       "      <th></th>\n",
       "      <th></th>\n",
       "      <th></th>\n",
       "      <th></th>\n",
       "      <th></th>\n",
       "      <th></th>\n",
       "    </tr>\n",
       "  </thead>\n",
       "  <tbody>\n",
       "    <tr>\n",
       "      <th rowspan=\"5\" valign=\"top\">2013</th>\n",
       "      <th rowspan=\"5\" valign=\"top\">1</th>\n",
       "      <th>130010001</th>\n",
       "      <td>2013-01-01 00:00:04</td>\n",
       "      <td>BRONX</td>\n",
       "      <td>10472.0</td>\n",
       "      <td>B3</td>\n",
       "      <td>N</td>\n",
       "      <td>RESPIR</td>\n",
       "      <td>4</td>\n",
       "      <td>RESPIR</td>\n",
       "      <td>4</td>\n",
       "      <td>2013-01-01 00:01:45</td>\n",
       "      <td>...</td>\n",
       "      <td>2013-01-01 00:01:51</td>\n",
       "      <td>2013-01-01 00:13:21</td>\n",
       "      <td>Y</td>\n",
       "      <td>797.0</td>\n",
       "      <td>696.0</td>\n",
       "      <td>2013-01-01 00:28:49</td>\n",
       "      <td>2013-01-01 00:38:15</td>\n",
       "      <td>2013-01-01 01:04:56</td>\n",
       "      <td>82.0</td>\n",
       "      <td>False</td>\n",
       "    </tr>\n",
       "    <tr>\n",
       "      <th>130010002</th>\n",
       "      <td>2013-01-01 00:00:19</td>\n",
       "      <td>BRONX</td>\n",
       "      <td>10454.0</td>\n",
       "      <td>B1</td>\n",
       "      <td>N</td>\n",
       "      <td>CARD</td>\n",
       "      <td>3</td>\n",
       "      <td>CARD</td>\n",
       "      <td>3</td>\n",
       "      <td>2013-01-01 00:01:18</td>\n",
       "      <td>...</td>\n",
       "      <td>2013-01-01 00:02:08</td>\n",
       "      <td>2013-01-01 00:14:30</td>\n",
       "      <td>Y</td>\n",
       "      <td>851.0</td>\n",
       "      <td>792.0</td>\n",
       "      <td>NaT</td>\n",
       "      <td>NaT</td>\n",
       "      <td>2013-01-01 00:55:34</td>\n",
       "      <td>93.0</td>\n",
       "      <td>False</td>\n",
       "    </tr>\n",
       "    <tr>\n",
       "      <th>130010004</th>\n",
       "      <td>2013-01-01 00:01:04</td>\n",
       "      <td>QUEENS</td>\n",
       "      <td>11418.0</td>\n",
       "      <td>Q3</td>\n",
       "      <td>N</td>\n",
       "      <td>ARREST</td>\n",
       "      <td>1</td>\n",
       "      <td>ARREST</td>\n",
       "      <td>1</td>\n",
       "      <td>2013-01-01 00:01:33</td>\n",
       "      <td>...</td>\n",
       "      <td>2013-01-01 00:01:58</td>\n",
       "      <td>2013-01-01 00:08:13</td>\n",
       "      <td>Y</td>\n",
       "      <td>429.0</td>\n",
       "      <td>400.0</td>\n",
       "      <td>NaT</td>\n",
       "      <td>NaT</td>\n",
       "      <td>2013-01-01 00:38:05</td>\n",
       "      <td>83.0</td>\n",
       "      <td>True</td>\n",
       "    </tr>\n",
       "    <tr>\n",
       "      <th>130010005</th>\n",
       "      <td>2013-01-01 00:01:16</td>\n",
       "      <td>BRONX</td>\n",
       "      <td>10453.0</td>\n",
       "      <td>B2</td>\n",
       "      <td>N</td>\n",
       "      <td>SICK</td>\n",
       "      <td>6</td>\n",
       "      <td>SICK</td>\n",
       "      <td>6</td>\n",
       "      <td>2013-01-01 00:02:12</td>\n",
       "      <td>...</td>\n",
       "      <td>2013-01-01 00:02:55</td>\n",
       "      <td>2013-01-01 00:15:04</td>\n",
       "      <td>Y</td>\n",
       "      <td>828.0</td>\n",
       "      <td>772.0</td>\n",
       "      <td>2013-01-01 00:34:54</td>\n",
       "      <td>2013-01-01 00:53:02</td>\n",
       "      <td>2013-01-01 01:20:28</td>\n",
       "      <td>82.0</td>\n",
       "      <td>False</td>\n",
       "    </tr>\n",
       "    <tr>\n",
       "      <th>130010006</th>\n",
       "      <td>2013-01-01 00:01:26</td>\n",
       "      <td>BRONX</td>\n",
       "      <td>10457.0</td>\n",
       "      <td>B2</td>\n",
       "      <td>N</td>\n",
       "      <td>INJURY</td>\n",
       "      <td>5</td>\n",
       "      <td>INJURY</td>\n",
       "      <td>5</td>\n",
       "      <td>2013-01-01 00:01:58</td>\n",
       "      <td>...</td>\n",
       "      <td>2013-01-01 00:02:55</td>\n",
       "      <td>2013-01-01 00:15:42</td>\n",
       "      <td>Y</td>\n",
       "      <td>856.0</td>\n",
       "      <td>824.0</td>\n",
       "      <td>2013-01-01 00:27:42</td>\n",
       "      <td>2013-01-01 00:31:13</td>\n",
       "      <td>2013-01-01 00:53:12</td>\n",
       "      <td>82.0</td>\n",
       "      <td>False</td>\n",
       "    </tr>\n",
       "  </tbody>\n",
       "</table>\n",
       "<p>5 rows × 22 columns</p>\n",
       "</div>"
      ],
      "text/plain": [
       "                                               incident_datetime borough  \\\n",
       "incident_year incident_month cad_incident_id                               \n",
       "2013          1              130010001       2013-01-01 00:00:04   BRONX   \n",
       "                             130010002       2013-01-01 00:00:19   BRONX   \n",
       "                             130010004       2013-01-01 00:01:04  QUEENS   \n",
       "                             130010005       2013-01-01 00:01:16   BRONX   \n",
       "                             130010006       2013-01-01 00:01:26   BRONX   \n",
       "\n",
       "                                              zipcode incident_dispatch_area  \\\n",
       "incident_year incident_month cad_incident_id                                   \n",
       "2013          1              130010001        10472.0                     B3   \n",
       "                             130010002        10454.0                     B1   \n",
       "                             130010004        11418.0                     Q3   \n",
       "                             130010005        10453.0                     B2   \n",
       "                             130010006        10457.0                     B2   \n",
       "\n",
       "                                             held_indicator initial_call_type  \\\n",
       "incident_year incident_month cad_incident_id                                    \n",
       "2013          1              130010001                    N            RESPIR   \n",
       "                             130010002                    N              CARD   \n",
       "                             130010004                    N            ARREST   \n",
       "                             130010005                    N              SICK   \n",
       "                             130010006                    N            INJURY   \n",
       "\n",
       "                                              initial_severity_level_code  \\\n",
       "incident_year incident_month cad_incident_id                                \n",
       "2013          1              130010001                                  4   \n",
       "                             130010002                                  3   \n",
       "                             130010004                                  1   \n",
       "                             130010005                                  6   \n",
       "                             130010006                                  5   \n",
       "\n",
       "                                             final_call_type  \\\n",
       "incident_year incident_month cad_incident_id                   \n",
       "2013          1              130010001                RESPIR   \n",
       "                             130010002                  CARD   \n",
       "                             130010004                ARREST   \n",
       "                             130010005                  SICK   \n",
       "                             130010006                INJURY   \n",
       "\n",
       "                                              final_severity_level_code  \\\n",
       "incident_year incident_month cad_incident_id                              \n",
       "2013          1              130010001                                4   \n",
       "                             130010002                                3   \n",
       "                             130010004                                1   \n",
       "                             130010005                                6   \n",
       "                             130010006                                5   \n",
       "\n",
       "                                             first_assignment_datetime  \\\n",
       "incident_year incident_month cad_incident_id                             \n",
       "2013          1              130010001             2013-01-01 00:01:45   \n",
       "                             130010002             2013-01-01 00:01:18   \n",
       "                             130010004             2013-01-01 00:01:33   \n",
       "                             130010005             2013-01-01 00:02:12   \n",
       "                             130010006             2013-01-01 00:01:58   \n",
       "\n",
       "                                               ...     \\\n",
       "incident_year incident_month cad_incident_id   ...      \n",
       "2013          1              130010001         ...      \n",
       "                             130010002         ...      \n",
       "                             130010004         ...      \n",
       "                             130010005         ...      \n",
       "                             130010006         ...      \n",
       "\n",
       "                                             first_activation_datetime  \\\n",
       "incident_year incident_month cad_incident_id                             \n",
       "2013          1              130010001             2013-01-01 00:01:51   \n",
       "                             130010002             2013-01-01 00:02:08   \n",
       "                             130010004             2013-01-01 00:01:58   \n",
       "                             130010005             2013-01-01 00:02:55   \n",
       "                             130010006             2013-01-01 00:02:55   \n",
       "\n",
       "                                              first_on_scene_datetime  \\\n",
       "incident_year incident_month cad_incident_id                            \n",
       "2013          1              130010001            2013-01-01 00:13:21   \n",
       "                             130010002            2013-01-01 00:14:30   \n",
       "                             130010004            2013-01-01 00:08:13   \n",
       "                             130010005            2013-01-01 00:15:04   \n",
       "                             130010006            2013-01-01 00:15:42   \n",
       "\n",
       "                                             valid_incident_rspns_time_indc  \\\n",
       "incident_year incident_month cad_incident_id                                  \n",
       "2013          1              130010001                                    Y   \n",
       "                             130010002                                    Y   \n",
       "                             130010004                                    Y   \n",
       "                             130010005                                    Y   \n",
       "                             130010006                                    Y   \n",
       "\n",
       "                                             incident_response_seconds_qy  \\\n",
       "incident_year incident_month cad_incident_id                                \n",
       "2013          1              130010001                              797.0   \n",
       "                             130010002                              851.0   \n",
       "                             130010004                              429.0   \n",
       "                             130010005                              828.0   \n",
       "                             130010006                              856.0   \n",
       "\n",
       "                                             incident_travel_tm_seconds_qy  \\\n",
       "incident_year incident_month cad_incident_id                                 \n",
       "2013          1              130010001                               696.0   \n",
       "                             130010002                               792.0   \n",
       "                             130010004                               400.0   \n",
       "                             130010005                               772.0   \n",
       "                             130010006                               824.0   \n",
       "\n",
       "                                              first_to_hosp_datetime  \\\n",
       "incident_year incident_month cad_incident_id                           \n",
       "2013          1              130010001           2013-01-01 00:28:49   \n",
       "                             130010002                           NaT   \n",
       "                             130010004                           NaT   \n",
       "                             130010005           2013-01-01 00:34:54   \n",
       "                             130010006           2013-01-01 00:27:42   \n",
       "\n",
       "                                              first_hosp_arrival_datetime  \\\n",
       "incident_year incident_month cad_incident_id                                \n",
       "2013          1              130010001                2013-01-01 00:38:15   \n",
       "                             130010002                                NaT   \n",
       "                             130010004                                NaT   \n",
       "                             130010005                2013-01-01 00:53:02   \n",
       "                             130010006                2013-01-01 00:31:13   \n",
       "\n",
       "                                             incident_close_datetime  \\\n",
       "incident_year incident_month cad_incident_id                           \n",
       "2013          1              130010001           2013-01-01 01:04:56   \n",
       "                             130010002           2013-01-01 00:55:34   \n",
       "                             130010004           2013-01-01 00:38:05   \n",
       "                             130010005           2013-01-01 01:20:28   \n",
       "                             130010006           2013-01-01 00:53:12   \n",
       "\n",
       "                                             incident_disposition_code  \\\n",
       "incident_year incident_month cad_incident_id                             \n",
       "2013          1              130010001                            82.0   \n",
       "                             130010002                            93.0   \n",
       "                             130010004                            83.0   \n",
       "                             130010005                            82.0   \n",
       "                             130010006                            82.0   \n",
       "\n",
       "                                             fatality  \n",
       "incident_year incident_month cad_incident_id           \n",
       "2013          1              130010001          False  \n",
       "                             130010002          False  \n",
       "                             130010004           True  \n",
       "                             130010005          False  \n",
       "                             130010006          False  \n",
       "\n",
       "[5 rows x 22 columns]"
      ]
     },
     "execution_count": 9,
     "metadata": {},
     "output_type": "execute_result"
    }
   ],
   "source": [
    "df.head()"
   ]
  },
  {
   "cell_type": "markdown",
   "metadata": {},
   "source": [
    "### Something"
   ]
  },
  {
   "cell_type": "code",
   "execution_count": null,
   "metadata": {},
   "outputs": [],
   "source": [
    "pandas_profiling.ProfileReport(df)"
   ]
  },
  {
   "cell_type": "code",
   "execution_count": null,
   "metadata": {},
   "outputs": [],
   "source": []
  },
  {
   "cell_type": "code",
   "execution_count": null,
   "metadata": {},
   "outputs": [],
   "source": []
  }
 ],
 "metadata": {
  "kernelspec": {
   "display_name": "Python 3",
   "language": "python",
   "name": "python3"
  },
  "language_info": {
   "codemirror_mode": {
    "name": "ipython",
    "version": 3
   },
   "file_extension": ".py",
   "mimetype": "text/x-python",
   "name": "python",
   "nbconvert_exporter": "python",
   "pygments_lexer": "ipython3",
   "version": "3.6.8"
  }
 },
 "nbformat": 4,
 "nbformat_minor": 2
}
