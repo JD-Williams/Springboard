{
 "cells": [
  {
   "cell_type": "markdown",
   "metadata": {},
   "source": [
    "<h1>Capstone 1: Machine Learning Algorithms, Baseline</h1>"
   ]
  },
  {
   "cell_type": "markdown",
   "metadata": {},
   "source": [
    "<a id='TOC'></a>\n",
    "<strong>Table of Contents</strong>\n",
    "<ol>\n",
    "    <li>Preliminaries</li>\n",
    "    <ol>\n",
    "        <li><a href=#Sec01A>Import EMS Incident Data</a></li>\n",
    "        <li><a href=#Sec01B>Preprocess Dataset</a></li>\n",
    "        <li><a href=#Sec01C>Segment Variables</a></li>\n",
    "    </ol>\n",
    "    <li>Variable Encoding Methods</li>\n",
    "    <ol>\n",
    "        <li><a href=#Sec02A>Inspect Target Variable</a></li>\n",
    "        <li><a href=#Sec02B>One-Hot Encoding</a></li>\n",
    "        <li><a href=#Sec02C>Binary Encoding</a></li>\n",
    "    </ol>\n",
    "    <li>Baseline Models</li>\n",
    "    <ol>\n",
    "        <li><a href=#Sec03A>Create Train and Test Sets</a></li>\n",
    "        <li><a href=#Sec03B>Logistic Regression</a></li>\n",
    "        <li><a href=#Sec03C>Random Forest</a></li>\n",
    "        <li><a href=#Sec03D>Analysis of Model Performance</a></li>\n",
    "    </ol>\n",
    "</ol>"
   ]
  },
  {
   "cell_type": "markdown",
   "metadata": {},
   "source": [
    "<p>The goal of this project is to develop machine learning models that predict whether or not the outcome of an EMS incident will result in a fatality. This is a supervised, binary classification problem. Analyses will be performed on a collection of nearly 8 million records of documented incidents, which span the six year period from January 2013 through December 2018, and appropriate predictive models will be developed to achieve the primary objective. This dataset is robust and contains several feature variables, of mixed data types, that describe both various attributes of each incident as well as the responsive action taken by the FDNY. All of the aforementioned factors affect an individual’s survivability once a response is initiated.</p>\n",
    "\n",
    "<p>The dataset will be preprocessed using insights gained through prior analyses and various encoding methods for categorical variables. Afterwards, baseline classifiers will be constructed and assessed for their model performance on both training and test data.</p>"
   ]
  },
  {
   "cell_type": "markdown",
   "metadata": {},
   "source": [
    "<h2 style=\"text-transform: uppercase;\">1. Preliminaries</h2>"
   ]
  },
  {
   "cell_type": "markdown",
   "metadata": {},
   "source": [
    "<a id='Sec01A'></a>\n",
    "<h4>1A: Import EMS Incident Data</h4>"
   ]
  },
  {
   "cell_type": "code",
   "execution_count": 1,
   "metadata": {},
   "outputs": [],
   "source": [
    "# Import packages and modules\n",
    "import pandas as pd\n",
    "import numpy as np\n",
    "import category_encoders as ce\n",
    "import time\n",
    "\n",
    "import matplotlib.pyplot as plt\n",
    "import seaborn as sb\n",
    "%matplotlib inline\n",
    "\n",
    "from sklearn.model_selection import train_test_split\n",
    "from sklearn.metrics import (accuracy_score, recall_score, precision_score,\n",
    "                             classification_report, plot_confusion_matrix)\n",
    "\n",
    "# Prospective classifiers\n",
    "from sklearn.linear_model import LogisticRegression\n",
    "from sklearn.ensemble import RandomForestClassifier"
   ]
  },
  {
   "cell_type": "code",
   "execution_count": 2,
   "metadata": {},
   "outputs": [],
   "source": [
    "# Assign file path\n",
    "input_path_ems = '../data/clean_EMS_data.csv'\n",
    "\n",
    "# Read CSV data into a Pandas DataFrame\n",
    "datetime_cols = ['incident_datetime',\n",
    "                 'first_assignment_datetime',\n",
    "                 'first_activation_datetime',\n",
    "                 'first_on_scene_datetime',\n",
    "                 'first_to_hosp_datetime',\n",
    "                 'first_hosp_arrival_datetime',\n",
    "                 'incident_close_datetime']\n",
    "\n",
    "df = pd.read_csv(input_path_ems,compression='gzip',\n",
    "                 parse_dates=datetime_cols,\n",
    "                 index_col=['incident_datetime'])"
   ]
  },
  {
   "cell_type": "code",
   "execution_count": 3,
   "metadata": {},
   "outputs": [
    {
     "name": "stdout",
     "output_type": "stream",
     "text": [
      "<class 'pandas.core.frame.DataFrame'>\n",
      "DatetimeIndex: 8054500 entries, 2018-12-31 23:59:46 to 2013-01-09 09:05:12\n",
      "Data columns (total 29 columns):\n",
      "year                           int64\n",
      "month                          int64\n",
      "day                            int64\n",
      "hour                           int64\n",
      "weekday                        int64\n",
      "borough                        object\n",
      "zipcode                        float64\n",
      "latitude                       float64\n",
      "longitude                      float64\n",
      "aland_sqmi                     float64\n",
      "awater_sqmi                    float64\n",
      "initial_call_type              object\n",
      "initial_severity_level         int64\n",
      "final_call_type                object\n",
      "final_severity_level           int64\n",
      "held_indicator                 object\n",
      "first_assignment_datetime      datetime64[ns]\n",
      "incident_dispatch_area         object\n",
      "dispatch_time                  int64\n",
      "first_activation_datetime      datetime64[ns]\n",
      "first_on_scene_datetime        datetime64[ns]\n",
      "travel_time                    int64\n",
      "response_time                  int64\n",
      "first_to_hosp_datetime         datetime64[ns]\n",
      "first_hosp_arrival_datetime    datetime64[ns]\n",
      "incident_close_datetime        datetime64[ns]\n",
      "incident_disposition_code      int64\n",
      "life_threatening               bool\n",
      "fatality                       bool\n",
      "dtypes: bool(2), datetime64[ns](6), float64(5), int64(11), object(5)\n",
      "memory usage: 3.7 GB\n"
     ]
    }
   ],
   "source": [
    "df.info(verbose=True,memory_usage='deep')"
   ]
  },
  {
   "cell_type": "markdown",
   "metadata": {},
   "source": [
    "<p><a href=#TOC>TOC</a></p>"
   ]
  },
  {
   "cell_type": "markdown",
   "metadata": {},
   "source": [
    "<a id=\"Sec01B\"></a>\n",
    "<h4>1B: Preprocess Dataset</h4>"
   ]
  },
  {
   "cell_type": "code",
   "execution_count": 4,
   "metadata": {},
   "outputs": [],
   "source": [
    "# Change dtypes\n",
    "df['borough'] = df.borough.astype('category')\n",
    "df['zipcode'] = df.zipcode.astype('category')"
   ]
  },
  {
   "cell_type": "markdown",
   "metadata": {},
   "source": [
    "<p>Both exploratory data analysis and inferential statistics performed in prior notebooks (<a href=\"https://github.com/jdwill917/SB-DSCT-Repo/blob/master/Capstones/Capstone%201/code/CP1-02_EDA.ipynb\" target=\"_blank\">CP1-02_EDA</a> and <a href=\"https://github.com/jdwill917/SB-DSCT-Repo/blob/master/Capstones/Capstone%201/code/CP1-03_Stats.ipynb\" target=\"_blank\">CP1-03_Stats</a>, respectively) revealed there are multiple redundant or immaterial variables within the dataset. Therefore, they will be removed from the dataset.</p>"
   ]
  },
  {
   "cell_type": "code",
   "execution_count": 5,
   "metadata": {},
   "outputs": [],
   "source": [
    "# Remove immaterial columns\n",
    "list_of_cols = ['latitude','longitude',\n",
    "                'aland_sqmi','awater_sqmi','held_indicator',\n",
    "                'initial_call_type','initial_severity_level',\n",
    "                'first_assignment_datetime','incident_dispatch_area',\n",
    "                'dispatch_time','travel_time',\n",
    "                'first_activation_datetime','first_on_scene_datetime',\n",
    "                'first_to_hosp_datetime','first_hosp_arrival_datetime',\n",
    "                'incident_close_datetime','incident_disposition_code']\n",
    "df.drop(list_of_cols,axis=1,inplace=True)"
   ]
  },
  {
   "cell_type": "code",
   "execution_count": 6,
   "metadata": {},
   "outputs": [
    {
     "name": "stdout",
     "output_type": "stream",
     "text": [
      "<class 'pandas.core.frame.DataFrame'>\n",
      "DatetimeIndex: 8054500 entries, 2018-12-31 23:59:46 to 2013-01-09 09:05:12\n",
      "Data columns (total 12 columns):\n",
      "year                    int64\n",
      "month                   int64\n",
      "day                     int64\n",
      "hour                    int64\n",
      "weekday                 int64\n",
      "borough                 category\n",
      "zipcode                 category\n",
      "final_call_type         object\n",
      "final_severity_level    int64\n",
      "response_time           int64\n",
      "life_threatening        bool\n",
      "fatality                bool\n",
      "dtypes: bool(2), category(2), int64(7), object(1)\n",
      "memory usage: 1005.7 MB\n"
     ]
    }
   ],
   "source": [
    "df.info(verbose=True,memory_usage='deep')"
   ]
  },
  {
   "cell_type": "code",
   "execution_count": 7,
   "metadata": {},
   "outputs": [
    {
     "data": {
      "text/html": [
       "<div>\n",
       "<style scoped>\n",
       "    .dataframe tbody tr th:only-of-type {\n",
       "        vertical-align: middle;\n",
       "    }\n",
       "\n",
       "    .dataframe tbody tr th {\n",
       "        vertical-align: top;\n",
       "    }\n",
       "\n",
       "    .dataframe thead th {\n",
       "        text-align: right;\n",
       "    }\n",
       "</style>\n",
       "<table border=\"1\" class=\"dataframe\">\n",
       "  <thead>\n",
       "    <tr style=\"text-align: right;\">\n",
       "      <th></th>\n",
       "      <th>year</th>\n",
       "      <th>month</th>\n",
       "      <th>day</th>\n",
       "      <th>hour</th>\n",
       "      <th>weekday</th>\n",
       "      <th>borough</th>\n",
       "      <th>zipcode</th>\n",
       "      <th>final_call_type</th>\n",
       "      <th>final_severity_level</th>\n",
       "      <th>response_time</th>\n",
       "      <th>life_threatening</th>\n",
       "      <th>fatality</th>\n",
       "    </tr>\n",
       "    <tr>\n",
       "      <th>incident_datetime</th>\n",
       "      <th></th>\n",
       "      <th></th>\n",
       "      <th></th>\n",
       "      <th></th>\n",
       "      <th></th>\n",
       "      <th></th>\n",
       "      <th></th>\n",
       "      <th></th>\n",
       "      <th></th>\n",
       "      <th></th>\n",
       "      <th></th>\n",
       "      <th></th>\n",
       "    </tr>\n",
       "  </thead>\n",
       "  <tbody>\n",
       "    <tr>\n",
       "      <td>2018-12-31 23:59:46</td>\n",
       "      <td>2018</td>\n",
       "      <td>12</td>\n",
       "      <td>31</td>\n",
       "      <td>23</td>\n",
       "      <td>1</td>\n",
       "      <td>BROOKLYN</td>\n",
       "      <td>11201.0</td>\n",
       "      <td>CARDBR</td>\n",
       "      <td>2</td>\n",
       "      <td>461</td>\n",
       "      <td>True</td>\n",
       "      <td>False</td>\n",
       "    </tr>\n",
       "    <tr>\n",
       "      <td>2018-12-31 23:49:42</td>\n",
       "      <td>2018</td>\n",
       "      <td>12</td>\n",
       "      <td>31</td>\n",
       "      <td>23</td>\n",
       "      <td>1</td>\n",
       "      <td>BROOKLYN</td>\n",
       "      <td>11201.0</td>\n",
       "      <td>UNC</td>\n",
       "      <td>2</td>\n",
       "      <td>328</td>\n",
       "      <td>True</td>\n",
       "      <td>False</td>\n",
       "    </tr>\n",
       "    <tr>\n",
       "      <td>2018-12-31 23:24:58</td>\n",
       "      <td>2018</td>\n",
       "      <td>12</td>\n",
       "      <td>31</td>\n",
       "      <td>23</td>\n",
       "      <td>1</td>\n",
       "      <td>BROOKLYN</td>\n",
       "      <td>11201.0</td>\n",
       "      <td>SICK</td>\n",
       "      <td>6</td>\n",
       "      <td>425</td>\n",
       "      <td>False</td>\n",
       "      <td>False</td>\n",
       "    </tr>\n",
       "    <tr>\n",
       "      <td>2018-12-31 23:04:54</td>\n",
       "      <td>2018</td>\n",
       "      <td>12</td>\n",
       "      <td>31</td>\n",
       "      <td>23</td>\n",
       "      <td>1</td>\n",
       "      <td>BROOKLYN</td>\n",
       "      <td>11201.0</td>\n",
       "      <td>SICK</td>\n",
       "      <td>6</td>\n",
       "      <td>679</td>\n",
       "      <td>False</td>\n",
       "      <td>False</td>\n",
       "    </tr>\n",
       "    <tr>\n",
       "      <td>2018-12-31 22:08:50</td>\n",
       "      <td>2018</td>\n",
       "      <td>12</td>\n",
       "      <td>31</td>\n",
       "      <td>22</td>\n",
       "      <td>1</td>\n",
       "      <td>BROOKLYN</td>\n",
       "      <td>11201.0</td>\n",
       "      <td>SEIZR</td>\n",
       "      <td>3</td>\n",
       "      <td>455</td>\n",
       "      <td>True</td>\n",
       "      <td>False</td>\n",
       "    </tr>\n",
       "  </tbody>\n",
       "</table>\n",
       "</div>"
      ],
      "text/plain": [
       "                     year  month  day  hour  weekday   borough  zipcode  \\\n",
       "incident_datetime                                                         \n",
       "2018-12-31 23:59:46  2018     12   31    23        1  BROOKLYN  11201.0   \n",
       "2018-12-31 23:49:42  2018     12   31    23        1  BROOKLYN  11201.0   \n",
       "2018-12-31 23:24:58  2018     12   31    23        1  BROOKLYN  11201.0   \n",
       "2018-12-31 23:04:54  2018     12   31    23        1  BROOKLYN  11201.0   \n",
       "2018-12-31 22:08:50  2018     12   31    22        1  BROOKLYN  11201.0   \n",
       "\n",
       "                    final_call_type  final_severity_level  response_time  \\\n",
       "incident_datetime                                                          \n",
       "2018-12-31 23:59:46          CARDBR                     2            461   \n",
       "2018-12-31 23:49:42             UNC                     2            328   \n",
       "2018-12-31 23:24:58            SICK                     6            425   \n",
       "2018-12-31 23:04:54            SICK                     6            679   \n",
       "2018-12-31 22:08:50           SEIZR                     3            455   \n",
       "\n",
       "                     life_threatening  fatality  \n",
       "incident_datetime                                \n",
       "2018-12-31 23:59:46              True     False  \n",
       "2018-12-31 23:49:42              True     False  \n",
       "2018-12-31 23:24:58             False     False  \n",
       "2018-12-31 23:04:54             False     False  \n",
       "2018-12-31 22:08:50              True     False  "
      ]
     },
     "execution_count": 7,
     "metadata": {},
     "output_type": "execute_result"
    }
   ],
   "source": [
    "df.head()"
   ]
  },
  {
   "cell_type": "markdown",
   "metadata": {},
   "source": [
    "<p>The clean dataset is now comprised of eleven feature variables that will be used in the development of ML algorithms. <a href=#TOC>TOC</a></p>"
   ]
  },
  {
   "cell_type": "markdown",
   "metadata": {},
   "source": [
    "<a id=\"Sec01C\"></a>\n",
    "<h4>1C: Segment Feature Variables</h4>"
   ]
  },
  {
   "cell_type": "code",
   "execution_count": 8,
   "metadata": {},
   "outputs": [],
   "source": [
    "# Numeric feature variables\n",
    "var_names_num = ['year','month','day','hour','weekday','response_time']\n",
    "vars_num = df[var_names_num]\n",
    "\n",
    "# Ordinal feature variables\n",
    "var_names_ord = ['final_severity_level','life_threatening']\n",
    "vars_ord = df[var_names_ord]\n",
    "\n",
    "# Nominal feature variables\n",
    "var_names_nom = ['borough','zipcode','final_call_type']\n",
    "vars_nom = df[var_names_nom]"
   ]
  },
  {
   "cell_type": "code",
   "execution_count": 9,
   "metadata": {},
   "outputs": [
    {
     "name": "stdout",
     "output_type": "stream",
     "text": [
      "COUNT OF ORDINAL FEATURE LABELS\n",
      "\n",
      "final_severity_level : 8 labels\n",
      "life_threatening     : 2 labels\n",
      "\n",
      "COUNT OF NOMINAL FEATURE LABELS\n",
      "\n",
      "borough         :   6 labels\n",
      "zipcode         : 208 labels\n",
      "final_call_type : 135 labels\n"
     ]
    }
   ],
   "source": [
    "# Print count of labels for each ordinal feature variable\n",
    "print('COUNT OF ORDINAL FEATURE LABELS')\n",
    "print()\n",
    "for col in vars_ord.columns:\n",
    "    print(f'{col:21}: {len(vars_ord[col].unique())} labels')\n",
    "print()\n",
    "\n",
    "# Print count of labels for each nominal feature variable\n",
    "print('COUNT OF NOMINAL FEATURE LABELS')\n",
    "print()\n",
    "for col in vars_nom.columns:\n",
    "    print(f'{col:16}: {len(vars_nom[col].unique()):3} labels')"
   ]
  },
  {
   "cell_type": "markdown",
   "metadata": {},
   "source": [
    "Few machine learning algorithms perform well with categorical variables. Thus, such values will have to be encoded as numeric types. Two of the five categorical feature variables (`zipcode` and `final_call_type`) have a high cardinality as indicated above. In the next section, different encoding methods will be applied to the dataset and tested with different baseline models. <p><a href=#TOC>TOC</a></p>"
   ]
  },
  {
   "cell_type": "markdown",
   "metadata": {},
   "source": [
    "<hr>"
   ]
  },
  {
   "cell_type": "markdown",
   "metadata": {},
   "source": [
    "<h2 style=\"text-transform: uppercase;\">2. Variable Encoding Methods</h2>"
   ]
  },
  {
   "cell_type": "markdown",
   "metadata": {},
   "source": [
    "<a id=\"Sec02A\"></a>\n",
    "<h4>2A: Inspect Target Variable</h4>"
   ]
  },
  {
   "cell_type": "code",
   "execution_count": 10,
   "metadata": {
    "scrolled": true
   },
   "outputs": [
    {
     "data": {
      "text/plain": [
       "False    7715190\n",
       "True      339310\n",
       "Name: fatality, dtype: int64"
      ]
     },
     "execution_count": 10,
     "metadata": {},
     "output_type": "execute_result"
    }
   ],
   "source": [
    "df['fatality'].value_counts()"
   ]
  },
  {
   "cell_type": "code",
   "execution_count": 11,
   "metadata": {
    "scrolled": true
   },
   "outputs": [
    {
     "data": {
      "text/plain": [
       "False    0.957873\n",
       "True     0.042127\n",
       "Name: fatality, dtype: float64"
      ]
     },
     "execution_count": 11,
     "metadata": {},
     "output_type": "execute_result"
    }
   ],
   "source": [
    "df['fatality'].value_counts(normalize=True)"
   ]
  },
  {
   "cell_type": "markdown",
   "metadata": {},
   "source": [
    "The target variable is segmented into two classes: <strong>fatalities</strong> (`fatality == True`) and <strong>survivals</strong> (`fatality == False`). Based on the frequency values provided above, it is clear that <strong>fatalities</strong> represent the <em>minority</em> class whereas <strong>survivals</strong> represent the <em>majority</em> class. Whether or not this will have an impact on the effectiveness of baseline model has yet to be determined. <p><a href=#TOC>TOC</a></p>"
   ]
  },
  {
   "cell_type": "markdown",
   "metadata": {},
   "source": [
    "<a id=\"Sec02B\"></a>\n",
    "<h4>2B: One-Hot Encoding</h4>"
   ]
  },
  {
   "cell_type": "code",
   "execution_count": 12,
   "metadata": {},
   "outputs": [
    {
     "name": "stdout",
     "output_type": "stream",
     "text": [
      "(8054500, 358)\n"
     ]
    },
    {
     "data": {
      "text/html": [
       "<div>\n",
       "<style scoped>\n",
       "    .dataframe tbody tr th:only-of-type {\n",
       "        vertical-align: middle;\n",
       "    }\n",
       "\n",
       "    .dataframe tbody tr th {\n",
       "        vertical-align: top;\n",
       "    }\n",
       "\n",
       "    .dataframe thead th {\n",
       "        text-align: right;\n",
       "    }\n",
       "</style>\n",
       "<table border=\"1\" class=\"dataframe\">\n",
       "  <thead>\n",
       "    <tr style=\"text-align: right;\">\n",
       "      <th></th>\n",
       "      <th>year</th>\n",
       "      <th>month</th>\n",
       "      <th>day</th>\n",
       "      <th>hour</th>\n",
       "      <th>weekday</th>\n",
       "      <th>final_severity_level</th>\n",
       "      <th>response_time</th>\n",
       "      <th>life_threatening</th>\n",
       "      <th>fatality</th>\n",
       "      <th>brgh_BRONX</th>\n",
       "      <th>...</th>\n",
       "      <th>fct_STAB</th>\n",
       "      <th>fct_STATEP</th>\n",
       "      <th>fct_STATFC</th>\n",
       "      <th>fct_TRAUMA</th>\n",
       "      <th>fct_UNC</th>\n",
       "      <th>fct_UNCFC</th>\n",
       "      <th>fct_UNCFT</th>\n",
       "      <th>fct_UNCRF</th>\n",
       "      <th>fct_UNKNOW</th>\n",
       "      <th>fct_VENOM</th>\n",
       "    </tr>\n",
       "    <tr>\n",
       "      <th>incident_datetime</th>\n",
       "      <th></th>\n",
       "      <th></th>\n",
       "      <th></th>\n",
       "      <th></th>\n",
       "      <th></th>\n",
       "      <th></th>\n",
       "      <th></th>\n",
       "      <th></th>\n",
       "      <th></th>\n",
       "      <th></th>\n",
       "      <th></th>\n",
       "      <th></th>\n",
       "      <th></th>\n",
       "      <th></th>\n",
       "      <th></th>\n",
       "      <th></th>\n",
       "      <th></th>\n",
       "      <th></th>\n",
       "      <th></th>\n",
       "      <th></th>\n",
       "      <th></th>\n",
       "    </tr>\n",
       "  </thead>\n",
       "  <tbody>\n",
       "    <tr>\n",
       "      <td>2018-12-31 23:59:46</td>\n",
       "      <td>2018</td>\n",
       "      <td>12</td>\n",
       "      <td>31</td>\n",
       "      <td>23</td>\n",
       "      <td>1</td>\n",
       "      <td>2</td>\n",
       "      <td>461</td>\n",
       "      <td>True</td>\n",
       "      <td>False</td>\n",
       "      <td>0</td>\n",
       "      <td>...</td>\n",
       "      <td>0</td>\n",
       "      <td>0</td>\n",
       "      <td>0</td>\n",
       "      <td>0</td>\n",
       "      <td>0</td>\n",
       "      <td>0</td>\n",
       "      <td>0</td>\n",
       "      <td>0</td>\n",
       "      <td>0</td>\n",
       "      <td>0</td>\n",
       "    </tr>\n",
       "    <tr>\n",
       "      <td>2018-12-31 23:49:42</td>\n",
       "      <td>2018</td>\n",
       "      <td>12</td>\n",
       "      <td>31</td>\n",
       "      <td>23</td>\n",
       "      <td>1</td>\n",
       "      <td>2</td>\n",
       "      <td>328</td>\n",
       "      <td>True</td>\n",
       "      <td>False</td>\n",
       "      <td>0</td>\n",
       "      <td>...</td>\n",
       "      <td>0</td>\n",
       "      <td>0</td>\n",
       "      <td>0</td>\n",
       "      <td>0</td>\n",
       "      <td>1</td>\n",
       "      <td>0</td>\n",
       "      <td>0</td>\n",
       "      <td>0</td>\n",
       "      <td>0</td>\n",
       "      <td>0</td>\n",
       "    </tr>\n",
       "    <tr>\n",
       "      <td>2018-12-31 23:24:58</td>\n",
       "      <td>2018</td>\n",
       "      <td>12</td>\n",
       "      <td>31</td>\n",
       "      <td>23</td>\n",
       "      <td>1</td>\n",
       "      <td>6</td>\n",
       "      <td>425</td>\n",
       "      <td>False</td>\n",
       "      <td>False</td>\n",
       "      <td>0</td>\n",
       "      <td>...</td>\n",
       "      <td>0</td>\n",
       "      <td>0</td>\n",
       "      <td>0</td>\n",
       "      <td>0</td>\n",
       "      <td>0</td>\n",
       "      <td>0</td>\n",
       "      <td>0</td>\n",
       "      <td>0</td>\n",
       "      <td>0</td>\n",
       "      <td>0</td>\n",
       "    </tr>\n",
       "    <tr>\n",
       "      <td>2018-12-31 23:04:54</td>\n",
       "      <td>2018</td>\n",
       "      <td>12</td>\n",
       "      <td>31</td>\n",
       "      <td>23</td>\n",
       "      <td>1</td>\n",
       "      <td>6</td>\n",
       "      <td>679</td>\n",
       "      <td>False</td>\n",
       "      <td>False</td>\n",
       "      <td>0</td>\n",
       "      <td>...</td>\n",
       "      <td>0</td>\n",
       "      <td>0</td>\n",
       "      <td>0</td>\n",
       "      <td>0</td>\n",
       "      <td>0</td>\n",
       "      <td>0</td>\n",
       "      <td>0</td>\n",
       "      <td>0</td>\n",
       "      <td>0</td>\n",
       "      <td>0</td>\n",
       "    </tr>\n",
       "    <tr>\n",
       "      <td>2018-12-31 22:08:50</td>\n",
       "      <td>2018</td>\n",
       "      <td>12</td>\n",
       "      <td>31</td>\n",
       "      <td>22</td>\n",
       "      <td>1</td>\n",
       "      <td>3</td>\n",
       "      <td>455</td>\n",
       "      <td>True</td>\n",
       "      <td>False</td>\n",
       "      <td>0</td>\n",
       "      <td>...</td>\n",
       "      <td>0</td>\n",
       "      <td>0</td>\n",
       "      <td>0</td>\n",
       "      <td>0</td>\n",
       "      <td>0</td>\n",
       "      <td>0</td>\n",
       "      <td>0</td>\n",
       "      <td>0</td>\n",
       "      <td>0</td>\n",
       "      <td>0</td>\n",
       "    </tr>\n",
       "  </tbody>\n",
       "</table>\n",
       "<p>5 rows × 358 columns</p>\n",
       "</div>"
      ],
      "text/plain": [
       "                     year  month  day  hour  weekday  final_severity_level  \\\n",
       "incident_datetime                                                            \n",
       "2018-12-31 23:59:46  2018     12   31    23        1                     2   \n",
       "2018-12-31 23:49:42  2018     12   31    23        1                     2   \n",
       "2018-12-31 23:24:58  2018     12   31    23        1                     6   \n",
       "2018-12-31 23:04:54  2018     12   31    23        1                     6   \n",
       "2018-12-31 22:08:50  2018     12   31    22        1                     3   \n",
       "\n",
       "                     response_time  life_threatening  fatality  brgh_BRONX  \\\n",
       "incident_datetime                                                            \n",
       "2018-12-31 23:59:46            461              True     False           0   \n",
       "2018-12-31 23:49:42            328              True     False           0   \n",
       "2018-12-31 23:24:58            425             False     False           0   \n",
       "2018-12-31 23:04:54            679             False     False           0   \n",
       "2018-12-31 22:08:50            455              True     False           0   \n",
       "\n",
       "                     ...  fct_STAB  fct_STATEP  fct_STATFC  fct_TRAUMA  \\\n",
       "incident_datetime    ...                                                 \n",
       "2018-12-31 23:59:46  ...         0           0           0           0   \n",
       "2018-12-31 23:49:42  ...         0           0           0           0   \n",
       "2018-12-31 23:24:58  ...         0           0           0           0   \n",
       "2018-12-31 23:04:54  ...         0           0           0           0   \n",
       "2018-12-31 22:08:50  ...         0           0           0           0   \n",
       "\n",
       "                     fct_UNC  fct_UNCFC  fct_UNCFT  fct_UNCRF  fct_UNKNOW  \\\n",
       "incident_datetime                                                           \n",
       "2018-12-31 23:59:46        0          0          0          0           0   \n",
       "2018-12-31 23:49:42        1          0          0          0           0   \n",
       "2018-12-31 23:24:58        0          0          0          0           0   \n",
       "2018-12-31 23:04:54        0          0          0          0           0   \n",
       "2018-12-31 22:08:50        0          0          0          0           0   \n",
       "\n",
       "                     fct_VENOM  \n",
       "incident_datetime               \n",
       "2018-12-31 23:59:46          0  \n",
       "2018-12-31 23:49:42          0  \n",
       "2018-12-31 23:24:58          0  \n",
       "2018-12-31 23:04:54          0  \n",
       "2018-12-31 22:08:50          0  \n",
       "\n",
       "[5 rows x 358 columns]"
      ]
     },
     "execution_count": 12,
     "metadata": {},
     "output_type": "execute_result"
    }
   ],
   "source": [
    "# One-Hot encode dataframe\n",
    "df_ohe = pd.get_dummies(df,prefix=['brgh','zip','fct'])\n",
    "\n",
    "# Inspect encoded dataframe\n",
    "print(df_ohe.shape)\n",
    "df_ohe.head()"
   ]
  },
  {
   "cell_type": "code",
   "execution_count": 13,
   "metadata": {},
   "outputs": [
    {
     "name": "stdout",
     "output_type": "stream",
     "text": [
      "y\n",
      "Type: <class 'numpy.ndarray'>\n",
      "Shape: (8054500,)\n",
      "\n",
      "X (One-Hot Encoding)\n",
      "Type: <class 'numpy.ndarray'>\n",
      "Shape: (8054500, 357)\n"
     ]
    }
   ],
   "source": [
    "# Target variable\n",
    "y_ohe = df_ohe['fatality'].values\n",
    "print(f'y\\nType: {type(y_ohe)}\\nShape: {y_ohe.shape}')\n",
    "print()\n",
    "\n",
    "# All feature variables\n",
    "X_tmp = df_ohe.drop(columns=['fatality'])\n",
    "X_ohe = X_tmp.values\n",
    "print(f'X (One-Hot Encoding)\\nType: {type(X_ohe)}\\nShape: {X_ohe.shape}')"
   ]
  },
  {
   "cell_type": "markdown",
   "metadata": {},
   "source": [
    "<p>Applying One-Hot encoding increases the number of feature variables in the clean dataset from 11 to 357. <a href=#TOC>TOC</a></p>"
   ]
  },
  {
   "cell_type": "markdown",
   "metadata": {},
   "source": [
    "<a id=\"Sec02C\"></a>\n",
    "<h4>2C: Binary Encoding</h4>"
   ]
  },
  {
   "cell_type": "code",
   "execution_count": 14,
   "metadata": {},
   "outputs": [
    {
     "name": "stdout",
     "output_type": "stream",
     "text": [
      "(8054500, 31)\n"
     ]
    },
    {
     "data": {
      "text/html": [
       "<div>\n",
       "<style scoped>\n",
       "    .dataframe tbody tr th:only-of-type {\n",
       "        vertical-align: middle;\n",
       "    }\n",
       "\n",
       "    .dataframe tbody tr th {\n",
       "        vertical-align: top;\n",
       "    }\n",
       "\n",
       "    .dataframe thead th {\n",
       "        text-align: right;\n",
       "    }\n",
       "</style>\n",
       "<table border=\"1\" class=\"dataframe\">\n",
       "  <thead>\n",
       "    <tr style=\"text-align: right;\">\n",
       "      <th></th>\n",
       "      <th>year</th>\n",
       "      <th>month</th>\n",
       "      <th>day</th>\n",
       "      <th>hour</th>\n",
       "      <th>weekday</th>\n",
       "      <th>borough_0</th>\n",
       "      <th>borough_1</th>\n",
       "      <th>borough_2</th>\n",
       "      <th>borough_3</th>\n",
       "      <th>zipcode_0</th>\n",
       "      <th>...</th>\n",
       "      <th>final_call_type_3</th>\n",
       "      <th>final_call_type_4</th>\n",
       "      <th>final_call_type_5</th>\n",
       "      <th>final_call_type_6</th>\n",
       "      <th>final_call_type_7</th>\n",
       "      <th>final_call_type_8</th>\n",
       "      <th>final_severity_level</th>\n",
       "      <th>response_time</th>\n",
       "      <th>life_threatening</th>\n",
       "      <th>fatality</th>\n",
       "    </tr>\n",
       "    <tr>\n",
       "      <th>incident_datetime</th>\n",
       "      <th></th>\n",
       "      <th></th>\n",
       "      <th></th>\n",
       "      <th></th>\n",
       "      <th></th>\n",
       "      <th></th>\n",
       "      <th></th>\n",
       "      <th></th>\n",
       "      <th></th>\n",
       "      <th></th>\n",
       "      <th></th>\n",
       "      <th></th>\n",
       "      <th></th>\n",
       "      <th></th>\n",
       "      <th></th>\n",
       "      <th></th>\n",
       "      <th></th>\n",
       "      <th></th>\n",
       "      <th></th>\n",
       "      <th></th>\n",
       "      <th></th>\n",
       "    </tr>\n",
       "  </thead>\n",
       "  <tbody>\n",
       "    <tr>\n",
       "      <td>2018-12-31 23:59:46</td>\n",
       "      <td>2018</td>\n",
       "      <td>12</td>\n",
       "      <td>31</td>\n",
       "      <td>23</td>\n",
       "      <td>1</td>\n",
       "      <td>0</td>\n",
       "      <td>0</td>\n",
       "      <td>1</td>\n",
       "      <td>0</td>\n",
       "      <td>0</td>\n",
       "      <td>...</td>\n",
       "      <td>0</td>\n",
       "      <td>0</td>\n",
       "      <td>0</td>\n",
       "      <td>0</td>\n",
       "      <td>0</td>\n",
       "      <td>1</td>\n",
       "      <td>2</td>\n",
       "      <td>461</td>\n",
       "      <td>True</td>\n",
       "      <td>False</td>\n",
       "    </tr>\n",
       "    <tr>\n",
       "      <td>2018-12-31 23:49:42</td>\n",
       "      <td>2018</td>\n",
       "      <td>12</td>\n",
       "      <td>31</td>\n",
       "      <td>23</td>\n",
       "      <td>1</td>\n",
       "      <td>0</td>\n",
       "      <td>0</td>\n",
       "      <td>1</td>\n",
       "      <td>0</td>\n",
       "      <td>0</td>\n",
       "      <td>...</td>\n",
       "      <td>0</td>\n",
       "      <td>0</td>\n",
       "      <td>0</td>\n",
       "      <td>0</td>\n",
       "      <td>1</td>\n",
       "      <td>0</td>\n",
       "      <td>2</td>\n",
       "      <td>328</td>\n",
       "      <td>True</td>\n",
       "      <td>False</td>\n",
       "    </tr>\n",
       "    <tr>\n",
       "      <td>2018-12-31 23:24:58</td>\n",
       "      <td>2018</td>\n",
       "      <td>12</td>\n",
       "      <td>31</td>\n",
       "      <td>23</td>\n",
       "      <td>1</td>\n",
       "      <td>0</td>\n",
       "      <td>0</td>\n",
       "      <td>1</td>\n",
       "      <td>0</td>\n",
       "      <td>0</td>\n",
       "      <td>...</td>\n",
       "      <td>0</td>\n",
       "      <td>0</td>\n",
       "      <td>0</td>\n",
       "      <td>0</td>\n",
       "      <td>1</td>\n",
       "      <td>1</td>\n",
       "      <td>6</td>\n",
       "      <td>425</td>\n",
       "      <td>False</td>\n",
       "      <td>False</td>\n",
       "    </tr>\n",
       "    <tr>\n",
       "      <td>2018-12-31 23:04:54</td>\n",
       "      <td>2018</td>\n",
       "      <td>12</td>\n",
       "      <td>31</td>\n",
       "      <td>23</td>\n",
       "      <td>1</td>\n",
       "      <td>0</td>\n",
       "      <td>0</td>\n",
       "      <td>1</td>\n",
       "      <td>0</td>\n",
       "      <td>0</td>\n",
       "      <td>...</td>\n",
       "      <td>0</td>\n",
       "      <td>0</td>\n",
       "      <td>0</td>\n",
       "      <td>0</td>\n",
       "      <td>1</td>\n",
       "      <td>1</td>\n",
       "      <td>6</td>\n",
       "      <td>679</td>\n",
       "      <td>False</td>\n",
       "      <td>False</td>\n",
       "    </tr>\n",
       "    <tr>\n",
       "      <td>2018-12-31 22:08:50</td>\n",
       "      <td>2018</td>\n",
       "      <td>12</td>\n",
       "      <td>31</td>\n",
       "      <td>22</td>\n",
       "      <td>1</td>\n",
       "      <td>0</td>\n",
       "      <td>0</td>\n",
       "      <td>1</td>\n",
       "      <td>0</td>\n",
       "      <td>0</td>\n",
       "      <td>...</td>\n",
       "      <td>0</td>\n",
       "      <td>0</td>\n",
       "      <td>0</td>\n",
       "      <td>1</td>\n",
       "      <td>0</td>\n",
       "      <td>0</td>\n",
       "      <td>3</td>\n",
       "      <td>455</td>\n",
       "      <td>True</td>\n",
       "      <td>False</td>\n",
       "    </tr>\n",
       "  </tbody>\n",
       "</table>\n",
       "<p>5 rows × 31 columns</p>\n",
       "</div>"
      ],
      "text/plain": [
       "                     year  month  day  hour  weekday  borough_0  borough_1  \\\n",
       "incident_datetime                                                            \n",
       "2018-12-31 23:59:46  2018     12   31    23        1          0          0   \n",
       "2018-12-31 23:49:42  2018     12   31    23        1          0          0   \n",
       "2018-12-31 23:24:58  2018     12   31    23        1          0          0   \n",
       "2018-12-31 23:04:54  2018     12   31    23        1          0          0   \n",
       "2018-12-31 22:08:50  2018     12   31    22        1          0          0   \n",
       "\n",
       "                     borough_2  borough_3  zipcode_0  ...  final_call_type_3  \\\n",
       "incident_datetime                                     ...                      \n",
       "2018-12-31 23:59:46          1          0          0  ...                  0   \n",
       "2018-12-31 23:49:42          1          0          0  ...                  0   \n",
       "2018-12-31 23:24:58          1          0          0  ...                  0   \n",
       "2018-12-31 23:04:54          1          0          0  ...                  0   \n",
       "2018-12-31 22:08:50          1          0          0  ...                  0   \n",
       "\n",
       "                     final_call_type_4  final_call_type_5  final_call_type_6  \\\n",
       "incident_datetime                                                              \n",
       "2018-12-31 23:59:46                  0                  0                  0   \n",
       "2018-12-31 23:49:42                  0                  0                  0   \n",
       "2018-12-31 23:24:58                  0                  0                  0   \n",
       "2018-12-31 23:04:54                  0                  0                  0   \n",
       "2018-12-31 22:08:50                  0                  0                  1   \n",
       "\n",
       "                     final_call_type_7  final_call_type_8  \\\n",
       "incident_datetime                                           \n",
       "2018-12-31 23:59:46                  0                  1   \n",
       "2018-12-31 23:49:42                  1                  0   \n",
       "2018-12-31 23:24:58                  1                  1   \n",
       "2018-12-31 23:04:54                  1                  1   \n",
       "2018-12-31 22:08:50                  0                  0   \n",
       "\n",
       "                     final_severity_level  response_time  life_threatening  \\\n",
       "incident_datetime                                                            \n",
       "2018-12-31 23:59:46                     2            461              True   \n",
       "2018-12-31 23:49:42                     2            328              True   \n",
       "2018-12-31 23:24:58                     6            425             False   \n",
       "2018-12-31 23:04:54                     6            679             False   \n",
       "2018-12-31 22:08:50                     3            455              True   \n",
       "\n",
       "                     fatality  \n",
       "incident_datetime              \n",
       "2018-12-31 23:59:46     False  \n",
       "2018-12-31 23:49:42     False  \n",
       "2018-12-31 23:24:58     False  \n",
       "2018-12-31 23:04:54     False  \n",
       "2018-12-31 22:08:50     False  \n",
       "\n",
       "[5 rows x 31 columns]"
      ]
     },
     "execution_count": 14,
     "metadata": {},
     "output_type": "execute_result"
    }
   ],
   "source": [
    "# Binary encode dataframe\n",
    "enc_binary = ce.BinaryEncoder(cols=var_names_nom)\n",
    "df_bin = enc_binary.fit_transform(df)\n",
    "\n",
    "# Inspect encoded dataframe\n",
    "print(df_bin.shape)\n",
    "df_bin.head()"
   ]
  },
  {
   "cell_type": "code",
   "execution_count": 15,
   "metadata": {},
   "outputs": [
    {
     "name": "stdout",
     "output_type": "stream",
     "text": [
      "y\n",
      "Type: <class 'numpy.ndarray'>\n",
      "Shape: (8054500,)\n",
      "\n",
      "X (Binary Encoding)\n",
      "Type: <class 'numpy.ndarray'>\n",
      "Shape: (8054500, 30)\n"
     ]
    }
   ],
   "source": [
    "# Target variable\n",
    "y_bin = df_bin['fatality'].values\n",
    "print(f'y\\nType: {type(y_bin)}\\nShape: {y_bin.shape}')\n",
    "print()\n",
    "\n",
    "# All feature variables\n",
    "X_bin = df_bin.iloc[:,:-1].values\n",
    "print(f'X (Binary Encoding)\\nType: {type(X_bin)}\\nShape: {X_bin.shape}')"
   ]
  },
  {
   "cell_type": "markdown",
   "metadata": {},
   "source": [
    "<p>Applying binary encoding increases the number of feature variables in the clean dataset from 11 to 30. <a href=#TOC>TOC</a></p>"
   ]
  },
  {
   "cell_type": "markdown",
   "metadata": {},
   "source": [
    "<hr>"
   ]
  },
  {
   "cell_type": "markdown",
   "metadata": {},
   "source": [
    "<h2 style=\"text-transform: uppercase;\">3. Baseline Models</h2>"
   ]
  },
  {
   "cell_type": "markdown",
   "metadata": {},
   "source": [
    "<a id=\"Sec03A\"></a>\n",
    "<h4>3A: Create Train and Test Sets</h4>"
   ]
  },
  {
   "cell_type": "code",
   "execution_count": 16,
   "metadata": {},
   "outputs": [],
   "source": [
    "# Initialize parameters\n",
    "RANDOM_STATE = 917\n",
    "TEST_SIZE = 0.20"
   ]
  },
  {
   "cell_type": "code",
   "execution_count": 17,
   "metadata": {},
   "outputs": [],
   "source": [
    "# # Split the One-Hot encoded data into a training set and test set\n",
    "# X_train, X_test, y_train, y_test = train_test_split(X_ohe, y_ohe, \n",
    "#                                                     test_size=TEST_SIZE, \n",
    "#                                                     random_state=RANDOM_STATE)"
   ]
  },
  {
   "cell_type": "code",
   "execution_count": 18,
   "metadata": {},
   "outputs": [],
   "source": [
    "# Split the binary encoded data into a training set and test set\n",
    "X_train, X_test, y_train, y_test = train_test_split(X_bin, y_bin,\n",
    "                                                    test_size=TEST_SIZE, \n",
    "                                                    random_state=RANDOM_STATE)"
   ]
  },
  {
   "cell_type": "code",
   "execution_count": 19,
   "metadata": {},
   "outputs": [
    {
     "name": "stdout",
     "output_type": "stream",
     "text": [
      "TRAINING DATA = 6443600 observations\n",
      "Class Counts: {'Fatalities': 271223, 'Survivals': 6172377}\n",
      "Proportions:  {'Fatalities': 0.0421, 'Survivals': 0.9579}\n",
      "\n",
      "TEST DATA     = 1610900 observations\n",
      "Class Counts: {'Fatalities': 68087, 'Survivals': 1542813}\n",
      "Proportions:  {'Fatalities': 0.0423, 'Survivals': 0.9577}\n"
     ]
    }
   ],
   "source": [
    "# Define function to calculate target class counts\n",
    "def get_class_counts(arr):\n",
    "    class_f = sum(arr)\n",
    "    class_s = len(arr) - class_f\n",
    "    return {'Fatalities': class_f, 'Survivals':class_s}\n",
    "\n",
    "# Define function to calculate target class proportions\n",
    "def get_class_proportions(arr):\n",
    "    class_f = round(sum(arr)/len(arr),4)\n",
    "    class_s = 1 - class_f\n",
    "    return {'Fatalities': class_f, 'Survivals':class_s}\n",
    "\n",
    "# Output results\n",
    "print(f'TRAINING DATA = {len(y_train)} observations')\n",
    "print(f'Class Counts: {get_class_counts(y_train)}')\n",
    "print(f'Proportions:  {get_class_proportions(y_train)}')\n",
    "print()\n",
    "print(f'TEST DATA     = {len(y_test)} observations')\n",
    "print(f'Class Counts: {get_class_counts(y_test)}')\n",
    "print(f'Proportions:  {get_class_proportions(y_test)}')"
   ]
  },
  {
   "cell_type": "markdown",
   "metadata": {},
   "source": [
    "<p><a href=#TOC>TOC</a></p>"
   ]
  },
  {
   "cell_type": "markdown",
   "metadata": {},
   "source": [
    "<a id=\"Sec03B\"></a>\n",
    "<h4>3B: Logistic Regression</h4>"
   ]
  },
  {
   "cell_type": "code",
   "execution_count": 20,
   "metadata": {},
   "outputs": [
    {
     "name": "stdout",
     "output_type": "stream",
     "text": [
      "Runtime: 691.6292 seconds\n"
     ]
    }
   ],
   "source": [
    "# Instantiate a baseline Logistic Regression classifier\n",
    "clf_lr = LogisticRegression(random_state=RANDOM_STATE,max_iter=10000)\n",
    "\n",
    "# Fit the model to the binary encoded dataset\n",
    "start_time = time.time()\n",
    "clf_lr.fit(X_train,y_train)\n",
    "print(f'Runtime: {time.time()-start_time:.4f} seconds')"
   ]
  },
  {
   "cell_type": "markdown",
   "metadata": {},
   "source": [
    "<p><a href=#TOC>TOC</a></p>"
   ]
  },
  {
   "cell_type": "markdown",
   "metadata": {},
   "source": [
    "<a id=\"Sec03C\"></a>\n",
    "<h4>3C: Random Forest</h4>"
   ]
  },
  {
   "cell_type": "code",
   "execution_count": 21,
   "metadata": {},
   "outputs": [
    {
     "name": "stdout",
     "output_type": "stream",
     "text": [
      "Runtime: 4984.7448 seconds\n"
     ]
    }
   ],
   "source": [
    "# Instantiate a baseline Random Forest classifier\n",
    "clf_rf = RandomForestClassifier(random_state=RANDOM_STATE)\n",
    "\n",
    "# Fit the model to the binary encoded dataset\n",
    "start_time = time.time()\n",
    "clf_rf.fit(X_train,y_train)\n",
    "print(f'Runtime: {time.time()-start_time:.4f} seconds')"
   ]
  },
  {
   "cell_type": "markdown",
   "metadata": {},
   "source": [
    "<p><a href=#TOC>TOC</a></p>"
   ]
  },
  {
   "cell_type": "markdown",
   "metadata": {},
   "source": [
    "<a id=\"Sec03D\"></a>\n",
    "<h4>3D: Analysis of Model Performance</h4>"
   ]
  },
  {
   "cell_type": "markdown",
   "metadata": {},
   "source": [
    "<p>Due to the context of the business problem, the main metric that will be used to evaluate the classifiers in this analysis is <strong>recall (sensitivity)</strong>. Given that the positive class represents a fatality, it is imperative to predict such an occurence as often as possible <em>when it actually occurs</em>; this is the true positive rate by definition. Ideally, this rate should be as close as possible to 1. Thus, recall score is the most appropriate metric for model performance.</p>\n",
    "\n",
    "<p>A secondary metric that is also useful for this particular problem is <strong>precision</strong>. In this context, the precision measures how often the model is correct <em>when it predicts</em> that a fatality occurred. Unlike the recall score, there is more flexibility with the range of the precision score since it is acceptable to predict some instances as fatalities when they actually are not (false positives).</p>\n",
    "\n",
    "<p>The aforementioned information can be easily obtained via a clasification report and a confusion matrix.</p>"
   ]
  },
  {
   "cell_type": "code",
   "execution_count": 22,
   "metadata": {},
   "outputs": [],
   "source": [
    "# Define null accuracy\n",
    "def null_accuracy(y):\n",
    "    return max(y.mean(),1-y.mean()) # percentage of the most frequent class in y"
   ]
  },
  {
   "cell_type": "code",
   "execution_count": 23,
   "metadata": {
    "scrolled": false
   },
   "outputs": [
    {
     "name": "stdout",
     "output_type": "stream",
     "text": [
      "CLASSIFIER: LOGISTIC REGRESSION (TRAINING DATA)\n",
      "\n",
      "Classification Accuracy: 0.9578 (y_train, ypred_train_lr)\n",
      "Null Accuracy:           0.9579 (y_train)\n",
      "Recall Score:            0.0018 (y_train, ypred_train_lr)\n",
      "\n",
      "Classification Report:\n",
      "              precision    recall  f1-score   support\n",
      "\n",
      "       False       0.96      1.00      0.98   6172377\n",
      "        True       0.26      0.00      0.00    271223\n",
      "\n",
      "    accuracy                           0.96   6443600\n",
      "   macro avg       0.61      0.50      0.49   6443600\n",
      "weighted avg       0.93      0.96      0.94   6443600\n",
      "\n",
      "\n",
      "\n",
      "CLASSIFIER: LOGISTIC REGRESSION (TEST DATA)\n",
      "\n",
      "Classification Accuracy: 0.9576 (y_test, ypred_test_lr)\n",
      "Null Accuracy:           0.9577 (y_test)\n",
      "Recall Score:            0.0018 (y_test, ypred_test_lr)\n",
      "\n",
      "Classification Report:\n",
      "              precision    recall  f1-score   support\n",
      "\n",
      "       False       0.96      1.00      0.98   1542813\n",
      "        True       0.28      0.00      0.00     68087\n",
      "\n",
      "    accuracy                           0.96   1610900\n",
      "   macro avg       0.62      0.50      0.49   1610900\n",
      "weighted avg       0.93      0.96      0.94   1610900\n",
      "\n"
     ]
    }
   ],
   "source": [
    "# Make predictions with Logistic Regression classifier\n",
    "ypred_train_lr = clf_lr.predict(X_train)\n",
    "ypred_test_lr = clf_lr.predict(X_test)\n",
    "\n",
    "# Evaluation metrics for Logistic Regression classifier\n",
    "print('CLASSIFIER: LOGISTIC REGRESSION (TRAINING DATA)')\n",
    "print()\n",
    "print(f'Classification Accuracy: {accuracy_score(y_train, ypred_train_lr):.4f} (y_train, ypred_train_lr)')\n",
    "print(f'Null Accuracy:           {null_accuracy(y_train):.4f} (y_train)')\n",
    "print(f'Recall Score:            {recall_score(y_train, ypred_train_lr):.4f} (y_train, ypred_train_lr)')\n",
    "print()\n",
    "print('Classification Report:')\n",
    "print(classification_report(y_train, ypred_train_lr))\n",
    "print()\n",
    "print()\n",
    "print('CLASSIFIER: LOGISTIC REGRESSION (TEST DATA)')\n",
    "print()\n",
    "print(f'Classification Accuracy: {accuracy_score(y_test, ypred_test_lr):.4f} (y_test, ypred_test_lr)')\n",
    "print(f'Null Accuracy:           {null_accuracy(y_test):.4f} (y_test)')\n",
    "print(f'Recall Score:            {recall_score(y_test, ypred_test_lr):.4f} (y_test, ypred_test_lr)')\n",
    "print()\n",
    "print('Classification Report:')\n",
    "print(classification_report(y_test, ypred_test_lr))"
   ]
  },
  {
   "cell_type": "code",
   "execution_count": 24,
   "metadata": {},
   "outputs": [
    {
     "data": {
      "image/png": "[encoded data removed]",
      "text/plain": [
       "<Figure size 1152x576 with 4 Axes>"
      ]
     },
     "metadata": {
      "needs_background": "light"
     },
     "output_type": "display_data"
    }
   ],
   "source": [
    "# Normalized confusion matrix plot for training and test data\n",
    "y_class_names = ['Survivals','Fatalities']\n",
    "\n",
    "fig3D1, (ax3D1a,ax3D1b) = plt.subplots(1,2,figsize=(16,8))\n",
    "\n",
    "# Training Data: Logistic Regression\n",
    "disp = plot_confusion_matrix(clf_lr,X_train,y_train,#normalize='all',\n",
    "                             ax=ax3D1a,display_labels=y_class_names,cmap='Reds')\n",
    "ax3D1a.set_title('Training Data: Logistic Regression',size=16)\n",
    "ax3D1a.set_xlabel('Predicted Label',size=14)\n",
    "ax3D1a.set_ylabel('True Label',size=14)\n",
    "\n",
    "# Test Data: Logistic Regression\n",
    "disp = plot_confusion_matrix(clf_lr,X_test,y_test,#normalize='all',\n",
    "                             ax=ax3D1b,display_labels=y_class_names,cmap='Reds')\n",
    "ax3D1b.set_title('Test Data: Logistic Regression',size=16)\n",
    "ax3D1b.set_xlabel('Predicted Label',size=14)\n",
    "ax3D1b.set_ylabel('True Label',size=14)\n",
    "\n",
    "#plt.savefig('../graphics/CP1-04a_fig03D1.png') # Export confusion matrix plot to PNG file\n",
    "plt.show()"
   ]
  },
  {
   "cell_type": "markdown",
   "metadata": {},
   "source": [
    "It may seem that the baseline Logistic Regression model performs well given the classification reports for both the training and test data are similar, however, this is not the case. The two classes of the target variable (`fatality`) are heavily imbalanced. The classification accuracy for both the training and test sets can be attributed to the fact that the model accurately predicts the <em>majority</em> class (<strong>Survivals</strong>) given its high frequency in the original dataset. \n",
    "\n",
    "<p>This notion is supported by the fact that the null accuracy is nearly the same as the classification accuracy for both the training and test sets. In addition, the recall scores clearly show that the classifier fails to detect observations within the <em>minority</em> class (<strong>Fatalities</strong>) yet always detects those within the <em>majority</em> class.</p>"
   ]
  },
  {
   "cell_type": "code",
   "execution_count": 25,
   "metadata": {},
   "outputs": [
    {
     "name": "stdout",
     "output_type": "stream",
     "text": [
      "CLASSIFIER: RANDOM FOREST (TEST DATA)\n",
      "\n",
      "Classification Accuracy: 0.9573 (y_test, ypred_test_rf)\n",
      "Null Accuracy:           0.9577 (y_test)\n",
      "Recall Score:            0.0248 (y_test, ypred_test_rf)\n",
      "\n",
      "Classification Report:\n",
      "              precision    recall  f1-score   support\n",
      "\n",
      "       False       0.96      1.00      0.98   1542813\n",
      "        True       0.42      0.02      0.05     68087\n",
      "\n",
      "    accuracy                           0.96   1610900\n",
      "   macro avg       0.69      0.51      0.51   1610900\n",
      "weighted avg       0.94      0.96      0.94   1610900\n",
      "\n"
     ]
    }
   ],
   "source": [
    "# Make predictions with Random Forest classifier\n",
    "ypred_test_rf = clf_rf.predict(X_test)\n",
    "\n",
    "# Evaluation metrics for Random Forest classifier\n",
    "print('CLASSIFIER: RANDOM FOREST (TEST DATA)')\n",
    "print()\n",
    "print(f'Classification Accuracy: {accuracy_score(y_test, ypred_test_rf):.4f} (y_test, ypred_test_rf)')\n",
    "print(f'Null Accuracy:           {null_accuracy(y_test):.4f} (y_test)')\n",
    "print(f'Recall Score:            {recall_score(y_test, ypred_test_rf):.4f} (y_test, ypred_test_rf)')\n",
    "print()\n",
    "print('Classification Report:')\n",
    "print(classification_report(y_test, ypred_test_rf))"
   ]
  },
  {
   "cell_type": "code",
   "execution_count": 26,
   "metadata": {},
   "outputs": [
    {
     "data": {
      "image/png": "[encoded data removed]",
      "text/plain": [
       "<Figure size 576x576 with 2 Axes>"
      ]
     },
     "metadata": {
      "needs_background": "light"
     },
     "output_type": "display_data"
    }
   ],
   "source": [
    "# Normalized confusion matrix plot for test data\n",
    "y_class_names = ['Survivals','Fatalities']\n",
    "fig3D2, ax3D2 = plt.subplots(figsize=(8,8))\n",
    "\n",
    "# Test Data: Random Forest\n",
    "disp = plot_confusion_matrix(clf_rf,X_test,y_test,#normalize='all',\n",
    "                             ax=ax3D2,display_labels=y_class_names,cmap='Reds')\n",
    "ax3D2.set_title('Test Data: Random Forest',size=16)\n",
    "ax3D2.set_xlabel('Predicted Label',size=14)\n",
    "ax3D2.set_ylabel('True Label',size=14)\n",
    "\n",
    "#plt.savefig('../graphics/CP1-04a_fig03D2.png') # Export confusion matrix plot to PNG file\n",
    "plt.show()"
   ]
  },
  {
   "cell_type": "markdown",
   "metadata": {},
   "source": [
    "The baseline Random Forest classifier offers marginal improvements in <strong>recall</strong> and <strong>precision</strong> for predicting fatalities (0.02 and 0.42, respectively) when compared to that of its Logistic Regression counterpart (0.00 and 0.28, respectively). However, both models severely under-perform with respect to the aforementioned metrics. For this reason, separate notebooks will be used to explore different sampling techniques that are tailored to improve classification on imbalanced datasets such as this one.<p><a href=#TOC>TOC</a></p>"
   ]
  }
 ],
 "metadata": {
  "kernelspec": {
   "display_name": "Python 3",
   "language": "python",
   "name": "python3"
  },
  "language_info": {
   "codemirror_mode": {
    "name": "ipython",
    "version": 3
   },
   "file_extension": ".py",
   "mimetype": "text/x-python",
   "name": "python",
   "nbconvert_exporter": "python",
   "pygments_lexer": "ipython3",
   "version": "3.6.8"
  }
 },
 "nbformat": 4,
 "nbformat_minor": 2
}
