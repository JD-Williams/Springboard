{
 "cells": [
  {
   "cell_type": "markdown",
   "metadata": {},
   "source": [
    "# Capstone 1: Machine Learning Algorithms - Baseline"
   ]
  },
  {
   "cell_type": "markdown",
   "metadata": {},
   "source": [
    "<a id='TOC'></a>\n",
    "**Table of Contents**\n",
    "1. Preliminaries\n",
    "    1. [Import EMS Incident Data](#Sec01A)\n",
    "    2. [Preprocess Dataset](#Sec01B)\n",
    "    3. [Segment Variables](#Sec01C)\n",
    "2. Variable Encoding Methods\n",
    "    1. [Inspect Target Variable](#Sec02A)\n",
    "    2. [One-Hot Encoding](#Sec02B)\n",
    "    3. [Binary Encoding](#Sec02C)\n",
    "3. Baseline Model\n",
    "    1. [Logistic Regression](#Sec03A)\n",
    "    2. [Analysis of Model Performance](#Sec03B)"
   ]
  },
  {
   "cell_type": "markdown",
   "metadata": {},
   "source": [
    "The goal of this project is to develop machine learning models that predict whether or not the outcome of an EMS incident will result in a fatality. This is a supervised, binary classification problem. Analyses will be performed on a collection of nearly 8 million records of documented incidents, which span the six year period from January 2013 through December 2018, and appropriate predictive models will be developed to achieve the primary objective. This dataset is robust and contains several feature variables, of mixed data types, that describe both various attributes of each incident as well as the responsive action taken by the FDNY. All of the aforementioned factors affect an individual’s survivability once a response is initiated.\n",
    "\n",
    "The dataset will be preprocessed using insights gained through prior analyses and various encoding methods for categorical variables. Afterwards, baseline classifiers will be constructed and assessed for their model performance on both training and test data."
   ]
  },
  {
   "cell_type": "markdown",
   "metadata": {},
   "source": [
    "## 1. PRELIMINARIES"
   ]
  },
  {
   "cell_type": "markdown",
   "metadata": {},
   "source": [
    "<a id='Sec01A'></a>\n",
    "#### 1A: Import EMS incident data"
   ]
  },
  {
   "cell_type": "code",
   "execution_count": 1,
   "metadata": {},
   "outputs": [],
   "source": [
    "# Import packages and modules\n",
    "import pandas as pd\n",
    "import numpy as np\n",
    "import category_encoders as ce\n",
    "\n",
    "import matplotlib.pyplot as plt\n",
    "%matplotlib inline\n",
    "\n",
    "from sklearn.model_selection import train_test_split\n",
    "from sklearn.metrics import accuracy_score, classification_report, plot_confusion_matrix\n",
    "from sklearn.linear_model import LogisticRegression"
   ]
  },
  {
   "cell_type": "code",
   "execution_count": 2,
   "metadata": {},
   "outputs": [],
   "source": [
    "# Assign file path\n",
    "file_path = '../data/clean_EMS_data.csv'\n",
    "\n",
    "# Read CSV data into a Pandas DataFrame\n",
    "datetime_cols = ['incident_datetime',\n",
    "                 'first_assignment_datetime',\n",
    "                 'first_activation_datetime',\n",
    "                 'first_on_scene_datetime',\n",
    "                 'first_to_hosp_datetime',\n",
    "                 'first_hosp_arrival_datetime',\n",
    "                 'incident_close_datetime']\n",
    "\n",
    "df = pd.read_csv(file_path,compression='gzip',\n",
    "                 parse_dates=datetime_cols,\n",
    "                 index_col=['incident_datetime'])"
   ]
  },
  {
   "cell_type": "code",
   "execution_count": 3,
   "metadata": {},
   "outputs": [
    {
     "name": "stdout",
     "output_type": "stream",
     "text": [
      "<class 'pandas.core.frame.DataFrame'>\n",
      "DatetimeIndex: 7988028 entries, 2013-01-01 00:00:04 to 2018-12-19 00:19:39\n",
      "Data columns (total 29 columns):\n",
      "year                           int64\n",
      "month                          int64\n",
      "day                            int64\n",
      "hour                           int64\n",
      "weekday                        int64\n",
      "borough                        object\n",
      "zipcode                        float64\n",
      "latitude                       float64\n",
      "longitude                      float64\n",
      "aland_sqmi                     float64\n",
      "awater_sqmi                    float64\n",
      "initial_call_type              object\n",
      "initial_severity_level         int64\n",
      "final_call_type                object\n",
      "final_severity_level           int64\n",
      "held_indicator                 object\n",
      "first_assignment_datetime      datetime64[ns]\n",
      "incident_dispatch_area         object\n",
      "dispatch_time                  int64\n",
      "first_activation_datetime      datetime64[ns]\n",
      "first_on_scene_datetime        datetime64[ns]\n",
      "travel_time                    float64\n",
      "response_time                  float64\n",
      "first_to_hosp_datetime         datetime64[ns]\n",
      "first_hosp_arrival_datetime    datetime64[ns]\n",
      "incident_close_datetime        datetime64[ns]\n",
      "incident_disposition_code      float64\n",
      "life_threatening               bool\n",
      "fatality                       bool\n",
      "dtypes: bool(2), datetime64[ns](6), float64(8), int64(8), object(5)\n",
      "memory usage: 3.7 GB\n"
     ]
    }
   ],
   "source": [
    "df.info(verbose=True,memory_usage='deep')"
   ]
  },
  {
   "cell_type": "markdown",
   "metadata": {},
   "source": [
    "[TOC](#TOC)"
   ]
  },
  {
   "cell_type": "markdown",
   "metadata": {},
   "source": [
    "<a id=\"Sec01B\"></a>\n",
    "#### 1B: Preprocess Dataset"
   ]
  },
  {
   "cell_type": "code",
   "execution_count": 4,
   "metadata": {},
   "outputs": [],
   "source": [
    "# Change dtypes\n",
    "df['borough'] = df.borough.astype('category')\n",
    "df['zipcode'] = df.zipcode.astype('category')"
   ]
  },
  {
   "cell_type": "markdown",
   "metadata": {},
   "source": [
    "Both exploratory data analysis and inferential statistics performed in prior notebooks ([CP1-02_EDA](https://github.com/jdwill917/SB-DSCT-Repo/blob/master/Capstones/Capstone%201/code/CP1-02_EDA.ipynb) and [CP1-03_Stats](https://github.com/jdwill917/SB-DSCT-Repo/blob/master/Capstones/Capstone%201/code/CP1-03_Stats.ipynb), respectively) revealed there are multiple redundant or immaterial variables within the dataset. Therefore, they will be removed from the dataset."
   ]
  },
  {
   "cell_type": "code",
   "execution_count": 5,
   "metadata": {},
   "outputs": [],
   "source": [
    "# Remove immaterial columns\n",
    "list_of_cols = ['latitude','longitude',\n",
    "                'aland_sqmi','awater_sqmi','held_indicator',\n",
    "                'initial_call_type','initial_severity_level',\n",
    "                'first_assignment_datetime','incident_dispatch_area',\n",
    "                'dispatch_time','travel_time',\n",
    "                'first_activation_datetime','first_on_scene_datetime',\n",
    "                'first_to_hosp_datetime','first_hosp_arrival_datetime',\n",
    "                'incident_close_datetime','incident_disposition_code']\n",
    "df.drop(list_of_cols,axis=1,inplace=True)"
   ]
  },
  {
   "cell_type": "code",
   "execution_count": 6,
   "metadata": {},
   "outputs": [
    {
     "name": "stdout",
     "output_type": "stream",
     "text": [
      "<class 'pandas.core.frame.DataFrame'>\n",
      "DatetimeIndex: 7988028 entries, 2013-01-01 00:00:04 to 2018-12-19 00:19:39\n",
      "Data columns (total 12 columns):\n",
      "year                    int64\n",
      "month                   int64\n",
      "day                     int64\n",
      "hour                    int64\n",
      "weekday                 int64\n",
      "borough                 category\n",
      "zipcode                 category\n",
      "final_call_type         object\n",
      "final_severity_level    int64\n",
      "response_time           float64\n",
      "life_threatening        bool\n",
      "fatality                bool\n",
      "dtypes: bool(2), category(2), float64(1), int64(6), object(1)\n",
      "memory usage: 997.4 MB\n"
     ]
    }
   ],
   "source": [
    "df.info(verbose=True,memory_usage='deep')"
   ]
  },
  {
   "cell_type": "code",
   "execution_count": 7,
   "metadata": {},
   "outputs": [
    {
     "data": {
      "text/html": [
       "<div>\n",
       "<style scoped>\n",
       "    .dataframe tbody tr th:only-of-type {\n",
       "        vertical-align: middle;\n",
       "    }\n",
       "\n",
       "    .dataframe tbody tr th {\n",
       "        vertical-align: top;\n",
       "    }\n",
       "\n",
       "    .dataframe thead th {\n",
       "        text-align: right;\n",
       "    }\n",
       "</style>\n",
       "<table border=\"1\" class=\"dataframe\">\n",
       "  <thead>\n",
       "    <tr style=\"text-align: right;\">\n",
       "      <th></th>\n",
       "      <th>year</th>\n",
       "      <th>month</th>\n",
       "      <th>day</th>\n",
       "      <th>hour</th>\n",
       "      <th>weekday</th>\n",
       "      <th>borough</th>\n",
       "      <th>zipcode</th>\n",
       "      <th>final_call_type</th>\n",
       "      <th>final_severity_level</th>\n",
       "      <th>response_time</th>\n",
       "      <th>life_threatening</th>\n",
       "      <th>fatality</th>\n",
       "    </tr>\n",
       "    <tr>\n",
       "      <th>incident_datetime</th>\n",
       "      <th></th>\n",
       "      <th></th>\n",
       "      <th></th>\n",
       "      <th></th>\n",
       "      <th></th>\n",
       "      <th></th>\n",
       "      <th></th>\n",
       "      <th></th>\n",
       "      <th></th>\n",
       "      <th></th>\n",
       "      <th></th>\n",
       "      <th></th>\n",
       "    </tr>\n",
       "  </thead>\n",
       "  <tbody>\n",
       "    <tr>\n",
       "      <td>2013-01-01 00:00:04</td>\n",
       "      <td>2013</td>\n",
       "      <td>1</td>\n",
       "      <td>1</td>\n",
       "      <td>0</td>\n",
       "      <td>2</td>\n",
       "      <td>BRONX</td>\n",
       "      <td>10472.0</td>\n",
       "      <td>RESPIR</td>\n",
       "      <td>4</td>\n",
       "      <td>797.0</td>\n",
       "      <td>False</td>\n",
       "      <td>False</td>\n",
       "    </tr>\n",
       "    <tr>\n",
       "      <td>2013-01-01 00:05:52</td>\n",
       "      <td>2013</td>\n",
       "      <td>1</td>\n",
       "      <td>1</td>\n",
       "      <td>0</td>\n",
       "      <td>2</td>\n",
       "      <td>BRONX</td>\n",
       "      <td>10472.0</td>\n",
       "      <td>EDP</td>\n",
       "      <td>7</td>\n",
       "      <td>534.0</td>\n",
       "      <td>False</td>\n",
       "      <td>False</td>\n",
       "    </tr>\n",
       "    <tr>\n",
       "      <td>2013-01-01 00:20:37</td>\n",
       "      <td>2013</td>\n",
       "      <td>1</td>\n",
       "      <td>1</td>\n",
       "      <td>0</td>\n",
       "      <td>2</td>\n",
       "      <td>BRONX</td>\n",
       "      <td>10472.0</td>\n",
       "      <td>SICK</td>\n",
       "      <td>6</td>\n",
       "      <td>697.0</td>\n",
       "      <td>False</td>\n",
       "      <td>False</td>\n",
       "    </tr>\n",
       "    <tr>\n",
       "      <td>2013-01-01 01:53:11</td>\n",
       "      <td>2013</td>\n",
       "      <td>1</td>\n",
       "      <td>1</td>\n",
       "      <td>1</td>\n",
       "      <td>2</td>\n",
       "      <td>BRONX</td>\n",
       "      <td>10472.0</td>\n",
       "      <td>INJURY</td>\n",
       "      <td>4</td>\n",
       "      <td>223.0</td>\n",
       "      <td>False</td>\n",
       "      <td>False</td>\n",
       "    </tr>\n",
       "    <tr>\n",
       "      <td>2013-01-01 01:54:28</td>\n",
       "      <td>2013</td>\n",
       "      <td>1</td>\n",
       "      <td>1</td>\n",
       "      <td>1</td>\n",
       "      <td>2</td>\n",
       "      <td>BRONX</td>\n",
       "      <td>10472.0</td>\n",
       "      <td>SICK</td>\n",
       "      <td>4</td>\n",
       "      <td>298.0</td>\n",
       "      <td>False</td>\n",
       "      <td>False</td>\n",
       "    </tr>\n",
       "  </tbody>\n",
       "</table>\n",
       "</div>"
      ],
      "text/plain": [
       "                     year  month  day  hour  weekday borough  zipcode  \\\n",
       "incident_datetime                                                       \n",
       "2013-01-01 00:00:04  2013      1    1     0        2   BRONX  10472.0   \n",
       "2013-01-01 00:05:52  2013      1    1     0        2   BRONX  10472.0   \n",
       "2013-01-01 00:20:37  2013      1    1     0        2   BRONX  10472.0   \n",
       "2013-01-01 01:53:11  2013      1    1     1        2   BRONX  10472.0   \n",
       "2013-01-01 01:54:28  2013      1    1     1        2   BRONX  10472.0   \n",
       "\n",
       "                    final_call_type  final_severity_level  response_time  \\\n",
       "incident_datetime                                                          \n",
       "2013-01-01 00:00:04          RESPIR                     4          797.0   \n",
       "2013-01-01 00:05:52             EDP                     7          534.0   \n",
       "2013-01-01 00:20:37            SICK                     6          697.0   \n",
       "2013-01-01 01:53:11          INJURY                     4          223.0   \n",
       "2013-01-01 01:54:28            SICK                     4          298.0   \n",
       "\n",
       "                     life_threatening  fatality  \n",
       "incident_datetime                                \n",
       "2013-01-01 00:00:04             False     False  \n",
       "2013-01-01 00:05:52             False     False  \n",
       "2013-01-01 00:20:37             False     False  \n",
       "2013-01-01 01:53:11             False     False  \n",
       "2013-01-01 01:54:28             False     False  "
      ]
     },
     "execution_count": 7,
     "metadata": {},
     "output_type": "execute_result"
    }
   ],
   "source": [
    "df.head()"
   ]
  },
  {
   "cell_type": "markdown",
   "metadata": {},
   "source": [
    "The clean dataset is now comprised of eleven feature variables that will be used in the development of ML algorithms. [TOC](#TOC)"
   ]
  },
  {
   "cell_type": "markdown",
   "metadata": {},
   "source": [
    "<a id=\"Sec01C\"></a>\n",
    "#### 1C: Segment Feature Variables"
   ]
  },
  {
   "cell_type": "code",
   "execution_count": 8,
   "metadata": {},
   "outputs": [],
   "source": [
    "# Numeric feature variables\n",
    "var_names_num = ['year','month','day','hour','weekday','response_time']\n",
    "vars_num = df[var_names_num]\n",
    "\n",
    "# Ordinal feature variables\n",
    "var_names_ord = ['final_severity_level','life_threatening']\n",
    "vars_ord = df[var_names_ord]\n",
    "\n",
    "# Nominal feature variables\n",
    "var_names_nom = ['borough','zipcode','final_call_type']\n",
    "vars_nom = df[var_names_nom]"
   ]
  },
  {
   "cell_type": "code",
   "execution_count": 9,
   "metadata": {},
   "outputs": [
    {
     "name": "stdout",
     "output_type": "stream",
     "text": [
      "COUNT OF ORDINAL FEATURE LABELS\n",
      "\n",
      "final_severity_level : 8 labels\n",
      "life_threatening     : 2 labels\n",
      "\n",
      "\n",
      "COUNT OF NOMINAL FEATURE LABELS\n",
      "\n",
      "borough         :   6 labels\n",
      "zipcode         : 208 labels\n",
      "final_call_type : 135 labels\n"
     ]
    }
   ],
   "source": [
    "# Print count of labels for each ordinal feature variable\n",
    "print('COUNT OF ORDINAL FEATURE LABELS\\n')\n",
    "for col in vars_ord.columns:\n",
    "    print('{0:21}: {1} labels'.format(col,len(vars_ord[col].unique())))\n",
    "print('\\n')\n",
    "\n",
    "# Print count of labels for each nominal feature variable\n",
    "print('COUNT OF NOMINAL FEATURE LABELS\\n')\n",
    "for col in vars_nom.columns:\n",
    "    print('{0:16}: {1:3} labels'.format(col,len(vars_nom[col].unique())))"
   ]
  },
  {
   "cell_type": "markdown",
   "metadata": {},
   "source": [
    "Few machine learning algorithms perform well with categorical variables. Thus, such values will have to be encoded as numeric types. Two of the five categorical feature variables (`zipcode` and `final_call_type`) have a high cardinality as indicated above. In the next section, different encoding methods will be applied to the dataset and tested with different baseline models. [TOC](#TOC)"
   ]
  },
  {
   "cell_type": "markdown",
   "metadata": {},
   "source": [
    "***"
   ]
  },
  {
   "cell_type": "markdown",
   "metadata": {},
   "source": [
    "## 2. VARIABLE ENCODING METHODS"
   ]
  },
  {
   "cell_type": "markdown",
   "metadata": {},
   "source": [
    "<a id=\"Sec02A\"></a>\n",
    "#### 2A: Inspect Target Variable"
   ]
  },
  {
   "cell_type": "code",
   "execution_count": 10,
   "metadata": {
    "scrolled": true
   },
   "outputs": [
    {
     "data": {
      "text/plain": [
       "False    7649344\n",
       "True      338684\n",
       "Name: fatality, dtype: int64"
      ]
     },
     "execution_count": 10,
     "metadata": {},
     "output_type": "execute_result"
    }
   ],
   "source": [
    "df['fatality'].value_counts()"
   ]
  },
  {
   "cell_type": "code",
   "execution_count": 11,
   "metadata": {
    "scrolled": true
   },
   "outputs": [
    {
     "data": {
      "text/plain": [
       "False    0.957601\n",
       "True     0.042399\n",
       "Name: fatality, dtype: float64"
      ]
     },
     "execution_count": 11,
     "metadata": {},
     "output_type": "execute_result"
    }
   ],
   "source": [
    "df['fatality'].value_counts(normalize=True)"
   ]
  },
  {
   "cell_type": "markdown",
   "metadata": {},
   "source": [
    "The target variable is segmented into two classes: __fatalities__ (`fatality == True`) and __survivals__ (`fatality == False`). Based on the frequency values provided above, it is clear that __fatalities__ represent the *minority* class whereas __survivals__ represent the *majority* class. Whether or not this will have an impact on the effectiveness of baseline model has yet to be determined. [TOC](#TOC)"
   ]
  },
  {
   "cell_type": "markdown",
   "metadata": {},
   "source": [
    "<a id=\"Sec02B\"></a>\n",
    "#### 2B: One-Hot Encoding"
   ]
  },
  {
   "cell_type": "code",
   "execution_count": 12,
   "metadata": {},
   "outputs": [
    {
     "name": "stdout",
     "output_type": "stream",
     "text": [
      "(7988028, 358)\n"
     ]
    },
    {
     "data": {
      "text/html": [
       "<div>\n",
       "<style scoped>\n",
       "    .dataframe tbody tr th:only-of-type {\n",
       "        vertical-align: middle;\n",
       "    }\n",
       "\n",
       "    .dataframe tbody tr th {\n",
       "        vertical-align: top;\n",
       "    }\n",
       "\n",
       "    .dataframe thead th {\n",
       "        text-align: right;\n",
       "    }\n",
       "</style>\n",
       "<table border=\"1\" class=\"dataframe\">\n",
       "  <thead>\n",
       "    <tr style=\"text-align: right;\">\n",
       "      <th></th>\n",
       "      <th>year</th>\n",
       "      <th>month</th>\n",
       "      <th>day</th>\n",
       "      <th>hour</th>\n",
       "      <th>weekday</th>\n",
       "      <th>final_severity_level</th>\n",
       "      <th>response_time</th>\n",
       "      <th>life_threatening</th>\n",
       "      <th>fatality</th>\n",
       "      <th>brgh_BRONX</th>\n",
       "      <th>...</th>\n",
       "      <th>fct_STAB</th>\n",
       "      <th>fct_STATEP</th>\n",
       "      <th>fct_STATFC</th>\n",
       "      <th>fct_TRAUMA</th>\n",
       "      <th>fct_UNC</th>\n",
       "      <th>fct_UNCFC</th>\n",
       "      <th>fct_UNCFT</th>\n",
       "      <th>fct_UNCRF</th>\n",
       "      <th>fct_UNKNOW</th>\n",
       "      <th>fct_VENOM</th>\n",
       "    </tr>\n",
       "    <tr>\n",
       "      <th>incident_datetime</th>\n",
       "      <th></th>\n",
       "      <th></th>\n",
       "      <th></th>\n",
       "      <th></th>\n",
       "      <th></th>\n",
       "      <th></th>\n",
       "      <th></th>\n",
       "      <th></th>\n",
       "      <th></th>\n",
       "      <th></th>\n",
       "      <th></th>\n",
       "      <th></th>\n",
       "      <th></th>\n",
       "      <th></th>\n",
       "      <th></th>\n",
       "      <th></th>\n",
       "      <th></th>\n",
       "      <th></th>\n",
       "      <th></th>\n",
       "      <th></th>\n",
       "      <th></th>\n",
       "    </tr>\n",
       "  </thead>\n",
       "  <tbody>\n",
       "    <tr>\n",
       "      <td>2013-01-01 00:00:04</td>\n",
       "      <td>2013</td>\n",
       "      <td>1</td>\n",
       "      <td>1</td>\n",
       "      <td>0</td>\n",
       "      <td>2</td>\n",
       "      <td>4</td>\n",
       "      <td>797.0</td>\n",
       "      <td>False</td>\n",
       "      <td>False</td>\n",
       "      <td>1</td>\n",
       "      <td>...</td>\n",
       "      <td>0</td>\n",
       "      <td>0</td>\n",
       "      <td>0</td>\n",
       "      <td>0</td>\n",
       "      <td>0</td>\n",
       "      <td>0</td>\n",
       "      <td>0</td>\n",
       "      <td>0</td>\n",
       "      <td>0</td>\n",
       "      <td>0</td>\n",
       "    </tr>\n",
       "    <tr>\n",
       "      <td>2013-01-01 00:05:52</td>\n",
       "      <td>2013</td>\n",
       "      <td>1</td>\n",
       "      <td>1</td>\n",
       "      <td>0</td>\n",
       "      <td>2</td>\n",
       "      <td>7</td>\n",
       "      <td>534.0</td>\n",
       "      <td>False</td>\n",
       "      <td>False</td>\n",
       "      <td>1</td>\n",
       "      <td>...</td>\n",
       "      <td>0</td>\n",
       "      <td>0</td>\n",
       "      <td>0</td>\n",
       "      <td>0</td>\n",
       "      <td>0</td>\n",
       "      <td>0</td>\n",
       "      <td>0</td>\n",
       "      <td>0</td>\n",
       "      <td>0</td>\n",
       "      <td>0</td>\n",
       "    </tr>\n",
       "    <tr>\n",
       "      <td>2013-01-01 00:20:37</td>\n",
       "      <td>2013</td>\n",
       "      <td>1</td>\n",
       "      <td>1</td>\n",
       "      <td>0</td>\n",
       "      <td>2</td>\n",
       "      <td>6</td>\n",
       "      <td>697.0</td>\n",
       "      <td>False</td>\n",
       "      <td>False</td>\n",
       "      <td>1</td>\n",
       "      <td>...</td>\n",
       "      <td>0</td>\n",
       "      <td>0</td>\n",
       "      <td>0</td>\n",
       "      <td>0</td>\n",
       "      <td>0</td>\n",
       "      <td>0</td>\n",
       "      <td>0</td>\n",
       "      <td>0</td>\n",
       "      <td>0</td>\n",
       "      <td>0</td>\n",
       "    </tr>\n",
       "    <tr>\n",
       "      <td>2013-01-01 01:53:11</td>\n",
       "      <td>2013</td>\n",
       "      <td>1</td>\n",
       "      <td>1</td>\n",
       "      <td>1</td>\n",
       "      <td>2</td>\n",
       "      <td>4</td>\n",
       "      <td>223.0</td>\n",
       "      <td>False</td>\n",
       "      <td>False</td>\n",
       "      <td>1</td>\n",
       "      <td>...</td>\n",
       "      <td>0</td>\n",
       "      <td>0</td>\n",
       "      <td>0</td>\n",
       "      <td>0</td>\n",
       "      <td>0</td>\n",
       "      <td>0</td>\n",
       "      <td>0</td>\n",
       "      <td>0</td>\n",
       "      <td>0</td>\n",
       "      <td>0</td>\n",
       "    </tr>\n",
       "    <tr>\n",
       "      <td>2013-01-01 01:54:28</td>\n",
       "      <td>2013</td>\n",
       "      <td>1</td>\n",
       "      <td>1</td>\n",
       "      <td>1</td>\n",
       "      <td>2</td>\n",
       "      <td>4</td>\n",
       "      <td>298.0</td>\n",
       "      <td>False</td>\n",
       "      <td>False</td>\n",
       "      <td>1</td>\n",
       "      <td>...</td>\n",
       "      <td>0</td>\n",
       "      <td>0</td>\n",
       "      <td>0</td>\n",
       "      <td>0</td>\n",
       "      <td>0</td>\n",
       "      <td>0</td>\n",
       "      <td>0</td>\n",
       "      <td>0</td>\n",
       "      <td>0</td>\n",
       "      <td>0</td>\n",
       "    </tr>\n",
       "  </tbody>\n",
       "</table>\n",
       "<p>5 rows × 358 columns</p>\n",
       "</div>"
      ],
      "text/plain": [
       "                     year  month  day  hour  weekday  final_severity_level  \\\n",
       "incident_datetime                                                            \n",
       "2013-01-01 00:00:04  2013      1    1     0        2                     4   \n",
       "2013-01-01 00:05:52  2013      1    1     0        2                     7   \n",
       "2013-01-01 00:20:37  2013      1    1     0        2                     6   \n",
       "2013-01-01 01:53:11  2013      1    1     1        2                     4   \n",
       "2013-01-01 01:54:28  2013      1    1     1        2                     4   \n",
       "\n",
       "                     response_time  life_threatening  fatality  brgh_BRONX  \\\n",
       "incident_datetime                                                            \n",
       "2013-01-01 00:00:04          797.0             False     False           1   \n",
       "2013-01-01 00:05:52          534.0             False     False           1   \n",
       "2013-01-01 00:20:37          697.0             False     False           1   \n",
       "2013-01-01 01:53:11          223.0             False     False           1   \n",
       "2013-01-01 01:54:28          298.0             False     False           1   \n",
       "\n",
       "                     ...  fct_STAB  fct_STATEP  fct_STATFC  fct_TRAUMA  \\\n",
       "incident_datetime    ...                                                 \n",
       "2013-01-01 00:00:04  ...         0           0           0           0   \n",
       "2013-01-01 00:05:52  ...         0           0           0           0   \n",
       "2013-01-01 00:20:37  ...         0           0           0           0   \n",
       "2013-01-01 01:53:11  ...         0           0           0           0   \n",
       "2013-01-01 01:54:28  ...         0           0           0           0   \n",
       "\n",
       "                     fct_UNC  fct_UNCFC  fct_UNCFT  fct_UNCRF  fct_UNKNOW  \\\n",
       "incident_datetime                                                           \n",
       "2013-01-01 00:00:04        0          0          0          0           0   \n",
       "2013-01-01 00:05:52        0          0          0          0           0   \n",
       "2013-01-01 00:20:37        0          0          0          0           0   \n",
       "2013-01-01 01:53:11        0          0          0          0           0   \n",
       "2013-01-01 01:54:28        0          0          0          0           0   \n",
       "\n",
       "                     fct_VENOM  \n",
       "incident_datetime               \n",
       "2013-01-01 00:00:04          0  \n",
       "2013-01-01 00:05:52          0  \n",
       "2013-01-01 00:20:37          0  \n",
       "2013-01-01 01:53:11          0  \n",
       "2013-01-01 01:54:28          0  \n",
       "\n",
       "[5 rows x 358 columns]"
      ]
     },
     "execution_count": 12,
     "metadata": {},
     "output_type": "execute_result"
    }
   ],
   "source": [
    "# One-Hot encode dataframe\n",
    "df_ohe = pd.get_dummies(df,prefix=['brgh','zip','fct'])\n",
    "\n",
    "# Inspect encoded dataframe\n",
    "print(df_ohe.shape)\n",
    "df_ohe.head()"
   ]
  },
  {
   "cell_type": "code",
   "execution_count": 13,
   "metadata": {},
   "outputs": [
    {
     "name": "stdout",
     "output_type": "stream",
     "text": [
      "y\n",
      "Type: <class 'numpy.ndarray'>\n",
      "Shape: (7988028,)\n",
      "\n",
      "X (One-Hot Encoding)\n",
      "Type: <class 'numpy.ndarray'>\n",
      "Shape: (7988028, 357)\n"
     ]
    }
   ],
   "source": [
    "# Target variable\n",
    "y_ohe = df_ohe['fatality'].values\n",
    "print('y\\nType: {0}\\nShape: {1}\\n'.format(type(y_ohe),y_ohe.shape))\n",
    "\n",
    "# All feature variables\n",
    "X_tmp = df_ohe.drop(columns=['fatality'])\n",
    "X_ohe = X_tmp.values\n",
    "print('X (One-Hot Encoding)\\nType: {0}\\nShape: {1}'.format(type(X_ohe),X_ohe.shape))"
   ]
  },
  {
   "cell_type": "markdown",
   "metadata": {},
   "source": [
    "Applying One-Hot encoding increases the number of feature variables in the clean dataset from 11 to 357. [TOC](#TOC)"
   ]
  },
  {
   "cell_type": "markdown",
   "metadata": {},
   "source": [
    "<a id=\"Sec02C\"></a>\n",
    "#### 2C: Binary Encoding"
   ]
  },
  {
   "cell_type": "code",
   "execution_count": 14,
   "metadata": {},
   "outputs": [
    {
     "name": "stdout",
     "output_type": "stream",
     "text": [
      "(7988028, 31)\n"
     ]
    },
    {
     "data": {
      "text/html": [
       "<div>\n",
       "<style scoped>\n",
       "    .dataframe tbody tr th:only-of-type {\n",
       "        vertical-align: middle;\n",
       "    }\n",
       "\n",
       "    .dataframe tbody tr th {\n",
       "        vertical-align: top;\n",
       "    }\n",
       "\n",
       "    .dataframe thead th {\n",
       "        text-align: right;\n",
       "    }\n",
       "</style>\n",
       "<table border=\"1\" class=\"dataframe\">\n",
       "  <thead>\n",
       "    <tr style=\"text-align: right;\">\n",
       "      <th></th>\n",
       "      <th>year</th>\n",
       "      <th>month</th>\n",
       "      <th>day</th>\n",
       "      <th>hour</th>\n",
       "      <th>weekday</th>\n",
       "      <th>borough_0</th>\n",
       "      <th>borough_1</th>\n",
       "      <th>borough_2</th>\n",
       "      <th>borough_3</th>\n",
       "      <th>zipcode_0</th>\n",
       "      <th>...</th>\n",
       "      <th>final_call_type_3</th>\n",
       "      <th>final_call_type_4</th>\n",
       "      <th>final_call_type_5</th>\n",
       "      <th>final_call_type_6</th>\n",
       "      <th>final_call_type_7</th>\n",
       "      <th>final_call_type_8</th>\n",
       "      <th>final_severity_level</th>\n",
       "      <th>response_time</th>\n",
       "      <th>life_threatening</th>\n",
       "      <th>fatality</th>\n",
       "    </tr>\n",
       "    <tr>\n",
       "      <th>incident_datetime</th>\n",
       "      <th></th>\n",
       "      <th></th>\n",
       "      <th></th>\n",
       "      <th></th>\n",
       "      <th></th>\n",
       "      <th></th>\n",
       "      <th></th>\n",
       "      <th></th>\n",
       "      <th></th>\n",
       "      <th></th>\n",
       "      <th></th>\n",
       "      <th></th>\n",
       "      <th></th>\n",
       "      <th></th>\n",
       "      <th></th>\n",
       "      <th></th>\n",
       "      <th></th>\n",
       "      <th></th>\n",
       "      <th></th>\n",
       "      <th></th>\n",
       "      <th></th>\n",
       "    </tr>\n",
       "  </thead>\n",
       "  <tbody>\n",
       "    <tr>\n",
       "      <td>2013-01-01 00:00:04</td>\n",
       "      <td>2013</td>\n",
       "      <td>1</td>\n",
       "      <td>1</td>\n",
       "      <td>0</td>\n",
       "      <td>2</td>\n",
       "      <td>0</td>\n",
       "      <td>0</td>\n",
       "      <td>0</td>\n",
       "      <td>1</td>\n",
       "      <td>0</td>\n",
       "      <td>...</td>\n",
       "      <td>0</td>\n",
       "      <td>0</td>\n",
       "      <td>0</td>\n",
       "      <td>0</td>\n",
       "      <td>0</td>\n",
       "      <td>1</td>\n",
       "      <td>4</td>\n",
       "      <td>797.0</td>\n",
       "      <td>False</td>\n",
       "      <td>False</td>\n",
       "    </tr>\n",
       "    <tr>\n",
       "      <td>2013-01-01 00:05:52</td>\n",
       "      <td>2013</td>\n",
       "      <td>1</td>\n",
       "      <td>1</td>\n",
       "      <td>0</td>\n",
       "      <td>2</td>\n",
       "      <td>0</td>\n",
       "      <td>0</td>\n",
       "      <td>0</td>\n",
       "      <td>1</td>\n",
       "      <td>0</td>\n",
       "      <td>...</td>\n",
       "      <td>0</td>\n",
       "      <td>0</td>\n",
       "      <td>0</td>\n",
       "      <td>0</td>\n",
       "      <td>1</td>\n",
       "      <td>0</td>\n",
       "      <td>7</td>\n",
       "      <td>534.0</td>\n",
       "      <td>False</td>\n",
       "      <td>False</td>\n",
       "    </tr>\n",
       "    <tr>\n",
       "      <td>2013-01-01 00:20:37</td>\n",
       "      <td>2013</td>\n",
       "      <td>1</td>\n",
       "      <td>1</td>\n",
       "      <td>0</td>\n",
       "      <td>2</td>\n",
       "      <td>0</td>\n",
       "      <td>0</td>\n",
       "      <td>0</td>\n",
       "      <td>1</td>\n",
       "      <td>0</td>\n",
       "      <td>...</td>\n",
       "      <td>0</td>\n",
       "      <td>0</td>\n",
       "      <td>0</td>\n",
       "      <td>0</td>\n",
       "      <td>1</td>\n",
       "      <td>1</td>\n",
       "      <td>6</td>\n",
       "      <td>697.0</td>\n",
       "      <td>False</td>\n",
       "      <td>False</td>\n",
       "    </tr>\n",
       "    <tr>\n",
       "      <td>2013-01-01 01:53:11</td>\n",
       "      <td>2013</td>\n",
       "      <td>1</td>\n",
       "      <td>1</td>\n",
       "      <td>1</td>\n",
       "      <td>2</td>\n",
       "      <td>0</td>\n",
       "      <td>0</td>\n",
       "      <td>0</td>\n",
       "      <td>1</td>\n",
       "      <td>0</td>\n",
       "      <td>...</td>\n",
       "      <td>0</td>\n",
       "      <td>0</td>\n",
       "      <td>0</td>\n",
       "      <td>1</td>\n",
       "      <td>0</td>\n",
       "      <td>0</td>\n",
       "      <td>4</td>\n",
       "      <td>223.0</td>\n",
       "      <td>False</td>\n",
       "      <td>False</td>\n",
       "    </tr>\n",
       "    <tr>\n",
       "      <td>2013-01-01 01:54:28</td>\n",
       "      <td>2013</td>\n",
       "      <td>1</td>\n",
       "      <td>1</td>\n",
       "      <td>1</td>\n",
       "      <td>2</td>\n",
       "      <td>0</td>\n",
       "      <td>0</td>\n",
       "      <td>0</td>\n",
       "      <td>1</td>\n",
       "      <td>0</td>\n",
       "      <td>...</td>\n",
       "      <td>0</td>\n",
       "      <td>0</td>\n",
       "      <td>0</td>\n",
       "      <td>0</td>\n",
       "      <td>1</td>\n",
       "      <td>1</td>\n",
       "      <td>4</td>\n",
       "      <td>298.0</td>\n",
       "      <td>False</td>\n",
       "      <td>False</td>\n",
       "    </tr>\n",
       "  </tbody>\n",
       "</table>\n",
       "<p>5 rows × 31 columns</p>\n",
       "</div>"
      ],
      "text/plain": [
       "                     year  month  day  hour  weekday  borough_0  borough_1  \\\n",
       "incident_datetime                                                            \n",
       "2013-01-01 00:00:04  2013      1    1     0        2          0          0   \n",
       "2013-01-01 00:05:52  2013      1    1     0        2          0          0   \n",
       "2013-01-01 00:20:37  2013      1    1     0        2          0          0   \n",
       "2013-01-01 01:53:11  2013      1    1     1        2          0          0   \n",
       "2013-01-01 01:54:28  2013      1    1     1        2          0          0   \n",
       "\n",
       "                     borough_2  borough_3  zipcode_0  ...  final_call_type_3  \\\n",
       "incident_datetime                                     ...                      \n",
       "2013-01-01 00:00:04          0          1          0  ...                  0   \n",
       "2013-01-01 00:05:52          0          1          0  ...                  0   \n",
       "2013-01-01 00:20:37          0          1          0  ...                  0   \n",
       "2013-01-01 01:53:11          0          1          0  ...                  0   \n",
       "2013-01-01 01:54:28          0          1          0  ...                  0   \n",
       "\n",
       "                     final_call_type_4  final_call_type_5  final_call_type_6  \\\n",
       "incident_datetime                                                              \n",
       "2013-01-01 00:00:04                  0                  0                  0   \n",
       "2013-01-01 00:05:52                  0                  0                  0   \n",
       "2013-01-01 00:20:37                  0                  0                  0   \n",
       "2013-01-01 01:53:11                  0                  0                  1   \n",
       "2013-01-01 01:54:28                  0                  0                  0   \n",
       "\n",
       "                     final_call_type_7  final_call_type_8  \\\n",
       "incident_datetime                                           \n",
       "2013-01-01 00:00:04                  0                  1   \n",
       "2013-01-01 00:05:52                  1                  0   \n",
       "2013-01-01 00:20:37                  1                  1   \n",
       "2013-01-01 01:53:11                  0                  0   \n",
       "2013-01-01 01:54:28                  1                  1   \n",
       "\n",
       "                     final_severity_level  response_time  life_threatening  \\\n",
       "incident_datetime                                                            \n",
       "2013-01-01 00:00:04                     4          797.0             False   \n",
       "2013-01-01 00:05:52                     7          534.0             False   \n",
       "2013-01-01 00:20:37                     6          697.0             False   \n",
       "2013-01-01 01:53:11                     4          223.0             False   \n",
       "2013-01-01 01:54:28                     4          298.0             False   \n",
       "\n",
       "                     fatality  \n",
       "incident_datetime              \n",
       "2013-01-01 00:00:04     False  \n",
       "2013-01-01 00:05:52     False  \n",
       "2013-01-01 00:20:37     False  \n",
       "2013-01-01 01:53:11     False  \n",
       "2013-01-01 01:54:28     False  \n",
       "\n",
       "[5 rows x 31 columns]"
      ]
     },
     "execution_count": 14,
     "metadata": {},
     "output_type": "execute_result"
    }
   ],
   "source": [
    "# Binary encode dataframe\n",
    "enc_binary = ce.BinaryEncoder(cols=var_names_nom)\n",
    "df_bin = enc_binary.fit_transform(df)\n",
    "\n",
    "# Inspect encoded dataframe\n",
    "print(df_bin.shape)\n",
    "df_bin.head()"
   ]
  },
  {
   "cell_type": "code",
   "execution_count": 15,
   "metadata": {},
   "outputs": [
    {
     "name": "stdout",
     "output_type": "stream",
     "text": [
      "y\n",
      "Type: <class 'numpy.ndarray'>\n",
      "Shape: (7988028,)\n",
      "\n",
      "X (Binary Encoding)\n",
      "Type: <class 'numpy.ndarray'>\n",
      "Shape: (7988028, 30)\n"
     ]
    }
   ],
   "source": [
    "# Target variable\n",
    "y_bin = df_bin['fatality'].values\n",
    "print('y\\nType: {0}\\nShape: {1}\\n'.format(type(y_bin),y_bin.shape))\n",
    "\n",
    "# All feature variables\n",
    "X_bin = df_bin.iloc[:,:-1].values\n",
    "print('X (Binary Encoding)\\nType: {0}\\nShape: {1}'.format(type(X_bin),X_bin.shape))"
   ]
  },
  {
   "cell_type": "markdown",
   "metadata": {},
   "source": [
    "Applying binary encoding increases the number of feature variables in the clean dataset from 11 to 30. [TOC](#TOC)"
   ]
  },
  {
   "cell_type": "markdown",
   "metadata": {},
   "source": [
    "***"
   ]
  },
  {
   "cell_type": "markdown",
   "metadata": {},
   "source": [
    "## 3. Baseline Model"
   ]
  },
  {
   "cell_type": "markdown",
   "metadata": {},
   "source": [
    "<a id=\"Sec03A\"></a>\n",
    "#### 3A: Logistic Regression"
   ]
  },
  {
   "cell_type": "code",
   "execution_count": 16,
   "metadata": {},
   "outputs": [],
   "source": [
    "# # Split the One-Hot encoded data into a training and test set\n",
    "# X_train, X_test, y_train, y_test = train_test_split(X_ohe, y_ohe, test_size=0.25, random_state=716)"
   ]
  },
  {
   "cell_type": "code",
   "execution_count": 17,
   "metadata": {},
   "outputs": [],
   "source": [
    "# Split the binary encoded data into a training and test set\n",
    "X_train, X_test, y_train, y_test = train_test_split(X_bin, y_bin, test_size=0.25, random_state=1025)"
   ]
  },
  {
   "cell_type": "code",
   "execution_count": 18,
   "metadata": {},
   "outputs": [
    {
     "data": {
      "text/plain": [
       "LogisticRegression(C=1.0, class_weight=None, dual=False, fit_intercept=True,\n",
       "                   intercept_scaling=1, l1_ratio=None, max_iter=10000,\n",
       "                   multi_class='auto', n_jobs=None, penalty='l2',\n",
       "                   random_state=None, solver='lbfgs', tol=0.0001, verbose=0,\n",
       "                   warm_start=False)"
      ]
     },
     "execution_count": 18,
     "metadata": {},
     "output_type": "execute_result"
    }
   ],
   "source": [
    "# Instantiate a baseline logistic regression model\n",
    "lr = LogisticRegression(max_iter=10000)\n",
    "\n",
    "# Fit the model to the binary encoded dataset\n",
    "lr.fit(X_train,y_train)"
   ]
  },
  {
   "cell_type": "markdown",
   "metadata": {},
   "source": [
    "[TOC](#TOC)"
   ]
  },
  {
   "cell_type": "markdown",
   "metadata": {},
   "source": [
    "<a id=\"Sec03B\"></a>\n",
    "#### 3B: Analysis of Model Performance"
   ]
  },
  {
   "cell_type": "code",
   "execution_count": 19,
   "metadata": {},
   "outputs": [
    {
     "name": "stdout",
     "output_type": "stream",
     "text": [
      "TRAINING DATA\n",
      "\n",
      "Accuracy score: 0.9575 (ylr, y_predict_training)\n",
      "\n",
      "\n",
      "Classification Report:\n",
      "              precision    recall  f1-score   support\n",
      "\n",
      "       False       0.96      1.00      0.98   5737532\n",
      "        True       0.26      0.00      0.00    253489\n",
      "\n",
      "    accuracy                           0.96   5991021\n",
      "   macro avg       0.61      0.50      0.49   5991021\n",
      "weighted avg       0.93      0.96      0.94   5991021\n",
      "\n",
      "\n",
      "\n",
      "TEST DATA\n",
      "\n",
      "Accuracy score: 0.9572 (ytestlr, y_predict_test)\n",
      "\n",
      "\n",
      "Classification Report:\n",
      "              precision    recall  f1-score   support\n",
      "\n",
      "       False       0.96      1.00      0.98   1911812\n",
      "        True       0.29      0.00      0.00     85195\n",
      "\n",
      "    accuracy                           0.96   1997007\n",
      "   macro avg       0.62      0.50      0.49   1997007\n",
      "weighted avg       0.93      0.96      0.94   1997007\n",
      "\n"
     ]
    },
    {
     "data": {
      "image/png": "[encoded data removed]",
      "text/plain": [
       "<Figure size 1152x576 with 4 Axes>"
      ]
     },
     "metadata": {
      "needs_background": "light"
     },
     "output_type": "display_data"
    }
   ],
   "source": [
    "y_pred_training = lr.predict(X_train)\n",
    "y_pred_test = lr.predict(X_test)\n",
    "\n",
    "# Assessment metrics for training data\n",
    "print('TRAINING DATA\\n')\n",
    "print('Accuracy score: {:.4f} (ylr, y_predict_training)'.format(accuracy_score(y_train, y_pred_training)))\n",
    "print('\\n')\n",
    "print('Classification Report:')\n",
    "print(classification_report(y_train, y_pred_training))\n",
    "print('\\n')\n",
    "\n",
    "# Assessment metrics for test data\n",
    "print('TEST DATA\\n')\n",
    "print('Accuracy score: {:.4f} (ytestlr, y_predict_test)'.format(accuracy_score(y_test, y_pred_test)))\n",
    "print('\\n')\n",
    "print('Classification Report:')\n",
    "print(classification_report(y_test, y_pred_test))\n",
    "\n",
    "# Normalized confusion matrix plot for training and test data\n",
    "y_class_names = ['Survivals','Fatalities']\n",
    "\n",
    "fig3B1, (ax3B1,ax3B2) = plt.subplots(1,2,figsize=(16,8),sharey=False)\n",
    "disp = plot_confusion_matrix(lr,X_train,y_train,normalize='all',\n",
    "                             ax=ax3B1,display_labels=y_class_names,cmap='Reds')\n",
    "ax3B1.set_title('Confusion Matrix: Training Data (Normalized)')\n",
    "ax3B1.set_xlabel('Predicted Label')\n",
    "ax3B1.set_ylabel('True Label')\n",
    "\n",
    "disp = plot_confusion_matrix(lr,X_test,y_test,normalize='all',\n",
    "                             ax=ax3B2,display_labels=y_class_names,cmap='Reds')\n",
    "ax3B2.set_title('Confusion Matrix: Test Data (Normalized)')\n",
    "ax3B2.set_xlabel('Predicted Label')\n",
    "ax3B2.set_ylabel('True Label')\n",
    "\n",
    "#plt.savefig('../graphics/CP1-04a_fig03B.png') # Export confusion matrix plot to PNG file\n",
    "plt.show()"
   ]
  },
  {
   "cell_type": "markdown",
   "metadata": {},
   "source": [
    "It may seem that the baseline logistic regression model performs well given the metrics for both the training and test data are similar, however, this is not the case. The two classes of the target variable (`fatality`) are heavily imbalanced. The accuracy score for both the training and test sets can be attributed to the fact that the model accurately predicts the _majority_ class (__Survivals__) given its high frequency in the original dataset. Yet the recall metric clearly shows that the classifier fails to detect any observation with the _minority_ class (__Fatalities__). For this reason, a [separate notebook](https://github.com/jdwill917/SB-DSCT-Repo/blob/master/Capstones/Capstone%201/code/CP1-04b_MLA.ipynb) will be used to explore different approaches that are tailored to address imbalanced classification problems such as this one. [TOC](#TOC)"
   ]
  }
 ],
 "metadata": {
  "kernelspec": {
   "display_name": "Python 3",
   "language": "python",
   "name": "python3"
  },
  "language_info": {
   "codemirror_mode": {
    "name": "ipython",
    "version": 3
   },
   "file_extension": ".py",
   "mimetype": "text/x-python",
   "name": "python",
   "nbconvert_exporter": "python",
   "pygments_lexer": "ipython3",
   "version": "3.6.8"
  }
 },
 "nbformat": 4,
 "nbformat_minor": 2
}
