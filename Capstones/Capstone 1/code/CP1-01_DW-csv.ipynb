{
 "cells": [
  {
   "cell_type": "markdown",
   "metadata": {},
   "source": [
    "# Capstone 1: Data Wrangling (from CSV)"
   ]
  },
  {
   "cell_type": "markdown",
   "metadata": {},
   "source": [
    "<a id='TOC'></a>\n",
    "**Table of Contents**\n",
    "1. Preliminaries\n",
    "    1. [Import Modules](#Sec01A)\n",
    "2. Define Functions\n",
    "    1. [Remove Unnecessary Values](#Sec02A)\n",
    "    2. [Reduce Size of DataFrame](#Sec02B)\n",
    "    3. [Redesign the DataFrame](#Sec02C)\n",
    "3. Data Acquisition\n",
    "    1. [Inspect Sample of EMS Dataset](#Sec03A)\n",
    "    2. [Import Full EMS Dataset](#Sec03B)\n",
    "    3. [Import Geographical Dataset](#Sec03C)\n",
    "4. Data Wrangling\n",
    "    1. [Apply Custom Functions](#Sec04A)\n",
    "    2. [Inspect Clean Dataset](#Sec04B)\n",
    "    3. [Export Clean Dataset](#Sec04C)\n",
    "    4. [Process Summary](#Sec04D)"
   ]
  },
  {
   "cell_type": "markdown",
   "metadata": {},
   "source": [
    "The goal of this project is to develop machine learning models that predict whether or not the outcome of an EMS incident will result in a fatality. This is a supervised, binary classification problem. Analyses will be performed on a collection of nearly 8 million records of documented incidents, which span the six year period from January 2013 through December 2018, and appropriate predictive models will be developed to achieve the primary objective. This dataset is robust and contains several feature variables, of mixed data types, that describe both various attributes of each incident as well as the responsive action taken by the FDNY. All of the aforementioned factors affect an individual’s survivability once a response is initiated.\n",
    "\n",
    "Data wrangling will be performed on two datasets for this analysis. One dataset contains EMS incident data spanning a six-year period. The second dataset contains geographical information for all ZIP Code Tabulation Areas within the City of New York."
   ]
  },
  {
   "cell_type": "markdown",
   "metadata": {},
   "source": [
    "***"
   ]
  },
  {
   "cell_type": "markdown",
   "metadata": {},
   "source": [
    "## 1. PRELIMINARIES"
   ]
  },
  {
   "cell_type": "markdown",
   "metadata": {},
   "source": [
    "<a id='Sec01A'></a>\n",
    "#### 1A: Import modules"
   ]
  },
  {
   "cell_type": "code",
   "execution_count": 23,
   "metadata": {},
   "outputs": [],
   "source": [
    "# Import packages and modules\n",
    "import pandas as pd\n",
    "import numpy as np\n",
    "import datetime"
   ]
  },
  {
   "cell_type": "markdown",
   "metadata": {},
   "source": [
    "[TOC](#TOC)"
   ]
  },
  {
   "cell_type": "markdown",
   "metadata": {},
   "source": [
    "***"
   ]
  },
  {
   "cell_type": "markdown",
   "metadata": {},
   "source": [
    "## 2. DEFINE FUNCTIONS"
   ]
  },
  {
   "cell_type": "markdown",
   "metadata": {},
   "source": [
    "<a id='Sec02A'></a>\n",
    "#### 2A: Remove unnecessary values (`drop_invalid` and `drop_immaterial`)\n",
    "\n",
    "For the purpose of this analysis, any observation with a missing value for `incident_disposition_code` must be omitted since the target variable is derived from this feature. In addition, observations that contain the following outliers, errors, or immaterial information must also be removed from the dataset:\n",
    "+ incidents created to transport a patient from one facility to another\n",
    "+ incidents where units were assigned to stand by in case they were needed\n",
    "+ incidents that pertain to special events\n",
    "+ incidents that were once closed but later reopened\n",
    "+ incidents with calculation errors for duration metrics\n",
    "+ features that contain redundant geographic information for incident"
   ]
  },
  {
   "cell_type": "code",
   "execution_count": 24,
   "metadata": {},
   "outputs": [],
   "source": [
    "def drop_invalid(dfObj):\n",
    "    # Drop all rows with missing value for select features\n",
    "    dfObj.dropna(subset=['incident_disposition_code',\n",
    "                         'zipcode',\n",
    "                         'dispatch_response_seconds_qy',\n",
    "                         'incident_travel_tm_seconds_qy',\n",
    "                         'incident_response_seconds_qy'],\n",
    "                 inplace=True)\n",
    "    \n",
    "    # Identify all columns that validate duration metrics\n",
    "    list_of_validation_cols = [name for name in list(dfObj.columns)\n",
    "                               if 'valid' in str(name)]\n",
    "    \n",
    "    # Drop all rows with invalid duration metrics\n",
    "    for name in list_of_validation_cols:\n",
    "        invalid_idx = dfObj[dfObj[name]=='N'].index\n",
    "        dfObj.drop(invalid_idx, inplace=True)\n",
    "    \n",
    "    # Drop all rows where EMS were not dispatched\n",
    "    no_disp_idx = dfObj[dfObj.dispatch_response_seconds_qy==0].index\n",
    "    dfObj.drop(no_disp_idx, inplace=True)\n",
    "    \n",
    "    return dfObj"
   ]
  },
  {
   "cell_type": "code",
   "execution_count": 25,
   "metadata": {},
   "outputs": [],
   "source": [
    "def drop_immaterial(dfObj):\n",
    "    # Identify all columns with outlier event indicators\n",
    "    list_of_indicator_cols = [name for name in list(dfObj.columns) \n",
    "                              if 'indicator' in str(name) and name !='held_indicator']\n",
    "    \n",
    "    # Drop all rows that pertain to outlier incidents\n",
    "    for name in list_of_indicator_cols:\n",
    "        outlier_idx = dfObj[dfObj[name]=='Y'].index\n",
    "        dfObj.drop(outlier_idx, inplace=True)\n",
    "    \n",
    "    # Remove columns that contain incident indicator data\n",
    "    dfObj.drop(list_of_indicator_cols,axis=1,inplace=True)\n",
    "    dfObj.drop([name for name in list(dfObj.columns) \n",
    "                if '_indc' in str(name)],axis=1,inplace=True)\n",
    "    \n",
    "    # Identify and remove all columns that contain redundant geographic data\n",
    "    list_of_zone_cols = [name for name in list(dfObj.columns)\n",
    "                         if (('district' in str(name))| \n",
    "                             (name =='policeprecinct')| \n",
    "                             (name =='geoid'))]\n",
    "    dfObj.drop(list_of_zone_cols,axis=1,inplace=True)\n",
    "    \n",
    "    return dfObj"
   ]
  },
  {
   "cell_type": "markdown",
   "metadata": {},
   "source": [
    "[TOC](#TOC)"
   ]
  },
  {
   "cell_type": "markdown",
   "metadata": {},
   "source": [
    "<a id='Sec02B'></a>\n",
    "#### 2B: Reduce size of DataFrame (`reduce_memory`)\n",
    "\n",
    "Modifying the data types for values contained within select columns will drastically reduce the memory usage of the dataframe object."
   ]
  },
  {
   "cell_type": "code",
   "execution_count": 26,
   "metadata": {
    "scrolled": true
   },
   "outputs": [],
   "source": [
    "def reduce_memory(dfObj):\n",
    "    # Truncate name for borough label: 'RICHMOND / STATEN ISLAND'\n",
    "    dfObj['borough'] = dfObj.borough.replace('RICHMOND / STATEN ISLAND',\n",
    "                                             'STATEN ISLAND')\n",
    "    \n",
    "    # Create list of all columns that contain ISO8601 datetime\n",
    "    list_of_datetime_cols = [name for name in list(dfObj.columns) \n",
    "                             if 'datetime' in str(name)]\n",
    "\n",
    "    # Convert dtypes for each element in list to datetime\n",
    "    for name in list_of_datetime_cols:\n",
    "        dfObj[name] = pd.to_datetime(dfObj[name],errors='coerce')\n",
    "       \n",
    "    # Create list of all columns that contain time duration\n",
    "    list_of_numeric_cols = [name for name in list(dfObj.columns) \n",
    "                            if (('seconds' in str(name))|\n",
    "                                ('severity' in str(name))|\n",
    "                                ('cad' in str(name)))]\n",
    "\n",
    "    # Convert dtypes for each element in list to numeric\n",
    "    for name in list_of_numeric_cols:\n",
    "        dfObj[name] = pd.to_numeric(dfObj[name],errors='coerce')\n",
    "        \n",
    "    # Convert columns to category dtypes to reduce size of dataframe object\n",
    "    dfObj['borough'] = dfObj.borough.astype('category')\n",
    "    dfObj['zipcode'] = dfObj.zipcode.astype('category')\n",
    "    dfObj['held_indicator'] = dfObj.held_indicator.astype('category')\n",
    "    dfObj['incident_dispatch_area'] = dfObj.incident_dispatch_area.astype('category')\n",
    "    dfObj['incident_disposition_code'] = dfObj.incident_disposition_code.astype('category')\n",
    "    \n",
    "    return dfObj"
   ]
  },
  {
   "cell_type": "markdown",
   "metadata": {},
   "source": [
    "[TOC](#TOC)"
   ]
  },
  {
   "cell_type": "markdown",
   "metadata": {},
   "source": [
    "<a id='Sec02C'></a>\n",
    "#### 2C: Redesign the DataFrame (`format_df`)\n",
    "\n",
    "Construct a boolean series that represents the target variable (`fatality`) using the corresponding values in `incident_disposition_code`. Also, apply aesthetic changes to help improve the readability of the dataframe object."
   ]
  },
  {
   "cell_type": "code",
   "execution_count": 62,
   "metadata": {},
   "outputs": [],
   "source": [
    "def format_df(dfObj):\n",
    "    # Rename select columns\n",
    "    dfObj.rename(columns={'initial_severity_level_code':'initial_severity_level',\n",
    "                          'final_severity_level_code':'final_severity_level',\n",
    "                          'dispatch_response_seconds_qy':'dispatch_time',\n",
    "                          'incident_travel_tm_seconds_qy':'travel_time',\n",
    "                          'incident_response_seconds_qy':'response_time',\n",
    "                          'intptlat':'latitude',\n",
    "                          'intptlong':'longitude'},inplace=True)\n",
    "    \n",
    "    # Create a series for a new feature variable: life_threatening\n",
    "    dfObj['life_threatening'] = [True if ((val ==1)|\n",
    "                                         (val == 2)|\n",
    "                                         (val == 3)) else False \n",
    "                                 for val in dfObj['final_severity_level'].astype('int64')]\n",
    "    \n",
    "    # Create a series for the target variable: fatality\n",
    "    dfObj['fatality'] = np.logical_or(dfObj.incident_disposition_code.astype('int64') == 83,\n",
    "                                      dfObj.incident_disposition_code.astype('int64') == 96)\n",
    "\n",
    "    \n",
    "    # Create separate columns for time components of the incident\n",
    "    dfObj['year'] = pd.DatetimeIndex(dfObj.incident_datetime).strftime('%Y')\n",
    "    dfObj['month'] = pd.DatetimeIndex(dfObj.incident_datetime).strftime('%m')\n",
    "    dfObj['day'] = pd.DatetimeIndex(dfObj.incident_datetime).strftime('%d')\n",
    "    dfObj['weekday'] = pd.DatetimeIndex(dfObj.incident_datetime).strftime('%w')\n",
    "    dfObj['hour'] = pd.DatetimeIndex(dfObj.incident_datetime).strftime('%H')\n",
    "    \n",
    "    # Reorder columns of DataFrame object\n",
    "    col_order = ['cad_incident_id','incident_datetime',\n",
    "                 'year','month','day','hour','weekday','borough',\n",
    "                 'zipcode','latitude','longitude','aland_sqmi','awater_sqmi',\n",
    "                 'initial_call_type','initial_severity_level',\n",
    "                 'final_call_type','final_severity_level',\n",
    "                 'held_indicator','first_assignment_datetime',\n",
    "                 'incident_dispatch_area',\n",
    "                 'dispatch_time','first_activation_datetime',\n",
    "                 'first_on_scene_datetime','travel_time','response_time',\n",
    "                 'first_to_hosp_datetime','first_hosp_arrival_datetime',\n",
    "                 'incident_close_datetime','incident_disposition_code',\n",
    "                 'life_threatening','fatality']\n",
    "    dfObj=dfObj[col_order]\n",
    "    \n",
    "    return dfObj"
   ]
  },
  {
   "cell_type": "markdown",
   "metadata": {},
   "source": [
    "[TOC](#TOC)"
   ]
  },
  {
   "cell_type": "markdown",
   "metadata": {},
   "source": [
    "***"
   ]
  },
  {
   "cell_type": "markdown",
   "metadata": {},
   "source": [
    "## 3. Data Acquisition"
   ]
  },
  {
   "cell_type": "markdown",
   "metadata": {},
   "source": [
    "<a id='Sec03A'></a>\n",
    "#### 3A: Inspect sample of EMS incident dataset"
   ]
  },
  {
   "cell_type": "code",
   "execution_count": 63,
   "metadata": {},
   "outputs": [],
   "source": [
    "# Import sample of EMS incident dataset\n",
    "\"\"\"\n",
    "    The original CSV file can be exported from \n",
    "    https://data.cityofnewyork.us/Public-Safety/EMS-Incident-Dispatch-Data/76xm-jjuj\n",
    "\"\"\"\n",
    "#file_path = '../data/EMS_Incident_Dispatch_Data.csv'\n",
    "file_path = r'C:\\Users\\jwilliams2\\Downloads\\EMS_Incident_Dispatch_Data.csv'\n",
    "\n",
    "# Read CSV data into a Pandas DataFrame\n",
    "preview_df = pd.read_csv(file_path,header=0,nrows=10000)"
   ]
  },
  {
   "cell_type": "code",
   "execution_count": 29,
   "metadata": {},
   "outputs": [
    {
     "data": {
      "text/plain": [
       "(10000, 31)"
      ]
     },
     "execution_count": 29,
     "metadata": {},
     "output_type": "execute_result"
    }
   ],
   "source": [
    "preview_df.shape"
   ]
  },
  {
   "cell_type": "code",
   "execution_count": 81,
   "metadata": {},
   "outputs": [
    {
     "data": {
      "text/html": [
       "<div>\n",
       "<style scoped>\n",
       "    .dataframe tbody tr th:only-of-type {\n",
       "        vertical-align: middle;\n",
       "    }\n",
       "\n",
       "    .dataframe tbody tr th {\n",
       "        vertical-align: top;\n",
       "    }\n",
       "\n",
       "    .dataframe thead th {\n",
       "        text-align: right;\n",
       "    }\n",
       "</style>\n",
       "<table border=\"1\" class=\"dataframe\">\n",
       "  <thead>\n",
       "    <tr style=\"text-align: right;\">\n",
       "      <th></th>\n",
       "      <th>incident_datetime</th>\n",
       "      <th>initial_call_type</th>\n",
       "      <th>initial_severity_level</th>\n",
       "      <th>final_call_type</th>\n",
       "      <th>final_severity_level</th>\n",
       "      <th>first_assignment_datetime</th>\n",
       "      <th>dispatch_time</th>\n",
       "      <th>first_activation_datetime</th>\n",
       "      <th>first_on_scene_datetime</th>\n",
       "      <th>response_time</th>\n",
       "      <th>...</th>\n",
       "      <th>borough</th>\n",
       "      <th>incident_dispatch_area</th>\n",
       "      <th>zipcode</th>\n",
       "      <th>life_threatening</th>\n",
       "      <th>fatality</th>\n",
       "      <th>year</th>\n",
       "      <th>month</th>\n",
       "      <th>day</th>\n",
       "      <th>weekday</th>\n",
       "      <th>hour</th>\n",
       "    </tr>\n",
       "    <tr>\n",
       "      <th>cad_incident_id</th>\n",
       "      <th></th>\n",
       "      <th></th>\n",
       "      <th></th>\n",
       "      <th></th>\n",
       "      <th></th>\n",
       "      <th></th>\n",
       "      <th></th>\n",
       "      <th></th>\n",
       "      <th></th>\n",
       "      <th></th>\n",
       "      <th></th>\n",
       "      <th></th>\n",
       "      <th></th>\n",
       "      <th></th>\n",
       "      <th></th>\n",
       "      <th></th>\n",
       "      <th></th>\n",
       "      <th></th>\n",
       "      <th></th>\n",
       "      <th></th>\n",
       "      <th></th>\n",
       "    </tr>\n",
       "  </thead>\n",
       "  <tbody>\n",
       "    <tr>\n",
       "      <td>183654386</td>\n",
       "      <td>2018-12-31 23:59:46</td>\n",
       "      <td>CARDBR</td>\n",
       "      <td>2</td>\n",
       "      <td>CARDBR</td>\n",
       "      <td>2</td>\n",
       "      <td>2018-12-31 23:59:54</td>\n",
       "      <td>8</td>\n",
       "      <td>2019-01-01 00:00:51</td>\n",
       "      <td>2019-01-01 00:07:27</td>\n",
       "      <td>461.0</td>\n",
       "      <td>...</td>\n",
       "      <td>BROOKLYN</td>\n",
       "      <td>K6</td>\n",
       "      <td>11201.0</td>\n",
       "      <td>True</td>\n",
       "      <td>False</td>\n",
       "      <td>2018</td>\n",
       "      <td>12</td>\n",
       "      <td>31</td>\n",
       "      <td>1</td>\n",
       "      <td>23</td>\n",
       "    </tr>\n",
       "    <tr>\n",
       "      <td>183654385</td>\n",
       "      <td>2018-12-31 23:59:20</td>\n",
       "      <td>MVAINJ</td>\n",
       "      <td>4</td>\n",
       "      <td>MVAINJ</td>\n",
       "      <td>4</td>\n",
       "      <td>2019-01-01 00:01:10</td>\n",
       "      <td>110</td>\n",
       "      <td>2019-01-01 00:02:25</td>\n",
       "      <td>2019-01-01 00:07:19</td>\n",
       "      <td>479.0</td>\n",
       "      <td>...</td>\n",
       "      <td>QUEENS</td>\n",
       "      <td>Q3</td>\n",
       "      <td>11416.0</td>\n",
       "      <td>False</td>\n",
       "      <td>False</td>\n",
       "      <td>2018</td>\n",
       "      <td>12</td>\n",
       "      <td>31</td>\n",
       "      <td>1</td>\n",
       "      <td>23</td>\n",
       "    </tr>\n",
       "    <tr>\n",
       "      <td>183654384</td>\n",
       "      <td>2018-12-31 23:58:45</td>\n",
       "      <td>SICK</td>\n",
       "      <td>6</td>\n",
       "      <td>SICK</td>\n",
       "      <td>6</td>\n",
       "      <td>2019-01-01 00:00:43</td>\n",
       "      <td>118</td>\n",
       "      <td>2019-01-01 00:02:08</td>\n",
       "      <td>2019-01-01 00:14:18</td>\n",
       "      <td>933.0</td>\n",
       "      <td>...</td>\n",
       "      <td>QUEENS</td>\n",
       "      <td>Q6</td>\n",
       "      <td>11369.0</td>\n",
       "      <td>False</td>\n",
       "      <td>False</td>\n",
       "      <td>2018</td>\n",
       "      <td>12</td>\n",
       "      <td>31</td>\n",
       "      <td>1</td>\n",
       "      <td>23</td>\n",
       "    </tr>\n",
       "    <tr>\n",
       "      <td>183654383</td>\n",
       "      <td>2018-12-31 23:58:14</td>\n",
       "      <td>INJMAJ</td>\n",
       "      <td>3</td>\n",
       "      <td>INJMAJ</td>\n",
       "      <td>3</td>\n",
       "      <td>2018-12-31 23:58:22</td>\n",
       "      <td>8</td>\n",
       "      <td>2018-12-31 23:58:37</td>\n",
       "      <td>2019-01-01 00:04:10</td>\n",
       "      <td>356.0</td>\n",
       "      <td>...</td>\n",
       "      <td>BROOKLYN</td>\n",
       "      <td>K1</td>\n",
       "      <td>11214.0</td>\n",
       "      <td>True</td>\n",
       "      <td>False</td>\n",
       "      <td>2018</td>\n",
       "      <td>12</td>\n",
       "      <td>31</td>\n",
       "      <td>1</td>\n",
       "      <td>23</td>\n",
       "    </tr>\n",
       "    <tr>\n",
       "      <td>183654382</td>\n",
       "      <td>2018-12-31 23:57:42</td>\n",
       "      <td>UNC</td>\n",
       "      <td>2</td>\n",
       "      <td>UNC</td>\n",
       "      <td>2</td>\n",
       "      <td>2019-01-01 00:00:39</td>\n",
       "      <td>177</td>\n",
       "      <td>2019-01-01 00:01:03</td>\n",
       "      <td>2019-01-01 00:15:00</td>\n",
       "      <td>1038.0</td>\n",
       "      <td>...</td>\n",
       "      <td>MANHATTAN</td>\n",
       "      <td>M3</td>\n",
       "      <td>10019.0</td>\n",
       "      <td>True</td>\n",
       "      <td>False</td>\n",
       "      <td>2018</td>\n",
       "      <td>12</td>\n",
       "      <td>31</td>\n",
       "      <td>1</td>\n",
       "      <td>23</td>\n",
       "    </tr>\n",
       "  </tbody>\n",
       "</table>\n",
       "<p>5 rows × 26 columns</p>\n",
       "</div>"
      ],
      "text/plain": [
       "                  incident_datetime initial_call_type  initial_severity_level  \\\n",
       "cad_incident_id                                                                 \n",
       "183654386       2018-12-31 23:59:46            CARDBR                       2   \n",
       "183654385       2018-12-31 23:59:20            MVAINJ                       4   \n",
       "183654384       2018-12-31 23:58:45              SICK                       6   \n",
       "183654383       2018-12-31 23:58:14            INJMAJ                       3   \n",
       "183654382       2018-12-31 23:57:42               UNC                       2   \n",
       "\n",
       "                final_call_type  final_severity_level  \\\n",
       "cad_incident_id                                         \n",
       "183654386                CARDBR                     2   \n",
       "183654385                MVAINJ                     4   \n",
       "183654384                  SICK                     6   \n",
       "183654383                INJMAJ                     3   \n",
       "183654382                   UNC                     2   \n",
       "\n",
       "                first_assignment_datetime  dispatch_time  \\\n",
       "cad_incident_id                                            \n",
       "183654386             2018-12-31 23:59:54              8   \n",
       "183654385             2019-01-01 00:01:10            110   \n",
       "183654384             2019-01-01 00:00:43            118   \n",
       "183654383             2018-12-31 23:58:22              8   \n",
       "183654382             2019-01-01 00:00:39            177   \n",
       "\n",
       "                first_activation_datetime first_on_scene_datetime  \\\n",
       "cad_incident_id                                                     \n",
       "183654386             2019-01-01 00:00:51     2019-01-01 00:07:27   \n",
       "183654385             2019-01-01 00:02:25     2019-01-01 00:07:19   \n",
       "183654384             2019-01-01 00:02:08     2019-01-01 00:14:18   \n",
       "183654383             2018-12-31 23:58:37     2019-01-01 00:04:10   \n",
       "183654382             2019-01-01 00:01:03     2019-01-01 00:15:00   \n",
       "\n",
       "                 response_time  ...    borough incident_dispatch_area  \\\n",
       "cad_incident_id                 ...                                     \n",
       "183654386                461.0  ...   BROOKLYN                     K6   \n",
       "183654385                479.0  ...     QUEENS                     Q3   \n",
       "183654384                933.0  ...     QUEENS                     Q6   \n",
       "183654383                356.0  ...   BROOKLYN                     K1   \n",
       "183654382               1038.0  ...  MANHATTAN                     M3   \n",
       "\n",
       "                 zipcode life_threatening fatality  year month day weekday  \\\n",
       "cad_incident_id                                                              \n",
       "183654386        11201.0             True    False  2018    12  31       1   \n",
       "183654385        11416.0            False    False  2018    12  31       1   \n",
       "183654384        11369.0            False    False  2018    12  31       1   \n",
       "183654383        11214.0             True    False  2018    12  31       1   \n",
       "183654382        10019.0             True    False  2018    12  31       1   \n",
       "\n",
       "                 hour  \n",
       "cad_incident_id        \n",
       "183654386          23  \n",
       "183654385          23  \n",
       "183654384          23  \n",
       "183654383          23  \n",
       "183654382          23  \n",
       "\n",
       "[5 rows x 26 columns]"
      ]
     },
     "execution_count": 81,
     "metadata": {},
     "output_type": "execute_result"
    }
   ],
   "source": [
    "preview_df.head()"
   ]
  },
  {
   "cell_type": "code",
   "execution_count": 31,
   "metadata": {},
   "outputs": [
    {
     "name": "stdout",
     "output_type": "stream",
     "text": [
      "<class 'pandas.core.frame.DataFrame'>\n",
      "RangeIndex: 10000 entries, 0 to 9999\n",
      "Data columns (total 31 columns):\n",
      "CAD_INCIDENT_ID                   10000 non-null int64\n",
      "INCIDENT_DATETIME                 10000 non-null object\n",
      "INITIAL_CALL_TYPE                 10000 non-null object\n",
      "INITIAL_SEVERITY_LEVEL_CODE       10000 non-null int64\n",
      "FINAL_CALL_TYPE                   10000 non-null object\n",
      "FINAL_SEVERITY_LEVEL_CODE         10000 non-null int64\n",
      "FIRST_ASSIGNMENT_DATETIME         9935 non-null object\n",
      "VALID_DISPATCH_RSPNS_TIME_INDC    10000 non-null object\n",
      "DISPATCH_RESPONSE_SECONDS_QY      10000 non-null int64\n",
      "FIRST_ACTIVATION_DATETIME         9922 non-null object\n",
      "FIRST_ON_SCENE_DATETIME           9646 non-null object\n",
      "VALID_INCIDENT_RSPNS_TIME_INDC    10000 non-null object\n",
      "INCIDENT_RESPONSE_SECONDS_QY      9644 non-null float64\n",
      "INCIDENT_TRAVEL_TM_SECONDS_QY     9646 non-null float64\n",
      "FIRST_TO_HOSP_DATETIME            6984 non-null object\n",
      "FIRST_HOSP_ARRIVAL_DATETIME       6937 non-null object\n",
      "INCIDENT_CLOSE_DATETIME           9999 non-null object\n",
      "HELD_INDICATOR                    10000 non-null object\n",
      "INCIDENT_DISPOSITION_CODE         9918 non-null float64\n",
      "BOROUGH                           10000 non-null object\n",
      "INCIDENT_DISPATCH_AREA            10000 non-null object\n",
      "ZIPCODE                           9874 non-null float64\n",
      "POLICEPRECINCT                    9874 non-null float64\n",
      "CITYCOUNCILDISTRICT               9874 non-null float64\n",
      "COMMUNITYDISTRICT                 9874 non-null float64\n",
      "COMMUNITYSCHOOLDISTRICT           9868 non-null float64\n",
      "CONGRESSIONALDISTRICT             9874 non-null float64\n",
      "REOPEN_INDICATOR                  10000 non-null object\n",
      "SPECIAL_EVENT_INDICATOR           10000 non-null object\n",
      "STANDBY_INDICATOR                 10000 non-null object\n",
      "TRANSFER_INDICATOR                10000 non-null object\n",
      "dtypes: float64(9), int64(4), object(18)\n",
      "memory usage: 2.4+ MB\n"
     ]
    }
   ],
   "source": [
    "preview_df.info()"
   ]
  },
  {
   "cell_type": "markdown",
   "metadata": {},
   "source": [
    "[TOC](#TOC)"
   ]
  },
  {
   "cell_type": "markdown",
   "metadata": {},
   "source": [
    "<a id='Sec03B'></a>\n",
    "#### 3B: Import full EMS incident dataset (from CSV file)"
   ]
  },
  {
   "cell_type": "code",
   "execution_count": 82,
   "metadata": {},
   "outputs": [],
   "source": [
    "# Import full EMS incident dataset\n",
    "\"\"\"\n",
    "    The original CSV file can be exported from \n",
    "    https://data.cityofnewyork.us/Public-Safety/EMS-Incident-Dispatch-Data/76xm-jjuj\n",
    "\"\"\"\n",
    "#file_path1 = '../data/EMS_Incident_Dispatch_Data.csv'\n",
    "file_path1 = r'C:\\Users\\jwilliams2\\Downloads\\EMS_Incident_Dispatch_Data.csv'\n",
    "\n",
    "# Read CSV data into a Pandas DataFrame object\n",
    "ems_df = pd.read_csv(file_path1,header=0)"
   ]
  },
  {
   "cell_type": "code",
   "execution_count": 83,
   "metadata": {
    "scrolled": true
   },
   "outputs": [
    {
     "data": {
      "text/plain": [
       "Index(['cad_incident_id', 'incident_datetime', 'initial_call_type',\n",
       "       'initial_severity_level_code', 'final_call_type',\n",
       "       'final_severity_level_code', 'first_assignment_datetime',\n",
       "       'valid_dispatch_rspns_time_indc', 'dispatch_response_seconds_qy',\n",
       "       'first_activation_datetime', 'first_on_scene_datetime',\n",
       "       'valid_incident_rspns_time_indc', 'incident_response_seconds_qy',\n",
       "       'incident_travel_tm_seconds_qy', 'first_to_hosp_datetime',\n",
       "       'first_hosp_arrival_datetime', 'incident_close_datetime',\n",
       "       'held_indicator', 'incident_disposition_code', 'borough',\n",
       "       'incident_dispatch_area', 'zipcode', 'policeprecinct',\n",
       "       'citycouncildistrict', 'communitydistrict', 'communityschooldistrict',\n",
       "       'congressionaldistrict', 'reopen_indicator', 'special_event_indicator',\n",
       "       'standby_indicator', 'transfer_indicator'],\n",
       "      dtype='object')"
      ]
     },
     "execution_count": 83,
     "metadata": {},
     "output_type": "execute_result"
    }
   ],
   "source": [
    "# Convert all column header names to lowercase\n",
    "ems_df.rename(columns={i:i.lower().strip() for i in ems_df.columns},inplace=True)\n",
    "ems_df.columns"
   ]
  },
  {
   "cell_type": "code",
   "execution_count": 84,
   "metadata": {},
   "outputs": [
    {
     "data": {
      "text/plain": [
       "(8557848, 31)"
      ]
     },
     "execution_count": 84,
     "metadata": {},
     "output_type": "execute_result"
    }
   ],
   "source": [
    "# Obtain shape of DataFrame w/ EMS incident data\n",
    "ems_df.shape"
   ]
  },
  {
   "cell_type": "markdown",
   "metadata": {},
   "source": [
    "A downloadable description of each dataset field is available at [NYC Open Data](https://data.cityofnewyork.us/Public-Safety/EMS-Incident-Dispatch-Data/76xm-jjuj) in the _Attachments_ section under the file name **EMS_incident_dispatch_data_description.xlsx**. [TOC](#TOC)"
   ]
  },
  {
   "cell_type": "markdown",
   "metadata": {},
   "source": [
    "<a id='Sec03C'></a>\n",
    "#### 3C: Import geographical dataset (from tab-delimited file)"
   ]
  },
  {
   "cell_type": "code",
   "execution_count": 65,
   "metadata": {},
   "outputs": [],
   "source": [
    "# Import geographic data for all U.S. cities\n",
    "\"\"\"\n",
    "    The original TXT file can be exported from\n",
    "    https://www2.census.gov/geo/docs/maps-data/data/gazetteer/2019_Gazetteer/2019_Gaz_zcta_national.zip\n",
    "\"\"\"\n",
    "#file_path2 = '../data/2019_Gaz_zcta_national.txt'\n",
    "file_path2 = r'C:\\Users\\jwilliams2\\Downloads\\2019_Gaz_zcta_national.txt'\n",
    "\n",
    "# Read tab-delimited text data into a Pandas DataFrame object\n",
    "geo_df = pd.read_table(file_path2)"
   ]
  },
  {
   "cell_type": "code",
   "execution_count": 66,
   "metadata": {},
   "outputs": [
    {
     "data": {
      "text/plain": [
       "Index(['geoid', 'aland', 'awater', 'aland_sqmi', 'awater_sqmi', 'intptlat',\n",
       "       'intptlong'],\n",
       "      dtype='object')"
      ]
     },
     "execution_count": 66,
     "metadata": {},
     "output_type": "execute_result"
    }
   ],
   "source": [
    "# Convert all column header names to lowercase\n",
    "geo_df.rename(columns={i:i.lower().strip() for i in geo_df.columns},inplace=True)\n",
    "geo_df.columns"
   ]
  },
  {
   "cell_type": "code",
   "execution_count": 37,
   "metadata": {
    "scrolled": true
   },
   "outputs": [
    {
     "data": {
      "text/plain": [
       "(33144, 7)"
      ]
     },
     "execution_count": 37,
     "metadata": {},
     "output_type": "execute_result"
    }
   ],
   "source": [
    "# Obtain shape of DataFrame w/ geographic data\n",
    "geo_df.shape"
   ]
  },
  {
   "cell_type": "markdown",
   "metadata": {},
   "source": [
    "The text file contains GPA coordinates for all ZIP Code Tabulation Areas (ZCTAs) within the United States. A downloadable file is available at the [U.S. Census Bureau](https://www.census.gov/geographies/reference-files/time-series/geo/gazetteer-files.html) under the file name **ZIP Code Tabulation Areas**. [TOC](#TOC)"
   ]
  },
  {
   "cell_type": "markdown",
   "metadata": {},
   "source": [
    "<a id='Sec03D'></a>\n",
    "#### 3D: Inspect raw, merged dataset"
   ]
  },
  {
   "cell_type": "code",
   "execution_count": 16,
   "metadata": {},
   "outputs": [],
   "source": [
    "# Join the two DataFrame objects\n",
    "df = pd.merge(ems_df,geo_df,left_on='zipcode',right_on='geoid')"
   ]
  },
  {
   "cell_type": "code",
   "execution_count": 17,
   "metadata": {},
   "outputs": [
    {
     "data": {
      "text/plain": [
       "(8368586, 39)"
      ]
     },
     "execution_count": 17,
     "metadata": {},
     "output_type": "execute_result"
    }
   ],
   "source": [
    "df.shape"
   ]
  },
  {
   "cell_type": "code",
   "execution_count": 18,
   "metadata": {},
   "outputs": [
    {
     "data": {
      "text/html": [
       "<div>\n",
       "<style scoped>\n",
       "    .dataframe tbody tr th:only-of-type {\n",
       "        vertical-align: middle;\n",
       "    }\n",
       "\n",
       "    .dataframe tbody tr th {\n",
       "        vertical-align: top;\n",
       "    }\n",
       "\n",
       "    .dataframe thead th {\n",
       "        text-align: right;\n",
       "    }\n",
       "</style>\n",
       "<table border=\"1\" class=\"dataframe\">\n",
       "  <thead>\n",
       "    <tr style=\"text-align: right;\">\n",
       "      <th></th>\n",
       "      <th>cad_incident_id</th>\n",
       "      <th>incident_datetime</th>\n",
       "      <th>initial_call_type</th>\n",
       "      <th>initial_severity_level_code</th>\n",
       "      <th>final_call_type</th>\n",
       "      <th>final_severity_level_code</th>\n",
       "      <th>first_assignment_datetime</th>\n",
       "      <th>valid_dispatch_rspns_time_indc</th>\n",
       "      <th>dispatch_response_seconds_qy</th>\n",
       "      <th>first_activation_datetime</th>\n",
       "      <th>...</th>\n",
       "      <th>special_event_indicator</th>\n",
       "      <th>standby_indicator</th>\n",
       "      <th>transfer_indicator</th>\n",
       "      <th>geoid</th>\n",
       "      <th>aland</th>\n",
       "      <th>awater</th>\n",
       "      <th>aland_sqmi</th>\n",
       "      <th>awater_sqmi</th>\n",
       "      <th>intptlat</th>\n",
       "      <th>intptlong</th>\n",
       "    </tr>\n",
       "  </thead>\n",
       "  <tbody>\n",
       "    <tr>\n",
       "      <th>0</th>\n",
       "      <td>130010001</td>\n",
       "      <td>01/01/2013 12:00:04 AM</td>\n",
       "      <td>RESPIR</td>\n",
       "      <td>4</td>\n",
       "      <td>RESPIR</td>\n",
       "      <td>4</td>\n",
       "      <td>01/01/2013 12:01:45 AM</td>\n",
       "      <td>Y</td>\n",
       "      <td>101</td>\n",
       "      <td>01/01/2013 12:01:51 AM</td>\n",
       "      <td>...</td>\n",
       "      <td>N</td>\n",
       "      <td>N</td>\n",
       "      <td>N</td>\n",
       "      <td>10472</td>\n",
       "      <td>2729341</td>\n",
       "      <td>0</td>\n",
       "      <td>1.054</td>\n",
       "      <td>0.0</td>\n",
       "      <td>40.829556</td>\n",
       "      <td>-73.86931</td>\n",
       "    </tr>\n",
       "    <tr>\n",
       "      <th>1</th>\n",
       "      <td>130010022</td>\n",
       "      <td>01/01/2013 12:05:52 AM</td>\n",
       "      <td>EDP</td>\n",
       "      <td>7</td>\n",
       "      <td>EDP</td>\n",
       "      <td>7</td>\n",
       "      <td>01/01/2013 12:06:04 AM</td>\n",
       "      <td>Y</td>\n",
       "      <td>12</td>\n",
       "      <td>01/01/2013 12:06:24 AM</td>\n",
       "      <td>...</td>\n",
       "      <td>N</td>\n",
       "      <td>N</td>\n",
       "      <td>N</td>\n",
       "      <td>10472</td>\n",
       "      <td>2729341</td>\n",
       "      <td>0</td>\n",
       "      <td>1.054</td>\n",
       "      <td>0.0</td>\n",
       "      <td>40.829556</td>\n",
       "      <td>-73.86931</td>\n",
       "    </tr>\n",
       "    <tr>\n",
       "      <th>2</th>\n",
       "      <td>130010086</td>\n",
       "      <td>01/01/2013 12:20:37 AM</td>\n",
       "      <td>SICK</td>\n",
       "      <td>6</td>\n",
       "      <td>SICK</td>\n",
       "      <td>6</td>\n",
       "      <td>01/01/2013 12:21:29 AM</td>\n",
       "      <td>Y</td>\n",
       "      <td>52</td>\n",
       "      <td>01/01/2013 12:21:50 AM</td>\n",
       "      <td>...</td>\n",
       "      <td>N</td>\n",
       "      <td>N</td>\n",
       "      <td>N</td>\n",
       "      <td>10472</td>\n",
       "      <td>2729341</td>\n",
       "      <td>0</td>\n",
       "      <td>1.054</td>\n",
       "      <td>0.0</td>\n",
       "      <td>40.829556</td>\n",
       "      <td>-73.86931</td>\n",
       "    </tr>\n",
       "    <tr>\n",
       "      <th>3</th>\n",
       "      <td>130010615</td>\n",
       "      <td>01/01/2013 01:53:11 AM</td>\n",
       "      <td>INJURY</td>\n",
       "      <td>4</td>\n",
       "      <td>INJURY</td>\n",
       "      <td>4</td>\n",
       "      <td>01/01/2013 01:53:36 AM</td>\n",
       "      <td>Y</td>\n",
       "      <td>25</td>\n",
       "      <td>01/01/2013 01:53:52 AM</td>\n",
       "      <td>...</td>\n",
       "      <td>N</td>\n",
       "      <td>N</td>\n",
       "      <td>N</td>\n",
       "      <td>10472</td>\n",
       "      <td>2729341</td>\n",
       "      <td>0</td>\n",
       "      <td>1.054</td>\n",
       "      <td>0.0</td>\n",
       "      <td>40.829556</td>\n",
       "      <td>-73.86931</td>\n",
       "    </tr>\n",
       "    <tr>\n",
       "      <th>4</th>\n",
       "      <td>130010624</td>\n",
       "      <td>01/01/2013 01:54:28 AM</td>\n",
       "      <td>SICK</td>\n",
       "      <td>4</td>\n",
       "      <td>SICK</td>\n",
       "      <td>4</td>\n",
       "      <td>01/01/2013 01:55:10 AM</td>\n",
       "      <td>Y</td>\n",
       "      <td>42</td>\n",
       "      <td>01/01/2013 01:55:32 AM</td>\n",
       "      <td>...</td>\n",
       "      <td>N</td>\n",
       "      <td>N</td>\n",
       "      <td>N</td>\n",
       "      <td>10472</td>\n",
       "      <td>2729341</td>\n",
       "      <td>0</td>\n",
       "      <td>1.054</td>\n",
       "      <td>0.0</td>\n",
       "      <td>40.829556</td>\n",
       "      <td>-73.86931</td>\n",
       "    </tr>\n",
       "  </tbody>\n",
       "</table>\n",
       "<p>5 rows × 39 columns</p>\n",
       "</div>"
      ],
      "text/plain": [
       "   cad_incident_id       incident_datetime initial_call_type  \\\n",
       "0        130010001  01/01/2013 12:00:04 AM            RESPIR   \n",
       "1        130010022  01/01/2013 12:05:52 AM               EDP   \n",
       "2        130010086  01/01/2013 12:20:37 AM              SICK   \n",
       "3        130010615  01/01/2013 01:53:11 AM            INJURY   \n",
       "4        130010624  01/01/2013 01:54:28 AM              SICK   \n",
       "\n",
       "   initial_severity_level_code final_call_type  final_severity_level_code  \\\n",
       "0                            4          RESPIR                          4   \n",
       "1                            7             EDP                          7   \n",
       "2                            6            SICK                          6   \n",
       "3                            4          INJURY                          4   \n",
       "4                            4            SICK                          4   \n",
       "\n",
       "  first_assignment_datetime valid_dispatch_rspns_time_indc  \\\n",
       "0    01/01/2013 12:01:45 AM                              Y   \n",
       "1    01/01/2013 12:06:04 AM                              Y   \n",
       "2    01/01/2013 12:21:29 AM                              Y   \n",
       "3    01/01/2013 01:53:36 AM                              Y   \n",
       "4    01/01/2013 01:55:10 AM                              Y   \n",
       "\n",
       "   dispatch_response_seconds_qy first_activation_datetime    ...     \\\n",
       "0                           101    01/01/2013 12:01:51 AM    ...      \n",
       "1                            12    01/01/2013 12:06:24 AM    ...      \n",
       "2                            52    01/01/2013 12:21:50 AM    ...      \n",
       "3                            25    01/01/2013 01:53:52 AM    ...      \n",
       "4                            42    01/01/2013 01:55:32 AM    ...      \n",
       "\n",
       "  special_event_indicator standby_indicator  transfer_indicator  geoid  \\\n",
       "0                       N                 N                   N  10472   \n",
       "1                       N                 N                   N  10472   \n",
       "2                       N                 N                   N  10472   \n",
       "3                       N                 N                   N  10472   \n",
       "4                       N                 N                   N  10472   \n",
       "\n",
       "     aland awater aland_sqmi awater_sqmi   intptlat intptlong  \n",
       "0  2729341      0      1.054         0.0  40.829556 -73.86931  \n",
       "1  2729341      0      1.054         0.0  40.829556 -73.86931  \n",
       "2  2729341      0      1.054         0.0  40.829556 -73.86931  \n",
       "3  2729341      0      1.054         0.0  40.829556 -73.86931  \n",
       "4  2729341      0      1.054         0.0  40.829556 -73.86931  \n",
       "\n",
       "[5 rows x 39 columns]"
      ]
     },
     "execution_count": 18,
     "metadata": {},
     "output_type": "execute_result"
    }
   ],
   "source": [
    "df.head()"
   ]
  },
  {
   "cell_type": "code",
   "execution_count": 19,
   "metadata": {},
   "outputs": [
    {
     "name": "stdout",
     "output_type": "stream",
     "text": [
      "<class 'pandas.core.frame.DataFrame'>\n",
      "Int64Index: 8368586 entries, 0 to 8368585\n",
      "Data columns (total 39 columns):\n",
      "cad_incident_id                   8368586 non-null int64\n",
      "incident_datetime                 8368586 non-null object\n",
      "initial_call_type                 8368586 non-null object\n",
      "initial_severity_level_code       8368586 non-null int64\n",
      "final_call_type                   8368586 non-null object\n",
      "final_severity_level_code         8368586 non-null int64\n",
      "first_assignment_datetime         8312407 non-null object\n",
      "valid_dispatch_rspns_time_indc    8368586 non-null object\n",
      "dispatch_response_seconds_qy      8368586 non-null int64\n",
      "first_activation_datetime         8297820 non-null object\n",
      "first_on_scene_datetime           8106919 non-null object\n",
      "valid_incident_rspns_time_indc    8368586 non-null object\n",
      "incident_response_seconds_qy      8105959 non-null float64\n",
      "incident_travel_tm_seconds_qy     8106798 non-null float64\n",
      "first_to_hosp_datetime            5935067 non-null object\n",
      "first_hosp_arrival_datetime       5894745 non-null object\n",
      "incident_close_datetime           8365450 non-null object\n",
      "held_indicator                    8368586 non-null object\n",
      "incident_disposition_code         8302128 non-null float64\n",
      "borough                           8368586 non-null object\n",
      "atom                              6771914 non-null object\n",
      "incident_dispatch_area            8368586 non-null object\n",
      "zipcode                           8368586 non-null float64\n",
      "policeprecinct                    8368586 non-null float64\n",
      "citycouncildistrict               8365438 non-null float64\n",
      "communitydistrict                 8368580 non-null float64\n",
      "communityschooldistrict           8364308 non-null float64\n",
      "congressionaldistrict             8365438 non-null float64\n",
      "reopen_indicator                  8368586 non-null object\n",
      "special_event_indicator           8368586 non-null object\n",
      "standby_indicator                 8368586 non-null object\n",
      "transfer_indicator                8368586 non-null object\n",
      "geoid                             8368586 non-null int64\n",
      "aland                             8368586 non-null int64\n",
      "awater                            8368586 non-null int64\n",
      "aland_sqmi                        8368586 non-null float64\n",
      "awater_sqmi                       8368586 non-null float64\n",
      "intptlat                          8368586 non-null float64\n",
      "intptlong                         8368586 non-null float64\n",
      "dtypes: float64(13), int64(7), object(19)\n",
      "memory usage: 11.1 GB\n"
     ]
    }
   ],
   "source": [
    "df.info(verbose=True,null_counts=True,memory_usage='deep')"
   ]
  },
  {
   "cell_type": "code",
   "execution_count": 20,
   "metadata": {},
   "outputs": [
    {
     "data": {
      "text/plain": [
       "Index                              66948688\n",
       "cad_incident_id                    66948688\n",
       "incident_datetime                 661118294\n",
       "initial_call_type                 518136144\n",
       "initial_severity_level_code        66948688\n",
       "final_call_type                   518235008\n",
       "final_severity_level_code          66948688\n",
       "first_assignment_datetime         658477881\n",
       "valid_dispatch_rspns_time_indc    518852332\n",
       "dispatch_response_seconds_qy       66948688\n",
       "first_activation_datetime         657792292\n",
       "first_on_scene_datetime           648819945\n",
       "valid_incident_rspns_time_indc    518852332\n",
       "incident_response_seconds_qy       66948688\n",
       "incident_travel_tm_seconds_qy      66948688\n",
       "first_to_hosp_datetime            546742901\n",
       "first_hosp_arrival_datetime       544847767\n",
       "incident_close_datetime           660970902\n",
       "held_indicator                    518852332\n",
       "incident_disposition_code          66948688\n",
       "borough                           542579701\n",
       "atom                              468511012\n",
       "incident_dispatch_area            493746574\n",
       "zipcode                            66948688\n",
       "policeprecinct                     66948688\n",
       "citycouncildistrict                66948688\n",
       "communitydistrict                  66948688\n",
       "communityschooldistrict            66948688\n",
       "congressionaldistrict              66948688\n",
       "reopen_indicator                  518852332\n",
       "special_event_indicator           518852332\n",
       "standby_indicator                 518852332\n",
       "transfer_indicator                518852332\n",
       "geoid                              66948688\n",
       "aland                              66948688\n",
       "awater                             66948688\n",
       "aland_sqmi                         66948688\n",
       "awater_sqmi                        66948688\n",
       "intptlat                           66948688\n",
       "intptlong                          66948688\n",
       "dtype: int64"
      ]
     },
     "execution_count": 20,
     "metadata": {},
     "output_type": "execute_result"
    }
   ],
   "source": [
    "df.memory_usage(deep=True)"
   ]
  },
  {
   "cell_type": "markdown",
   "metadata": {},
   "source": [
    "[TOC](#TOC)"
   ]
  },
  {
   "cell_type": "markdown",
   "metadata": {},
   "source": [
    " ***"
   ]
  },
  {
   "cell_type": "markdown",
   "metadata": {},
   "source": [
    "## 4. Data Wrangling"
   ]
  },
  {
   "cell_type": "markdown",
   "metadata": {},
   "source": [
    "<a id='Sec04A'></a>\n",
    "#### 4A: Apply custom functions to dataset"
   ]
  },
  {
   "cell_type": "code",
   "execution_count": 21,
   "metadata": {},
   "outputs": [],
   "source": [
    "# Apply drop_invalid to DataFrame object\n",
    "df = drop_invalid(df)"
   ]
  },
  {
   "cell_type": "code",
   "execution_count": 22,
   "metadata": {},
   "outputs": [],
   "source": [
    "# Apply drop_immaterial to DataFrame object\n",
    "df = drop_immaterial(df)"
   ]
  },
  {
   "cell_type": "code",
   "execution_count": 23,
   "metadata": {},
   "outputs": [],
   "source": [
    "# Apply reduce_memory to DataFrame object\n",
    "df = reduce_memory(df)"
   ]
  },
  {
   "cell_type": "code",
   "execution_count": 24,
   "metadata": {},
   "outputs": [],
   "source": [
    "# Apply format_df to DataFrame object\n",
    "df = format_df(df)"
   ]
  },
  {
   "cell_type": "code",
   "execution_count": 25,
   "metadata": {},
   "outputs": [],
   "source": [
    "# Set index to 'cad_incident_id'\n",
    "df.set_index(['cad_incident_id'],inplace=True)"
   ]
  },
  {
   "cell_type": "markdown",
   "metadata": {},
   "source": [
    "[TOC](#TOC) "
   ]
  },
  {
   "cell_type": "markdown",
   "metadata": {},
   "source": [
    "<a id='Sec04B'></a>\n",
    "#### 4B: Inspect clean dataset"
   ]
  },
  {
   "cell_type": "code",
   "execution_count": 26,
   "metadata": {},
   "outputs": [
    {
     "data": {
      "text/plain": [
       "(7988028, 29)"
      ]
     },
     "execution_count": 26,
     "metadata": {},
     "output_type": "execute_result"
    }
   ],
   "source": [
    "df.shape"
   ]
  },
  {
   "cell_type": "code",
   "execution_count": 27,
   "metadata": {},
   "outputs": [
    {
     "data": {
      "text/html": [
       "<div>\n",
       "<style scoped>\n",
       "    .dataframe tbody tr th:only-of-type {\n",
       "        vertical-align: middle;\n",
       "    }\n",
       "\n",
       "    .dataframe tbody tr th {\n",
       "        vertical-align: top;\n",
       "    }\n",
       "\n",
       "    .dataframe thead th {\n",
       "        text-align: right;\n",
       "    }\n",
       "</style>\n",
       "<table border=\"1\" class=\"dataframe\">\n",
       "  <thead>\n",
       "    <tr style=\"text-align: right;\">\n",
       "      <th></th>\n",
       "      <th>incident_datetime</th>\n",
       "      <th>year</th>\n",
       "      <th>month</th>\n",
       "      <th>hour</th>\n",
       "      <th>weekday</th>\n",
       "      <th>borough</th>\n",
       "      <th>zipcode</th>\n",
       "      <th>latitude</th>\n",
       "      <th>longitude</th>\n",
       "      <th>aland_sqmi</th>\n",
       "      <th>...</th>\n",
       "      <th>first_activation_datetime</th>\n",
       "      <th>first_on_scene_datetime</th>\n",
       "      <th>travel_time</th>\n",
       "      <th>response_time</th>\n",
       "      <th>first_to_hosp_datetime</th>\n",
       "      <th>first_hosp_arrival_datetime</th>\n",
       "      <th>incident_close_datetime</th>\n",
       "      <th>incident_disposition_code</th>\n",
       "      <th>life_threatening</th>\n",
       "      <th>fatality</th>\n",
       "    </tr>\n",
       "    <tr>\n",
       "      <th>cad_incident_id</th>\n",
       "      <th></th>\n",
       "      <th></th>\n",
       "      <th></th>\n",
       "      <th></th>\n",
       "      <th></th>\n",
       "      <th></th>\n",
       "      <th></th>\n",
       "      <th></th>\n",
       "      <th></th>\n",
       "      <th></th>\n",
       "      <th></th>\n",
       "      <th></th>\n",
       "      <th></th>\n",
       "      <th></th>\n",
       "      <th></th>\n",
       "      <th></th>\n",
       "      <th></th>\n",
       "      <th></th>\n",
       "      <th></th>\n",
       "      <th></th>\n",
       "      <th></th>\n",
       "    </tr>\n",
       "  </thead>\n",
       "  <tbody>\n",
       "    <tr>\n",
       "      <th>130010001</th>\n",
       "      <td>2013-01-01 00:00:04</td>\n",
       "      <td>2013</td>\n",
       "      <td>1</td>\n",
       "      <td>0</td>\n",
       "      <td>Tuesday</td>\n",
       "      <td>BRONX</td>\n",
       "      <td>10472.0</td>\n",
       "      <td>40.829556</td>\n",
       "      <td>-73.86931</td>\n",
       "      <td>1.054</td>\n",
       "      <td>...</td>\n",
       "      <td>2013-01-01 00:01:51</td>\n",
       "      <td>2013-01-01 00:13:21</td>\n",
       "      <td>696.0</td>\n",
       "      <td>797.0</td>\n",
       "      <td>2013-01-01 00:28:49</td>\n",
       "      <td>2013-01-01 00:38:15</td>\n",
       "      <td>2013-01-01 01:04:56</td>\n",
       "      <td>82.0</td>\n",
       "      <td>False</td>\n",
       "      <td>False</td>\n",
       "    </tr>\n",
       "    <tr>\n",
       "      <th>130010022</th>\n",
       "      <td>2013-01-01 00:05:52</td>\n",
       "      <td>2013</td>\n",
       "      <td>1</td>\n",
       "      <td>0</td>\n",
       "      <td>Tuesday</td>\n",
       "      <td>BRONX</td>\n",
       "      <td>10472.0</td>\n",
       "      <td>40.829556</td>\n",
       "      <td>-73.86931</td>\n",
       "      <td>1.054</td>\n",
       "      <td>...</td>\n",
       "      <td>2013-01-01 00:06:24</td>\n",
       "      <td>2013-01-01 00:14:46</td>\n",
       "      <td>522.0</td>\n",
       "      <td>534.0</td>\n",
       "      <td>2013-01-01 00:48:57</td>\n",
       "      <td>2013-01-01 01:02:02</td>\n",
       "      <td>2013-01-01 01:46:14</td>\n",
       "      <td>82.0</td>\n",
       "      <td>False</td>\n",
       "      <td>False</td>\n",
       "    </tr>\n",
       "    <tr>\n",
       "      <th>130010086</th>\n",
       "      <td>2013-01-01 00:20:37</td>\n",
       "      <td>2013</td>\n",
       "      <td>1</td>\n",
       "      <td>0</td>\n",
       "      <td>Tuesday</td>\n",
       "      <td>BRONX</td>\n",
       "      <td>10472.0</td>\n",
       "      <td>40.829556</td>\n",
       "      <td>-73.86931</td>\n",
       "      <td>1.054</td>\n",
       "      <td>...</td>\n",
       "      <td>2013-01-01 00:21:50</td>\n",
       "      <td>2013-01-01 00:32:14</td>\n",
       "      <td>645.0</td>\n",
       "      <td>697.0</td>\n",
       "      <td>NaT</td>\n",
       "      <td>NaT</td>\n",
       "      <td>2013-01-01 01:03:50</td>\n",
       "      <td>93.0</td>\n",
       "      <td>False</td>\n",
       "      <td>False</td>\n",
       "    </tr>\n",
       "    <tr>\n",
       "      <th>130010615</th>\n",
       "      <td>2013-01-01 01:53:11</td>\n",
       "      <td>2013</td>\n",
       "      <td>1</td>\n",
       "      <td>1</td>\n",
       "      <td>Tuesday</td>\n",
       "      <td>BRONX</td>\n",
       "      <td>10472.0</td>\n",
       "      <td>40.829556</td>\n",
       "      <td>-73.86931</td>\n",
       "      <td>1.054</td>\n",
       "      <td>...</td>\n",
       "      <td>2013-01-01 01:53:52</td>\n",
       "      <td>2013-01-01 01:56:54</td>\n",
       "      <td>198.0</td>\n",
       "      <td>223.0</td>\n",
       "      <td>2013-01-01 02:12:28</td>\n",
       "      <td>2013-01-01 02:26:09</td>\n",
       "      <td>2013-01-01 03:03:36</td>\n",
       "      <td>82.0</td>\n",
       "      <td>False</td>\n",
       "      <td>False</td>\n",
       "    </tr>\n",
       "    <tr>\n",
       "      <th>130010624</th>\n",
       "      <td>2013-01-01 01:54:28</td>\n",
       "      <td>2013</td>\n",
       "      <td>1</td>\n",
       "      <td>1</td>\n",
       "      <td>Tuesday</td>\n",
       "      <td>BRONX</td>\n",
       "      <td>10472.0</td>\n",
       "      <td>40.829556</td>\n",
       "      <td>-73.86931</td>\n",
       "      <td>1.054</td>\n",
       "      <td>...</td>\n",
       "      <td>2013-01-01 01:55:32</td>\n",
       "      <td>2013-01-01 01:59:26</td>\n",
       "      <td>256.0</td>\n",
       "      <td>298.0</td>\n",
       "      <td>2013-01-01 02:14:34</td>\n",
       "      <td>2013-01-01 02:23:06</td>\n",
       "      <td>2013-01-01 02:44:27</td>\n",
       "      <td>82.0</td>\n",
       "      <td>False</td>\n",
       "      <td>False</td>\n",
       "    </tr>\n",
       "  </tbody>\n",
       "</table>\n",
       "<p>5 rows × 29 columns</p>\n",
       "</div>"
      ],
      "text/plain": [
       "                  incident_datetime  year  month  hour  weekday borough  \\\n",
       "cad_incident_id                                                           \n",
       "130010001       2013-01-01 00:00:04  2013      1     0  Tuesday   BRONX   \n",
       "130010022       2013-01-01 00:05:52  2013      1     0  Tuesday   BRONX   \n",
       "130010086       2013-01-01 00:20:37  2013      1     0  Tuesday   BRONX   \n",
       "130010615       2013-01-01 01:53:11  2013      1     1  Tuesday   BRONX   \n",
       "130010624       2013-01-01 01:54:28  2013      1     1  Tuesday   BRONX   \n",
       "\n",
       "                 zipcode   latitude  longitude  aland_sqmi   ...     \\\n",
       "cad_incident_id                                              ...      \n",
       "130010001        10472.0  40.829556  -73.86931       1.054   ...      \n",
       "130010022        10472.0  40.829556  -73.86931       1.054   ...      \n",
       "130010086        10472.0  40.829556  -73.86931       1.054   ...      \n",
       "130010615        10472.0  40.829556  -73.86931       1.054   ...      \n",
       "130010624        10472.0  40.829556  -73.86931       1.054   ...      \n",
       "\n",
       "                 first_activation_datetime first_on_scene_datetime  \\\n",
       "cad_incident_id                                                      \n",
       "130010001              2013-01-01 00:01:51     2013-01-01 00:13:21   \n",
       "130010022              2013-01-01 00:06:24     2013-01-01 00:14:46   \n",
       "130010086              2013-01-01 00:21:50     2013-01-01 00:32:14   \n",
       "130010615              2013-01-01 01:53:52     2013-01-01 01:56:54   \n",
       "130010624              2013-01-01 01:55:32     2013-01-01 01:59:26   \n",
       "\n",
       "                 travel_time response_time  first_to_hosp_datetime  \\\n",
       "cad_incident_id                                                      \n",
       "130010001              696.0         797.0     2013-01-01 00:28:49   \n",
       "130010022              522.0         534.0     2013-01-01 00:48:57   \n",
       "130010086              645.0         697.0                     NaT   \n",
       "130010615              198.0         223.0     2013-01-01 02:12:28   \n",
       "130010624              256.0         298.0     2013-01-01 02:14:34   \n",
       "\n",
       "                first_hosp_arrival_datetime incident_close_datetime  \\\n",
       "cad_incident_id                                                       \n",
       "130010001               2013-01-01 00:38:15     2013-01-01 01:04:56   \n",
       "130010022               2013-01-01 01:02:02     2013-01-01 01:46:14   \n",
       "130010086                               NaT     2013-01-01 01:03:50   \n",
       "130010615               2013-01-01 02:26:09     2013-01-01 03:03:36   \n",
       "130010624               2013-01-01 02:23:06     2013-01-01 02:44:27   \n",
       "\n",
       "                incident_disposition_code  life_threatening fatality  \n",
       "cad_incident_id                                                       \n",
       "130010001                            82.0             False    False  \n",
       "130010022                            82.0             False    False  \n",
       "130010086                            93.0             False    False  \n",
       "130010615                            82.0             False    False  \n",
       "130010624                            82.0             False    False  \n",
       "\n",
       "[5 rows x 29 columns]"
      ]
     },
     "execution_count": 27,
     "metadata": {},
     "output_type": "execute_result"
    }
   ],
   "source": [
    "df.head()"
   ]
  },
  {
   "cell_type": "code",
   "execution_count": 28,
   "metadata": {},
   "outputs": [
    {
     "name": "stdout",
     "output_type": "stream",
     "text": [
      "<class 'pandas.core.frame.DataFrame'>\n",
      "Int64Index: 7988028 entries, 130010001 to 183530054\n",
      "Data columns (total 29 columns):\n",
      "incident_datetime              7988028 non-null datetime64[ns]\n",
      "year                           7988028 non-null int64\n",
      "month                          7988028 non-null int64\n",
      "hour                           7988028 non-null int64\n",
      "weekday                        7988028 non-null category\n",
      "borough                        7988028 non-null category\n",
      "zipcode                        7988028 non-null category\n",
      "latitude                       7988028 non-null float64\n",
      "longitude                      7988028 non-null float64\n",
      "aland_sqmi                     7988028 non-null float64\n",
      "awater_sqmi                    7988028 non-null float64\n",
      "initial_call_type              7988028 non-null object\n",
      "initial_severity_level         7988028 non-null int64\n",
      "final_call_type                7988028 non-null object\n",
      "final_severity_level           7988028 non-null int64\n",
      "held_indicator                 7988028 non-null category\n",
      "first_assignment_datetime      7988028 non-null datetime64[ns]\n",
      "incident_dispatch_area         7988028 non-null category\n",
      "dispatch_time                  7988028 non-null int64\n",
      "first_activation_datetime      7979682 non-null datetime64[ns]\n",
      "first_on_scene_datetime        7988028 non-null datetime64[ns]\n",
      "travel_time                    7988028 non-null float64\n",
      "response_time                  7988028 non-null float64\n",
      "first_to_hosp_datetime         5799178 non-null datetime64[ns]\n",
      "first_hosp_arrival_datetime    5760620 non-null datetime64[ns]\n",
      "incident_close_datetime        7986134 non-null datetime64[ns]\n",
      "incident_disposition_code      7988028 non-null category\n",
      "life_threatening               7988028 non-null bool\n",
      "fatality                       7988028 non-null bool\n",
      "dtypes: bool(2), category(6), datetime64[ns](7), float64(6), int64(6), object(2)\n",
      "memory usage: 2.2 GB\n"
     ]
    }
   ],
   "source": [
    "df.info(verbose=True,null_counts=True,memory_usage='deep')"
   ]
  },
  {
   "cell_type": "code",
   "execution_count": 29,
   "metadata": {},
   "outputs": [
    {
     "data": {
      "text/plain": [
       "Index                           63904224\n",
       "incident_datetime               63904224\n",
       "year                            63904224\n",
       "month                           63904224\n",
       "hour                            63904224\n",
       "weekday                          7988797\n",
       "borough                          7988578\n",
       "zipcode                         15987960\n",
       "latitude                        63904224\n",
       "longitude                       63904224\n",
       "aland_sqmi                      63904224\n",
       "awater_sqmi                     63904224\n",
       "initial_call_type              494612046\n",
       "initial_severity_level          63904224\n",
       "final_call_type                494709109\n",
       "final_severity_level            63904224\n",
       "held_indicator                   7988232\n",
       "first_assignment_datetime       63904224\n",
       "incident_dispatch_area           7991432\n",
       "dispatch_time                   63904224\n",
       "first_activation_datetime       63904224\n",
       "first_on_scene_datetime         63904224\n",
       "travel_time                     63904224\n",
       "response_time                   63904224\n",
       "first_to_hosp_datetime          63904224\n",
       "first_hosp_arrival_datetime     63904224\n",
       "incident_close_datetime         63904224\n",
       "incident_disposition_code        7988428\n",
       "life_threatening                 7988028\n",
       "fatality                         7988028\n",
       "dtype: int64"
      ]
     },
     "execution_count": 29,
     "metadata": {},
     "output_type": "execute_result"
    }
   ],
   "source": [
    "df.memory_usage(deep=True)"
   ]
  },
  {
   "cell_type": "markdown",
   "metadata": {},
   "source": [
    "[TOC](#TOC) "
   ]
  },
  {
   "cell_type": "markdown",
   "metadata": {},
   "source": [
    "<a id='Sec04C'></a>\n",
    "#### 4C: Export clean dataset (to CSV)"
   ]
  },
  {
   "cell_type": "code",
   "execution_count": 30,
   "metadata": {
    "scrolled": false
   },
   "outputs": [
    {
     "name": "stdout",
     "output_type": "stream",
     "text": [
      "Exporting DataFrame to CSV...\n",
      "DataFrame successfully exported to CSV using 'gzip' compression.\n"
     ]
    }
   ],
   "source": [
    "#output_path = '../data/clean_EMS_data_from_csv.csv'\n",
    "output_path = r'C:\\Users\\jwilliams2\\Desktop\\cp1\\clean_EMS_data_from_csv.csv'\n",
    "print('Exporting DataFrame to CSV...')\n",
    "df.to_csv(output_path,index=False,compression='gzip')\n",
    "print('DataFrame successfully exported to CSV using \\'gzip\\' compression.')"
   ]
  },
  {
   "cell_type": "markdown",
   "metadata": {},
   "source": [
    "[TOC](#TOC)"
   ]
  },
  {
   "cell_type": "markdown",
   "metadata": {},
   "source": [
    "<a id='Sec04D'></a>\n",
    "#### 4D: Process summary"
   ]
  },
  {
   "cell_type": "markdown",
   "metadata": {},
   "source": [
    "The original EMS incident dataset was comprised of 8,557,848 observations with 32 variables of mixed data types, and its source file occupied approximately 1.98 GB of hard disk space. The original geographic info dataset was comprised of 33,144 observations with 7 variables, and its source file occupied 6.7 MB in system memory. The DataFrame objects generated from both source files were joined on the 'ZIP code' feature, though the labels had different names in each object.\n",
    "\n",
    "The resulting raw dataset consists of 8,368,586 observations with 39 variables, and occupies 11.1 GB in system memory. The target variable (`fatality`) was created by applying a boolean filter on the `incident_disposition_code` column within the DataFrame, which indicates the outcome of any EMS incident. \n",
    "\n",
    "After all data pre-processing is complete, the resulting clean dataset consists of 7,988,028 observations of mixed data types, with a clear target variable and 26 feature variables. Its output file occupies 332 MB of hard disk space and 2.2 GB in system memory. [TOC](#TOC)"
   ]
  }
 ],
 "metadata": {
  "kernelspec": {
   "display_name": "Python 3",
   "language": "python",
   "name": "python3"
  },
  "language_info": {
   "codemirror_mode": {
    "name": "ipython",
    "version": 3
   },
   "file_extension": ".py",
   "mimetype": "text/x-python",
   "name": "python",
   "nbconvert_exporter": "python",
   "pygments_lexer": "ipython3",
   "version": "3.6.8"
  }
 },
 "nbformat": 4,
 "nbformat_minor": 2
}
