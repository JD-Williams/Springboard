{
 "cells": [
  {
   "cell_type": "markdown",
   "metadata": {},
   "source": [
    "<h1>Capstone 1: Data Wrangling (from API)</h1>"
   ]
  },
  {
   "cell_type": "markdown",
   "metadata": {},
   "source": [
    "<a id='TOC'></a>\n",
    "<strong>Table of Contents</strong>\n",
    "<ol>\n",
    "    <li>Preliminaries</li>\n",
    "    <ol>\n",
    "        <li><a href=#Sec01A>Import Modules</a></li>\n",
    "    </ol>\n",
    "    <li>Define Functions</li>\n",
    "    <ol>\n",
    "        <li><a href=#Sec02A>Remove Unnecessary Values</a></li>\n",
    "        <li><a href=#Sec02B>Reduce Size of DataFrame</a></li>\n",
    "        <li><a href=#Sec02C>Redesign the DataFrame</a></li>\n",
    "    </ol>\n",
    "    <li>Data Acquisition</li>\n",
    "    <ol>\n",
    "        <li><a href=#Sec03A>Inspect Sample of EMS Dataset</a></li>\n",
    "        <li><a href=#Sec03B>Import Geographical Dataset</a></li>\n",
    "    </ol>\n",
    "    <li>Data Wrangling</li>\n",
    "    <ol>\n",
    "        <li><a href=#Sec04A>Apply Custom Functions</a></li>\n",
    "        <li><a href=#Sec04B>Merge Clean Datasets</a></li>\n",
    "        <li><a href=#Sec04C>Inspect Clean Dataset</a></li>\n",
    "        <li><a href=#Sec04D>Export Clean Dataset</a></li>\n",
    "        <li><a href=#Sec04E>Process Summary</a></li>\n",
    "    </ol>\n",
    "</ol>"
   ]
  },
  {
   "cell_type": "markdown",
   "metadata": {},
   "source": [
    "The goal of this project is to develop machine learning models that predict whether or not the outcome of an EMS incident will result in a fatality. This is a supervised, binary classification problem. Analyses will be performed on a collection of nearly 8 million records of documented incidents, which span the six year period from January 2013 through December 2018, and appropriate predictive models will be developed to achieve the primary objective. This dataset is robust and contains several feature variables, of mixed data types, that describe both various attributes of each incident as well as the responsive action taken by the FDNY. All of the aforementioned factors affect an individual’s survivability once a response is initiated.\n",
    "\n",
    "Data wrangling will be performed on two datasets for this analysis. One dataset contains EMS incident data spanning a six-year period. The second dataset contains geographical information for all ZIP Code Tabulation Areas within the City of New York."
   ]
  },
  {
   "cell_type": "markdown",
   "metadata": {},
   "source": [
    "<hr>"
   ]
  },
  {
   "cell_type": "markdown",
   "metadata": {},
   "source": [
    "<h2 style=\"text-transform: uppercase;\">1. Preliminaries</h2>"
   ]
  },
  {
   "cell_type": "markdown",
   "metadata": {},
   "source": [
    "<a id='Sec01A'></a>\n",
    "<h4>1A: Import Modules</h4>"
   ]
  },
  {
   "cell_type": "code",
   "execution_count": 1,
   "metadata": {},
   "outputs": [],
   "source": [
    "# Import packages and modules\n",
    "import pandas as pd\n",
    "import numpy as np\n",
    "import datetime\n",
    "import time\n",
    "\n",
    "from sodapy import Socrata # library for Socrata Open Data API (SODA)"
   ]
  },
  {
   "cell_type": "markdown",
   "metadata": {},
   "source": [
    "<p><a href=#TOC>TOC</a></p>"
   ]
  },
  {
   "cell_type": "markdown",
   "metadata": {},
   "source": [
    "<hr>"
   ]
  },
  {
   "cell_type": "markdown",
   "metadata": {},
   "source": [
    "<h2 style=\"text-transform: uppercase;\">2. Define Functions</h2>"
   ]
  },
  {
   "cell_type": "markdown",
   "metadata": {},
   "source": [
    "<a id='Sec02A'></a>\n",
    "<h4>2A: Remove Unnecessary Values (drop_invalid and drop_immaterial)</h4>\n",
    "\n",
    "For the purpose of this analysis, any observation with a missing value for `incident_disposition_code` must be omitted since the target variable is derived from this feature. In addition, observations that contain the following outliers, errors, or immaterial information must also be removed from the dataset:\n",
    "<ul>\n",
    "    <li>incidents created to transport a patient from one facility to another</li>\n",
    "    <li>incidents where units were assigned to stand by in case they were needed</li>\n",
    "    <li>incidents that pertain to special events</li>\n",
    "    <li>incidents that were once closed but later reopened</li>\n",
    "    <li>incidents with calculation errors for duration metrics</li>\n",
    "    <li>features that contain redundant geographic information for incident</li>\n",
    "</ul>"
   ]
  },
  {
   "cell_type": "code",
   "execution_count": 2,
   "metadata": {},
   "outputs": [],
   "source": [
    "def drop_invalid(dfObj):\n",
    "    # Drop all rows with missing value for select features\n",
    "    dfObj.dropna(subset=['incident_disposition_code',\n",
    "                         'zipcode',\n",
    "                         'dispatch_response_seconds_qy',\n",
    "                         'incident_travel_tm_seconds_qy',\n",
    "                         'incident_response_seconds_qy'],\n",
    "                 inplace=True)\n",
    "    \n",
    "    # Identify all columns that validate duration metrics\n",
    "    list_of_validation_cols = [name for name in list(dfObj.columns)\n",
    "                               if 'valid' in str(name)]\n",
    "    \n",
    "    # Drop all rows with invalid duration metrics\n",
    "    for name in list_of_validation_cols:\n",
    "        invalid_idx = dfObj[dfObj[name]=='N'].index\n",
    "        dfObj.drop(invalid_idx, inplace=True)\n",
    "    \n",
    "    # Drop all rows where EMS were not dispatched\n",
    "    no_disp_idx = dfObj[dfObj.dispatch_response_seconds_qy==0].index\n",
    "    dfObj.drop(no_disp_idx, inplace=True)\n",
    "    \n",
    "    return dfObj"
   ]
  },
  {
   "cell_type": "code",
   "execution_count": 3,
   "metadata": {},
   "outputs": [],
   "source": [
    "def drop_immaterial(dfObj):\n",
    "    # Identify all columns with outlier event indicators\n",
    "    list_of_indicator_cols = [name for name in list(dfObj.columns) \n",
    "                              if 'indicator' in str(name) and name !='held_indicator']\n",
    "    \n",
    "    # Drop all rows that pertain to outlier incidents\n",
    "    for name in list_of_indicator_cols:\n",
    "        outlier_idx = dfObj[dfObj[name]=='Y'].index\n",
    "        dfObj.drop(outlier_idx, inplace=True)\n",
    "    \n",
    "    # Remove columns that contain incident indicator data\n",
    "    dfObj.drop(list_of_indicator_cols,axis=1,inplace=True)\n",
    "    dfObj.drop([name for name in list(dfObj.columns) \n",
    "                if '_indc' in str(name)],axis=1,inplace=True)\n",
    "    \n",
    "    # Identify and remove all columns that contain redundant geographic data\n",
    "    list_of_zone_cols = [name for name in list(dfObj.columns)\n",
    "                         if (('district' in str(name))| \n",
    "                             (name =='policeprecinct')| \n",
    "                             (name =='geoid'))]\n",
    "    dfObj.drop(list_of_zone_cols,axis=1,inplace=True)\n",
    "    \n",
    "    return dfObj"
   ]
  },
  {
   "cell_type": "markdown",
   "metadata": {},
   "source": [
    "<p><a href=#TOC>TOC</a></p>"
   ]
  },
  {
   "cell_type": "markdown",
   "metadata": {},
   "source": [
    "<a id='Sec02B'></a>\n",
    "<h4>2B: Reduce Size of DataFrame (reduce_memory)</h4>\n",
    "\n",
    "<p>Modifying the data types for values contained within select columns will drastically reduce the memory usage of the dataframe object.</p>"
   ]
  },
  {
   "cell_type": "code",
   "execution_count": 4,
   "metadata": {
    "scrolled": true
   },
   "outputs": [],
   "source": [
    "def reduce_memory(dfObj):\n",
    "    # Truncate name for borough label: 'RICHMOND / STATEN ISLAND'\n",
    "    dfObj['borough'] = dfObj.borough.replace('RICHMOND / STATEN ISLAND',\n",
    "                                             'STATEN ISLAND')\n",
    "    \n",
    "    # Create list of all columns that contain ISO8601 datetime\n",
    "    list_of_datetime_cols = [name for name in list(dfObj.columns) \n",
    "                             if 'datetime' in str(name)]\n",
    "\n",
    "    # Convert dtypes for each element in list to datetime\n",
    "    for name in list_of_datetime_cols:\n",
    "        dfObj[name] = pd.to_datetime(dfObj[name],errors='coerce')\n",
    "       \n",
    "    # Create list of all columns that contain time duration\n",
    "    list_of_numeric_cols = [name for name in list(dfObj.columns) \n",
    "                            if (('seconds' in str(name))|\n",
    "                                ('severity' in str(name))|\n",
    "                                ('disposition' in str(name))|\n",
    "                                ('cad' in str(name)))]\n",
    "\n",
    "    # Convert dtypes for each element in list to numeric\n",
    "    for name in list_of_numeric_cols:\n",
    "        dfObj[name] = pd.to_numeric(dfObj[name],errors='coerce')\n",
    "        \n",
    "    # Convert columns to category dtypes to reduce size of dataframe object\n",
    "    dfObj['borough'] = dfObj.borough.astype('category')\n",
    "    dfObj['zipcode'] = dfObj.zipcode.astype('category')\n",
    "    dfObj['held_indicator'] = dfObj.held_indicator.astype('category')\n",
    "    dfObj['incident_dispatch_area'] = dfObj.incident_dispatch_area.astype('category')\n",
    "    \n",
    "    return dfObj"
   ]
  },
  {
   "cell_type": "markdown",
   "metadata": {},
   "source": [
    "<p><a href=#TOC>TOC</a></p>"
   ]
  },
  {
   "cell_type": "markdown",
   "metadata": {},
   "source": [
    "<a id='Sec02C'></a>\n",
    "<h4>2C: Redesign the DataFrame (format_df)</h4>\n",
    "\n",
    "Construct a boolean series that represents the target variable (`fatality`) using the corresponding values in `incident_disposition_code`. Also, apply aesthetic changes to help improve the readability of the dataframe object."
   ]
  },
  {
   "cell_type": "code",
   "execution_count": 5,
   "metadata": {},
   "outputs": [],
   "source": [
    "def format_df(dfObj):\n",
    "    # Rename select columns\n",
    "    dfObj.rename(columns={'initial_severity_level_code':'initial_severity_level',\n",
    "                          'final_severity_level_code':'final_severity_level',\n",
    "                          'dispatch_response_seconds_qy':'dispatch_time',\n",
    "                          'incident_travel_tm_seconds_qy':'travel_time',\n",
    "                          'incident_response_seconds_qy':'response_time',\n",
    "                          'intptlat':'latitude',\n",
    "                          'intptlong':'longitude'},inplace=True)\n",
    "    \n",
    "    # Create a series for a new feature variable: life_threatening\n",
    "    dfObj['life_threatening'] = [True if ((val ==1)|\n",
    "                                         (val == 2)|\n",
    "                                         (val == 3)) else False \n",
    "                                 for val in dfObj['final_severity_level'].astype('int64')]\n",
    "    \n",
    "    # Create a series for the target variable: fatality\n",
    "    dfObj['fatality'] = np.logical_or(dfObj.incident_disposition_code.astype('int64') == 83,\n",
    "                                      dfObj.incident_disposition_code.astype('int64') == 96)\n",
    "\n",
    "    # Create separate columns for time components of the incident\n",
    "    dfObj['year'] = pd.DatetimeIndex(dfObj.incident_datetime).strftime('%Y')\n",
    "    dfObj['month'] = pd.DatetimeIndex(dfObj.incident_datetime).strftime('%m')\n",
    "    dfObj['day'] = pd.DatetimeIndex(dfObj.incident_datetime).strftime('%d')\n",
    "    dfObj['weekday'] = pd.DatetimeIndex(dfObj.incident_datetime).strftime('%w')\n",
    "    dfObj['hour'] = pd.DatetimeIndex(dfObj.incident_datetime).strftime('%H')\n",
    "    \n",
    "    # Convert dtypes for each element in list to numeric\n",
    "    list_of_time_cols = ['year','month','day','weekday','hour']\n",
    "    for name in list_of_time_cols:\n",
    "        dfObj[name] = pd.to_numeric(dfObj[name],errors='coerce')\n",
    "    \n",
    "    # Reorder columns of DataFrame object\n",
    "    col_order = ['cad_incident_id','incident_datetime',\n",
    "                 'year','month','day','hour','weekday','borough',\n",
    "                 'zipcode','latitude','longitude','aland_sqmi','awater_sqmi',\n",
    "                 'initial_call_type','initial_severity_level',\n",
    "                 'final_call_type','final_severity_level',\n",
    "                 'held_indicator','first_assignment_datetime',\n",
    "                 'incident_dispatch_area',\n",
    "                 'dispatch_time','first_activation_datetime',\n",
    "                 'first_on_scene_datetime','travel_time','response_time',\n",
    "                 'first_to_hosp_datetime','first_hosp_arrival_datetime',\n",
    "                 'incident_close_datetime','incident_disposition_code',\n",
    "                 'life_threatening','fatality']\n",
    "    dfObj=dfObj[col_order]\n",
    "    \n",
    "    return dfObj"
   ]
  },
  {
   "cell_type": "markdown",
   "metadata": {},
   "source": [
    "<p><a href=#TOC>TOC</a></p>"
   ]
  },
  {
   "cell_type": "markdown",
   "metadata": {},
   "source": [
    "<hr>"
   ]
  },
  {
   "cell_type": "markdown",
   "metadata": {},
   "source": [
    "<h2 style=\"text-transform: uppercase;\">3. Data Acquisition</h2>"
   ]
  },
  {
   "cell_type": "markdown",
   "metadata": {},
   "source": [
    "<a id='Sec03A'></a>\n",
    "<h4>3A: Inspect Sample of EMS Incident Dataset</h4>"
   ]
  },
  {
   "cell_type": "code",
   "execution_count": 6,
   "metadata": {},
   "outputs": [
    {
     "name": "stderr",
     "output_type": "stream",
     "text": [
      "WARNING:root:Requests made without an app_token will be subject to strict throttling limits.\n"
     ]
    }
   ],
   "source": [
    "# Import sample of dataset via context manager\n",
    "TIMEOUT = 60\n",
    "\n",
    "with Socrata(\"data.cityofnewyork.us\", None) as client:\n",
    "    client.timeout = TIMEOUT\n",
    "    results = client.get(\"66ae-7zpy\", limit=1000)\n",
    "    preview_df = pd.DataFrame.from_records(results)"
   ]
  },
  {
   "cell_type": "code",
   "execution_count": 7,
   "metadata": {},
   "outputs": [
    {
     "data": {
      "text/plain": [
       "(1000, 31)"
      ]
     },
     "execution_count": 7,
     "metadata": {},
     "output_type": "execute_result"
    }
   ],
   "source": [
    "preview_df.shape"
   ]
  },
  {
   "cell_type": "code",
   "execution_count": 8,
   "metadata": {},
   "outputs": [
    {
     "data": {
      "text/html": [
       "<div>\n",
       "<style scoped>\n",
       "    .dataframe tbody tr th:only-of-type {\n",
       "        vertical-align: middle;\n",
       "    }\n",
       "\n",
       "    .dataframe tbody tr th {\n",
       "        vertical-align: top;\n",
       "    }\n",
       "\n",
       "    .dataframe thead th {\n",
       "        text-align: right;\n",
       "    }\n",
       "</style>\n",
       "<table border=\"1\" class=\"dataframe\">\n",
       "  <thead>\n",
       "    <tr style=\"text-align: right;\">\n",
       "      <th></th>\n",
       "      <th>cad_incident_id</th>\n",
       "      <th>incident_datetime</th>\n",
       "      <th>initial_call_type</th>\n",
       "      <th>initial_severity_level_code</th>\n",
       "      <th>final_call_type</th>\n",
       "      <th>final_severity_level_code</th>\n",
       "      <th>first_assignment_datetime</th>\n",
       "      <th>valid_dispatch_rspns_time_indc</th>\n",
       "      <th>dispatch_response_seconds_qy</th>\n",
       "      <th>first_activation_datetime</th>\n",
       "      <th>...</th>\n",
       "      <th>zipcode</th>\n",
       "      <th>policeprecinct</th>\n",
       "      <th>citycouncildistrict</th>\n",
       "      <th>communitydistrict</th>\n",
       "      <th>communityschooldistrict</th>\n",
       "      <th>congressionaldistrict</th>\n",
       "      <th>reopen_indicator</th>\n",
       "      <th>special_event_indicator</th>\n",
       "      <th>standby_indicator</th>\n",
       "      <th>transfer_indicator</th>\n",
       "    </tr>\n",
       "  </thead>\n",
       "  <tbody>\n",
       "    <tr>\n",
       "      <td>0</td>\n",
       "      <td>183654386</td>\n",
       "      <td>2018-12-31T23:59:46.000</td>\n",
       "      <td>CARDBR</td>\n",
       "      <td>2</td>\n",
       "      <td>CARDBR</td>\n",
       "      <td>2</td>\n",
       "      <td>2018-12-31T23:59:54.000</td>\n",
       "      <td>Y</td>\n",
       "      <td>8</td>\n",
       "      <td>2019-01-01T00:00:51.000</td>\n",
       "      <td>...</td>\n",
       "      <td>11201</td>\n",
       "      <td>84</td>\n",
       "      <td>35</td>\n",
       "      <td>302</td>\n",
       "      <td>13</td>\n",
       "      <td>8</td>\n",
       "      <td>N</td>\n",
       "      <td>N</td>\n",
       "      <td>N</td>\n",
       "      <td>N</td>\n",
       "    </tr>\n",
       "    <tr>\n",
       "      <td>1</td>\n",
       "      <td>183654385</td>\n",
       "      <td>2018-12-31T23:59:20.000</td>\n",
       "      <td>MVAINJ</td>\n",
       "      <td>4</td>\n",
       "      <td>MVAINJ</td>\n",
       "      <td>4</td>\n",
       "      <td>2019-01-01T00:01:10.000</td>\n",
       "      <td>Y</td>\n",
       "      <td>110</td>\n",
       "      <td>2019-01-01T00:02:25.000</td>\n",
       "      <td>...</td>\n",
       "      <td>11416</td>\n",
       "      <td>102</td>\n",
       "      <td>32</td>\n",
       "      <td>409</td>\n",
       "      <td>27</td>\n",
       "      <td>7</td>\n",
       "      <td>N</td>\n",
       "      <td>N</td>\n",
       "      <td>N</td>\n",
       "      <td>N</td>\n",
       "    </tr>\n",
       "    <tr>\n",
       "      <td>2</td>\n",
       "      <td>183654384</td>\n",
       "      <td>2018-12-31T23:58:45.000</td>\n",
       "      <td>SICK</td>\n",
       "      <td>6</td>\n",
       "      <td>SICK</td>\n",
       "      <td>6</td>\n",
       "      <td>2019-01-01T00:00:43.000</td>\n",
       "      <td>Y</td>\n",
       "      <td>118</td>\n",
       "      <td>2019-01-01T00:02:08.000</td>\n",
       "      <td>...</td>\n",
       "      <td>11369</td>\n",
       "      <td>115</td>\n",
       "      <td>21</td>\n",
       "      <td>480</td>\n",
       "      <td>30</td>\n",
       "      <td>14</td>\n",
       "      <td>N</td>\n",
       "      <td>N</td>\n",
       "      <td>N</td>\n",
       "      <td>N</td>\n",
       "    </tr>\n",
       "    <tr>\n",
       "      <td>3</td>\n",
       "      <td>183654383</td>\n",
       "      <td>2018-12-31T23:58:14.000</td>\n",
       "      <td>INJMAJ</td>\n",
       "      <td>3</td>\n",
       "      <td>INJMAJ</td>\n",
       "      <td>3</td>\n",
       "      <td>2018-12-31T23:58:22.000</td>\n",
       "      <td>Y</td>\n",
       "      <td>8</td>\n",
       "      <td>2018-12-31T23:58:37.000</td>\n",
       "      <td>...</td>\n",
       "      <td>11214</td>\n",
       "      <td>62</td>\n",
       "      <td>47</td>\n",
       "      <td>311</td>\n",
       "      <td>20</td>\n",
       "      <td>11</td>\n",
       "      <td>N</td>\n",
       "      <td>N</td>\n",
       "      <td>N</td>\n",
       "      <td>N</td>\n",
       "    </tr>\n",
       "    <tr>\n",
       "      <td>4</td>\n",
       "      <td>183654382</td>\n",
       "      <td>2018-12-31T23:57:42.000</td>\n",
       "      <td>UNC</td>\n",
       "      <td>2</td>\n",
       "      <td>UNC</td>\n",
       "      <td>2</td>\n",
       "      <td>2019-01-01T00:00:39.000</td>\n",
       "      <td>Y</td>\n",
       "      <td>177</td>\n",
       "      <td>2019-01-01T00:01:03.000</td>\n",
       "      <td>...</td>\n",
       "      <td>10019</td>\n",
       "      <td>18</td>\n",
       "      <td>4</td>\n",
       "      <td>105</td>\n",
       "      <td>2</td>\n",
       "      <td>12</td>\n",
       "      <td>N</td>\n",
       "      <td>N</td>\n",
       "      <td>N</td>\n",
       "      <td>N</td>\n",
       "    </tr>\n",
       "  </tbody>\n",
       "</table>\n",
       "<p>5 rows × 31 columns</p>\n",
       "</div>"
      ],
      "text/plain": [
       "  cad_incident_id        incident_datetime initial_call_type  \\\n",
       "0       183654386  2018-12-31T23:59:46.000            CARDBR   \n",
       "1       183654385  2018-12-31T23:59:20.000            MVAINJ   \n",
       "2       183654384  2018-12-31T23:58:45.000              SICK   \n",
       "3       183654383  2018-12-31T23:58:14.000            INJMAJ   \n",
       "4       183654382  2018-12-31T23:57:42.000               UNC   \n",
       "\n",
       "  initial_severity_level_code final_call_type final_severity_level_code  \\\n",
       "0                           2          CARDBR                         2   \n",
       "1                           4          MVAINJ                         4   \n",
       "2                           6            SICK                         6   \n",
       "3                           3          INJMAJ                         3   \n",
       "4                           2             UNC                         2   \n",
       "\n",
       "  first_assignment_datetime valid_dispatch_rspns_time_indc  \\\n",
       "0   2018-12-31T23:59:54.000                              Y   \n",
       "1   2019-01-01T00:01:10.000                              Y   \n",
       "2   2019-01-01T00:00:43.000                              Y   \n",
       "3   2018-12-31T23:58:22.000                              Y   \n",
       "4   2019-01-01T00:00:39.000                              Y   \n",
       "\n",
       "  dispatch_response_seconds_qy first_activation_datetime  ... zipcode  \\\n",
       "0                            8   2019-01-01T00:00:51.000  ...   11201   \n",
       "1                          110   2019-01-01T00:02:25.000  ...   11416   \n",
       "2                          118   2019-01-01T00:02:08.000  ...   11369   \n",
       "3                            8   2018-12-31T23:58:37.000  ...   11214   \n",
       "4                          177   2019-01-01T00:01:03.000  ...   10019   \n",
       "\n",
       "  policeprecinct citycouncildistrict communitydistrict  \\\n",
       "0             84                  35               302   \n",
       "1            102                  32               409   \n",
       "2            115                  21               480   \n",
       "3             62                  47               311   \n",
       "4             18                   4               105   \n",
       "\n",
       "  communityschooldistrict congressionaldistrict reopen_indicator  \\\n",
       "0                      13                     8                N   \n",
       "1                      27                     7                N   \n",
       "2                      30                    14                N   \n",
       "3                      20                    11                N   \n",
       "4                       2                    12                N   \n",
       "\n",
       "  special_event_indicator standby_indicator transfer_indicator  \n",
       "0                       N                 N                  N  \n",
       "1                       N                 N                  N  \n",
       "2                       N                 N                  N  \n",
       "3                       N                 N                  N  \n",
       "4                       N                 N                  N  \n",
       "\n",
       "[5 rows x 31 columns]"
      ]
     },
     "execution_count": 8,
     "metadata": {},
     "output_type": "execute_result"
    }
   ],
   "source": [
    "preview_df.head()"
   ]
  },
  {
   "cell_type": "code",
   "execution_count": 9,
   "metadata": {},
   "outputs": [
    {
     "name": "stdout",
     "output_type": "stream",
     "text": [
      "<class 'pandas.core.frame.DataFrame'>\n",
      "RangeIndex: 1000 entries, 0 to 999\n",
      "Data columns (total 31 columns):\n",
      "cad_incident_id                   1000 non-null object\n",
      "incident_datetime                 1000 non-null object\n",
      "initial_call_type                 1000 non-null object\n",
      "initial_severity_level_code       1000 non-null object\n",
      "final_call_type                   1000 non-null object\n",
      "final_severity_level_code         1000 non-null object\n",
      "first_assignment_datetime         992 non-null object\n",
      "valid_dispatch_rspns_time_indc    1000 non-null object\n",
      "dispatch_response_seconds_qy      1000 non-null object\n",
      "first_activation_datetime         989 non-null object\n",
      "first_on_scene_datetime           965 non-null object\n",
      "valid_incident_rspns_time_indc    1000 non-null object\n",
      "incident_response_seconds_qy      965 non-null object\n",
      "incident_travel_tm_seconds_qy     965 non-null object\n",
      "first_to_hosp_datetime            659 non-null object\n",
      "first_hosp_arrival_datetime       650 non-null object\n",
      "incident_close_datetime           1000 non-null object\n",
      "held_indicator                    1000 non-null object\n",
      "incident_disposition_code         992 non-null object\n",
      "borough                           1000 non-null object\n",
      "incident_dispatch_area            1000 non-null object\n",
      "zipcode                           986 non-null object\n",
      "policeprecinct                    986 non-null object\n",
      "citycouncildistrict               986 non-null object\n",
      "communitydistrict                 986 non-null object\n",
      "communityschooldistrict           985 non-null object\n",
      "congressionaldistrict             986 non-null object\n",
      "reopen_indicator                  1000 non-null object\n",
      "special_event_indicator           1000 non-null object\n",
      "standby_indicator                 1000 non-null object\n",
      "transfer_indicator                1000 non-null object\n",
      "dtypes: object(31)\n",
      "memory usage: 242.3+ KB\n"
     ]
    }
   ],
   "source": [
    "preview_df.info()"
   ]
  },
  {
   "cell_type": "markdown",
   "metadata": {},
   "source": [
    "<p><a href=#TOC>TOC</a></p>"
   ]
  },
  {
   "cell_type": "markdown",
   "metadata": {},
   "source": [
    "<a id='Sec03B'></a>\n",
    "<h4>3B: Import Geographical Dataset (from tab-delimited file)</h4>"
   ]
  },
  {
   "cell_type": "code",
   "execution_count": 10,
   "metadata": {},
   "outputs": [],
   "source": [
    "# Import geographic data for all U.S. cities into a Pandas DataFrame object\n",
    "\"\"\"\n",
    "    The original TXT file can be exported from\n",
    "    https://www2.census.gov/geo/docs/maps-data/data/gazetteer/2019_Gazetteer/2019_Gaz_zcta_national.zip\n",
    "\"\"\"\n",
    "input_path_geo = '../data/2019_Gaz_zcta_national.txt'\n",
    "geo_df = pd.read_table(input_path_geo)"
   ]
  },
  {
   "cell_type": "code",
   "execution_count": 11,
   "metadata": {},
   "outputs": [
    {
     "data": {
      "text/plain": [
       "Index(['geoid', 'aland', 'awater', 'aland_sqmi', 'awater_sqmi', 'intptlat',\n",
       "       'intptlong'],\n",
       "      dtype='object')"
      ]
     },
     "execution_count": 11,
     "metadata": {},
     "output_type": "execute_result"
    }
   ],
   "source": [
    "# Convert all column header names to lowercase\n",
    "geo_df.rename(columns={i:i.lower().strip() for i in geo_df.columns},inplace=True)\n",
    "geo_df.columns"
   ]
  },
  {
   "cell_type": "code",
   "execution_count": 12,
   "metadata": {},
   "outputs": [
    {
     "data": {
      "text/plain": [
       "(33144, 7)"
      ]
     },
     "execution_count": 12,
     "metadata": {},
     "output_type": "execute_result"
    }
   ],
   "source": [
    "# Obtain shape of DataFrame w/ geographic data\n",
    "geo_df.shape"
   ]
  },
  {
   "cell_type": "markdown",
   "metadata": {},
   "source": [
    "<p>The text file contains GPA coordinates for all ZIP Code Tabulation Areas (ZCTAs) within the United States. A downloadable file is available at the <a href=\"https://www.census.gov/geographies/reference-files/time-series/geo/gazetteer-files.html\" target=\"_blank\">U.S. Census Bureau</a> under the file name <strong>ZIP Code Tabulation Areas</strong>. <a href=#TOC>TOC</a></p>"
   ]
  },
  {
   "cell_type": "markdown",
   "metadata": {},
   "source": [
    "***"
   ]
  },
  {
   "cell_type": "markdown",
   "metadata": {},
   "source": [
    "## 4. DATA WRANGLING"
   ]
  },
  {
   "cell_type": "markdown",
   "metadata": {},
   "source": [
    "<a id='Sec04A'></a>\n",
    "<h4>4A: Apply Custom Functions to Full EMS dataset (from NYC Open Data API)</h4>"
   ]
  },
  {
   "cell_type": "code",
   "execution_count": 13,
   "metadata": {},
   "outputs": [
    {
     "name": "stderr",
     "output_type": "stream",
     "text": [
      "WARNING:root:Requests made without an app_token will be subject to strict throttling limits.\n"
     ]
    },
    {
     "name": "stdout",
     "output_type": "stream",
     "text": [
      "Batch 1 loaded to DataFrame object...\n",
      "DataFrame object (df1) cleaned...\n",
      "DataFrame object (df1) appended to list.\n",
      "\n",
      "Batch 2 loaded to DataFrame object...\n",
      "DataFrame object (df2) cleaned...\n",
      "DataFrame object (df2) appended to list.\n",
      "\n",
      "Batch 3 loaded to DataFrame object...\n",
      "DataFrame object (df3) cleaned...\n",
      "DataFrame object (df3) appended to list.\n",
      "\n",
      "Batch 4 loaded to DataFrame object...\n",
      "DataFrame object (df4) cleaned...\n",
      "DataFrame object (df4) appended to list.\n",
      "\n",
      "Batch 5 loaded to DataFrame object...\n",
      "DataFrame object (df5) cleaned...\n",
      "DataFrame object (df5) appended to list.\n",
      "\n",
      "Batch 6 loaded to DataFrame object...\n",
      "DataFrame object (df6) cleaned...\n",
      "DataFrame object (df6) appended to list.\n",
      "\n",
      "Batch 7 loaded to DataFrame object...\n",
      "DataFrame object (df7) cleaned...\n",
      "DataFrame object (df7) appended to list.\n",
      "\n",
      "Batch 8 loaded to DataFrame object...\n",
      "DataFrame object (df8) cleaned...\n",
      "DataFrame object (df8) appended to list.\n",
      "\n",
      "Batch 9 loaded to DataFrame object...\n",
      "DataFrame object (df9) cleaned...\n",
      "DataFrame object (df9) appended to list.\n",
      "\n",
      "Batch 10 loaded to DataFrame object...\n",
      "DataFrame object (df10) cleaned...\n",
      "DataFrame object (df10) appended to list.\n",
      "\n",
      "Batch 11 loaded to DataFrame object...\n",
      "DataFrame object (df11) cleaned...\n",
      "DataFrame object (df11) appended to list.\n",
      "\n",
      "Batch 12 loaded to DataFrame object...\n",
      "DataFrame object (df12) cleaned...\n",
      "DataFrame object (df12) appended to list.\n",
      "\n",
      "Batch 13 loaded to DataFrame object...\n",
      "DataFrame object (df13) cleaned...\n",
      "DataFrame object (df13) appended to list.\n",
      "\n",
      "Batch 14 loaded to DataFrame object...\n",
      "DataFrame object (df14) cleaned...\n",
      "DataFrame object (df14) appended to list.\n",
      "\n",
      "Batch 15 loaded to DataFrame object...\n",
      "DataFrame object (df15) cleaned...\n",
      "DataFrame object (df15) appended to list.\n",
      "\n",
      "Batch 16 loaded to DataFrame object...\n",
      "DataFrame object (df16) cleaned...\n",
      "DataFrame object (df16) appended to list.\n",
      "\n",
      "Batch 17 loaded to DataFrame object...\n",
      "DataFrame object (df17) cleaned...\n",
      "DataFrame object (df17) appended to list.\n",
      "\n",
      "Batch 18 loaded to DataFrame object...\n",
      "DataFrame object (df18) cleaned...\n",
      "DataFrame object (df18) appended to list.\n",
      "\n",
      "\n",
      "All dataframe objects have been appended to list.\n",
      "Runtime: 1661.0192 seconds\n"
     ]
    }
   ],
   "source": [
    "frames = []\n",
    "BATCH_SIZE = 500000\n",
    "\n",
    "# Import dataset via context manager\n",
    "start_time = time.time() \n",
    "with Socrata(\"data.cityofnewyork.us\", None) as client:\n",
    "    for i in range(18):\n",
    "        \n",
    "        # Get batch of EMS incidents dataset\n",
    "        client.timeout = TIMEOUT\n",
    "        results = client.get(\"66ae-7zpy\", limit=BATCH_SIZE,offset=i*BATCH_SIZE)\n",
    "        ems_df = pd.DataFrame.from_records(results)\n",
    "        print(f'Batch {i+1} loaded to DataFrame object...')\n",
    "        \n",
    "        # Join the EMS incidents and geographic datasets\n",
    "        ems_df['zipcode'] = pd.to_numeric(ems_df['zipcode'],errors='coerce')\n",
    "        temp_df = pd.merge(ems_df,geo_df,left_on='zipcode',right_on='geoid')\n",
    "        \n",
    "        # Apply all data cleansing functions\n",
    "        temp_df = drop_invalid(temp_df)\n",
    "        temp_df = drop_immaterial(temp_df)\n",
    "        temp_df = reduce_memory(temp_df)\n",
    "        temp_df = format_df(temp_df)\n",
    "        print(f'DataFrame object (df{i+1}) cleaned...')\n",
    "        \n",
    "        # Append cleaned temp_df to list\n",
    "        frames.append(temp_df)\n",
    "        print(f'DataFrame object (df{i+1}) appended to list.')\n",
    "        print()\n",
    "print()        \n",
    "print('All dataframe objects have been appended to list.')\n",
    "print(f'Runtime: {time.time()-start_time:.4f} seconds')"
   ]
  },
  {
   "cell_type": "markdown",
   "metadata": {},
   "source": [
    "<p>A downloadable description of each dataset field is available at <a href=\"https://data.cityofnewyork.us/Public-Safety/EMS-Incident-Dispatch-Data/76xm-jjuj\" target=\"_blank\">NYC Open Data</a> in the the <em>Attachments</em> section under the file name <strong>EMS_incident_dispatch_data_description.xlsx</strong>. <a href=#TOC>TOC</a></p>"
   ]
  },
  {
   "cell_type": "markdown",
   "metadata": {},
   "source": [
    "<a id='Sec04B'></a>\n",
    "<h4>4B: Merge Clean Datasets</h4>"
   ]
  },
  {
   "cell_type": "code",
   "execution_count": 14,
   "metadata": {},
   "outputs": [
    {
     "name": "stdout",
     "output_type": "stream",
     "text": [
      "Concatenated all DataFrame objects in \"frames.\"\n",
      "Runtime: 14.1294 seconds\n"
     ]
    }
   ],
   "source": [
    "# Concatenate all dataframe objects\n",
    "start_time = time.time()\n",
    "df = pd.concat(frames,ignore_index=True)\n",
    "print('Concatenated all DataFrame objects in \"frames.\"')\n",
    "print(f'Runtime: {time.time()-start_time:.4f} seconds')"
   ]
  },
  {
   "cell_type": "code",
   "execution_count": 15,
   "metadata": {},
   "outputs": [],
   "source": [
    "# Set index to 'cad_incident_id'\n",
    "df.set_index(['cad_incident_id'],inplace=True)"
   ]
  },
  {
   "cell_type": "markdown",
   "metadata": {},
   "source": [
    "<p><a href=#TOC>TOC</a></p>"
   ]
  },
  {
   "cell_type": "markdown",
   "metadata": {},
   "source": [
    "<a id='Sec04C'></a>\n",
    "<h4>4C: Inspect Clean Dataset</h4>"
   ]
  },
  {
   "cell_type": "code",
   "execution_count": 16,
   "metadata": {},
   "outputs": [
    {
     "data": {
      "text/plain": [
       "(8054500, 30)"
      ]
     },
     "execution_count": 16,
     "metadata": {},
     "output_type": "execute_result"
    }
   ],
   "source": [
    "df.shape"
   ]
  },
  {
   "cell_type": "code",
   "execution_count": 17,
   "metadata": {},
   "outputs": [
    {
     "data": {
      "text/html": [
       "<div>\n",
       "<style scoped>\n",
       "    .dataframe tbody tr th:only-of-type {\n",
       "        vertical-align: middle;\n",
       "    }\n",
       "\n",
       "    .dataframe tbody tr th {\n",
       "        vertical-align: top;\n",
       "    }\n",
       "\n",
       "    .dataframe thead th {\n",
       "        text-align: right;\n",
       "    }\n",
       "</style>\n",
       "<table border=\"1\" class=\"dataframe\">\n",
       "  <thead>\n",
       "    <tr style=\"text-align: right;\">\n",
       "      <th></th>\n",
       "      <th>incident_datetime</th>\n",
       "      <th>year</th>\n",
       "      <th>month</th>\n",
       "      <th>day</th>\n",
       "      <th>hour</th>\n",
       "      <th>weekday</th>\n",
       "      <th>borough</th>\n",
       "      <th>zipcode</th>\n",
       "      <th>latitude</th>\n",
       "      <th>longitude</th>\n",
       "      <th>...</th>\n",
       "      <th>first_activation_datetime</th>\n",
       "      <th>first_on_scene_datetime</th>\n",
       "      <th>travel_time</th>\n",
       "      <th>response_time</th>\n",
       "      <th>first_to_hosp_datetime</th>\n",
       "      <th>first_hosp_arrival_datetime</th>\n",
       "      <th>incident_close_datetime</th>\n",
       "      <th>incident_disposition_code</th>\n",
       "      <th>life_threatening</th>\n",
       "      <th>fatality</th>\n",
       "    </tr>\n",
       "    <tr>\n",
       "      <th>cad_incident_id</th>\n",
       "      <th></th>\n",
       "      <th></th>\n",
       "      <th></th>\n",
       "      <th></th>\n",
       "      <th></th>\n",
       "      <th></th>\n",
       "      <th></th>\n",
       "      <th></th>\n",
       "      <th></th>\n",
       "      <th></th>\n",
       "      <th></th>\n",
       "      <th></th>\n",
       "      <th></th>\n",
       "      <th></th>\n",
       "      <th></th>\n",
       "      <th></th>\n",
       "      <th></th>\n",
       "      <th></th>\n",
       "      <th></th>\n",
       "      <th></th>\n",
       "      <th></th>\n",
       "    </tr>\n",
       "  </thead>\n",
       "  <tbody>\n",
       "    <tr>\n",
       "      <td>183654386</td>\n",
       "      <td>2018-12-31 23:59:46</td>\n",
       "      <td>2018</td>\n",
       "      <td>12</td>\n",
       "      <td>31</td>\n",
       "      <td>23</td>\n",
       "      <td>1</td>\n",
       "      <td>BROOKLYN</td>\n",
       "      <td>11201.0</td>\n",
       "      <td>40.6937</td>\n",
       "      <td>-73.989859</td>\n",
       "      <td>...</td>\n",
       "      <td>2019-01-01 00:00:51</td>\n",
       "      <td>2019-01-01 00:07:27</td>\n",
       "      <td>453</td>\n",
       "      <td>461</td>\n",
       "      <td>2019-01-01 00:15:08</td>\n",
       "      <td>2019-01-01 00:21:51</td>\n",
       "      <td>2019-01-01 01:00:20</td>\n",
       "      <td>82</td>\n",
       "      <td>True</td>\n",
       "      <td>False</td>\n",
       "    </tr>\n",
       "    <tr>\n",
       "      <td>183654358</td>\n",
       "      <td>2018-12-31 23:49:42</td>\n",
       "      <td>2018</td>\n",
       "      <td>12</td>\n",
       "      <td>31</td>\n",
       "      <td>23</td>\n",
       "      <td>1</td>\n",
       "      <td>BROOKLYN</td>\n",
       "      <td>11201.0</td>\n",
       "      <td>40.6937</td>\n",
       "      <td>-73.989859</td>\n",
       "      <td>...</td>\n",
       "      <td>2018-12-31 23:50:27</td>\n",
       "      <td>2018-12-31 23:55:10</td>\n",
       "      <td>303</td>\n",
       "      <td>328</td>\n",
       "      <td>2019-01-01 00:15:40</td>\n",
       "      <td>2019-01-01 00:28:05</td>\n",
       "      <td>2019-01-01 01:11:13</td>\n",
       "      <td>82</td>\n",
       "      <td>True</td>\n",
       "      <td>False</td>\n",
       "    </tr>\n",
       "    <tr>\n",
       "      <td>183654254</td>\n",
       "      <td>2018-12-31 23:24:58</td>\n",
       "      <td>2018</td>\n",
       "      <td>12</td>\n",
       "      <td>31</td>\n",
       "      <td>23</td>\n",
       "      <td>1</td>\n",
       "      <td>BROOKLYN</td>\n",
       "      <td>11201.0</td>\n",
       "      <td>40.6937</td>\n",
       "      <td>-73.989859</td>\n",
       "      <td>...</td>\n",
       "      <td>2018-12-31 23:25:37</td>\n",
       "      <td>2018-12-31 23:32:03</td>\n",
       "      <td>414</td>\n",
       "      <td>425</td>\n",
       "      <td>2019-01-01 00:03:55</td>\n",
       "      <td>2019-01-01 00:12:16</td>\n",
       "      <td>2019-01-01 00:45:31</td>\n",
       "      <td>82</td>\n",
       "      <td>False</td>\n",
       "      <td>False</td>\n",
       "    </tr>\n",
       "    <tr>\n",
       "      <td>183654178</td>\n",
       "      <td>2018-12-31 23:04:54</td>\n",
       "      <td>2018</td>\n",
       "      <td>12</td>\n",
       "      <td>31</td>\n",
       "      <td>23</td>\n",
       "      <td>1</td>\n",
       "      <td>BROOKLYN</td>\n",
       "      <td>11201.0</td>\n",
       "      <td>40.6937</td>\n",
       "      <td>-73.989859</td>\n",
       "      <td>...</td>\n",
       "      <td>2018-12-31 23:05:17</td>\n",
       "      <td>2018-12-31 23:16:13</td>\n",
       "      <td>668</td>\n",
       "      <td>679</td>\n",
       "      <td>NaT</td>\n",
       "      <td>NaT</td>\n",
       "      <td>2018-12-31 23:48:12</td>\n",
       "      <td>93</td>\n",
       "      <td>False</td>\n",
       "      <td>False</td>\n",
       "    </tr>\n",
       "    <tr>\n",
       "      <td>183653953</td>\n",
       "      <td>2018-12-31 22:08:50</td>\n",
       "      <td>2018</td>\n",
       "      <td>12</td>\n",
       "      <td>31</td>\n",
       "      <td>22</td>\n",
       "      <td>1</td>\n",
       "      <td>BROOKLYN</td>\n",
       "      <td>11201.0</td>\n",
       "      <td>40.6937</td>\n",
       "      <td>-73.989859</td>\n",
       "      <td>...</td>\n",
       "      <td>2018-12-31 22:09:35</td>\n",
       "      <td>2018-12-31 22:16:25</td>\n",
       "      <td>443</td>\n",
       "      <td>455</td>\n",
       "      <td>2018-12-31 22:27:08</td>\n",
       "      <td>2018-12-31 22:39:30</td>\n",
       "      <td>2018-12-31 23:05:01</td>\n",
       "      <td>82</td>\n",
       "      <td>True</td>\n",
       "      <td>False</td>\n",
       "    </tr>\n",
       "  </tbody>\n",
       "</table>\n",
       "<p>5 rows × 30 columns</p>\n",
       "</div>"
      ],
      "text/plain": [
       "                  incident_datetime  year  month  day  hour  weekday  \\\n",
       "cad_incident_id                                                        \n",
       "183654386       2018-12-31 23:59:46  2018     12   31    23        1   \n",
       "183654358       2018-12-31 23:49:42  2018     12   31    23        1   \n",
       "183654254       2018-12-31 23:24:58  2018     12   31    23        1   \n",
       "183654178       2018-12-31 23:04:54  2018     12   31    23        1   \n",
       "183653953       2018-12-31 22:08:50  2018     12   31    22        1   \n",
       "\n",
       "                  borough  zipcode  latitude  longitude  ...  \\\n",
       "cad_incident_id                                          ...   \n",
       "183654386        BROOKLYN  11201.0   40.6937 -73.989859  ...   \n",
       "183654358        BROOKLYN  11201.0   40.6937 -73.989859  ...   \n",
       "183654254        BROOKLYN  11201.0   40.6937 -73.989859  ...   \n",
       "183654178        BROOKLYN  11201.0   40.6937 -73.989859  ...   \n",
       "183653953        BROOKLYN  11201.0   40.6937 -73.989859  ...   \n",
       "\n",
       "                 first_activation_datetime  first_on_scene_datetime  \\\n",
       "cad_incident_id                                                       \n",
       "183654386              2019-01-01 00:00:51      2019-01-01 00:07:27   \n",
       "183654358              2018-12-31 23:50:27      2018-12-31 23:55:10   \n",
       "183654254              2018-12-31 23:25:37      2018-12-31 23:32:03   \n",
       "183654178              2018-12-31 23:05:17      2018-12-31 23:16:13   \n",
       "183653953              2018-12-31 22:09:35      2018-12-31 22:16:25   \n",
       "\n",
       "                travel_time  response_time first_to_hosp_datetime  \\\n",
       "cad_incident_id                                                     \n",
       "183654386               453            461    2019-01-01 00:15:08   \n",
       "183654358               303            328    2019-01-01 00:15:40   \n",
       "183654254               414            425    2019-01-01 00:03:55   \n",
       "183654178               668            679                    NaT   \n",
       "183653953               443            455    2018-12-31 22:27:08   \n",
       "\n",
       "                 first_hosp_arrival_datetime incident_close_datetime  \\\n",
       "cad_incident_id                                                        \n",
       "183654386                2019-01-01 00:21:51     2019-01-01 01:00:20   \n",
       "183654358                2019-01-01 00:28:05     2019-01-01 01:11:13   \n",
       "183654254                2019-01-01 00:12:16     2019-01-01 00:45:31   \n",
       "183654178                                NaT     2018-12-31 23:48:12   \n",
       "183653953                2018-12-31 22:39:30     2018-12-31 23:05:01   \n",
       "\n",
       "                incident_disposition_code life_threatening  fatality  \n",
       "cad_incident_id                                                       \n",
       "183654386                              82             True     False  \n",
       "183654358                              82             True     False  \n",
       "183654254                              82            False     False  \n",
       "183654178                              93            False     False  \n",
       "183653953                              82             True     False  \n",
       "\n",
       "[5 rows x 30 columns]"
      ]
     },
     "execution_count": 17,
     "metadata": {},
     "output_type": "execute_result"
    }
   ],
   "source": [
    "df.head()"
   ]
  },
  {
   "cell_type": "code",
   "execution_count": 19,
   "metadata": {},
   "outputs": [
    {
     "data": {
      "text/plain": [
       "Index                           64436000\n",
       "incident_datetime               64436000\n",
       "year                            64436000\n",
       "month                           64436000\n",
       "day                             64436000\n",
       "hour                            64436000\n",
       "weekday                         64436000\n",
       "borough                        537195915\n",
       "zipcode                         64436000\n",
       "latitude                        64436000\n",
       "longitude                       64436000\n",
       "aland_sqmi                      64436000\n",
       "awater_sqmi                     64436000\n",
       "initial_call_type              498729812\n",
       "initial_severity_level          64436000\n",
       "final_call_type                498825819\n",
       "final_severity_level            64436000\n",
       "held_indicator                   8054712\n",
       "first_assignment_datetime       64436000\n",
       "incident_dispatch_area         475215500\n",
       "dispatch_time                   64436000\n",
       "first_activation_datetime       64436000\n",
       "first_on_scene_datetime         64436000\n",
       "travel_time                     64436000\n",
       "response_time                   64436000\n",
       "first_to_hosp_datetime          64436000\n",
       "first_hosp_arrival_datetime     64436000\n",
       "incident_close_datetime         64436000\n",
       "incident_disposition_code       64436000\n",
       "life_threatening                 8054500\n",
       "fatality                         8054500\n",
       "dtype: int64"
      ]
     },
     "execution_count": 19,
     "metadata": {},
     "output_type": "execute_result"
    }
   ],
   "source": [
    "df.memory_usage(deep=True)"
   ]
  },
  {
   "cell_type": "code",
   "execution_count": 18,
   "metadata": {},
   "outputs": [
    {
     "name": "stdout",
     "output_type": "stream",
     "text": [
      "<class 'pandas.core.frame.DataFrame'>\n",
      "Int64Index: 8054500 entries, 183654386 to 130091013\n",
      "Data columns (total 30 columns):\n",
      "incident_datetime              8054500 non-null datetime64[ns]\n",
      "year                           8054500 non-null int64\n",
      "month                          8054500 non-null int64\n",
      "day                            8054500 non-null int64\n",
      "hour                           8054500 non-null int64\n",
      "weekday                        8054500 non-null int64\n",
      "borough                        8054500 non-null object\n",
      "zipcode                        8054500 non-null float64\n",
      "latitude                       8054500 non-null float64\n",
      "longitude                      8054500 non-null float64\n",
      "aland_sqmi                     8054500 non-null float64\n",
      "awater_sqmi                    8054500 non-null float64\n",
      "initial_call_type              8054500 non-null object\n",
      "initial_severity_level         8054500 non-null int64\n",
      "final_call_type                8054500 non-null object\n",
      "final_severity_level           8054500 non-null int64\n",
      "held_indicator                 8054500 non-null category\n",
      "first_assignment_datetime      8054500 non-null datetime64[ns]\n",
      "incident_dispatch_area         8054500 non-null object\n",
      "dispatch_time                  8054500 non-null int64\n",
      "first_activation_datetime      8046154 non-null datetime64[ns]\n",
      "first_on_scene_datetime        8054500 non-null datetime64[ns]\n",
      "travel_time                    8054500 non-null int64\n",
      "response_time                  8054500 non-null int64\n",
      "first_to_hosp_datetime         5838817 non-null datetime64[ns]\n",
      "first_hosp_arrival_datetime    5799774 non-null datetime64[ns]\n",
      "incident_close_datetime        8052597 non-null datetime64[ns]\n",
      "incident_disposition_code      8054500 non-null int64\n",
      "life_threatening               8054500 non-null bool\n",
      "fatality                       8054500 non-null bool\n",
      "dtypes: bool(2), category(1), datetime64[ns](7), float64(5), int64(11), object(4)\n",
      "memory usage: 3.3 GB\n"
     ]
    }
   ],
   "source": [
    "df.info(verbose=True,null_counts=True,memory_usage='deep')"
   ]
  },
  {
   "cell_type": "markdown",
   "metadata": {},
   "source": [
    "<p><a href=#TOC>TOC</a></p>"
   ]
  },
  {
   "cell_type": "markdown",
   "metadata": {},
   "source": [
    "<a id='Sec04D'></a>\n",
    "<h4>4D: Export Clean Dataset (to CSV)</h4>"
   ]
  },
  {
   "cell_type": "code",
   "execution_count": 20,
   "metadata": {
    "scrolled": true
   },
   "outputs": [
    {
     "name": "stdout",
     "output_type": "stream",
     "text": [
      "Exporting DataFrame to CSV...\n",
      "DataFrame successfully exported to CSV using 'gzip' compression.\n"
     ]
    }
   ],
   "source": [
    "# Export dataframe to CSV\n",
    "output_path = '../data/clean_EMS_data_from_api.csv'\n",
    "print('Exporting DataFrame to CSV...')\n",
    "df.to_csv(output_path,index=False,compression='gzip')\n",
    "print('DataFrame successfully exported to CSV using \\'gzip\\' compression.')"
   ]
  },
  {
   "cell_type": "markdown",
   "metadata": {},
   "source": [
    "<p><a href=#TOC>TOC</a></p>"
   ]
  },
  {
   "cell_type": "markdown",
   "metadata": {},
   "source": [
    "<a id='Sec04E'></a>\n",
    "<h4>4E: Process Summary</h4>"
   ]
  },
  {
   "cell_type": "markdown",
   "metadata": {},
   "source": [
    "<p>The original EMS incident dataset was comprised of more than 8 million observations with 32 variables of mixed data types. The original geographic info dataset was comprised of 33,144 observations with 7 variables. The DataFrame objects generated from both source files were joined on the 'ZIP code' feature, though the labels had different names in each object.</p>\n",
    "\n",
    "After all data pre-processing is complete, the resulting clean dataset consists of 8,054,500 observations of mixed data types, with a clear target variable and 29 feature variables. The target variable (`fatality`) was created by applying a boolean filter on the `incident_disposition_code` column within the DataFrame, which indicates the outcome of any EMS incident. Its output file occupies 342 MB of hard disk space and 3.3 GB in system memory. <p><a href=#TOC>TOC</a></p>"
   ]
  }
 ],
 "metadata": {
  "kernelspec": {
   "display_name": "Python 3",
   "language": "python",
   "name": "python3"
  },
  "language_info": {
   "codemirror_mode": {
    "name": "ipython",
    "version": 3
   },
   "file_extension": ".py",
   "mimetype": "text/x-python",
   "name": "python",
   "nbconvert_exporter": "python",
   "pygments_lexer": "ipython3",
   "version": "3.6.8"
  }
 },
 "nbformat": 4,
 "nbformat_minor": 2
}
