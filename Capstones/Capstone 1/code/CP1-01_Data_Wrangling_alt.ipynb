{
 "cells": [
  {
   "cell_type": "markdown",
   "metadata": {},
   "source": [
    "# Capstone 1: Data Wrangling (alternate)"
   ]
  },
  {
   "cell_type": "markdown",
   "metadata": {},
   "source": [
    "### Data Acquisition: Get source data from CSV file"
   ]
  },
  {
   "cell_type": "code",
   "execution_count": 1,
   "metadata": {},
   "outputs": [],
   "source": [
    "# Import packages and modules\n",
    "import pandas as pd\n",
    "import numpy as np\n",
    "import datetime"
   ]
  },
  {
   "cell_type": "code",
   "execution_count": 2,
   "metadata": {},
   "outputs": [
    {
     "name": "stderr",
     "output_type": "stream",
     "text": [
      "C:\\ProgramData\\Anaconda3\\lib\\site-packages\\IPython\\core\\interactiveshell.py:2785: DtypeWarning: Columns (14,15,20) have mixed types. Specify dtype option on import or set low_memory=False.\n",
      "  interactivity=interactivity, compiler=compiler, result=result)\n"
     ]
    },
    {
     "data": {
      "text/plain": [
       "Index(['CAD_INCIDENT_ID', 'INCIDENT_DATETIME', 'INITIAL_CALL_TYPE',\n",
       "       'INITIAL_SEVERITY_LEVEL_CODE', 'FINAL_CALL_TYPE',\n",
       "       'FINAL_SEVERITY_LEVEL_CODE', 'FIRST_ASSIGNMENT_DATETIME',\n",
       "       'VALID_DISPATCH_RSPNS_TIME_INDC', 'DISPATCH_RESPONSE_SECONDS_QY',\n",
       "       'FIRST_ACTIVATION_DATETIME', 'FIRST_ON_SCENE_DATETIME',\n",
       "       'VALID_INCIDENT_RSPNS_TIME_INDC', 'INCIDENT_RESPONSE_SECONDS_QY',\n",
       "       'INCIDENT_TRAVEL_TM_SECONDS_QY', 'FIRST_TO_HOSP_DATETIME',\n",
       "       'FIRST_HOSP_ARRIVAL_DATETIME', 'INCIDENT_CLOSE_DATETIME',\n",
       "       'HELD_INDICATOR', 'INCIDENT_DISPOSITION_CODE', 'BOROUGH', 'ATOM',\n",
       "       'INCIDENT_DISPATCH_AREA', 'ZIPCODE', 'POLICEPRECINCT',\n",
       "       'CITYCOUNCILDISTRICT', 'COMMUNITYDISTRICT', 'COMMUNITYSCHOOLDISTRICT',\n",
       "       'CONGRESSIONALDISTRICT', 'REOPEN_INDICATOR', 'SPECIAL_EVENT_INDICATOR',\n",
       "       'STANDBY_INDICATOR', 'TRANSFER_INDICATOR'],\n",
       "      dtype='object')"
      ]
     },
     "execution_count": 2,
     "metadata": {},
     "output_type": "execute_result"
    }
   ],
   "source": [
    "# Assign file path\n",
    "\"\"\"\n",
    "    The original CSV file can be exported from \n",
    "    https://data.cityofnewyork.us/Public-Safety/EMS-Incident-Dispatch-Data/76xm-jjuj\n",
    "\"\"\"\n",
    "file_path = r''\n",
    "\n",
    "# Read CSV data into a Pandas dataframe\n",
    "df = pd.read_csv(file_path,header=0)\n",
    "\n",
    "df.columns # list all column header names"
   ]
  },
  {
   "cell_type": "markdown",
   "metadata": {},
   "source": [
    "A downloadable description of each dataset field is available at https://data.cityofnewyork.us/Public-Safety/EMS-Incident-Dispatch-Data/76xm-jjuj in the _Attachments_ section under the file name EMS_incident_dispatch_data_description.xlsx. "
   ]
  },
  {
   "cell_type": "code",
   "execution_count": 3,
   "metadata": {},
   "outputs": [
    {
     "data": {
      "text/plain": [
       "(8557848, 32)"
      ]
     },
     "execution_count": 3,
     "metadata": {},
     "output_type": "execute_result"
    }
   ],
   "source": [
    "df.shape"
   ]
  },
  {
   "cell_type": "code",
   "execution_count": 4,
   "metadata": {},
   "outputs": [
    {
     "data": {
      "text/html": [
       "<div>\n",
       "<style scoped>\n",
       "    .dataframe tbody tr th:only-of-type {\n",
       "        vertical-align: middle;\n",
       "    }\n",
       "\n",
       "    .dataframe tbody tr th {\n",
       "        vertical-align: top;\n",
       "    }\n",
       "\n",
       "    .dataframe thead th {\n",
       "        text-align: right;\n",
       "    }\n",
       "</style>\n",
       "<table border=\"1\" class=\"dataframe\">\n",
       "  <thead>\n",
       "    <tr style=\"text-align: right;\">\n",
       "      <th></th>\n",
       "      <th>CAD_INCIDENT_ID</th>\n",
       "      <th>INCIDENT_DATETIME</th>\n",
       "      <th>INITIAL_CALL_TYPE</th>\n",
       "      <th>INITIAL_SEVERITY_LEVEL_CODE</th>\n",
       "      <th>FINAL_CALL_TYPE</th>\n",
       "      <th>FINAL_SEVERITY_LEVEL_CODE</th>\n",
       "      <th>FIRST_ASSIGNMENT_DATETIME</th>\n",
       "      <th>VALID_DISPATCH_RSPNS_TIME_INDC</th>\n",
       "      <th>DISPATCH_RESPONSE_SECONDS_QY</th>\n",
       "      <th>FIRST_ACTIVATION_DATETIME</th>\n",
       "      <th>...</th>\n",
       "      <th>ZIPCODE</th>\n",
       "      <th>POLICEPRECINCT</th>\n",
       "      <th>CITYCOUNCILDISTRICT</th>\n",
       "      <th>COMMUNITYDISTRICT</th>\n",
       "      <th>COMMUNITYSCHOOLDISTRICT</th>\n",
       "      <th>CONGRESSIONALDISTRICT</th>\n",
       "      <th>REOPEN_INDICATOR</th>\n",
       "      <th>SPECIAL_EVENT_INDICATOR</th>\n",
       "      <th>STANDBY_INDICATOR</th>\n",
       "      <th>TRANSFER_INDICATOR</th>\n",
       "    </tr>\n",
       "  </thead>\n",
       "  <tbody>\n",
       "    <tr>\n",
       "      <th>0</th>\n",
       "      <td>130010001</td>\n",
       "      <td>01/01/2013 12:00:04 AM</td>\n",
       "      <td>RESPIR</td>\n",
       "      <td>4</td>\n",
       "      <td>RESPIR</td>\n",
       "      <td>4</td>\n",
       "      <td>01/01/2013 12:01:45 AM</td>\n",
       "      <td>Y</td>\n",
       "      <td>101</td>\n",
       "      <td>01/01/2013 12:01:51 AM</td>\n",
       "      <td>...</td>\n",
       "      <td>10472.0</td>\n",
       "      <td>43.0</td>\n",
       "      <td>18.0</td>\n",
       "      <td>209.0</td>\n",
       "      <td>12.0</td>\n",
       "      <td>15.0</td>\n",
       "      <td>N</td>\n",
       "      <td>N</td>\n",
       "      <td>N</td>\n",
       "      <td>N</td>\n",
       "    </tr>\n",
       "    <tr>\n",
       "      <th>1</th>\n",
       "      <td>130010002</td>\n",
       "      <td>01/01/2013 12:00:19 AM</td>\n",
       "      <td>CARD</td>\n",
       "      <td>3</td>\n",
       "      <td>CARD</td>\n",
       "      <td>3</td>\n",
       "      <td>01/01/2013 12:01:18 AM</td>\n",
       "      <td>Y</td>\n",
       "      <td>59</td>\n",
       "      <td>01/01/2013 12:02:08 AM</td>\n",
       "      <td>...</td>\n",
       "      <td>10454.0</td>\n",
       "      <td>40.0</td>\n",
       "      <td>8.0</td>\n",
       "      <td>201.0</td>\n",
       "      <td>7.0</td>\n",
       "      <td>15.0</td>\n",
       "      <td>N</td>\n",
       "      <td>N</td>\n",
       "      <td>N</td>\n",
       "      <td>N</td>\n",
       "    </tr>\n",
       "    <tr>\n",
       "      <th>2</th>\n",
       "      <td>130010004</td>\n",
       "      <td>01/01/2013 12:01:04 AM</td>\n",
       "      <td>ARREST</td>\n",
       "      <td>1</td>\n",
       "      <td>ARREST</td>\n",
       "      <td>1</td>\n",
       "      <td>01/01/2013 12:01:33 AM</td>\n",
       "      <td>Y</td>\n",
       "      <td>29</td>\n",
       "      <td>01/01/2013 12:01:58 AM</td>\n",
       "      <td>...</td>\n",
       "      <td>11418.0</td>\n",
       "      <td>102.0</td>\n",
       "      <td>29.0</td>\n",
       "      <td>409.0</td>\n",
       "      <td>27.0</td>\n",
       "      <td>5.0</td>\n",
       "      <td>N</td>\n",
       "      <td>N</td>\n",
       "      <td>N</td>\n",
       "      <td>N</td>\n",
       "    </tr>\n",
       "    <tr>\n",
       "      <th>3</th>\n",
       "      <td>130010005</td>\n",
       "      <td>01/01/2013 12:01:16 AM</td>\n",
       "      <td>SICK</td>\n",
       "      <td>6</td>\n",
       "      <td>SICK</td>\n",
       "      <td>6</td>\n",
       "      <td>01/01/2013 12:02:12 AM</td>\n",
       "      <td>Y</td>\n",
       "      <td>56</td>\n",
       "      <td>01/01/2013 12:02:55 AM</td>\n",
       "      <td>...</td>\n",
       "      <td>10453.0</td>\n",
       "      <td>46.0</td>\n",
       "      <td>14.0</td>\n",
       "      <td>205.0</td>\n",
       "      <td>10.0</td>\n",
       "      <td>15.0</td>\n",
       "      <td>N</td>\n",
       "      <td>N</td>\n",
       "      <td>N</td>\n",
       "      <td>N</td>\n",
       "    </tr>\n",
       "    <tr>\n",
       "      <th>4</th>\n",
       "      <td>130010006</td>\n",
       "      <td>01/01/2013 12:01:26 AM</td>\n",
       "      <td>INJURY</td>\n",
       "      <td>5</td>\n",
       "      <td>INJURY</td>\n",
       "      <td>5</td>\n",
       "      <td>01/01/2013 12:01:58 AM</td>\n",
       "      <td>Y</td>\n",
       "      <td>32</td>\n",
       "      <td>01/01/2013 12:02:55 AM</td>\n",
       "      <td>...</td>\n",
       "      <td>10457.0</td>\n",
       "      <td>48.0</td>\n",
       "      <td>15.0</td>\n",
       "      <td>206.0</td>\n",
       "      <td>10.0</td>\n",
       "      <td>15.0</td>\n",
       "      <td>N</td>\n",
       "      <td>N</td>\n",
       "      <td>N</td>\n",
       "      <td>N</td>\n",
       "    </tr>\n",
       "  </tbody>\n",
       "</table>\n",
       "<p>5 rows × 32 columns</p>\n",
       "</div>"
      ],
      "text/plain": [
       "   CAD_INCIDENT_ID       INCIDENT_DATETIME INITIAL_CALL_TYPE  \\\n",
       "0        130010001  01/01/2013 12:00:04 AM            RESPIR   \n",
       "1        130010002  01/01/2013 12:00:19 AM              CARD   \n",
       "2        130010004  01/01/2013 12:01:04 AM            ARREST   \n",
       "3        130010005  01/01/2013 12:01:16 AM              SICK   \n",
       "4        130010006  01/01/2013 12:01:26 AM            INJURY   \n",
       "\n",
       "   INITIAL_SEVERITY_LEVEL_CODE FINAL_CALL_TYPE  FINAL_SEVERITY_LEVEL_CODE  \\\n",
       "0                            4          RESPIR                          4   \n",
       "1                            3            CARD                          3   \n",
       "2                            1          ARREST                          1   \n",
       "3                            6            SICK                          6   \n",
       "4                            5          INJURY                          5   \n",
       "\n",
       "  FIRST_ASSIGNMENT_DATETIME VALID_DISPATCH_RSPNS_TIME_INDC  \\\n",
       "0    01/01/2013 12:01:45 AM                              Y   \n",
       "1    01/01/2013 12:01:18 AM                              Y   \n",
       "2    01/01/2013 12:01:33 AM                              Y   \n",
       "3    01/01/2013 12:02:12 AM                              Y   \n",
       "4    01/01/2013 12:01:58 AM                              Y   \n",
       "\n",
       "   DISPATCH_RESPONSE_SECONDS_QY FIRST_ACTIVATION_DATETIME        ...          \\\n",
       "0                           101    01/01/2013 12:01:51 AM        ...           \n",
       "1                            59    01/01/2013 12:02:08 AM        ...           \n",
       "2                            29    01/01/2013 12:01:58 AM        ...           \n",
       "3                            56    01/01/2013 12:02:55 AM        ...           \n",
       "4                            32    01/01/2013 12:02:55 AM        ...           \n",
       "\n",
       "   ZIPCODE POLICEPRECINCT  CITYCOUNCILDISTRICT  COMMUNITYDISTRICT  \\\n",
       "0  10472.0           43.0                 18.0              209.0   \n",
       "1  10454.0           40.0                  8.0              201.0   \n",
       "2  11418.0          102.0                 29.0              409.0   \n",
       "3  10453.0           46.0                 14.0              205.0   \n",
       "4  10457.0           48.0                 15.0              206.0   \n",
       "\n",
       "  COMMUNITYSCHOOLDISTRICT CONGRESSIONALDISTRICT REOPEN_INDICATOR  \\\n",
       "0                    12.0                  15.0                N   \n",
       "1                     7.0                  15.0                N   \n",
       "2                    27.0                   5.0                N   \n",
       "3                    10.0                  15.0                N   \n",
       "4                    10.0                  15.0                N   \n",
       "\n",
       "  SPECIAL_EVENT_INDICATOR  STANDBY_INDICATOR TRANSFER_INDICATOR  \n",
       "0                       N                  N                  N  \n",
       "1                       N                  N                  N  \n",
       "2                       N                  N                  N  \n",
       "3                       N                  N                  N  \n",
       "4                       N                  N                  N  \n",
       "\n",
       "[5 rows x 32 columns]"
      ]
     },
     "execution_count": 4,
     "metadata": {},
     "output_type": "execute_result"
    }
   ],
   "source": [
    "df.head()"
   ]
  },
  {
   "cell_type": "code",
   "execution_count": 5,
   "metadata": {},
   "outputs": [
    {
     "name": "stdout",
     "output_type": "stream",
     "text": [
      "<class 'pandas.core.frame.DataFrame'>\n",
      "RangeIndex: 8557848 entries, 0 to 8557847\n",
      "Data columns (total 32 columns):\n",
      "CAD_INCIDENT_ID                   int64\n",
      "INCIDENT_DATETIME                 object\n",
      "INITIAL_CALL_TYPE                 object\n",
      "INITIAL_SEVERITY_LEVEL_CODE       int64\n",
      "FINAL_CALL_TYPE                   object\n",
      "FINAL_SEVERITY_LEVEL_CODE         int64\n",
      "FIRST_ASSIGNMENT_DATETIME         object\n",
      "VALID_DISPATCH_RSPNS_TIME_INDC    object\n",
      "DISPATCH_RESPONSE_SECONDS_QY      int64\n",
      "FIRST_ACTIVATION_DATETIME         object\n",
      "FIRST_ON_SCENE_DATETIME           object\n",
      "VALID_INCIDENT_RSPNS_TIME_INDC    object\n",
      "INCIDENT_RESPONSE_SECONDS_QY      float64\n",
      "INCIDENT_TRAVEL_TM_SECONDS_QY     float64\n",
      "FIRST_TO_HOSP_DATETIME            object\n",
      "FIRST_HOSP_ARRIVAL_DATETIME       object\n",
      "INCIDENT_CLOSE_DATETIME           object\n",
      "HELD_INDICATOR                    object\n",
      "INCIDENT_DISPOSITION_CODE         float64\n",
      "BOROUGH                           object\n",
      "ATOM                              object\n",
      "INCIDENT_DISPATCH_AREA            object\n",
      "ZIPCODE                           float64\n",
      "POLICEPRECINCT                    float64\n",
      "CITYCOUNCILDISTRICT               float64\n",
      "COMMUNITYDISTRICT                 float64\n",
      "COMMUNITYSCHOOLDISTRICT           float64\n",
      "CONGRESSIONALDISTRICT             float64\n",
      "REOPEN_INDICATOR                  object\n",
      "SPECIAL_EVENT_INDICATOR           object\n",
      "STANDBY_INDICATOR                 object\n",
      "TRANSFER_INDICATOR                object\n",
      "dtypes: float64(9), int64(4), object(19)\n",
      "memory usage: 10.9 GB\n"
     ]
    }
   ],
   "source": [
    "df.info(memory_usage='deep')"
   ]
  },
  {
   "cell_type": "code",
   "execution_count": 6,
   "metadata": {},
   "outputs": [
    {
     "data": {
      "text/plain": [
       "Index(['cad_incident_id', 'incident_datetime', 'initial_call_type',\n",
       "       'initial_severity_level_code', 'final_call_type',\n",
       "       'final_severity_level_code', 'first_assignment_datetime',\n",
       "       'valid_dispatch_rspns_time_indc', 'dispatch_response_seconds_qy',\n",
       "       'first_activation_datetime', 'first_on_scene_datetime',\n",
       "       'valid_incident_rspns_time_indc', 'incident_response_seconds_qy',\n",
       "       'incident_travel_tm_seconds_qy', 'first_to_hosp_datetime',\n",
       "       'first_hosp_arrival_datetime', 'incident_close_datetime',\n",
       "       'held_indicator', 'incident_disposition_code', 'borough', 'atom',\n",
       "       'incident_dispatch_area', 'zipcode', 'policeprecinct',\n",
       "       'citycouncildistrict', 'communitydistrict', 'communityschooldistrict',\n",
       "       'congressionaldistrict', 'reopen_indicator', 'special_event_indicator',\n",
       "       'standby_indicator', 'transfer_indicator'],\n",
       "      dtype='object')"
      ]
     },
     "execution_count": 6,
     "metadata": {},
     "output_type": "execute_result"
    }
   ],
   "source": [
    "# Convert all column header names to lowercase\n",
    "col_names = [str(name).lower() for name in list(df.columns)]\n",
    "df.columns = col_names\n",
    "df.columns"
   ]
  },
  {
   "cell_type": "markdown",
   "metadata": {},
   "source": [
    "### Data Cleansing: Define necessary functions"
   ]
  },
  {
   "cell_type": "code",
   "execution_count": 7,
   "metadata": {},
   "outputs": [],
   "source": [
    "# Define function to drop immaterial rows and columns from dataframe object\n",
    "def drop_from_df(dfObj):\n",
    "    \"\"\"\n",
    "    Remove columns from dataframe object \n",
    "    that are not required for analysis\n",
    "    \"\"\"\n",
    "    # Drop all rows with missing value for 'incident_disposition_code'\n",
    "    dfObj.dropna(subset=['incident_disposition_code',\n",
    "                         'incident_response_seconds_qy'],inplace=True)\n",
    "    \n",
    "    # Identify all columns that contain incident indicator data\n",
    "    list_of_indicator_cols = [name for name in list(dfObj.columns) \n",
    "                              if 'indicator' in str(name).lower() and name !='held_indicator']\n",
    "    \n",
    "    # Drop all rows that pertain to outlier incidents\n",
    "    for name in list_of_indicator_cols:\n",
    "        index_names = dfObj[dfObj[name]=='Y'].index\n",
    "        dfObj.drop(index_names, inplace=True)\n",
    "    \n",
    "    # Remove columns that contain incident indicator data\n",
    "    dfObj.drop(list_of_indicator_cols,axis=1,inplace=True)\n",
    "    \n",
    "    # Identify and remove all columns that contain district or precinct data (geographic zones)\n",
    "    list_of_zone_cols = [name for name in list(dfObj.columns) \n",
    "                         if ('district' in str(name).lower() or name=='policeprecinct')]\n",
    "    dfObj.drop(list_of_zone_cols,axis=1,inplace=True)\n",
    "    \n",
    "    return dfObj"
   ]
  },
  {
   "cell_type": "code",
   "execution_count": 8,
   "metadata": {
    "scrolled": true
   },
   "outputs": [],
   "source": [
    "# Define function to modify dtypes of series in dataframe object\n",
    "def modify_dtype(dfObj):\n",
    "    \"\"\"\n",
    "    Change the dtype of select columns in \n",
    "    dataframe object based on its implied value\n",
    "    and modify specific values\n",
    "    \"\"\"\n",
    "    # Truncate name for borough label: 'RICHMOND / STATEN ISLAND'\n",
    "    dfObj['borough'] = dfObj.borough.replace('RICHMOND / STATEN ISLAND',\n",
    "                                             'STATEN ISLAND')\n",
    "    \n",
    "    # Create list of all columns that contain ISO8601 datetime\n",
    "    list_of_datetime_cols = [name for name in list(dfObj.columns) \n",
    "                             if 'datetime' in str(name).lower()]\n",
    "\n",
    "    # Convert dtypes for each element in list to datetime\n",
    "    for name in list_of_datetime_cols:\n",
    "        dfObj[name]=pd.to_datetime(dfObj[name],errors='coerce')\n",
    "       \n",
    "    # Create list of all columns that contain time duration\n",
    "    list_of_numeric_cols = [name for name in list(dfObj.columns) \n",
    "                             if (('seconds' in str(name).lower()) |\n",
    "                                 ('severity' in str(name).lower()) |\n",
    "                                 ('cad' in str(name).lower()))]\n",
    "\n",
    "    # Convert dtypes for each element in list to numeric\n",
    "    for name in list_of_numeric_cols:\n",
    "        dfObj[name]=pd.to_numeric(dfObj[name],errors='coerce')\n",
    "        \n",
    "    # Convert columns to category dtypes to reduce size of dataframe object\n",
    "    dfObj['borough'] = dfObj.borough.astype('category')\n",
    "    dfObj['zipcode'] = dfObj.zipcode.astype('category')\n",
    "    dfObj['held_indicator'] = dfObj.held_indicator.astype('category')\n",
    "    dfObj['valid_dispatch_rspns_time_indc'] = dfObj.valid_dispatch_rspns_time_indc.astype('category')\n",
    "    dfObj['valid_incident_rspns_time_indc'] = dfObj.valid_incident_rspns_time_indc.astype('category')\n",
    "    dfObj['incident_dispatch_area'] = dfObj.incident_dispatch_area.astype('category')\n",
    "    dfObj['incident_disposition_code'] = dfObj.incident_disposition_code.astype('category')\n",
    "    \n",
    "    return dfObj"
   ]
  },
  {
   "cell_type": "code",
   "execution_count": 9,
   "metadata": {},
   "outputs": [],
   "source": [
    "def redesign_df(dfObj):\n",
    "    \"\"\"\n",
    "    Restructure dataframe object\n",
    "    \"\"\"\n",
    "    # CREATE PANDAS SERIES FOR TARGET VARIABLE: fatality\n",
    "    dfObj['fatality'] = np.logical_or(dfObj.incident_disposition_code == 83,\\\n",
    "                                   dfObj.incident_disposition_code == 96)\n",
    "\n",
    "    # Create separate columns for the year and month of the incident\n",
    "    dfObj['incident_year'] = pd.DatetimeIndex(dfObj.incident_datetime).year\n",
    "    dfObj['incident_month'] = pd.DatetimeIndex(dfObj.incident_datetime).month\n",
    "\n",
    "    # Reorder dataframe columns\n",
    "    col_order = ['incident_year','incident_month','cad_incident_id',\\\n",
    "                 'incident_datetime','borough','zipcode',\\\n",
    "                 'incident_dispatch_area','held_indicator',\\\n",
    "                 'initial_call_type','initial_severity_level_code',\\\n",
    "                 'final_call_type','final_severity_level_code',\\\n",
    "                 'first_assignment_datetime','valid_dispatch_rspns_time_indc',\\\n",
    "                 'dispatch_response_seconds_qy','first_activation_datetime',\\\n",
    "                 'first_on_scene_datetime','valid_incident_rspns_time_indc',\\\n",
    "                 'incident_response_seconds_qy','incident_travel_tm_seconds_qy',\\\n",
    "                 'first_to_hosp_datetime','first_hosp_arrival_datetime',\\\n",
    "                 'incident_close_datetime',\n",
    "                 'incident_disposition_code','fatality']\n",
    "    dfObj=dfObj[col_order]\n",
    "    \n",
    "    return dfObj"
   ]
  },
  {
   "cell_type": "markdown",
   "metadata": {},
   "source": [
    "### Data Cleansing: Apply functions to dataset"
   ]
  },
  {
   "cell_type": "code",
   "execution_count": 10,
   "metadata": {},
   "outputs": [],
   "source": [
    "# Apply drop_from_df to dataframe object\n",
    "df = drop_from_df(df)"
   ]
  },
  {
   "cell_type": "code",
   "execution_count": 11,
   "metadata": {},
   "outputs": [],
   "source": [
    "# Apply modify_dtype to dataframe object\n",
    "df = modify_dtype(df)"
   ]
  },
  {
   "cell_type": "code",
   "execution_count": 12,
   "metadata": {},
   "outputs": [],
   "source": [
    "# Apply redesign_df to dataframe object\n",
    "df = redesign_df(df)"
   ]
  },
  {
   "cell_type": "code",
   "execution_count": 13,
   "metadata": {},
   "outputs": [],
   "source": [
    "# Create a multindex on 'incident_year', 'incident_month' and 'cad_incident_id'\n",
    "df.set_index(['incident_year','incident_month','cad_incident_id'],inplace=True)"
   ]
  },
  {
   "cell_type": "markdown",
   "metadata": {},
   "source": [
    "### Inspect dataframe"
   ]
  },
  {
   "cell_type": "code",
   "execution_count": 14,
   "metadata": {},
   "outputs": [
    {
     "data": {
      "text/plain": [
       "(8228131, 22)"
      ]
     },
     "execution_count": 14,
     "metadata": {},
     "output_type": "execute_result"
    }
   ],
   "source": [
    "df.shape"
   ]
  },
  {
   "cell_type": "code",
   "execution_count": 15,
   "metadata": {},
   "outputs": [
    {
     "name": "stdout",
     "output_type": "stream",
     "text": [
      "<class 'pandas.core.frame.DataFrame'>\n",
      "MultiIndex: 8228131 entries, (2013, 1, 130010001) to (2018, 12, 183654386)\n",
      "Data columns (total 22 columns):\n",
      "incident_datetime                 datetime64[ns]\n",
      "borough                           category\n",
      "zipcode                           category\n",
      "incident_dispatch_area            category\n",
      "held_indicator                    category\n",
      "initial_call_type                 object\n",
      "initial_severity_level_code       int64\n",
      "final_call_type                   object\n",
      "final_severity_level_code         int64\n",
      "first_assignment_datetime         datetime64[ns]\n",
      "valid_dispatch_rspns_time_indc    category\n",
      "dispatch_response_seconds_qy      int64\n",
      "first_activation_datetime         datetime64[ns]\n",
      "first_on_scene_datetime           datetime64[ns]\n",
      "valid_incident_rspns_time_indc    category\n",
      "incident_response_seconds_qy      float64\n",
      "incident_travel_tm_seconds_qy     float64\n",
      "first_to_hosp_datetime            datetime64[ns]\n",
      "first_hosp_arrival_datetime       datetime64[ns]\n",
      "incident_close_datetime           datetime64[ns]\n",
      "incident_disposition_code         category\n",
      "fatality                          bool\n",
      "dtypes: bool(1), category(7), datetime64[ns](7), float64(2), int64(3), object(2)\n",
      "memory usage: 1.9 GB\n"
     ]
    }
   ],
   "source": [
    "df.info(memory_usage='deep')"
   ]
  },
  {
   "cell_type": "markdown",
   "metadata": {},
   "source": [
    "### Export dataframe to CSV"
   ]
  },
  {
   "cell_type": "code",
   "execution_count": 16,
   "metadata": {},
   "outputs": [
    {
     "name": "stdout",
     "output_type": "stream",
     "text": [
      "Exporting dataframe to CSV...\n",
      "Dataframe successfully exported to CSV using 'gzip' compression.\n"
     ]
    }
   ],
   "source": [
    "# Export dataframe to CSV\n",
    "output_path = 'data/clean_comp_df.csv'\n",
    "print('Exporting dataframe to CSV...')\n",
    "df.to_csv(output_path,index=False,compression='gzip')\n",
    "print('Dataframe successfully exported to CSV using \\'gzip\\' compression.')"
   ]
  },
  {
   "cell_type": "markdown",
   "metadata": {},
   "source": [
    "###### Summary\n",
    "The original dataset was comprised of 8,557,848 observations of mixed data types, and its source file occupied approximately 1.98 GB of hard disk space and 10.9 GB in system memory. The target variable (\"fatality\") was created by applying a boolean filter on the \"incident_disposition_code\" column within the dataframe, which indicates the outcome of any EMS incident. \n",
    "\n",
    "After all data pre-processing was complete, the resulting clean dataset was comprised of 8,431,649 observations of mixed data types, with a clear target variable and 21 predictor variables. Its output file occupied 277 MB of hard disk space and 1.9 GB in system memory."
   ]
  }
 ],
 "metadata": {
  "kernelspec": {
   "display_name": "Python 3",
   "language": "python",
   "name": "python3"
  },
  "language_info": {
   "codemirror_mode": {
    "name": "ipython",
    "version": 3
   },
   "file_extension": ".py",
   "mimetype": "text/x-python",
   "name": "python",
   "nbconvert_exporter": "python",
   "pygments_lexer": "ipython3",
   "version": "3.6.8"
  }
 },
 "nbformat": 4,
 "nbformat_minor": 2
}
