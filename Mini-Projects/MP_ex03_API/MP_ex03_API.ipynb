{
 "cells": [
  {
   "cell_type": "markdown",
   "metadata": {},
   "source": [
    "This exercise will require you to pull some data from the Qunadl API. Qaundl is currently the most widely used aggregator of financial market data."
   ]
  },
  {
   "cell_type": "markdown",
   "metadata": {},
   "source": [
    "As a first step, you will need to register a free account on the http://www.quandl.com website."
   ]
  },
  {
   "cell_type": "markdown",
   "metadata": {},
   "source": [
    "After you register, you will be provided with a unique API key, that you should store:"
   ]
  },
  {
   "cell_type": "code",
   "execution_count": 1,
   "metadata": {},
   "outputs": [],
   "source": [
    "# Store the API key as a string - according to PEP8, constants are always named in all upper case\n",
    "API_KEY = ''"
   ]
  },
  {
   "cell_type": "markdown",
   "metadata": {},
   "source": [
    "Qaundl has a large number of data sources, but, unfortunately, most of them require a Premium subscription. Still, there are also a good number of free datasets."
   ]
  },
  {
   "cell_type": "markdown",
   "metadata": {},
   "source": [
    "For this mini project, we will focus on equities data from the Frankfurt Stock Exhange (FSE), which is available for free. We'll try and analyze the stock prices of a company called Carl Zeiss Meditec, which manufactures tools for eye examinations, as well as medical lasers for laser eye surgery: https://www.zeiss.com/meditec/int/home.html. The company is listed under the stock ticker AFX_X."
   ]
  },
  {
   "cell_type": "markdown",
   "metadata": {},
   "source": [
    "You can find the detailed Quandl API instructions here: https://docs.quandl.com/docs/time-series"
   ]
  },
  {
   "cell_type": "markdown",
   "metadata": {},
   "source": [
    "While there is a dedicated Python package for connecting to the Quandl API, we would prefer that you use the *requests* package, which can be easily downloaded using *pip* or *conda*. You can find the documentation for the package here: http://docs.python-requests.org/en/master/ "
   ]
  },
  {
   "cell_type": "markdown",
   "metadata": {},
   "source": [
    "Finally, apart from the *requests* package, you are encouraged to not use any third party Python packages, such as *pandas*, and instead focus on what's available in the Python Standard Library (the *collections* module might come in handy: https://pymotw.com/3/collections/ ).\n",
    "Also, since you won't have access to DataFrames, you are encouraged to us Python's native data structures - preferably dictionaries, though some questions can also be answered using lists.\n",
    "You can read more on these data structures here: https://docs.python.org/3/tutorial/datastructures.html"
   ]
  },
  {
   "cell_type": "markdown",
   "metadata": {},
   "source": [
    "Keep in mind that the JSON responses you will be getting from the API map almost one-to-one to Python's dictionaries. Unfortunately, they can be very nested, so make sure you read up on indexing dictionaries in the documentation provided above."
   ]
  },
  {
   "cell_type": "code",
   "execution_count": 2,
   "metadata": {},
   "outputs": [],
   "source": [
    "# First, import the relevant modules\n",
    "import requests"
   ]
  },
  {
   "cell_type": "code",
   "execution_count": 3,
   "metadata": {
    "scrolled": true
   },
   "outputs": [],
   "source": [
    "# Now, call the Quandl API and pull out a small sample of the data (only one day) to get a glimpse\n",
    "# into the JSON structure that will be returned\n",
    "START_DATE = '2017-01-01'\n",
    "END_DATE = '2017-01-02'\n",
    "url = 'https://www.quandl.com/api/v3/datasets/FSE/AFX_X.json?start_date='+START_DATE+'&end_date='+END_DATE+'&api_key='+API_KEY\n",
    "r = requests.get(url)"
   ]
  },
  {
   "cell_type": "code",
   "execution_count": 4,
   "metadata": {},
   "outputs": [
    {
     "name": "stdout",
     "output_type": "stream",
     "text": [
      "{'dataset': {'id': 10095370, 'dataset_code': 'AFX_X', 'database_code': 'FSE', 'name': 'Carl Zeiss Meditec (AFX_X)', 'description': 'Stock Prices for Carl Zeiss Meditec (AFX) from the Frankfurt Stock Exchange.<br><br>Trading System: Xetra<br><br>ISIN: DE0005313704', 'refreshed_at': '2019-06-14T22:30:23.918Z', 'newest_available_date': '2019-06-14', 'oldest_available_date': '2000-06-07', 'column_names': ['Date', 'Open', 'High', 'Low', 'Close', 'Change', 'Traded Volume', 'Turnover', 'Last Price of the Day', 'Daily Traded Units', 'Daily Turnover'], 'frequency': 'daily', 'type': 'Time Series', 'premium': False, 'limit': None, 'transform': None, 'column_index': None, 'start_date': '2017-01-01', 'end_date': '2017-01-02', 'data': [['2017-01-02', 34.99, 35.94, 34.99, 35.8, None, 44700.0, 1590561.0, None, None, None]], 'collapse': None, 'order': None, 'database_id': 6129}}\n"
     ]
    }
   ],
   "source": [
    "# Inspect the JSON structure of the object you created, and take note of how nested it is,\n",
    "# as well as the overall structure\n",
    "print(r.json())"
   ]
  },
  {
   "cell_type": "markdown",
   "metadata": {},
   "source": [
    "These are your tasks for this mini project:\n",
    "\n",
    "1. Collect data from the Franfurt Stock Exchange, for the ticker AFX_X, for the whole year 2017 (keep in mind that the date format is YYYY-MM-DD).\n",
    "2. Convert the returned JSON object into a Python dictionary.\n",
    "3. Calculate what the highest and lowest opening prices were for the stock in this period.\n",
    "4. What was the largest change in any one day (based on High and Low price)?\n",
    "5. What was the largest change between any two days (based on Closing Price)?\n",
    "6. What was the average daily trading volume during this year?\n",
    "7. (Optional) What was the median trading volume during this year. (Note: you may need to implement your own function for calculating the median.)"
   ]
  },
  {
   "cell_type": "markdown",
   "metadata": {
    "collapsed": true
   },
   "source": [
    "## Task 1"
   ]
  },
  {
   "cell_type": "code",
   "execution_count": 5,
   "metadata": {},
   "outputs": [],
   "source": [
    "# Assign time-series parameters\n",
    "START_DATE = '2017-01-01'\n",
    "END_DATE = '2017-12-31'\n",
    "\n",
    "# Pull AFX_X data for selected time period\n",
    "url = 'https://www.quandl.com/api/v3/datasets/FSE/AFX_X.json?start_date='+START_DATE+'&end_date='+END_DATE+'&api_key='+API_KEY\n",
    "r = requests.get(url)"
   ]
  },
  {
   "cell_type": "markdown",
   "metadata": {},
   "source": [
    "## Task 2"
   ]
  },
  {
   "cell_type": "code",
   "execution_count": 7,
   "metadata": {},
   "outputs": [],
   "source": [
    "# Convert JSON object into Python dictionary\n",
    "input_json = r.json()\n",
    "data = input_json['dataset']['data']"
   ]
  },
  {
   "cell_type": "markdown",
   "metadata": {},
   "source": [
    "## Task 3"
   ]
  },
  {
   "cell_type": "code",
   "execution_count": 8,
   "metadata": {},
   "outputs": [
    {
     "name": "stdout",
     "output_type": "stream",
     "text": [
      "AFX_X Minimum Opening Stock Price: 34.00\n",
      "AFX_X Maximum Opening Stock Price: 53.11\n"
     ]
    }
   ],
   "source": [
    "# Create list of all opening stock prices for AFX_X\n",
    "open_list = [x[1] for x in data if x[1] != None]\n",
    "\n",
    "# Sort values in ascending order\n",
    "open_list.sort()\n",
    "\n",
    "# Identify minimum and maximum opening stock prices\n",
    "min_open = open_list[0]\n",
    "max_open = open_list[-1]\n",
    "\n",
    "# Output results\n",
    "print('AFX_X Minimum Opening Stock Price: {:.2f}'.format(min_open))\n",
    "print('AFX_X Maximum Opening Stock Price: {:.2f}'.format(max_open))"
   ]
  },
  {
   "cell_type": "markdown",
   "metadata": {},
   "source": [
    "## Task 4"
   ]
  },
  {
   "cell_type": "code",
   "execution_count": 9,
   "metadata": {},
   "outputs": [
    {
     "name": "stdout",
     "output_type": "stream",
     "text": [
      "AFX_X Maximum Stock Price Change (in a single day): 2.81\n"
     ]
    }
   ],
   "source": [
    "# Create list of changes between daily High and Low stock prices for AFX_X\n",
    "high_low_changes = [x[2]-x[3] for x in data]\n",
    "\n",
    "# Sort values in descending order\n",
    "high_low_changes.sort(reverse=True)\n",
    "\n",
    "# Identify maximum daily change in stock price\n",
    "max_high_low_change = high_low_changes[0]\n",
    "\n",
    "# Output results\n",
    "print('AFX_X Maximum Stock Price Change (in a single day): {:.2f}'.format(max_high_low_change))"
   ]
  },
  {
   "cell_type": "markdown",
   "metadata": {},
   "source": [
    "## Task 5"
   ]
  },
  {
   "cell_type": "code",
   "execution_count": 10,
   "metadata": {},
   "outputs": [
    {
     "name": "stdout",
     "output_type": "stream",
     "text": [
      "AFX_X Maximum Stock Price Change (b/w consecutive days): 2.56\n"
     ]
    }
   ],
   "source": [
    "# Create list of changes between Closing stock prices for AFX_X\n",
    "closing_changes = [data[i][4]-data[i-1][4] for i in range(1,len(data))]\n",
    "\n",
    "# Sort values in descending order\n",
    "closing_changes.sort(reverse=True)\n",
    "\n",
    "# Identify maximum gain and maximum loss\n",
    "max_loss = closing_changes[-1]\n",
    "max_gain = closing_changes[0]\n",
    "\n",
    "# Identify maximum change\n",
    "if abs(max_gain) >= abs(max_loss):\n",
    "    max_close_change = max_gain\n",
    "else:\n",
    "    max_close_change = max_loss  \n",
    "\n",
    "# Output results\n",
    "print('AFX_X Maximum Stock Price Change (b/w consecutive days): {:.2f}'.format(max_close_change))"
   ]
  },
  {
   "cell_type": "markdown",
   "metadata": {},
   "source": [
    "## Task 6"
   ]
  },
  {
   "cell_type": "code",
   "execution_count": 11,
   "metadata": {},
   "outputs": [
    {
     "name": "stdout",
     "output_type": "stream",
     "text": [
      "AFX_X Average Daily Trading Volume: 89124.34\n"
     ]
    }
   ],
   "source": [
    "# Create list of daily trading volume for AFX_X stocks\n",
    "trading_volumes = [x[6] for x in data]\n",
    "\n",
    "# Calculate average daily trading volume\n",
    "avg_daily_volume = sum(trading_volumes) / len(trading_volumes)\n",
    "\n",
    "# Output results\n",
    "print('AFX_X Average Daily Trading Volume: {:.2f}'.format(avg_daily_volume))"
   ]
  },
  {
   "cell_type": "markdown",
   "metadata": {},
   "source": [
    "## Task 7"
   ]
  },
  {
   "cell_type": "code",
   "execution_count": 12,
   "metadata": {},
   "outputs": [
    {
     "name": "stdout",
     "output_type": "stream",
     "text": [
      "AFX_X Median Daily Trading Volume: 76286.00\n"
     ]
    }
   ],
   "source": [
    "# Define a function to return the median value of the list\n",
    "def returnMedian(list):\n",
    "    index = len(list)//2\n",
    "    if not(len(list)%2==0):\n",
    "        median_value = sorted(list)[index]\n",
    "    else:\n",
    "        median_value = (sorted(list)[index]+sorted(list)[index-1])/2\n",
    "    return median_value\n",
    "\n",
    "# Assign function return to variable\n",
    "median_volume = returnMedian(trading_volumes)\n",
    "\n",
    "# Output results\n",
    "print('AFX_X Median Daily Trading Volume: {:.2f}'.format(median_volume))\n"
   ]
  },
  {
   "cell_type": "code",
   "execution_count": null,
   "metadata": {},
   "outputs": [],
   "source": []
  }
 ],
 "metadata": {
  "kernelspec": {
   "display_name": "Python 3",
   "language": "python",
   "name": "python3"
  },
  "language_info": {
   "codemirror_mode": {
    "name": "ipython",
    "version": 3
   },
   "file_extension": ".py",
   "mimetype": "text/x-python",
   "name": "python",
   "nbconvert_exporter": "python",
   "pygments_lexer": "ipython3",
   "version": "3.6.8"
  }
 },
 "nbformat": 4,
 "nbformat_minor": 2
}
